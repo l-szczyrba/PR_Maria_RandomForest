{
 "cells": [
  {
   "cell_type": "markdown",
   "metadata": {},
   "source": [
    "## Function Logic"
   ]
  },
  {
   "cell_type": "markdown",
   "metadata": {},
   "source": [
    "using master_df\n",
    "\n",
    "Choose list of predictors and choose target \\\n",
    "drop unnecssary columns \\\n",
    "Drop NaN \\\n",
    "Train/test/split with random state at 42 \\\n",
    "\n",
    "...........................................................\n",
    "\n",
    "If classifier \\\n",
    "Train random forest classifier with default hyper parameters \\\n",
    "spit out classification metrics\n",
    "\n",
    "If regressor \\\n",
    "Train random forest regression with default hyper parameters \\\n",
    "Spit out regressor metrics\n",
    "\n",
    "...........................................................\n",
    "\n",
    "Calculate\n",
    "- Scikit learn method\n",
    "- Permutation method\n",
    "\n",
    "plot feature importances\n",
    "- Scikit learn method\n",
    "- Permutation method"
   ]
  },
  {
   "cell_type": "markdown",
   "metadata": {},
   "source": [
    "# <span style=\"color:STEELBLUE\">**Set Up**</span>"
   ]
  },
  {
   "cell_type": "markdown",
   "metadata": {},
   "source": [
    "### Import libraries and data"
   ]
  },
  {
   "cell_type": "code",
   "execution_count": 573,
   "metadata": {},
   "outputs": [],
   "source": [
    "import pandas as pd\n",
    "import numpy as np\n",
    "import seaborn as sns\n",
    "\n",
    "import matplotlib.pyplot as plt\n",
    "import matplotlib.lines as mlines\n",
    "import matplotlib.transforms as mtransforms\n",
    "\n",
    "from sklearn.model_selection import train_test_split\n",
    "\n",
    "from sklearn.ensemble import RandomForestClassifier\n",
    "from sklearn.ensemble import RandomForestRegressor\n",
    "\n",
    "from sklearn.model_selection import GridSearchCV\n",
    "from sklearn.model_selection import RandomizedSearchCV\n",
    "\n",
    "from sklearn.cross_validation import ShuffleSplit\n",
    "\n",
    "from sklearn.metrics import mean_squared_error\n",
    "from sklearn.metrics import mean_squared_error\n",
    "from sklearn.metrics import confusion_matrix\n",
    "from sklearn.metrics import r2_score\n",
    "from sklearn.metrics import classification_report\n",
    "\n",
    "import math\n",
    "\n",
    "from collections import defaultdict"
   ]
  },
  {
   "cell_type": "code",
   "execution_count": 498,
   "metadata": {},
   "outputs": [],
   "source": [
    "file = \"/Users/lszczyrba/Documents/Research/Projects/PR_Housing/Data/master_df_20191021.xlsx\"\n",
    "data = pd.read_excel(file)\n",
    "df_master = pd.DataFrame(data).set_index('FIPS')"
   ]
  },
  {
   "cell_type": "code",
   "execution_count": 499,
   "metadata": {},
   "outputs": [
    {
     "name": "stdout",
     "output_type": "stream",
     "text": [
      "Index(['Prop_SFHA_', 'Prop_DG_Ar', 'Ave_LS_cod', 'DG_MaxDe_1', 'HurTrack_D',\n",
      "       'PeakGust_1', 'MaxSusta_1', 'Count_', 'StrVI', 'SeVI', 'Str+SeVI',\n",
      "       'SoVI', 'DG_mean_m', 'O_Ind', 'R_Ind', 'R_I_No0', 'R_I_NoO',\n",
      "       'R_I_No0_NoO', 'cat_3q', 'cat_4q'],\n",
      "      dtype='object')\n"
     ]
    }
   ],
   "source": [
    "print(df_master.columns)"
   ]
  },
  {
   "cell_type": "markdown",
   "metadata": {},
   "source": [
    "### Choose Data"
   ]
  },
  {
   "cell_type": "code",
   "execution_count": 754,
   "metadata": {},
   "outputs": [],
   "source": [
    "def choose_data(df_master, feature_list, target_list):\n",
    "    choices = feature_list + target_list\n",
    "    df = df_master[choices].copy()\n",
    "    df.dropna(inplace = True)\n",
    "    return df"
   ]
  },
  {
   "cell_type": "code",
   "execution_count": 755,
   "metadata": {},
   "outputs": [],
   "source": [
    "# EXAMPLE:\n",
    "feature_list = ['Prop_SFHA_', 'Prop_DG_Ar', 'Ave_LS_cod', 'HurTrack_D',\n",
    "                'MaxSusta_1', 'StrVI', 'SeVI', 'DG_mean_m']\n",
    "target_list = ['cat_3q']\n",
    "\n",
    "df = choose_data(df_master, feature_list, target_list)"
   ]
  },
  {
   "cell_type": "markdown",
   "metadata": {},
   "source": [
    "### Partition Data"
   ]
  },
  {
   "cell_type": "code",
   "execution_count": 756,
   "metadata": {},
   "outputs": [],
   "source": [
    "def partition_data(df, target_str):\n",
    "    y = df[target_str]\n",
    "    df_x = df.drop(target_str, axis = 1)\n",
    "    return y, df_x"
   ]
  },
  {
   "cell_type": "code",
   "execution_count": 757,
   "metadata": {},
   "outputs": [],
   "source": [
    "# EXAMPLE:\n",
    "target_str = 'cat_3q'\n",
    "y, df_x = partition_data(df, target_str)"
   ]
  },
  {
   "cell_type": "markdown",
   "metadata": {},
   "source": [
    "### Train, Test, Split"
   ]
  },
  {
   "cell_type": "code",
   "execution_count": 758,
   "metadata": {},
   "outputs": [],
   "source": [
    "def split_the_data(df_x, y):\n",
    "    x_train, x_test, y_train, y_test = train_test_split(df_x, y, \n",
    "                                                        test_size=0.2, \n",
    "                                                        random_state=42)\n",
    "    return x_train, x_test, y_train, y_test\n"
   ]
  },
  {
   "cell_type": "code",
   "execution_count": 759,
   "metadata": {},
   "outputs": [],
   "source": [
    "# Careful of Random State\n",
    "# EXAMPLE:\n",
    "x_train, x_test, y_train, y_test = split_the_data(df_x, y)"
   ]
  },
  {
   "cell_type": "markdown",
   "metadata": {},
   "source": [
    "# <span style=\"color:STEELBLUE\">**Run Models**</span>"
   ]
  },
  {
   "cell_type": "markdown",
   "metadata": {},
   "source": [
    "### Regression Model"
   ]
  },
  {
   "cell_type": "code",
   "execution_count": 744,
   "metadata": {},
   "outputs": [],
   "source": [
    "#########  eventually want to add in functionality to customize parameters based on hyperparameter tuning ######### \n",
    "\n",
    "def run_regression(x_train, x_test, y_train, y_test):\n",
    "    reg_model = RandomForestRegressor(random_state=42, n_estimators=1000, min_samples_split=10, \n",
    "                                      max_depth = 50, max_features='sqrt', min_samples_leaf=2) \n",
    "    reg_model.fit(x_train, y_train)\n",
    "    return reg_model"
   ]
  },
  {
   "cell_type": "code",
   "execution_count": 745,
   "metadata": {},
   "outputs": [],
   "source": [
    "# Careful of Random State\n",
    "# EXAMPLE\n",
    "reg_model = run_regression(x_train, x_test, y_train, y_test)"
   ]
  },
  {
   "cell_type": "markdown",
   "metadata": {},
   "source": [
    "----------------"
   ]
  },
  {
   "cell_type": "markdown",
   "metadata": {},
   "source": [
    "### Classification Model"
   ]
  },
  {
   "cell_type": "code",
   "execution_count": 764,
   "metadata": {},
   "outputs": [],
   "source": [
    "#########  eventually want to add in functionality to customize parameters based on hyperparameter tuning ######### \n",
    "\n",
    "def run_classification(x_train, x_test, y_train, y_test):\n",
    "    class_model = RandomForestClassifier(random_state=42)\n",
    "    class_model.fit(x_train, y_train)\n",
    "    return class_model"
   ]
  },
  {
   "cell_type": "code",
   "execution_count": 765,
   "metadata": {},
   "outputs": [],
   "source": [
    "# Careful of Random State\n",
    "# EXAMPLE\n",
    "class_model = run_classification(x_train, x_test, y_train, y_test)"
   ]
  },
  {
   "cell_type": "markdown",
   "metadata": {},
   "source": [
    "# <span style=\"color:STEELBLUE\">**Evaluate Models**</span>"
   ]
  },
  {
   "cell_type": "markdown",
   "metadata": {},
   "source": [
    "### Evaluate Regression"
   ]
  },
  {
   "cell_type": "code",
   "execution_count": 746,
   "metadata": {},
   "outputs": [],
   "source": [
    "def evaluate_regression(model, x_train, x_test, y_train, y_test):\n",
    "    pred = model.predict(x_test)\n",
    "    r_model = model.score(x_train, y_train)\n",
    "    print('The training r-squared score is {}'.format(r_model))\n",
    "    r = r2_score(y_test, pred)\n",
    "    print('The testing r-squared score is {}'.format(r))\n",
    "    mse = mean_squared_error(y_test, pred)\n",
    "    print('The mean square error is {}'.format(mse))\n",
    "    rmse = math.sqrt(mean_squared_error(y_test, pred))\n",
    "    print('The root mean square error is {}'.format(rmse))\n",
    "    errors = pred - y_test\n",
    "    meanerror = np.mean(errors)\n",
    "    print('The mean error is {}'.format(meanerror))\n",
    "    meanabserrors = np.mean(abs(pred - y_test))\n",
    "    print('The mean absolute error is {}'.format(meanabserrors))\n",
    "    return pred, errors"
   ]
  },
  {
   "cell_type": "code",
   "execution_count": 747,
   "metadata": {},
   "outputs": [
    {
     "name": "stdout",
     "output_type": "stream",
     "text": [
      "The training r-squared score is 0.600718264529567\n",
      "The testing r-squared score is 0.14266532430407497\n",
      "The mean square error is 0.0009032654766081324\n",
      "The root mean square error is 0.030054375332189694\n",
      "The mean error is 0.0012404426317087257\n",
      "The mean absolute error is 0.02341378700090804\n"
     ]
    }
   ],
   "source": [
    "# EXAMPLE\n",
    "pred, errors = evaluate_regression(reg_model, x_train, x_test, y_train, y_test)"
   ]
  },
  {
   "cell_type": "code",
   "execution_count": 748,
   "metadata": {},
   "outputs": [],
   "source": [
    "def analyze_errors(errors):\n",
    "    error_range =  max(errors) - min(errors)\n",
    "    print('The error range is {}'.format(error_range))\n",
    "    error_max = max(errors)\n",
    "    print('The error max is {}'.format(error_max))\n",
    "    error_min = min(errors)\n",
    "    print('The error min is {}'.format(error_min))"
   ]
  },
  {
   "cell_type": "code",
   "execution_count": 749,
   "metadata": {},
   "outputs": [
    {
     "name": "stdout",
     "output_type": "stream",
     "text": [
      "The error range is 0.17492632462777818\n",
      "The error max is 0.06274789296009535\n",
      "The error min is -0.11217843166768283\n"
     ]
    }
   ],
   "source": [
    "# EXAMPLE\n",
    "analyze_errors(errors)"
   ]
  },
  {
   "cell_type": "code",
   "execution_count": 750,
   "metadata": {},
   "outputs": [],
   "source": [
    "def plot_errors(errors):\n",
    "    plt.hist(errors, 30, histtype='bar', ec='white', color='maroon')\n",
    "    plt.xlabel('Error')\n",
    "    plt.ylabel('Count')\n",
    "    plt.title('Histogram of Model Error')\n",
    "    plt.grid(True)\n",
    "    plt.show()\n"
   ]
  },
  {
   "cell_type": "code",
   "execution_count": 751,
   "metadata": {},
   "outputs": [
    {
     "data": {
      "image/png": "[encoded data removed]",
      "text/plain": [
       "<matplotlib.figure.Figure at 0x11181ac50>"
      ]
     },
     "metadata": {},
     "output_type": "display_data"
    }
   ],
   "source": [
    "# EXAMPLE\n",
    "plot_errors(errors)"
   ]
  },
  {
   "cell_type": "code",
   "execution_count": 752,
   "metadata": {},
   "outputs": [],
   "source": [
    "######### HOW GET XLIM AND YLIM TO AUTOMATICALLY BE EQUAL W/O Manually Setting??? ######### \n",
    "######### Also want to add plain straight line across in a better way ######### \n",
    "\n",
    "def plot_predictions(y_test, pred):\n",
    "    df_predictions = pd.DataFrame(y_test)\n",
    "    df_predictions['Pred'] = pred\n",
    "    X = df_predictions.iloc[:, 0].values.reshape(-1, 1)\n",
    "    Y = df_predictions.iloc[:, 1].values.reshape(-1, 1)\n",
    "    fig, ax = plt.subplots()\n",
    "    ax.scatter(X, Y, color='maroon')\n",
    "    line = mlines.Line2D([0, 1], [0, 1], color='orange')\n",
    "    transform = ax.transAxes\n",
    "    line.set_transform(transform)\n",
    "    ax.add_line(line)    \n",
    "    plt.grid(True)\n",
    "    plt.xlabel(\"Damage Index\")\n",
    "    plt.ylabel(\"Precited Damage Index\")\n",
    "    plt.xlim(0, 0.2)\n",
    "    plt.ylim(0, 0.2)\n",
    "    plt.title('Model Evaluation')\n",
    "    plt.show()"
   ]
  },
  {
   "cell_type": "code",
   "execution_count": 753,
   "metadata": {},
   "outputs": [
    {
     "data": {
      "image/png": "[encoded data removed]",
      "text/plain": [
       "<matplotlib.figure.Figure at 0x111c47fd0>"
      ]
     },
     "metadata": {},
     "output_type": "display_data"
    }
   ],
   "source": [
    "# EXAMPLE\n",
    "\n",
    "plot_predictions(y_test, pred)"
   ]
  },
  {
   "cell_type": "markdown",
   "metadata": {},
   "source": [
    "-----------"
   ]
  },
  {
   "cell_type": "markdown",
   "metadata": {},
   "source": [
    "### Evaluate Classification"
   ]
  },
  {
   "cell_type": "code",
   "execution_count": 766,
   "metadata": {},
   "outputs": [],
   "source": [
    "def evaluate_classification(model, x_train, x_test, y_train, y_test):\n",
    "    pred = model.predict(x_test)\n",
    "    accuracy_train = model.score(x_train, y_train)\n",
    "    print('The mean training accuracy is {}'.format(accuracy_train))\n",
    "    accuracy_test = model.score(x_test, y_test)\n",
    "    print('The mean test accuracy is {}'.format(accuracy_test))\n",
    "    df_confusion = pd.DataFrame(confusion_matrix(y_test, pred))\n",
    "    print(df_confusion)\n",
    "    print(classification_report(y_test, pred))\n",
    "    return df_confusion"
   ]
  },
  {
   "cell_type": "code",
   "execution_count": 767,
   "metadata": {},
   "outputs": [
    {
     "name": "stdout",
     "output_type": "stream",
     "text": [
      "The mean training accuracy is 0.9843971631205674\n",
      "The mean test accuracy is 0.5028248587570622\n",
      "    0   1   2\n",
      "0  29  10  15\n",
      "1  16  25  15\n",
      "2  17  15  35\n",
      "             precision    recall  f1-score   support\n",
      "\n",
      "          0       0.47      0.54      0.50        54\n",
      "          1       0.50      0.45      0.47        56\n",
      "          2       0.54      0.52      0.53        67\n",
      "\n",
      "avg / total       0.50      0.50      0.50       177\n",
      "\n"
     ]
    }
   ],
   "source": [
    "# EXAMPLE\n",
    "df_confusion = evaluate_classification(class_model, x_train, x_test, y_train, y_test)"
   ]
  },
  {
   "cell_type": "code",
   "execution_count": 768,
   "metadata": {},
   "outputs": [],
   "source": [
    "def plot_confusion(df_confusion):\n",
    "    sns.set(font_scale=1.4)#for label size\n",
    "    sns.heatmap(df_confusion, cmap='PuBu', annot=True, annot_kws={\"size\": 16})# font size\n",
    "    plt.ylabel('Predicted')\n",
    "    plt.xlabel('True Value')\n",
    "    plt.show()"
   ]
  },
  {
   "cell_type": "code",
   "execution_count": 769,
   "metadata": {},
   "outputs": [
    {
     "data": {
      "image/png": "[encoded data removed]",
      "text/plain": [
       "<matplotlib.figure.Figure at 0x111dc2b00>"
      ]
     },
     "metadata": {},
     "output_type": "display_data"
    }
   ],
   "source": [
    "# EXAMPLE\n",
    "plot_confusion(df_confusion)"
   ]
  },
  {
   "cell_type": "markdown",
   "metadata": {},
   "source": [
    "# <span style=\"color:STEELBLUE\">**Analyze Results**</span>"
   ]
  },
  {
   "cell_type": "markdown",
   "metadata": {},
   "source": [
    "### Gini calculation and storage"
   ]
  },
  {
   "cell_type": "code",
   "execution_count": 770,
   "metadata": {},
   "outputs": [],
   "source": [
    "def calc_gini_importances(x_train, model):\n",
    "    importances = model.feature_importances_\n",
    "    importances_df = pd.DataFrame(importances, x_train.columns,\n",
    "                                  columns=['Importance']).sort_values('Importance',\n",
    "                                  ascending=False)\n",
    "    importances_df.reset_index(inplace=True)\n",
    "    importances_df.rename(columns={'index':'Feature'}, inplace=True)\n",
    "    return importances_df\n"
   ]
  },
  {
   "cell_type": "code",
   "execution_count": 771,
   "metadata": {},
   "outputs": [],
   "source": [
    "# indicate if reg_model or class_model\n",
    "# EXAMPLE\n",
    "df_gini_importances = calc_gini_importances(x_train, class_model)"
   ]
  },
  {
   "cell_type": "markdown",
   "metadata": {},
   "source": [
    "# Gini Plot"
   ]
  },
  {
   "cell_type": "code",
   "execution_count": 772,
   "metadata": {},
   "outputs": [],
   "source": [
    "\n",
    "######### what is this whole fig, ax, show deal??? ######### \n",
    "\n",
    "def gini_importance_plot(df_gini_importances):\n",
    "    df_gini_importances.sort_values('Importance', ascending=False).plot.bar('Feature',\n",
    "                                                                            'Importance', \n",
    "                                                                            color='maroon', \n",
    "                                                                            legend = False)\n",
    "    plt.title(\"Feature Importances\", fontsize = 30)\n",
    "    plt.ylabel('Importance')\n",
    "    plt.xlabel('')\n",
    "    plt.xticks(fontsize = 12, rotation = 45, ha='right')\n",
    "\n"
   ]
  },
  {
   "cell_type": "code",
   "execution_count": 773,
   "metadata": {},
   "outputs": [
    {
     "data": {
      "image/png": "[encoded data removed]",
      "text/plain": [
       "<matplotlib.figure.Figure at 0x10abe7630>"
      ]
     },
     "metadata": {},
     "output_type": "display_data"
    }
   ],
   "source": [
    "# EXAMPLE\n",
    "gini_importance_plot(df_gini_importances)"
   ]
  },
  {
   "cell_type": "markdown",
   "metadata": {},
   "source": [
    "## Permutation calculation and storage"
   ]
  },
  {
   "cell_type": "code",
   "execution_count": 774,
   "metadata": {},
   "outputs": [],
   "source": [
    "def calc_permutation_importance(df_x, y):\n",
    "    features = df_x.columns.values\n",
    "    X = df_x.as_matrix()\n",
    "    Y = y.as_matrix()\n",
    "    scores = defaultdict(list)\n",
    "    rf = RandomForestRegressor(random_state=42)\n",
    "    for train_idx, test_idx in ShuffleSplit(len(X), 100, .3, random_state=42): #number of splits, absolute number of test samples, proportion of data in train split\n",
    "        X_train, X_test = X[train_idx], X[test_idx] #Random permutation cross-validator, Yields indices to split data into training and test sets.\n",
    "        Y_train, Y_test = Y[train_idx], Y[test_idx]\n",
    "        r = rf.fit(X_train, Y_train)\n",
    "        acc = r2_score(Y_test, rf.predict(X_test))\n",
    "        for i in range(X.shape[1]): #The shape attribute for numpy arrays returns the dimensions of the array. If Y has n rows and m columns, then Y.shape is (n,m). So Y.shape[0] is n.\n",
    "            X_t = X_test.copy()\n",
    "            np.random.seed(42)\n",
    "            np.random.shuffle(X_t[:, i]) #rearranging randomly\n",
    "            shuff_acc = r2_score(Y_test, rf.predict(X_t)) \n",
    "            scores[features[i]].append((acc-shuff_acc)/acc) #change in importance, actual - shuffled/actual, this is percent error        \n",
    "    mda_features = [f for f in scores.keys()]\n",
    "    mda_importance = [(np.mean(score)) for score in scores.values()] #average over all the shuffled permutations\n",
    "    mda_indices = np.argsort(mda_importance)\n",
    "    return mda_features, mda_importance, mda_indices"
   ]
  },
  {
   "cell_type": "code",
   "execution_count": 704,
   "metadata": {},
   "outputs": [
    {
     "name": "stderr",
     "output_type": "stream",
     "text": [
      "/usr/local/lib/python3.6/site-packages/ipykernel_launcher.py:3: FutureWarning: Method .as_matrix will be removed in a future version. Use .values instead.\n",
      "  This is separate from the ipykernel package so we can avoid doing imports until\n",
      "/usr/local/lib/python3.6/site-packages/ipykernel_launcher.py:4: FutureWarning: Method .as_matrix will be removed in a future version. Use .values instead.\n",
      "  after removing the cwd from sys.path.\n"
     ]
    }
   ],
   "source": [
    "# Careful of Random State and np.random.seed\n",
    "# EXAMPLE\n",
    "mda_features, mda_importance, mda_indices = calc_permutation_importance(df_x, y)"
   ]
  },
  {
   "cell_type": "markdown",
   "metadata": {},
   "source": [
    "## Permutation Plot"
   ]
  },
  {
   "cell_type": "code",
   "execution_count": 705,
   "metadata": {},
   "outputs": [],
   "source": [
    "def permutation_importance_plot(mda_features, mda_importance):\n",
    "    df_perm_FI = pd.DataFrame({'Feature':mda_features, 'Importance':mda_importance})\n",
    "    df_perm_FI.sort_values('Importance', ascending=False).plot.bar('Feature',\n",
    "                                                                   'Importance', \n",
    "                                                                    color='maroon', \n",
    "                                                                    legend = False)\n",
    "    plt.title(\"Feature Importances\", fontsize = 30)\n",
    "    plt.ylabel('Importance')\n",
    "    plt.xlabel('')\n",
    "    plt.xticks(fontsize = 12, rotation = 45, ha='right')"
   ]
  },
  {
   "cell_type": "code",
   "execution_count": 706,
   "metadata": {},
   "outputs": [
    {
     "data": {
      "image/png": "[encoded data removed]",
      "text/plain": [
       "<matplotlib.figure.Figure at 0x111413438>"
      ]
     },
     "metadata": {},
     "output_type": "display_data"
    }
   ],
   "source": [
    "# EXAMPLE\n",
    "permutation_importance_plot(mda_features, mda_importance)"
   ]
  },
  {
   "cell_type": "code",
   "execution_count": null,
   "metadata": {},
   "outputs": [],
   "source": []
  }
 ],
 "metadata": {
  "kernelspec": {
   "display_name": "Python 3",
   "language": "python",
   "name": "python3"
  },
  "language_info": {
   "codemirror_mode": {
    "name": "ipython",
    "version": 3
   },
   "file_extension": ".py",
   "mimetype": "text/x-python",
   "name": "python",
   "nbconvert_exporter": "python",
   "pygments_lexer": "ipython3",
   "version": "3.6.5"
  }
 },
 "nbformat": 4,
 "nbformat_minor": 4
}
