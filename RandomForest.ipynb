{
 "cells": [
  {
   "cell_type": "markdown",
   "metadata": {},
   "source": [
    "# <span style=\"color:STEELBLUE\">**Set Up**</span>"
   ]
  },
  {
   "cell_type": "markdown",
   "metadata": {},
   "source": [
    "### Import libraries and data"
   ]
  },
  {
   "cell_type": "code",
   "execution_count": 1,
   "metadata": {},
   "outputs": [
    {
     "name": "stdout",
     "output_type": "stream",
     "text": [
      "The scikit-learn version is 0.21.3.\n"
     ]
    }
   ],
   "source": [
    "import sklearn\n",
    "print('The scikit-learn version is {}.'.format(sklearn.__version__))"
   ]
  },
  {
   "cell_type": "code",
   "execution_count": 2,
   "metadata": {},
   "outputs": [],
   "source": [
    "import pandas as pd\n",
    "from pandas.plotting import scatter_matrix\n",
    "\n",
    "import numpy as np\n",
    "import seaborn as sns\n",
    "\n",
    "import matplotlib.pyplot as plt\n",
    "import matplotlib.lines as mlines\n",
    "import matplotlib.transforms as mtransforms\n",
    "\n",
    "from sklearn.model_selection import train_test_split, GridSearchCV, RandomizedSearchCV, ShuffleSplit, cross_validate\n",
    "from sklearn.ensemble import RandomForestClassifier, RandomForestRegressor\n",
    "#from sklearn.cross_validation import ShuffleSplit\n",
    "from sklearn.metrics import mean_squared_error, mean_absolute_error, confusion_matrix, r2_score, classification_report\n",
    "from sklearn.inspection import partial_dependence, plot_partial_dependence\n",
    "\n",
    "import math\n",
    "\n",
    "from collections import defaultdict\n",
    "\n",
    "from rfpimp import *\n",
    "#from rfpimp import plot_corr_heatmap\n",
    "\n",
    "from pycebox.ice import *\n",
    "from pdpbox import *\n",
    "\n",
    "from yellowbrick.regressor import ResidualsPlot"
   ]
  },
  {
   "cell_type": "code",
   "execution_count": 3,
   "metadata": {},
   "outputs": [],
   "source": [
    "file = \"/Users/lszczyrba/Documents/Research/Projects/PR_Housing/Data/master_df_20200206.xlsx\"\n",
    "data = pd.read_excel(file)\n",
    "df_master = pd.DataFrame(data).set_index('FIPS')"
   ]
  },
  {
   "cell_type": "code",
   "execution_count": 4,
   "metadata": {},
   "outputs": [
    {
     "name": "stdout",
     "output_type": "stream",
     "text": [
      "Index(['PropSFHA', 'AveDepth', 'PropDG', 'MaxDepth', 'AveLS', 'HurTrack',\n",
      "       'PeakGust', 'MaxSusta', 'SpecCom', 'STRVI_1', 'SEVI_1', 'STR_SEVI_1',\n",
      "       'SOVI_1', 'STRVI_2', 'SEVI_2', 'SOVI_2', 'CDC_T1', 'CDC_T2', 'CDC_T3',\n",
      "       'CDC_T4', 'CDC_Tot', 'O_IND', 'R_IND', 'R_I_NO0', 'R_I_NOO',\n",
      "       'R_I_NO0_NO', 'CAT_3Q', 'CAT_4Q', 'Ex_Q4_c', 'COUNT__Y', 'R_DES',\n",
      "       'R_AFF', 'log_R_IND', 'log_R_I_NO0'],\n",
      "      dtype='object')\n"
     ]
    }
   ],
   "source": [
    "print(df_master.columns)"
   ]
  },
  {
   "cell_type": "code",
   "execution_count": 5,
   "metadata": {},
   "outputs": [
    {
     "data": {
      "text/html": [
       "<div>\n",
       "<style scoped>\n",
       "    .dataframe tbody tr th:only-of-type {\n",
       "        vertical-align: middle;\n",
       "    }\n",
       "\n",
       "    .dataframe tbody tr th {\n",
       "        vertical-align: top;\n",
       "    }\n",
       "\n",
       "    .dataframe thead th {\n",
       "        text-align: right;\n",
       "    }\n",
       "</style>\n",
       "<table border=\"1\" class=\"dataframe\">\n",
       "  <thead>\n",
       "    <tr style=\"text-align: right;\">\n",
       "      <th></th>\n",
       "      <th>PropSFHA</th>\n",
       "      <th>AveDepth</th>\n",
       "      <th>PropDG</th>\n",
       "      <th>MaxDepth</th>\n",
       "      <th>AveLS</th>\n",
       "      <th>HurTrack</th>\n",
       "      <th>PeakGust</th>\n",
       "      <th>MaxSusta</th>\n",
       "      <th>SpecCom</th>\n",
       "      <th>STRVI_1</th>\n",
       "      <th>...</th>\n",
       "      <th>R_I_NOO</th>\n",
       "      <th>R_I_NO0_NO</th>\n",
       "      <th>CAT_3Q</th>\n",
       "      <th>CAT_4Q</th>\n",
       "      <th>Ex_Q4_c</th>\n",
       "      <th>COUNT__Y</th>\n",
       "      <th>R_DES</th>\n",
       "      <th>R_AFF</th>\n",
       "      <th>log_R_IND</th>\n",
       "      <th>log_R_I_NO0</th>\n",
       "    </tr>\n",
       "  </thead>\n",
       "  <tbody>\n",
       "    <tr>\n",
       "      <th>count</th>\n",
       "      <td>882.000000</td>\n",
       "      <td>882.000000</td>\n",
       "      <td>882.000000</td>\n",
       "      <td>882.000000</td>\n",
       "      <td>882.000000</td>\n",
       "      <td>882.000000</td>\n",
       "      <td>882.000000</td>\n",
       "      <td>882.000000</td>\n",
       "      <td>882.000000</td>\n",
       "      <td>882.000000</td>\n",
       "      <td>...</td>\n",
       "      <td>882.000000</td>\n",
       "      <td>882.000000</td>\n",
       "      <td>882.000000</td>\n",
       "      <td>882.000000</td>\n",
       "      <td>882.000000</td>\n",
       "      <td>882.000000</td>\n",
       "      <td>882.000000</td>\n",
       "      <td>882.000000</td>\n",
       "      <td>882.000000</td>\n",
       "      <td>775.000000</td>\n",
       "    </tr>\n",
       "    <tr>\n",
       "      <th>mean</th>\n",
       "      <td>0.173662</td>\n",
       "      <td>0.982619</td>\n",
       "      <td>0.058447</td>\n",
       "      <td>2.634887</td>\n",
       "      <td>1.104161</td>\n",
       "      <td>0.223594</td>\n",
       "      <td>52.697914</td>\n",
       "      <td>41.591950</td>\n",
       "      <td>0.033937</td>\n",
       "      <td>0.000533</td>\n",
       "      <td>...</td>\n",
       "      <td>0.025018</td>\n",
       "      <td>0.025974</td>\n",
       "      <td>1.000000</td>\n",
       "      <td>1.498866</td>\n",
       "      <td>0.250567</td>\n",
       "      <td>1702.182540</td>\n",
       "      <td>0.002117</td>\n",
       "      <td>0.029921</td>\n",
       "      <td>-3.347153</td>\n",
       "      <td>-3.809275</td>\n",
       "    </tr>\n",
       "    <tr>\n",
       "      <th>std</th>\n",
       "      <td>0.260877</td>\n",
       "      <td>1.529905</td>\n",
       "      <td>0.159692</td>\n",
       "      <td>4.692369</td>\n",
       "      <td>0.412690</td>\n",
       "      <td>0.126709</td>\n",
       "      <td>8.664104</td>\n",
       "      <td>6.932878</td>\n",
       "      <td>0.090211</td>\n",
       "      <td>3.766862</td>\n",
       "      <td>...</td>\n",
       "      <td>0.024439</td>\n",
       "      <td>0.025482</td>\n",
       "      <td>0.814176</td>\n",
       "      <td>1.111542</td>\n",
       "      <td>0.433585</td>\n",
       "      <td>935.425845</td>\n",
       "      <td>0.006613</td>\n",
       "      <td>0.032875</td>\n",
       "      <td>1.637369</td>\n",
       "      <td>1.135331</td>\n",
       "    </tr>\n",
       "    <tr>\n",
       "      <th>min</th>\n",
       "      <td>0.000000</td>\n",
       "      <td>0.000000</td>\n",
       "      <td>0.000000</td>\n",
       "      <td>0.000000</td>\n",
       "      <td>0.000000</td>\n",
       "      <td>0.000000</td>\n",
       "      <td>24.590000</td>\n",
       "      <td>19.220000</td>\n",
       "      <td>0.000000</td>\n",
       "      <td>-13.150000</td>\n",
       "      <td>...</td>\n",
       "      <td>0.000000</td>\n",
       "      <td>0.000000</td>\n",
       "      <td>0.000000</td>\n",
       "      <td>0.000000</td>\n",
       "      <td>0.000000</td>\n",
       "      <td>7.000000</td>\n",
       "      <td>0.000000</td>\n",
       "      <td>0.000000</td>\n",
       "      <td>-8.359135</td>\n",
       "      <td>-8.359135</td>\n",
       "    </tr>\n",
       "    <tr>\n",
       "      <th>25%</th>\n",
       "      <td>0.000000</td>\n",
       "      <td>0.000000</td>\n",
       "      <td>0.000000</td>\n",
       "      <td>0.000000</td>\n",
       "      <td>1.000000</td>\n",
       "      <td>0.130000</td>\n",
       "      <td>45.150000</td>\n",
       "      <td>35.320000</td>\n",
       "      <td>0.000000</td>\n",
       "      <td>-2.635000</td>\n",
       "      <td>...</td>\n",
       "      <td>0.003780</td>\n",
       "      <td>0.004243</td>\n",
       "      <td>0.000000</td>\n",
       "      <td>1.000000</td>\n",
       "      <td>0.000000</td>\n",
       "      <td>995.250000</td>\n",
       "      <td>0.000000</td>\n",
       "      <td>0.006323</td>\n",
       "      <td>-4.308255</td>\n",
       "      <td>-4.424949</td>\n",
       "    </tr>\n",
       "    <tr>\n",
       "      <th>50%</th>\n",
       "      <td>0.040000</td>\n",
       "      <td>0.000000</td>\n",
       "      <td>0.000000</td>\n",
       "      <td>0.000000</td>\n",
       "      <td>1.000000</td>\n",
       "      <td>0.220000</td>\n",
       "      <td>55.880000</td>\n",
       "      <td>44.260000</td>\n",
       "      <td>0.003223</td>\n",
       "      <td>-0.190000</td>\n",
       "      <td>...</td>\n",
       "      <td>0.018710</td>\n",
       "      <td>0.019184</td>\n",
       "      <td>1.000000</td>\n",
       "      <td>1.000000</td>\n",
       "      <td>0.000000</td>\n",
       "      <td>1530.500000</td>\n",
       "      <td>0.000308</td>\n",
       "      <td>0.021126</td>\n",
       "      <td>-3.475630</td>\n",
       "      <td>-3.623924</td>\n",
       "    </tr>\n",
       "    <tr>\n",
       "      <th>75%</th>\n",
       "      <td>0.220000</td>\n",
       "      <td>1.760000</td>\n",
       "      <td>0.020000</td>\n",
       "      <td>4.502500</td>\n",
       "      <td>1.290000</td>\n",
       "      <td>0.290000</td>\n",
       "      <td>59.900000</td>\n",
       "      <td>47.390000</td>\n",
       "      <td>0.023284</td>\n",
       "      <td>2.417500</td>\n",
       "      <td>...</td>\n",
       "      <td>0.037674</td>\n",
       "      <td>0.038911</td>\n",
       "      <td>2.000000</td>\n",
       "      <td>2.000000</td>\n",
       "      <td>0.750000</td>\n",
       "      <td>2293.000000</td>\n",
       "      <td>0.001963</td>\n",
       "      <td>0.041932</td>\n",
       "      <td>-2.687743</td>\n",
       "      <td>-3.021554</td>\n",
       "    </tr>\n",
       "    <tr>\n",
       "      <th>max</th>\n",
       "      <td>1.000000</td>\n",
       "      <td>9.730000</td>\n",
       "      <td>1.000000</td>\n",
       "      <td>61.940000</td>\n",
       "      <td>3.000000</td>\n",
       "      <td>0.920000</td>\n",
       "      <td>65.710000</td>\n",
       "      <td>54.540000</td>\n",
       "      <td>0.977416</td>\n",
       "      <td>16.520000</td>\n",
       "      <td>...</td>\n",
       "      <td>0.102301</td>\n",
       "      <td>0.106887</td>\n",
       "      <td>2.000000</td>\n",
       "      <td>3.000000</td>\n",
       "      <td>1.000000</td>\n",
       "      <td>7069.000000</td>\n",
       "      <td>0.142857</td>\n",
       "      <td>0.360825</td>\n",
       "      <td>0.000000</td>\n",
       "      <td>-1.019363</td>\n",
       "    </tr>\n",
       "  </tbody>\n",
       "</table>\n",
       "<p>8 rows × 34 columns</p>\n",
       "</div>"
      ],
      "text/plain": [
       "         PropSFHA    AveDepth      PropDG    MaxDepth       AveLS    HurTrack  \\\n",
       "count  882.000000  882.000000  882.000000  882.000000  882.000000  882.000000   \n",
       "mean     0.173662    0.982619    0.058447    2.634887    1.104161    0.223594   \n",
       "std      0.260877    1.529905    0.159692    4.692369    0.412690    0.126709   \n",
       "min      0.000000    0.000000    0.000000    0.000000    0.000000    0.000000   \n",
       "25%      0.000000    0.000000    0.000000    0.000000    1.000000    0.130000   \n",
       "50%      0.040000    0.000000    0.000000    0.000000    1.000000    0.220000   \n",
       "75%      0.220000    1.760000    0.020000    4.502500    1.290000    0.290000   \n",
       "max      1.000000    9.730000    1.000000   61.940000    3.000000    0.920000   \n",
       "\n",
       "         PeakGust    MaxSusta     SpecCom     STRVI_1     ...       \\\n",
       "count  882.000000  882.000000  882.000000  882.000000     ...        \n",
       "mean    52.697914   41.591950    0.033937    0.000533     ...        \n",
       "std      8.664104    6.932878    0.090211    3.766862     ...        \n",
       "min     24.590000   19.220000    0.000000  -13.150000     ...        \n",
       "25%     45.150000   35.320000    0.000000   -2.635000     ...        \n",
       "50%     55.880000   44.260000    0.003223   -0.190000     ...        \n",
       "75%     59.900000   47.390000    0.023284    2.417500     ...        \n",
       "max     65.710000   54.540000    0.977416   16.520000     ...        \n",
       "\n",
       "          R_I_NOO  R_I_NO0_NO      CAT_3Q      CAT_4Q     Ex_Q4_c  \\\n",
       "count  882.000000  882.000000  882.000000  882.000000  882.000000   \n",
       "mean     0.025018    0.025974    1.000000    1.498866    0.250567   \n",
       "std      0.024439    0.025482    0.814176    1.111542    0.433585   \n",
       "min      0.000000    0.000000    0.000000    0.000000    0.000000   \n",
       "25%      0.003780    0.004243    0.000000    1.000000    0.000000   \n",
       "50%      0.018710    0.019184    1.000000    1.000000    0.000000   \n",
       "75%      0.037674    0.038911    2.000000    2.000000    0.750000   \n",
       "max      0.102301    0.106887    2.000000    3.000000    1.000000   \n",
       "\n",
       "          COUNT__Y       R_DES       R_AFF   log_R_IND  log_R_I_NO0  \n",
       "count   882.000000  882.000000  882.000000  882.000000   775.000000  \n",
       "mean   1702.182540    0.002117    0.029921   -3.347153    -3.809275  \n",
       "std     935.425845    0.006613    0.032875    1.637369     1.135331  \n",
       "min       7.000000    0.000000    0.000000   -8.359135    -8.359135  \n",
       "25%     995.250000    0.000000    0.006323   -4.308255    -4.424949  \n",
       "50%    1530.500000    0.000308    0.021126   -3.475630    -3.623924  \n",
       "75%    2293.000000    0.001963    0.041932   -2.687743    -3.021554  \n",
       "max    7069.000000    0.142857    0.360825    0.000000    -1.019363  \n",
       "\n",
       "[8 rows x 34 columns]"
      ]
     },
     "execution_count": 5,
     "metadata": {},
     "output_type": "execute_result"
    }
   ],
   "source": [
    "df_master.describe()"
   ]
  },
  {
   "cell_type": "code",
   "execution_count": 6,
   "metadata": {},
   "outputs": [
    {
     "data": {
      "text/plain": [
       "count    882.000000\n",
       "mean       0.032037\n",
       "std        0.035476\n",
       "min        0.000000\n",
       "25%        0.006897\n",
       "50%        0.022014\n",
       "75%        0.044725\n",
       "max        0.360825\n",
       "Name: R_IND, dtype: float64"
      ]
     },
     "execution_count": 6,
     "metadata": {},
     "output_type": "execute_result"
    }
   ],
   "source": [
    "df_master['R_IND'].describe()"
   ]
  },
  {
   "cell_type": "code",
   "execution_count": 7,
   "metadata": {},
   "outputs": [],
   "source": [
    "# # Get names of indexes for which column Age has value 30\n",
    "# indexNames = df_master[df_master.R_IND > 0.25].index\n",
    " \n",
    "# # Delete these row indexes from dataFrame\n",
    "# df_master.drop(indexNames , inplace=True)"
   ]
  },
  {
   "cell_type": "code",
   "execution_count": 8,
   "metadata": {},
   "outputs": [],
   "source": [
    "# df_master['R_IND'].describe()"
   ]
  },
  {
   "cell_type": "markdown",
   "metadata": {},
   "source": [
    "### Choose Data"
   ]
  },
  {
   "cell_type": "code",
   "execution_count": 9,
   "metadata": {},
   "outputs": [],
   "source": [
    "def choose_data(df_master, feature_list, target_list):\n",
    "    choices = feature_list + target_list\n",
    "    df = df_master[choices].copy()\n",
    "    df.dropna(inplace = True)\n",
    "    return df"
   ]
  },
  {
   "cell_type": "code",
   "execution_count": 10,
   "metadata": {},
   "outputs": [],
   "source": [
    "# # EXAMPLE:\n",
    "# feature_list = ['PropSFHA', 'AveDepth', 'PropDG', 'AveLS', 'HurTrack',\n",
    "#                'PeakGust', 'SpecCom', 'STRVI_1', 'SEVI_1','CDC_Tot']\n",
    "# target_list = ['R_IND']\n",
    "\n",
    "# df = choose_data(df_master, feature_list, target_list)"
   ]
  },
  {
   "cell_type": "code",
   "execution_count": 11,
   "metadata": {},
   "outputs": [],
   "source": [
    "# df.describe()"
   ]
  },
  {
   "cell_type": "code",
   "execution_count": 12,
   "metadata": {},
   "outputs": [],
   "source": [
    "# ### DELETE\n",
    "# df = df[df.O_Ind != 0]"
   ]
  },
  {
   "cell_type": "markdown",
   "metadata": {},
   "source": [
    "### Partition and Bin Data"
   ]
  },
  {
   "cell_type": "code",
   "execution_count": 13,
   "metadata": {},
   "outputs": [],
   "source": [
    "def partition_data(df, target_str):\n",
    "    y = df[target_str]\n",
    "    df_x = df.drop(target_str, axis = 1)\n",
    "    return y, df_x"
   ]
  },
  {
   "cell_type": "code",
   "execution_count": 14,
   "metadata": {},
   "outputs": [],
   "source": [
    "# # EXAMPLE:\n",
    "# target_str = 'R_IND'\n",
    "# y, df_x = partition_data(df, target_str)"
   ]
  },
  {
   "cell_type": "code",
   "execution_count": 15,
   "metadata": {},
   "outputs": [],
   "source": [
    "def bin_target(y, n_bins, label):\n",
    "    y_binned = pd.qcut(y, q=n_bins, labels = label)\n",
    "    return y_binned"
   ]
  },
  {
   "cell_type": "code",
   "execution_count": 16,
   "metadata": {},
   "outputs": [],
   "source": [
    "# # EXAMPLE:\n",
    "# y_binned = bin_target(y,4, [0,1,2,3])"
   ]
  },
  {
   "cell_type": "markdown",
   "metadata": {},
   "source": [
    "## Train, Test, Split"
   ]
  },
  {
   "cell_type": "code",
   "execution_count": 17,
   "metadata": {},
   "outputs": [],
   "source": [
    "# def split_the_data(df_x, y):\n",
    "#     x_train, x_test, y_train, y_test = train_test_split(df_x, y, \n",
    "#                                                         test_size=0.3, \n",
    "#                                                         random_state=42,\n",
    "#                                                         stratify = y_binned)\n",
    "#     return x_train, x_test, y_train, y_test\n"
   ]
  },
  {
   "cell_type": "code",
   "execution_count": 18,
   "metadata": {},
   "outputs": [],
   "source": [
    "# Careful of Random State\n",
    "# Change y_binned to y if categorical\n",
    "# EXAMPLE:\n",
    "# x_train, x_test, y_train, y_test = split_the_data(df_x, y)"
   ]
  },
  {
   "cell_type": "code",
   "execution_count": 19,
   "metadata": {},
   "outputs": [],
   "source": [
    "# train_set = x_train.copy()\n",
    "# test_set = x_test.copy()\n",
    "\n",
    "# train_set['y_train'] = y_train\n",
    "# #train_set['train_pred'] = pred_train\n",
    "\n",
    "# test_set['y_test'] = y_test\n",
    "# #test_set['test_pred'] = pred_test\n",
    "\n",
    "# train_set.to_excel(\"/Users/lszczyrba/Documents/Research/Projects/PR_Housing/Data/train_set_20191209.xlsx\")\n",
    "# test_set.to_excel(\"/Users/lszczyrba/Documents/Research/Projects/PR_Housing/Data/test_set_20191209.xlsx\")"
   ]
  },
  {
   "cell_type": "code",
   "execution_count": 20,
   "metadata": {},
   "outputs": [],
   "source": [
    "#histogram_figure(y_test)"
   ]
  },
  {
   "cell_type": "markdown",
   "metadata": {},
   "source": [
    "# Import pre-split train and test data"
   ]
  },
  {
   "cell_type": "code",
   "execution_count": 21,
   "metadata": {},
   "outputs": [],
   "source": [
    "file = \"/Users/lszczyrba/Documents/Research/Projects/PR_Housing/Data/train_set_20200206.xlsx\"\n",
    "data = pd.read_excel(file)\n",
    "train_set = pd.DataFrame(data).set_index('FIPS')"
   ]
  },
  {
   "cell_type": "code",
   "execution_count": 22,
   "metadata": {},
   "outputs": [],
   "source": [
    "file = \"/Users/lszczyrba/Documents/Research/Projects/PR_Housing/Data/test_set_20200206.xlsx\"\n",
    "data = pd.read_excel(file)\n",
    "test_set = pd.DataFrame(data).set_index('FIPS')"
   ]
  },
  {
   "cell_type": "code",
   "execution_count": 23,
   "metadata": {},
   "outputs": [],
   "source": [
    "def boxplot_figure(df, target):\n",
    "    fig, ax = plt.subplots(1,1,figsize=(4, 6))\n",
    "    ax = df.boxplot(column=target, showfliers=True)\n",
    "    ax.set_ylabel(\"Proportion of Damaged Homes\", fontsize = 18)\n",
    "    ax.tick_params(labelsize=15)\n",
    "    #plt.savefig('boxplot_no0.png', dpi=600, bbox_inches = \"tight\")"
   ]
  },
  {
   "cell_type": "code",
   "execution_count": 24,
   "metadata": {},
   "outputs": [],
   "source": [
    "# train_set.drop(columns= ['STRVI_1', 'SEVI_1'], inplace=True)\n",
    "# test_set.drop(columns= ['STRVI_1', 'SEVI_1'], inplace=True)"
   ]
  },
  {
   "cell_type": "code",
   "execution_count": 25,
   "metadata": {},
   "outputs": [],
   "source": [
    "# target = ['y_train']\n",
    "# boxplot_figure(train_set, target)"
   ]
  },
  {
   "cell_type": "code",
   "execution_count": 26,
   "metadata": {},
   "outputs": [],
   "source": [
    "# target = ['y_test']\n",
    "# boxplot_figure(test_set, target)"
   ]
  },
  {
   "cell_type": "code",
   "execution_count": 27,
   "metadata": {},
   "outputs": [],
   "source": [
    "# fig, ax = plt.subplots(1,1,figsize=(4, 6))\n",
    "# ax = train_set.boxplot(column=['y_train'], showfliers=True)\n",
    "# ax.set_ylabel(\"Proportion of Damaged Homes\", fontsize = 18)\n",
    "# ax.set_xlabel('DamInd1 - Training', fontsize = 18)\n",
    "# ax.set_xticklabels(' ')\n",
    "# ax.tick_params(labelsize=15)\n",
    "# plt.ylim(0,0.4)\n",
    "# plt.savefig('boxplot_DI_train.png', dpi=600, bbox_inches = \"tight\")"
   ]
  },
  {
   "cell_type": "code",
   "execution_count": 28,
   "metadata": {},
   "outputs": [],
   "source": [
    "# fig, ax = plt.subplots(1,1,figsize=(4, 6))\n",
    "# ax = test_set.boxplot(column=['y_test'], showfliers=True)\n",
    "# ax.set_ylabel(\"\", fontsize = 18)\n",
    "# ax.tick_params(labelsize=15)\n",
    "# ax.set_xlabel('DamInd1 - Testing', fontsize = 18)\n",
    "# ax.set_xticklabels(' ')\n",
    "# plt.ylim(0, 0.4)\n",
    "# plt.savefig('boxplot_DI_test.png', dpi=600, bbox_inches = \"tight\")"
   ]
  },
  {
   "cell_type": "markdown",
   "metadata": {},
   "source": [
    "# If want to drop the extreme outlier"
   ]
  },
  {
   "cell_type": "code",
   "execution_count": 29,
   "metadata": {},
   "outputs": [],
   "source": [
    "# Get names of indexes for which column Age has value 30\n",
    "indexNames = train_set[train_set.y_train > 0.25].index\n",
    " \n",
    "# Delete these row indexes from dataFrame\n",
    "train_set.drop(indexNames , inplace=True)"
   ]
  },
  {
   "cell_type": "code",
   "execution_count": 30,
   "metadata": {},
   "outputs": [],
   "source": [
    "#train_set = train_set[train_set.y_train < 0.360825]"
   ]
  },
  {
   "cell_type": "code",
   "execution_count": 31,
   "metadata": {},
   "outputs": [
    {
     "data": {
      "text/html": [
       "<div>\n",
       "<style scoped>\n",
       "    .dataframe tbody tr th:only-of-type {\n",
       "        vertical-align: middle;\n",
       "    }\n",
       "\n",
       "    .dataframe tbody tr th {\n",
       "        vertical-align: top;\n",
       "    }\n",
       "\n",
       "    .dataframe thead th {\n",
       "        text-align: right;\n",
       "    }\n",
       "</style>\n",
       "<table border=\"1\" class=\"dataframe\">\n",
       "  <thead>\n",
       "    <tr style=\"text-align: right;\">\n",
       "      <th></th>\n",
       "      <th>PropSFHA</th>\n",
       "      <th>AveDepth</th>\n",
       "      <th>PropDG</th>\n",
       "      <th>AveLS</th>\n",
       "      <th>HurTrack</th>\n",
       "      <th>PeakGust</th>\n",
       "      <th>SpecCom</th>\n",
       "      <th>STRVI_1</th>\n",
       "      <th>SEVI_1</th>\n",
       "      <th>CDC_Tot</th>\n",
       "      <th>y_train</th>\n",
       "    </tr>\n",
       "  </thead>\n",
       "  <tbody>\n",
       "    <tr>\n",
       "      <th>count</th>\n",
       "      <td>704.000000</td>\n",
       "      <td>704.000000</td>\n",
       "      <td>704.000000</td>\n",
       "      <td>704.000000</td>\n",
       "      <td>704.000000</td>\n",
       "      <td>704.000000</td>\n",
       "      <td>704.000000</td>\n",
       "      <td>704.000000</td>\n",
       "      <td>704.000000</td>\n",
       "      <td>704.000000</td>\n",
       "      <td>704.000000</td>\n",
       "    </tr>\n",
       "    <tr>\n",
       "      <th>mean</th>\n",
       "      <td>0.181335</td>\n",
       "      <td>0.960526</td>\n",
       "      <td>0.054560</td>\n",
       "      <td>1.087344</td>\n",
       "      <td>0.220185</td>\n",
       "      <td>52.909418</td>\n",
       "      <td>0.036031</td>\n",
       "      <td>0.003409</td>\n",
       "      <td>0.118509</td>\n",
       "      <td>0.504580</td>\n",
       "      <td>0.031913</td>\n",
       "    </tr>\n",
       "    <tr>\n",
       "      <th>std</th>\n",
       "      <td>0.267295</td>\n",
       "      <td>1.542826</td>\n",
       "      <td>0.151175</td>\n",
       "      <td>0.405950</td>\n",
       "      <td>0.126972</td>\n",
       "      <td>8.650195</td>\n",
       "      <td>0.094485</td>\n",
       "      <td>3.821421</td>\n",
       "      <td>5.474224</td>\n",
       "      <td>0.288451</td>\n",
       "      <td>0.034157</td>\n",
       "    </tr>\n",
       "    <tr>\n",
       "      <th>min</th>\n",
       "      <td>0.000000</td>\n",
       "      <td>0.000000</td>\n",
       "      <td>0.000000</td>\n",
       "      <td>0.000000</td>\n",
       "      <td>0.000000</td>\n",
       "      <td>24.590000</td>\n",
       "      <td>0.000000</td>\n",
       "      <td>-13.150000</td>\n",
       "      <td>-23.740000</td>\n",
       "      <td>0.000000</td>\n",
       "      <td>0.000000</td>\n",
       "    </tr>\n",
       "    <tr>\n",
       "      <th>25%</th>\n",
       "      <td>0.000000</td>\n",
       "      <td>0.000000</td>\n",
       "      <td>0.000000</td>\n",
       "      <td>1.000000</td>\n",
       "      <td>0.130000</td>\n",
       "      <td>45.600000</td>\n",
       "      <td>0.000000</td>\n",
       "      <td>-2.665000</td>\n",
       "      <td>-2.875000</td>\n",
       "      <td>0.260200</td>\n",
       "      <td>0.006865</td>\n",
       "    </tr>\n",
       "    <tr>\n",
       "      <th>50%</th>\n",
       "      <td>0.045000</td>\n",
       "      <td>0.000000</td>\n",
       "      <td>0.000000</td>\n",
       "      <td>1.000000</td>\n",
       "      <td>0.220000</td>\n",
       "      <td>56.330000</td>\n",
       "      <td>0.003629</td>\n",
       "      <td>-0.150000</td>\n",
       "      <td>0.710000</td>\n",
       "      <td>0.502250</td>\n",
       "      <td>0.021963</td>\n",
       "    </tr>\n",
       "    <tr>\n",
       "      <th>75%</th>\n",
       "      <td>0.242500</td>\n",
       "      <td>1.700000</td>\n",
       "      <td>0.020000</td>\n",
       "      <td>1.250000</td>\n",
       "      <td>0.290000</td>\n",
       "      <td>60.350000</td>\n",
       "      <td>0.024581</td>\n",
       "      <td>2.430000</td>\n",
       "      <td>3.832500</td>\n",
       "      <td>0.757075</td>\n",
       "      <td>0.044422</td>\n",
       "    </tr>\n",
       "    <tr>\n",
       "      <th>max</th>\n",
       "      <td>1.000000</td>\n",
       "      <td>9.730000</td>\n",
       "      <td>1.000000</td>\n",
       "      <td>3.000000</td>\n",
       "      <td>0.920000</td>\n",
       "      <td>65.710000</td>\n",
       "      <td>0.977416</td>\n",
       "      <td>16.520000</td>\n",
       "      <td>14.060000</td>\n",
       "      <td>1.000000</td>\n",
       "      <td>0.229145</td>\n",
       "    </tr>\n",
       "  </tbody>\n",
       "</table>\n",
       "</div>"
      ],
      "text/plain": [
       "         PropSFHA    AveDepth      PropDG       AveLS    HurTrack    PeakGust  \\\n",
       "count  704.000000  704.000000  704.000000  704.000000  704.000000  704.000000   \n",
       "mean     0.181335    0.960526    0.054560    1.087344    0.220185   52.909418   \n",
       "std      0.267295    1.542826    0.151175    0.405950    0.126972    8.650195   \n",
       "min      0.000000    0.000000    0.000000    0.000000    0.000000   24.590000   \n",
       "25%      0.000000    0.000000    0.000000    1.000000    0.130000   45.600000   \n",
       "50%      0.045000    0.000000    0.000000    1.000000    0.220000   56.330000   \n",
       "75%      0.242500    1.700000    0.020000    1.250000    0.290000   60.350000   \n",
       "max      1.000000    9.730000    1.000000    3.000000    0.920000   65.710000   \n",
       "\n",
       "          SpecCom     STRVI_1      SEVI_1     CDC_Tot     y_train  \n",
       "count  704.000000  704.000000  704.000000  704.000000  704.000000  \n",
       "mean     0.036031    0.003409    0.118509    0.504580    0.031913  \n",
       "std      0.094485    3.821421    5.474224    0.288451    0.034157  \n",
       "min      0.000000  -13.150000  -23.740000    0.000000    0.000000  \n",
       "25%      0.000000   -2.665000   -2.875000    0.260200    0.006865  \n",
       "50%      0.003629   -0.150000    0.710000    0.502250    0.021963  \n",
       "75%      0.024581    2.430000    3.832500    0.757075    0.044422  \n",
       "max      0.977416   16.520000   14.060000    1.000000    0.229145  "
      ]
     },
     "execution_count": 31,
     "metadata": {},
     "output_type": "execute_result"
    }
   ],
   "source": [
    "train_set.describe()"
   ]
  },
  {
   "cell_type": "markdown",
   "metadata": {},
   "source": [
    "# If want to join to grab another Index"
   ]
  },
  {
   "cell_type": "code",
   "execution_count": 29,
   "metadata": {},
   "outputs": [
    {
     "data": {
      "text/plain": [
       "Index(['PropSFHA', 'AveDepth', 'PropDG', 'AveLS', 'HurTrack', 'PeakGust',\n",
       "       'SpecCom', 'STRVI_1', 'SEVI_1', 'CDC_Tot', 'y_train'],\n",
       "      dtype='object')"
      ]
     },
     "execution_count": 29,
     "metadata": {},
     "output_type": "execute_result"
    }
   ],
   "source": [
    "train_set.columns"
   ]
  },
  {
   "cell_type": "code",
   "execution_count": 30,
   "metadata": {},
   "outputs": [
    {
     "data": {
      "text/plain": [
       "Index(['PropSFHA', 'AveDepth', 'PropDG', 'MaxDepth', 'AveLS', 'HurTrack',\n",
       "       'PeakGust', 'MaxSusta', 'SpecCom', 'STRVI_1', 'SEVI_1', 'STR_SEVI_1',\n",
       "       'SOVI_1', 'STRVI_2', 'SEVI_2', 'SOVI_2', 'CDC_T1', 'CDC_T2', 'CDC_T3',\n",
       "       'CDC_T4', 'CDC_Tot', 'O_IND', 'R_IND', 'R_I_NO0', 'R_I_NOO',\n",
       "       'R_I_NO0_NO', 'CAT_3Q', 'CAT_4Q', 'Ex_Q4_c', 'COUNT__Y', 'R_DES',\n",
       "       'R_AFF', 'log_R_IND', 'log_R_I_NO0'],\n",
       "      dtype='object')"
      ]
     },
     "execution_count": 30,
     "metadata": {},
     "output_type": "execute_result"
    }
   ],
   "source": [
    "df_master.columns"
   ]
  },
  {
   "cell_type": "code",
   "execution_count": 31,
   "metadata": {},
   "outputs": [],
   "source": [
    "def new_index(df_master, train_set, test_set, Target, feature_list):\n",
    "    test_set = test_set.merge(df_master, right_index=True, left_index=True, how='left')\n",
    "    train_set=train_set.merge(df_master, right_index=True, left_index=True, how='left')\n",
    "    \n",
    "    target_list=[Target]\n",
    "    test_set = choose_data(test_set, feature_list, target_list)\n",
    "    train_set = choose_data(train_set, feature_list, target_list)\n",
    "    \n",
    "    train_set = train_set[train_set[Target] != 0]\n",
    "    test_set = test_set[test_set[Target] != 0]\n",
    "    \n",
    "    train_set = train_set.rename(columns={\"PropSFHA_y\": \"PropSFHA\", \"AveDepth_y\": \"AveDepth\", \"PropDG_y\":\"PropDG\",\n",
    "                        \"AveLS_y\": \"AveLS\", \"HurTrack_y\": \"HurTrack\", \"PeakGust_y\":\"PeakGust\",\n",
    "                        \"SpecCom_y\": \"SpecCom\", \"STRVI_1_y\": \"STRVI_1\", \"SEVI_1_y\":\"SEVI_1\",\n",
    "                        \"CDC_Tot_y\": \"CDC_Tot\", Target:Target})\n",
    "    test_set = test_set.rename(columns={\"PropSFHA_y\": \"PropSFHA\", \"AveDepth_y\": \"AveDepth\", \"PropDG_y\":\"PropDG\",\n",
    "                        \"AveLS_y\": \"AveLS\", \"HurTrack_y\": \"HurTrack\", \"PeakGust_y\":\"PeakGust\",\n",
    "                        \"SpecCom_y\": \"SpecCom\", \"STRVI_1_y\": \"STRVI_1\", \"SEVI_1_y\":\"SEVI_1\",\n",
    "                        \"CDC_Tot_y\": \"CDC_Tot\", Target:Target})\n",
    "    \n",
    "    return train_set, test_set\n",
    "    "
   ]
  },
  {
   "cell_type": "code",
   "execution_count": 32,
   "metadata": {},
   "outputs": [],
   "source": [
    "Target = 'R_I_NO0'\n",
    "feature_list = ['PropSFHA_y', 'AveDepth_y', 'PropDG_y', 'AveLS_y', 'HurTrack_y',\n",
    "               'PeakGust_y', 'SpecCom_y', 'CDC_Tot_y', \"STRVI_1_y\", \"SEVI_1_y\"]\n",
    "\n",
    "\n",
    "train_set, test_set = new_index(df_master, train_set, test_set, Target, feature_list)"
   ]
  },
  {
   "cell_type": "code",
   "execution_count": 33,
   "metadata": {},
   "outputs": [
    {
     "data": {
      "text/html": [
       "<div>\n",
       "<style scoped>\n",
       "    .dataframe tbody tr th:only-of-type {\n",
       "        vertical-align: middle;\n",
       "    }\n",
       "\n",
       "    .dataframe tbody tr th {\n",
       "        vertical-align: top;\n",
       "    }\n",
       "\n",
       "    .dataframe thead th {\n",
       "        text-align: right;\n",
       "    }\n",
       "</style>\n",
       "<table border=\"1\" class=\"dataframe\">\n",
       "  <thead>\n",
       "    <tr style=\"text-align: right;\">\n",
       "      <th></th>\n",
       "      <th>PropSFHA</th>\n",
       "      <th>AveDepth</th>\n",
       "      <th>PropDG</th>\n",
       "      <th>AveLS</th>\n",
       "      <th>HurTrack</th>\n",
       "      <th>PeakGust</th>\n",
       "      <th>SpecCom</th>\n",
       "      <th>CDC_Tot</th>\n",
       "      <th>STRVI_1</th>\n",
       "      <th>SEVI_1</th>\n",
       "      <th>R_I_NO0</th>\n",
       "    </tr>\n",
       "  </thead>\n",
       "  <tbody>\n",
       "    <tr>\n",
       "      <th>count</th>\n",
       "      <td>624.000000</td>\n",
       "      <td>624.000000</td>\n",
       "      <td>624.000000</td>\n",
       "      <td>624.000000</td>\n",
       "      <td>624.000000</td>\n",
       "      <td>624.000000</td>\n",
       "      <td>624.000000</td>\n",
       "      <td>624.000000</td>\n",
       "      <td>624.000000</td>\n",
       "      <td>624.000000</td>\n",
       "      <td>624.000000</td>\n",
       "    </tr>\n",
       "    <tr>\n",
       "      <th>mean</th>\n",
       "      <td>0.184696</td>\n",
       "      <td>0.977388</td>\n",
       "      <td>0.056154</td>\n",
       "      <td>1.076859</td>\n",
       "      <td>0.216795</td>\n",
       "      <td>53.187644</td>\n",
       "      <td>0.037004</td>\n",
       "      <td>0.500472</td>\n",
       "      <td>0.032244</td>\n",
       "      <td>0.113574</td>\n",
       "      <td>0.036582</td>\n",
       "    </tr>\n",
       "    <tr>\n",
       "      <th>std</th>\n",
       "      <td>0.268901</td>\n",
       "      <td>1.562876</td>\n",
       "      <td>0.154875</td>\n",
       "      <td>0.384925</td>\n",
       "      <td>0.124382</td>\n",
       "      <td>8.631925</td>\n",
       "      <td>0.095976</td>\n",
       "      <td>0.286021</td>\n",
       "      <td>3.834975</td>\n",
       "      <td>5.541893</td>\n",
       "      <td>0.036550</td>\n",
       "    </tr>\n",
       "    <tr>\n",
       "      <th>min</th>\n",
       "      <td>0.000000</td>\n",
       "      <td>0.000000</td>\n",
       "      <td>0.000000</td>\n",
       "      <td>0.000000</td>\n",
       "      <td>0.000000</td>\n",
       "      <td>24.590000</td>\n",
       "      <td>0.000000</td>\n",
       "      <td>0.000000</td>\n",
       "      <td>-11.650000</td>\n",
       "      <td>-23.740000</td>\n",
       "      <td>0.000234</td>\n",
       "    </tr>\n",
       "    <tr>\n",
       "      <th>25%</th>\n",
       "      <td>0.000000</td>\n",
       "      <td>0.000000</td>\n",
       "      <td>0.000000</td>\n",
       "      <td>1.000000</td>\n",
       "      <td>0.130000</td>\n",
       "      <td>46.490000</td>\n",
       "      <td>0.000000</td>\n",
       "      <td>0.259025</td>\n",
       "      <td>-2.682500</td>\n",
       "      <td>-2.787500</td>\n",
       "      <td>0.011958</td>\n",
       "    </tr>\n",
       "    <tr>\n",
       "      <th>50%</th>\n",
       "      <td>0.050000</td>\n",
       "      <td>0.000000</td>\n",
       "      <td>0.000000</td>\n",
       "      <td>1.000000</td>\n",
       "      <td>0.210000</td>\n",
       "      <td>57.220000</td>\n",
       "      <td>0.003767</td>\n",
       "      <td>0.488650</td>\n",
       "      <td>-0.190000</td>\n",
       "      <td>0.740000</td>\n",
       "      <td>0.027084</td>\n",
       "    </tr>\n",
       "    <tr>\n",
       "      <th>75%</th>\n",
       "      <td>0.250000</td>\n",
       "      <td>1.700000</td>\n",
       "      <td>0.020000</td>\n",
       "      <td>1.250000</td>\n",
       "      <td>0.290000</td>\n",
       "      <td>59.900000</td>\n",
       "      <td>0.025027</td>\n",
       "      <td>0.751650</td>\n",
       "      <td>2.437500</td>\n",
       "      <td>3.832500</td>\n",
       "      <td>0.049020</td>\n",
       "    </tr>\n",
       "    <tr>\n",
       "      <th>max</th>\n",
       "      <td>1.000000</td>\n",
       "      <td>9.730000</td>\n",
       "      <td>1.000000</td>\n",
       "      <td>2.170000</td>\n",
       "      <td>0.920000</td>\n",
       "      <td>65.710000</td>\n",
       "      <td>0.977416</td>\n",
       "      <td>0.998900</td>\n",
       "      <td>16.520000</td>\n",
       "      <td>14.060000</td>\n",
       "      <td>0.360825</td>\n",
       "    </tr>\n",
       "  </tbody>\n",
       "</table>\n",
       "</div>"
      ],
      "text/plain": [
       "         PropSFHA    AveDepth      PropDG       AveLS    HurTrack    PeakGust  \\\n",
       "count  624.000000  624.000000  624.000000  624.000000  624.000000  624.000000   \n",
       "mean     0.184696    0.977388    0.056154    1.076859    0.216795   53.187644   \n",
       "std      0.268901    1.562876    0.154875    0.384925    0.124382    8.631925   \n",
       "min      0.000000    0.000000    0.000000    0.000000    0.000000   24.590000   \n",
       "25%      0.000000    0.000000    0.000000    1.000000    0.130000   46.490000   \n",
       "50%      0.050000    0.000000    0.000000    1.000000    0.210000   57.220000   \n",
       "75%      0.250000    1.700000    0.020000    1.250000    0.290000   59.900000   \n",
       "max      1.000000    9.730000    1.000000    2.170000    0.920000   65.710000   \n",
       "\n",
       "          SpecCom     CDC_Tot     STRVI_1      SEVI_1     R_I_NO0  \n",
       "count  624.000000  624.000000  624.000000  624.000000  624.000000  \n",
       "mean     0.037004    0.500472    0.032244    0.113574    0.036582  \n",
       "std      0.095976    0.286021    3.834975    5.541893    0.036550  \n",
       "min      0.000000    0.000000  -11.650000  -23.740000    0.000234  \n",
       "25%      0.000000    0.259025   -2.682500   -2.787500    0.011958  \n",
       "50%      0.003767    0.488650   -0.190000    0.740000    0.027084  \n",
       "75%      0.025027    0.751650    2.437500    3.832500    0.049020  \n",
       "max      0.977416    0.998900   16.520000   14.060000    0.360825  "
      ]
     },
     "execution_count": 33,
     "metadata": {},
     "output_type": "execute_result"
    }
   ],
   "source": [
    "train_set.describe()"
   ]
  },
  {
   "cell_type": "markdown",
   "metadata": {},
   "source": [
    "# Partition Data"
   ]
  },
  {
   "cell_type": "code",
   "execution_count": 34,
   "metadata": {},
   "outputs": [],
   "source": [
    "Target = 'R_I_NO0'\n",
    "target_str = Target\n",
    "y_train, x_train = partition_data(train_set, target_str)\n",
    "\n",
    "Target = 'R_I_NO0'\n",
    "target_str = Target\n",
    "y_test, x_test = partition_data(test_set, target_str)"
   ]
  },
  {
   "cell_type": "code",
   "execution_count": 61,
   "metadata": {},
   "outputs": [
    {
     "data": {
      "text/plain": [
       "count    151.000000\n",
       "mean       0.035957\n",
       "std        0.031779\n",
       "min        0.000820\n",
       "25%        0.012642\n",
       "50%        0.025959\n",
       "75%        0.047600\n",
       "max        0.197384\n",
       "Name: R_I_NO0, dtype: float64"
      ]
     },
     "execution_count": 61,
     "metadata": {},
     "output_type": "execute_result"
    }
   ],
   "source": [
    "y_test.describe()"
   ]
  },
  {
   "cell_type": "markdown",
   "metadata": {},
   "source": [
    "### Step 1: Randomized Search CV"
   ]
  },
  {
   "cell_type": "code",
   "execution_count": 30,
   "metadata": {},
   "outputs": [],
   "source": [
    "def randomized_cv(x_train, y_train, model):\n",
    "    # Number of trees in random forest\n",
    "    n_estimators = [int(x) for x in np.linspace(start = 1000, stop = 2000, num = 10)]\n",
    "    # Number of features to consider at every split\n",
    "    max_features = ['auto', 'sqrt']\n",
    "    # Maximum number of levels in tree\n",
    "    max_depth = [int(x) for x in np.linspace(10, 75, num = 11)]\n",
    "    max_depth.append(None)\n",
    "    # Minimum number of samples required to split a node\n",
    "    min_samples_split = [2, 5, 10]\n",
    "    # Minimum number of samples required at each leaf node\n",
    "    min_samples_leaf = [1, 2, 4]\n",
    "\n",
    "    # Create the random grid\n",
    "    random_grid = {'n_estimators': n_estimators,\n",
    "                   'max_features': max_features,\n",
    "                   'max_depth': max_depth,\n",
    "                   'min_samples_split': min_samples_split,\n",
    "                   'min_samples_leaf': min_samples_leaf}\n",
    "    \n",
    "    # Use the random grid to search for best hyperparameters\n",
    "    # First create the base model to tune\n",
    "    rf = model\n",
    "    # Random search of parameters, using cv = cross validation, \n",
    "    # search across 100 different combinations, and use all available cores\n",
    "    rf_randomized_cv = RandomizedSearchCV(estimator = rf, \n",
    "                                          param_distributions = random_grid, \n",
    "                                          n_iter = 100, \n",
    "                                          cv = 5, \n",
    "                                          verbose=2, \n",
    "                                          random_state=42, \n",
    "                                          n_jobs = -1)\n",
    "    \n",
    "    # Fit the random search model\n",
    "    rf_randomized_cv.fit(x_train, y_train)\n",
    "    \n",
    "    print(rf_randomized_cv.best_params_)\n",
    "    return rf_randomized_cv.best_estimator_\n",
    "    "
   ]
  },
  {
   "cell_type": "code",
   "execution_count": 31,
   "metadata": {},
   "outputs": [
    {
     "name": "stdout",
     "output_type": "stream",
     "text": [
      "Fitting 5 folds for each of 100 candidates, totalling 500 fits\n"
     ]
    },
    {
     "name": "stderr",
     "output_type": "stream",
     "text": [
      "[Parallel(n_jobs=-1)]: Using backend LokyBackend with 8 concurrent workers.\n",
      "[Parallel(n_jobs=-1)]: Done  25 tasks      | elapsed:   27.2s\n",
      "[Parallel(n_jobs=-1)]: Done 146 tasks      | elapsed:  2.1min\n",
      "[Parallel(n_jobs=-1)]: Done 349 tasks      | elapsed:  4.7min\n",
      "[Parallel(n_jobs=-1)]: Done 500 out of 500 | elapsed:  6.6min finished\n"
     ]
    },
    {
     "name": "stdout",
     "output_type": "stream",
     "text": [
      "{'n_estimators': 1666, 'min_samples_split': 2, 'min_samples_leaf': 2, 'max_features': 'sqrt', 'max_depth': 23}\n"
     ]
    }
   ],
   "source": [
    "#EXAMPLE\n",
    "#Random state\n",
    "#CHOOSE IF REGRESSOR OR CLASSIFICATION\n",
    "random_tuned_model = randomized_cv(x_train, y_train, RandomForestRegressor())"
   ]
  },
  {
   "cell_type": "code",
   "execution_count": 32,
   "metadata": {},
   "outputs": [
    {
     "data": {
      "text/plain": [
       "<bound method BaseEstimator.get_params of RandomForestRegressor(bootstrap=True, criterion='mse', max_depth=23,\n",
       "                      max_features='sqrt', max_leaf_nodes=None,\n",
       "                      min_impurity_decrease=0.0, min_impurity_split=None,\n",
       "                      min_samples_leaf=2, min_samples_split=2,\n",
       "                      min_weight_fraction_leaf=0.0, n_estimators=1666,\n",
       "                      n_jobs=None, oob_score=False, random_state=None,\n",
       "                      verbose=0, warm_start=False)>"
      ]
     },
     "execution_count": 32,
     "metadata": {},
     "output_type": "execute_result"
    }
   ],
   "source": [
    "random_tuned_model.get_params"
   ]
  },
  {
   "cell_type": "markdown",
   "metadata": {},
   "source": [
    "### Step 2: Grid Search CV"
   ]
  },
  {
   "cell_type": "code",
   "execution_count": 39,
   "metadata": {},
   "outputs": [],
   "source": [
    "def grid_cv(x_train, y_train, model):\n",
    "    param_grid = {\n",
    "        'max_depth': [15,17,20,23,25,30],\n",
    "        'max_features': [2, 3],\n",
    "        'min_samples_leaf': [1, 2, 3],\n",
    "        'min_samples_split': [2, 3, 4],\n",
    "        'n_estimators':[1500,1750,2000]\n",
    "    }\n",
    "                            \n",
    "                            \n",
    "    # Create a based model\n",
    "    rf = model\n",
    "    # Instantiate the grid search model\n",
    "    grid_search = GridSearchCV(estimator = rf, \n",
    "                               param_grid = param_grid, \n",
    "                               cv = 5, n_jobs = -1, \n",
    "                               verbose = 2)\n",
    "    grid_search.fit(x_train, y_train)\n",
    "    \n",
    "    print(grid_search.best_params_)\n",
    "    print(grid_search.best_score_)\n",
    "    return grid_search.best_estimator_"
   ]
  },
  {
   "cell_type": "code",
   "execution_count": 40,
   "metadata": {},
   "outputs": [
    {
     "name": "stdout",
     "output_type": "stream",
     "text": [
      "Fitting 5 folds for each of 324 candidates, totalling 1620 fits\n"
     ]
    },
    {
     "name": "stderr",
     "output_type": "stream",
     "text": [
      "[Parallel(n_jobs=-1)]: Using backend LokyBackend with 8 concurrent workers.\n",
      "[Parallel(n_jobs=-1)]: Done  25 tasks      | elapsed:   25.6s\n",
      "[Parallel(n_jobs=-1)]: Done 146 tasks      | elapsed:  1.8min\n",
      "[Parallel(n_jobs=-1)]: Done 349 tasks      | elapsed:  4.2min\n",
      "[Parallel(n_jobs=-1)]: Done 632 tasks      | elapsed:  7.3min\n",
      "[Parallel(n_jobs=-1)]: Done 997 tasks      | elapsed: 11.4min\n",
      "[Parallel(n_jobs=-1)]: Done 1442 tasks      | elapsed: 16.1min\n",
      "[Parallel(n_jobs=-1)]: Done 1620 out of 1620 | elapsed: 18.0min finished\n"
     ]
    },
    {
     "name": "stdout",
     "output_type": "stream",
     "text": [
      "{'max_depth': 17, 'max_features': 2, 'min_samples_leaf': 2, 'min_samples_split': 4, 'n_estimators': 1500}\n",
      "0.235976662462\n"
     ]
    }
   ],
   "source": [
    "#Example\n",
    "#CHOOSE IF REGRESSOR OR CLASSIFICATION\n",
    "tuned_model = grid_cv(x_train, y_train, RandomForestRegressor())"
   ]
  },
  {
   "cell_type": "code",
   "execution_count": 41,
   "metadata": {},
   "outputs": [
    {
     "data": {
      "text/plain": [
       "<bound method BaseEstimator.get_params of RandomForestRegressor(bootstrap=True, criterion='mse', max_depth=17,\n",
       "                      max_features=2, max_leaf_nodes=None,\n",
       "                      min_impurity_decrease=0.0, min_impurity_split=None,\n",
       "                      min_samples_leaf=2, min_samples_split=4,\n",
       "                      min_weight_fraction_leaf=0.0, n_estimators=1500,\n",
       "                      n_jobs=None, oob_score=False, random_state=None,\n",
       "                      verbose=0, warm_start=False)>"
      ]
     },
     "execution_count": 41,
     "metadata": {},
     "output_type": "execute_result"
    }
   ],
   "source": [
    "tuned_model.get_params"
   ]
  },
  {
   "cell_type": "markdown",
   "metadata": {},
   "source": [
    "## Intensive CV"
   ]
  },
  {
   "cell_type": "markdown",
   "metadata": {},
   "source": [
    "This uses out of bag data for assessment, maybe can run on entire dataset???"
   ]
  },
  {
   "cell_type": "code",
   "execution_count": 66,
   "metadata": {},
   "outputs": [],
   "source": [
    "def intens_grid_cv(x_train, y_train, model):\n",
    "    param_grid = {\n",
    "        'max_depth': [10,15,20,25,30,40,50,75,100],\n",
    "        'max_features': [1,2,3,4],\n",
    "        'min_samples_leaf': [1,2,3],\n",
    "        'min_samples_split': [2,3,4,5,6],\n",
    "        'n_estimators': [500,1000,1250,1500,1750,2000]\n",
    "    }\n",
    "    # Create a based model\n",
    "    rf = model\n",
    "    # Instantiate the grid search model\n",
    "    grid_search = GridSearchCV(estimator = rf, \n",
    "                               param_grid = param_grid, \n",
    "                               cv = 5, n_jobs = -1, \n",
    "                               verbose = 2)\n",
    "    grid_search.fit(x_train, y_train)\n",
    "    \n",
    "    print(grid_search.best_estimator_)\n",
    "    print(grid_search.best_score_)\n",
    "    return grid_search.best_estimator_, grid_search.best_score_"
   ]
  },
  {
   "cell_type": "code",
   "execution_count": 67,
   "metadata": {},
   "outputs": [
    {
     "name": "stdout",
     "output_type": "stream",
     "text": [
      "Fitting 5 folds for each of 3240 candidates, totalling 16200 fits\n"
     ]
    },
    {
     "name": "stderr",
     "output_type": "stream",
     "text": [
      "[Parallel(n_jobs=-1)]: Using backend LokyBackend with 8 concurrent workers.\n",
      "[Parallel(n_jobs=-1)]: Done  25 tasks      | elapsed:    9.0s\n",
      "[Parallel(n_jobs=-1)]: Done 146 tasks      | elapsed:   40.6s\n",
      "[Parallel(n_jobs=-1)]: Done 349 tasks      | elapsed:  1.6min\n",
      "[Parallel(n_jobs=-1)]: Done 632 tasks      | elapsed:  3.0min\n",
      "[Parallel(n_jobs=-1)]: Done 997 tasks      | elapsed:  4.9min\n",
      "[Parallel(n_jobs=-1)]: Done 1442 tasks      | elapsed:  7.5min\n",
      "[Parallel(n_jobs=-1)]: Done 1969 tasks      | elapsed: 10.7min\n",
      "[Parallel(n_jobs=-1)]: Done 2576 tasks      | elapsed: 13.8min\n",
      "[Parallel(n_jobs=-1)]: Done 3265 tasks      | elapsed: 18.1min\n",
      "[Parallel(n_jobs=-1)]: Done 4034 tasks      | elapsed: 23.0min\n",
      "[Parallel(n_jobs=-1)]: Done 4885 tasks      | elapsed: 28.9min\n",
      "[Parallel(n_jobs=-1)]: Done 5816 tasks      | elapsed: 35.0min\n",
      "[Parallel(n_jobs=-1)]: Done 6829 tasks      | elapsed: 41.7min\n",
      "[Parallel(n_jobs=-1)]: Done 7922 tasks      | elapsed: 48.6min\n",
      "[Parallel(n_jobs=-1)]: Done 9097 tasks      | elapsed: 56.7min\n",
      "[Parallel(n_jobs=-1)]: Done 10352 tasks      | elapsed: 64.4min\n",
      "[Parallel(n_jobs=-1)]: Done 11689 tasks      | elapsed: 72.9min\n",
      "[Parallel(n_jobs=-1)]: Done 13106 tasks      | elapsed: 82.3min\n",
      "[Parallel(n_jobs=-1)]: Done 14605 tasks      | elapsed: 92.3min\n",
      "[Parallel(n_jobs=-1)]: Done 16184 tasks      | elapsed: 102.5min\n",
      "[Parallel(n_jobs=-1)]: Done 16200 out of 16200 | elapsed: 102.6min finished\n",
      "/Users/lszczyrba/Library/Python/3.6/lib/python/site-packages/sklearn/model_selection/_search.py:814: DeprecationWarning: The default of the `iid` parameter will change from True to False in version 0.22 and will be removed in 0.24. This will change numeric results when test-set sizes are unequal.\n",
      "  DeprecationWarning)\n"
     ]
    },
    {
     "name": "stdout",
     "output_type": "stream",
     "text": [
      "RandomForestRegressor(bootstrap=True, criterion='mse', max_depth=30,\n",
      "                      max_features=1, max_leaf_nodes=None,\n",
      "                      min_impurity_decrease=0.0, min_impurity_split=None,\n",
      "                      min_samples_leaf=2, min_samples_split=4,\n",
      "                      min_weight_fraction_leaf=0.0, n_estimators=500,\n",
      "                      n_jobs=None, oob_score=False, random_state=None,\n",
      "                      verbose=0, warm_start=False)\n",
      "0.122799128782\n"
     ]
    },
    {
     "data": {
      "text/plain": [
       "<bound method RegressorMixin.score of RandomForestRegressor(bootstrap=True, criterion='mse', max_depth=30,\n",
       "                      max_features=1, max_leaf_nodes=None,\n",
       "                      min_impurity_decrease=0.0, min_impurity_split=None,\n",
       "                      min_samples_leaf=2, min_samples_split=4,\n",
       "                      min_weight_fraction_leaf=0.0, n_estimators=500,\n",
       "                      n_jobs=None, oob_score=False, random_state=None,\n",
       "                      verbose=0, warm_start=False)>"
      ]
     },
     "execution_count": 67,
     "metadata": {},
     "output_type": "execute_result"
    }
   ],
   "source": [
    "#Example\n",
    "#CHOOSE IF REGRESSOR OR CLASSIFICATION\n",
    "tuned_model,score = intens_grid_cv(x_train, y_train, RandomForestRegressor())\n",
    "tuned_model.score"
   ]
  },
  {
   "cell_type": "markdown",
   "metadata": {},
   "source": [
    "# Save Optimization"
   ]
  },
  {
   "cell_type": "markdown",
   "metadata": {},
   "source": [
    "Notes --  \\\n",
    "Version: R_Ind , Score: 0.61, 0.21"
   ]
  },
  {
   "cell_type": "code",
   "execution_count": 41,
   "metadata": {},
   "outputs": [
    {
     "name": "stdout",
     "output_type": "stream",
     "text": [
      "0.266165458116\n",
      "0.576052287784\n"
     ]
    }
   ],
   "source": [
    "tune_reg_1 = RandomForestRegressor(bootstrap=True, criterion='mse', max_depth=100,\n",
    "           max_features=2, max_leaf_nodes=None, min_impurity_decrease=0.0,\n",
    "           min_impurity_split=None, min_samples_leaf=4,\n",
    "           min_samples_split=5, min_weight_fraction_leaf=0.0,\n",
    "           n_estimators=1000, n_jobs=1, oob_score=False, random_state=None,\n",
    "           verbose=0, warm_start=False)\n",
    "OPT1 = tune_reg_1.fit(x_train, y_train)\n",
    "print(OPT1.score(x_test, y_test))\n",
    "print(OPT1.score(x_train, y_train))"
   ]
  },
  {
   "cell_type": "markdown",
   "metadata": {},
   "source": [
    "Notes --  \\\n",
    "Version: R_Ind , Score: 0.90, 0.22"
   ]
  },
  {
   "cell_type": "code",
   "execution_count": 42,
   "metadata": {},
   "outputs": [
    {
     "name": "stdout",
     "output_type": "stream",
     "text": [
      "0.268670015976\n",
      "0.88946377015\n"
     ]
    }
   ],
   "source": [
    "tune_reg_2 = RandomForestRegressor(bootstrap=True, criterion='mse', max_depth=17,\n",
    "                      max_features=1, max_leaf_nodes=None,\n",
    "                      min_impurity_decrease=0.0, min_impurity_split=None,\n",
    "                      min_samples_leaf=1, min_samples_split=2,\n",
    "                      min_weight_fraction_leaf=0.0, n_estimators=1000,\n",
    "                      n_jobs=None, oob_score=False, random_state=None,\n",
    "                      verbose=0, warm_start=False)\n",
    "OPT2=tune_reg_2.fit(x_train, y_train)\n",
    "print(OPT2.score(x_test, y_test))\n",
    "print(OPT2.score(x_train, y_train))"
   ]
  },
  {
   "cell_type": "markdown",
   "metadata": {},
   "source": [
    "Notes --  \\\n",
    "Version: R_Ind , Score: 0.88, 0.22"
   ]
  },
  {
   "cell_type": "code",
   "execution_count": 43,
   "metadata": {},
   "outputs": [
    {
     "name": "stdout",
     "output_type": "stream",
     "text": [
      "0.263946369552\n",
      "0.886351455003\n"
     ]
    }
   ],
   "source": [
    "tune_reg_3=RandomForestRegressor(bootstrap=True, criterion='mse', max_depth=15,\n",
    "           max_features=2, max_leaf_nodes=None, min_impurity_decrease=0.0,\n",
    "           min_impurity_split=None, min_samples_leaf=1,\n",
    "           min_samples_split=2, min_weight_fraction_leaf=0.0,\n",
    "           n_estimators=1500, n_jobs=1, oob_score=False, random_state=42,\n",
    "           verbose=0, warm_start=False)\n",
    "OPT3=tune_reg_3.fit(x_train, y_train)\n",
    "print(OPT3.score(x_test, y_test))\n",
    "print(OPT3.score(x_train, y_train))"
   ]
  },
  {
   "cell_type": "code",
   "execution_count": 44,
   "metadata": {},
   "outputs": [
    {
     "name": "stdout",
     "output_type": "stream",
     "text": [
      "0.259315699985\n",
      "0.894386396033\n"
     ]
    }
   ],
   "source": [
    "tune_reg_3A=RandomForestRegressor(bootstrap=True, criterion='mse', max_depth=20,\n",
    "           max_features=2, max_leaf_nodes=None, min_impurity_decrease=0.0,\n",
    "           min_impurity_split=None, min_samples_leaf=1,\n",
    "           min_samples_split=2, min_weight_fraction_leaf=0.0,\n",
    "           n_estimators=2000, n_jobs=1, oob_score=False, random_state=42,\n",
    "           verbose=0, warm_start=False)\n",
    "OPT3A=tune_reg_3A.fit(x_train, y_train)\n",
    "print(OPT3A.score(x_test, y_test))\n",
    "print(OPT3A.score(x_train, y_train))"
   ]
  },
  {
   "cell_type": "code",
   "execution_count": 45,
   "metadata": {},
   "outputs": [
    {
     "name": "stdout",
     "output_type": "stream",
     "text": [
      "0.258001301865\n",
      "0.739863435765\n"
     ]
    }
   ],
   "source": [
    "tune_reg_3AA=RandomForestRegressor(bootstrap=True, criterion='mse', max_depth=13,\n",
    "           max_features=2, max_leaf_nodes=None, min_impurity_decrease=0.0,\n",
    "           min_impurity_split=None, min_samples_leaf=2,\n",
    "           min_samples_split=4, min_weight_fraction_leaf=0.0,\n",
    "           n_estimators=500, n_jobs=1, oob_score=False, random_state=42,\n",
    "           verbose=0, warm_start=False)\n",
    "OPT3AA=tune_reg_3AA.fit(x_train, y_train)\n",
    "print(OPT3AA.score(x_test, y_test))\n",
    "print(OPT3AA.score(x_train, y_train))"
   ]
  },
  {
   "cell_type": "code",
   "execution_count": 46,
   "metadata": {},
   "outputs": [
    {
     "name": "stdout",
     "output_type": "stream",
     "text": [
      "0.235721598564\n",
      "0.888201811479\n"
     ]
    }
   ],
   "source": [
    "tune_reg_3B=RandomForestRegressor(bootstrap=True, criterion='mse', max_depth=21,\n",
    "           max_features=8, max_leaf_nodes=None, min_impurity_decrease=0.0,\n",
    "           min_impurity_split=None, min_samples_leaf=1,\n",
    "           min_samples_split=2, min_weight_fraction_leaf=0.0,\n",
    "           n_estimators=2300, n_jobs=1, oob_score=False, random_state=42,\n",
    "           verbose=0, warm_start=False)\n",
    "OPT3B=tune_reg_3B.fit(x_train, y_train)\n",
    "print(OPT3B.score(x_test, y_test))\n",
    "print(OPT3B.score(x_train, y_train))"
   ]
  },
  {
   "cell_type": "markdown",
   "metadata": {},
   "source": [
    "Notes --  \\\n",
    "Version: log_R_I_NO0, Score: 0.85, 0.23"
   ]
  },
  {
   "cell_type": "code",
   "execution_count": 47,
   "metadata": {},
   "outputs": [
    {
     "name": "stdout",
     "output_type": "stream",
     "text": [
      "0.238320215344\n",
      "0.889562427072\n"
     ]
    }
   ],
   "source": [
    "tune_reg_3BB=RandomForestRegressor(bootstrap=True, criterion='mse', max_depth=19,\n",
    "           max_features=6, max_leaf_nodes=None, min_impurity_decrease=0.0,\n",
    "           min_impurity_split=None, min_samples_leaf=1,\n",
    "           min_samples_split=2, min_weight_fraction_leaf=0.0,\n",
    "           n_estimators=500, n_jobs=1, oob_score=False, random_state=42,\n",
    "           verbose=0, warm_start=False)\n",
    "OPT3BB=tune_reg_3BB.fit(x_train, y_train)\n",
    "print(OPT3BB.score(x_test, y_test))\n",
    "print(OPT3BB.score(x_train, y_train))"
   ]
  },
  {
   "cell_type": "code",
   "execution_count": 48,
   "metadata": {},
   "outputs": [
    {
     "name": "stdout",
     "output_type": "stream",
     "text": [
      "0.259537590534\n",
      "0.829494717239\n"
     ]
    }
   ],
   "source": [
    "tune_reg_4 = RandomForestRegressor(bootstrap=True, criterion='mse', max_depth=20,\n",
    "                      max_features=2, max_leaf_nodes=None,\n",
    "                      min_impurity_decrease=0.0, min_impurity_split=None,\n",
    "                      min_samples_leaf=1, min_samples_split=4,\n",
    "                      min_weight_fraction_leaf=0.0, n_estimators=1750,\n",
    "                      n_jobs=None, oob_score=False, random_state=42,\n",
    "                      verbose=0, warm_start=False)\n",
    "OPT4=tune_reg_4.fit(x_train, y_train)\n",
    "print(OPT4.score(x_test, y_test))\n",
    "print(OPT4.score(x_train, y_train))"
   ]
  },
  {
   "cell_type": "markdown",
   "metadata": {},
   "source": [
    "Using R_IND and tuning based on entire dataset"
   ]
  },
  {
   "cell_type": "code",
   "execution_count": 49,
   "metadata": {},
   "outputs": [
    {
     "name": "stdout",
     "output_type": "stream",
     "text": [
      "0.254299359275\n",
      "0.68621789334\n"
     ]
    }
   ],
   "source": [
    "tune_reg_5 = RandomForestRegressor(bootstrap=True, criterion='mse', max_depth=30,\n",
    "                      max_features=1, max_leaf_nodes=None,\n",
    "                      min_impurity_decrease=0.0, min_impurity_split=None,\n",
    "                      min_samples_leaf=2, min_samples_split=4,\n",
    "                      min_weight_fraction_leaf=0.0, n_estimators=500,\n",
    "                      n_jobs=None, oob_score=False, random_state=None,\n",
    "                      verbose=0, warm_start=False)\n",
    "OPT5=tune_reg_5.fit(x_train, y_train)\n",
    "print(OPT5.score(x_test, y_test))\n",
    "print(OPT5.score(x_train, y_train))"
   ]
  },
  {
   "cell_type": "markdown",
   "metadata": {},
   "source": [
    "Using R_IND_No0 and ideal train/test sets"
   ]
  },
  {
   "cell_type": "code",
   "execution_count": 50,
   "metadata": {},
   "outputs": [
    {
     "name": "stdout",
     "output_type": "stream",
     "text": [
      "0.257133449935\n",
      "0.749171800011\n"
     ]
    }
   ],
   "source": [
    "tune_reg_6 = RandomForestRegressor(bootstrap=True, criterion='mse', max_depth=250,\n",
    "                      max_features=2, max_leaf_nodes=None,\n",
    "                      min_impurity_decrease=0.0, min_impurity_split=None,\n",
    "                      min_samples_leaf=2, min_samples_split=2,\n",
    "                      min_weight_fraction_leaf=0.0, n_estimators=1000,\n",
    "                      n_jobs=None, oob_score=False, random_state=None,\n",
    "                      verbose=0, warm_start=False)\n",
    "OPT6=tune_reg_6.fit(x_train, y_train)\n",
    "print(OPT6.score(x_test, y_test))\n",
    "print(OPT6.score(x_train, y_train))"
   ]
  },
  {
   "cell_type": "markdown",
   "metadata": {},
   "source": [
    "Using R_IND_No0 and ideal train/test sets"
   ]
  },
  {
   "cell_type": "code",
   "execution_count": 51,
   "metadata": {},
   "outputs": [
    {
     "name": "stdout",
     "output_type": "stream",
     "text": [
      "0.264979975117\n",
      "0.687269722541\n"
     ]
    }
   ],
   "source": [
    "tune_reg_7 = RandomForestRegressor(bootstrap=True, criterion='mse', max_depth=30,\n",
    "                      max_features=1, max_leaf_nodes=None,\n",
    "                      min_impurity_decrease=0.0, min_impurity_split=None,\n",
    "                      min_samples_leaf=2, min_samples_split=4,\n",
    "                      min_weight_fraction_leaf=0.0, n_estimators=500,\n",
    "                      n_jobs=None, oob_score=False, random_state=None,\n",
    "                      verbose=0, warm_start=False)\n",
    "OPT7=tune_reg_7.fit(x_train, y_train)\n",
    "print(OPT7.score(x_test, y_test))\n",
    "print(OPT7.score(x_train, y_train))"
   ]
  },
  {
   "cell_type": "markdown",
   "metadata": {},
   "source": [
    "Using R_IND_No0 and ideal train/test sets"
   ]
  },
  {
   "cell_type": "code",
   "execution_count": 52,
   "metadata": {},
   "outputs": [
    {
     "name": "stdout",
     "output_type": "stream",
     "text": [
      "0.255824922295\n",
      "0.895379323164\n"
     ]
    }
   ],
   "source": [
    "tune_reg_8=RandomForestRegressor(bootstrap=True, criterion='mse', max_depth=30,\n",
    "           max_features=2, max_leaf_nodes=None, min_impurity_decrease=0.0,\n",
    "           min_impurity_split=None, min_samples_leaf=1,\n",
    "           min_samples_split=2, min_weight_fraction_leaf=0.0,\n",
    "           n_estimators=540, n_jobs=1, oob_score=False,\n",
    "           verbose=0, warm_start=False, random_state=42)\n",
    "OPT8=tune_reg_8.fit(x_train, y_train)\n",
    "print(OPT8.score(x_test, y_test))\n",
    "print(OPT8.score(x_train, y_train))"
   ]
  },
  {
   "cell_type": "code",
   "execution_count": 53,
   "metadata": {},
   "outputs": [
    {
     "name": "stdout",
     "output_type": "stream",
     "text": [
      "0.253987670929\n",
      "0.895757301678\n"
     ]
    }
   ],
   "source": [
    "tune_reg_8A=RandomForestRegressor(bootstrap=True, criterion='mse', max_depth=30,\n",
    "           max_features=2, max_leaf_nodes=None, min_impurity_decrease=0.0,\n",
    "           min_impurity_split=None, min_samples_leaf=1,\n",
    "           min_samples_split=2, min_weight_fraction_leaf=0.0,\n",
    "           n_estimators=530, n_jobs=1, oob_score=False,\n",
    "           verbose=0, warm_start=False, random_state=42)\n",
    "OPT8A=tune_reg_8A.fit(x_train, y_train)\n",
    "print(OPT8A.score(x_test, y_test))\n",
    "print(OPT8A.score(x_train, y_train))"
   ]
  },
  {
   "cell_type": "markdown",
   "metadata": {},
   "source": [
    "Using log R_IND_No0 and ideal train/test sets"
   ]
  },
  {
   "cell_type": "code",
   "execution_count": 54,
   "metadata": {},
   "outputs": [
    {
     "name": "stdout",
     "output_type": "stream",
     "text": [
      "0.257007220735\n",
      "0.895128460721\n"
     ]
    }
   ],
   "source": [
    "tune_reg_9=RandomForestRegressor(bootstrap=True, criterion='mse', max_depth=30,\n",
    "           max_features=1, max_leaf_nodes=None, min_impurity_decrease=0.0,\n",
    "           min_impurity_split=None, min_samples_leaf=1,\n",
    "           min_samples_split=2, min_weight_fraction_leaf=0.0,\n",
    "           n_estimators=2200, n_jobs=1, oob_score=False, random_state=42,\n",
    "           verbose=0, warm_start=False)\n",
    "OPT9=tune_reg_9.fit(x_train, y_train)\n",
    "print(OPT9.score(x_test, y_test))\n",
    "print(OPT9.score(x_train, y_train))"
   ]
  },
  {
   "cell_type": "code",
   "execution_count": 55,
   "metadata": {},
   "outputs": [
    {
     "name": "stdout",
     "output_type": "stream",
     "text": [
      "0.256806950752\n",
      "0.895137182127\n"
     ]
    }
   ],
   "source": [
    "tune_reg_9A=RandomForestRegressor(bootstrap=True, criterion='mse', max_depth=29,\n",
    "           max_features=1, max_leaf_nodes=None, min_impurity_decrease=0.0,\n",
    "           min_impurity_split=None, min_samples_leaf=1,\n",
    "           min_samples_split=2, min_weight_fraction_leaf=0.0,\n",
    "           n_estimators=2200, n_jobs=1, oob_score=False, random_state=42,\n",
    "           verbose=0, warm_start=False)\n",
    "OPT9A=tune_reg_9A.fit(x_train, y_train)\n",
    "print(OPT9A.score(x_test, y_test))\n",
    "print(OPT9A.score(x_train, y_train))"
   ]
  },
  {
   "cell_type": "code",
   "execution_count": 56,
   "metadata": {},
   "outputs": [
    {
     "name": "stdout",
     "output_type": "stream",
     "text": [
      "0.250563334338\n",
      "0.8947106555\n"
     ]
    }
   ],
   "source": [
    "tune_reg_10=RandomForestRegressor(bootstrap=True, criterion='mse', max_depth=28,\n",
    "           max_features=1, max_leaf_nodes=None, min_impurity_decrease=0.0,\n",
    "           min_impurity_split=None, min_samples_leaf=1,\n",
    "           min_samples_split=2, min_weight_fraction_leaf=0.0,\n",
    "           n_estimators=750, n_jobs=1, oob_score=False, random_state=42,\n",
    "           verbose=0, warm_start=False)\n",
    "OPT10=tune_reg_10.fit(x_train, y_train)\n",
    "print(OPT10.score(x_test, y_test))\n",
    "print(OPT10.score(x_train, y_train))"
   ]
  },
  {
   "cell_type": "markdown",
   "metadata": {},
   "source": [
    "# <span style=\"color:STEELBLUE\">**Run Models**</span>"
   ]
  },
  {
   "cell_type": "markdown",
   "metadata": {},
   "source": [
    "### Tuned Model"
   ]
  },
  {
   "cell_type": "code",
   "execution_count": 260,
   "metadata": {},
   "outputs": [],
   "source": [
    "# def run_tuned_model(x_train,y_train):\n",
    "#     tuned_model.fit(x_train, y_train)\n",
    "#     return tuned_model"
   ]
  },
  {
   "cell_type": "code",
   "execution_count": 261,
   "metadata": {},
   "outputs": [],
   "source": [
    "# hypertune_model = run_tuned_model(x_train, y_train)"
   ]
  },
  {
   "cell_type": "markdown",
   "metadata": {},
   "source": [
    "----------------"
   ]
  },
  {
   "cell_type": "markdown",
   "metadata": {},
   "source": [
    "### Standard Regression Model"
   ]
  },
  {
   "cell_type": "code",
   "execution_count": 262,
   "metadata": {},
   "outputs": [],
   "source": [
    "# def run_regression(x_train, y_train):\n",
    "#     reg_model = RandomForestRegressor(bootstrap=True, criterion='mse', max_depth=100,\n",
    "#            max_features=2, max_leaf_nodes=None, min_impurity_decrease=0.0,\n",
    "#            min_impurity_split=None, min_samples_leaf=4,\n",
    "#            min_samples_split=5, min_weight_fraction_leaf=0.0,\n",
    "#            n_estimators=1000, n_jobs=1, oob_score=True, random_state=None,\n",
    "#            verbose=0, warm_start=False) \n",
    "#     reg_model.fit(x_train, y_train)\n",
    "#     return reg_model"
   ]
  },
  {
   "cell_type": "code",
   "execution_count": 263,
   "metadata": {},
   "outputs": [],
   "source": [
    "# # EXAMPLE\n",
    "# # Careful of Random State\n",
    "# reg_model = run_regression(x_train, y_train)"
   ]
  },
  {
   "cell_type": "markdown",
   "metadata": {},
   "source": [
    "----------------"
   ]
  },
  {
   "cell_type": "markdown",
   "metadata": {},
   "source": [
    "# <span style=\"color:STEELBLUE\">**Evaluate Models**</span>"
   ]
  },
  {
   "cell_type": "markdown",
   "metadata": {},
   "source": [
    "### Make Predictions"
   ]
  },
  {
   "cell_type": "code",
   "execution_count": 57,
   "metadata": {},
   "outputs": [],
   "source": [
    "def prediction(model, x_train, x_test):\n",
    "    pred_train = model.predict(x_train)\n",
    "    pred_test = model.predict(x_test)   \n",
    "    return pred_train, pred_test"
   ]
  },
  {
   "cell_type": "code",
   "execution_count": 58,
   "metadata": {},
   "outputs": [],
   "source": [
    "# EXAMPLE\n",
    "#CHOOSE MODEL\n",
    "pred_train, pred_test = prediction(OPT2, x_train, x_test)"
   ]
  },
  {
   "cell_type": "markdown",
   "metadata": {},
   "source": [
    "### If Log Target "
   ]
  },
  {
   "cell_type": "code",
   "execution_count": 266,
   "metadata": {},
   "outputs": [],
   "source": [
    "pred_train_inv_log = np.exp(pred_train)\n",
    "pred_test_inv_log = np.exp(pred_test)\n",
    "y_train_inv_log = np.exp(y_train)\n",
    "y_test_inv_log = np.exp(y_test)"
   ]
  },
  {
   "cell_type": "markdown",
   "metadata": {},
   "source": [
    "### Evaluate Regression"
   ]
  },
  {
   "cell_type": "code",
   "execution_count": 31,
   "metadata": {},
   "outputs": [],
   "source": [
    "# error should be true - predicted"
   ]
  },
  {
   "cell_type": "code",
   "execution_count": 59,
   "metadata": {},
   "outputs": [],
   "source": [
    "def evaluate_regression(pred_train, pred_test, y_train, y_test):\n",
    "    r_train = r2_score(y_train, pred_train)\n",
    "    print('The training r-squared score is {}'.format(r_train))\n",
    "    r_test = r2_score(y_test, pred_test)\n",
    "    print('The testing r-squared score is {}'.format(r_test))\n",
    "    meanabserrors_train = np.mean(abs(pred_train - y_train))\n",
    "    print('The training mean absolute error is {}'.format(meanabserrors_train))\n",
    "    meanabserrors_test = np.mean(abs(pred_test - y_test))\n",
    "    print('The testing mean absolute error is {}'.format(meanabserrors_test))\n",
    "    rmse = math.sqrt(mean_squared_error(y_test, pred_test))\n",
    "    print('The root mean square error is {}'.format(rmse))\n",
    "    mse = mean_squared_error(y_test, pred_test)\n",
    "    print('The mean square error is {}'.format(mse))\n",
    "    errors = y_test - pred_test\n",
    "    errors2 = y_train - pred_train\n",
    "#true - predicted\n",
    "    meanerror = np.mean(errors)\n",
    "    trainmeanerror = np.mean(errors2)\n",
    "    print('The testing mean error is {}'.format(meanerror))\n",
    "    print('The training mean error is {}'.format(trainmeanerror))\n",
    "    return errors"
   ]
  },
  {
   "cell_type": "code",
   "execution_count": 60,
   "metadata": {},
   "outputs": [
    {
     "name": "stdout",
     "output_type": "stream",
     "text": [
      "The training r-squared score is 0.8894637701498175\n",
      "The testing r-squared score is 0.2686700159757476\n",
      "The training mean absolute error is 0.00802489986079907\n",
      "The testing mean absolute error is 0.01972606967445339\n",
      "The root mean square error is 0.027086544629718184\n",
      "The mean square error is 0.0007336808999777151\n",
      "The testing mean error is -0.0015081173232758174\n",
      "The training mean error is 5.114713129418535e-05\n"
     ]
    }
   ],
   "source": [
    "# EXAMPLE\n",
    "errors = evaluate_regression(pred_train, pred_test, y_train, y_test)"
   ]
  },
  {
   "cell_type": "code",
   "execution_count": 87,
   "metadata": {},
   "outputs": [],
   "source": [
    "train_errors = pred_train - y_train\n",
    "test_errors = pred_test - y_test"
   ]
  },
  {
   "cell_type": "code",
   "execution_count": 88,
   "metadata": {},
   "outputs": [
    {
     "data": {
      "text/plain": [
       "0.00037459698954517132"
      ]
     },
     "execution_count": 88,
     "metadata": {},
     "output_type": "execute_result"
    }
   ],
   "source": [
    "np.mean(train_errors)"
   ]
  },
  {
   "cell_type": "code",
   "execution_count": 474,
   "metadata": {},
   "outputs": [
    {
     "data": {
      "image/png": "[encoded data removed]",
      "text/plain": [
       "<Figure size 432x288 with 2 Axes>"
      ]
     },
     "metadata": {},
     "output_type": "display_data"
    },
    {
     "data": {
      "text/plain": [
       "<matplotlib.axes._subplots.AxesSubplot at 0x10e89e9b0>"
      ]
     },
     "execution_count": 474,
     "metadata": {},
     "output_type": "execute_result"
    }
   ],
   "source": [
    "residuals = ResidualsPlot(OPT8)\n",
    "residuals.fit(x_train, y_train)\n",
    "residuals.score(x_test, y_test)\n",
    "residuals.show()"
   ]
  },
  {
   "cell_type": "code",
   "execution_count": 475,
   "metadata": {},
   "outputs": [],
   "source": [
    "def analyze_errors(errors):\n",
    "    error_range =  max(errors) - min(errors)\n",
    "    print('The error range is {}'.format(error_range))\n",
    "    error_max = max(errors)\n",
    "    print('The error max is {}'.format(error_max))\n",
    "    error_min = min(errors)\n",
    "    print('The error min is {}'.format(error_min))\n",
    "    "
   ]
  },
  {
   "cell_type": "code",
   "execution_count": 476,
   "metadata": {},
   "outputs": [
    {
     "name": "stdout",
     "output_type": "stream",
     "text": [
      "The error range is 0.20049933535935655\n",
      "The error max is 0.053681515902058455\n",
      "The error min is -0.14681781945729808\n"
     ]
    }
   ],
   "source": [
    "# EXAMPLE\n",
    "analyze_errors(errors)"
   ]
  },
  {
   "cell_type": "code",
   "execution_count": 477,
   "metadata": {},
   "outputs": [],
   "source": [
    "def plot_errors(errors):\n",
    "    plt.hist(errors, 30, histtype='bar', ec='white', color='maroon')\n",
    "    plt.xlabel('Error')\n",
    "    plt.ylabel('Count')\n",
    "    plt.title('Histogram of Model Error')\n",
    "    plt.grid(True)\n",
    "    plt.show()\n"
   ]
  },
  {
   "cell_type": "code",
   "execution_count": 478,
   "metadata": {},
   "outputs": [
    {
     "data": {
      "image/png": "[encoded data removed]",
      "text/plain": [
       "<Figure size 432x288 with 1 Axes>"
      ]
     },
     "metadata": {},
     "output_type": "display_data"
    }
   ],
   "source": [
    "# EXAMPLE\n",
    "plot_errors(errors)"
   ]
  },
  {
   "cell_type": "code",
   "execution_count": 89,
   "metadata": {},
   "outputs": [],
   "source": [
    "def plot_predictions(y_test, pred, Title):\n",
    "    df_predictions = pd.DataFrame(y_test)\n",
    "    df_predictions['Pred'] = pred\n",
    "    X = df_predictions.iloc[:, 0].values.reshape(-1, 1)\n",
    "    Y = df_predictions.iloc[:, 1].values.reshape(-1, 1)\n",
    "    fig, ax = plt.subplots()\n",
    "    \n",
    "    ax.scatter(X, Y, color='maroon', label = Title)\n",
    "    plt.legend(fontsize=15)\n",
    "    \n",
    "    line = mlines.Line2D([0, 1], [0, 1], color='orange')\n",
    "    transform = ax.transAxes\n",
    "    line.set_transform(transform)\n",
    "    ax.add_line(line)\n",
    "    \n",
    "    ax.set_xlabel(ax.get_xlabel(), fontsize = 18)\n",
    "    ax.set_ylabel(ax.get_ylabel(), fontsize = 18)\n",
    "    ax.tick_params(axis='both', which='major', labelsize=15)\n",
    "    plt.grid(False)\n",
    "    plt.xlabel(\"True Damage Index\")\n",
    "    plt.ylabel(\"Predicted Damage Index\")\n",
    "    plt.xlim(0,0.4)\n",
    "    plt.ylim(0,0.4)\n",
    "    #plt.title('Model Evaluation -' +  Title, fontsize = 20)\n",
    "    #plt.savefig('eval_RF_DI1_ISCRAM.png', dpi=600, bbox_inches = \"tight\")\n",
    "    plt.show()"
   ]
  },
  {
   "cell_type": "code",
   "execution_count": 90,
   "metadata": {},
   "outputs": [
    {
     "data": {
      "image/png": "[encoded data removed]",
      "text/plain": [
       "<Figure size 432x288 with 1 Axes>"
      ]
     },
     "metadata": {},
     "output_type": "display_data"
    }
   ],
   "source": [
    "# EXAMPLE\n",
    "plt.rcParams[\"figure.figsize\"] = (6,4)\n",
    "Title = 'RF - Evaluation Data'\n",
    "plot_predictions(y_test, pred_test, Title)"
   ]
  },
  {
   "cell_type": "code",
   "execution_count": 67,
   "metadata": {},
   "outputs": [
    {
     "data": {
      "image/png": "[encoded data removed]",
      "text/plain": [
       "<Figure size 432x288 with 1 Axes>"
      ]
     },
     "metadata": {},
     "output_type": "display_data"
    }
   ],
   "source": [
    "Title = 'RF - Training Data'\n",
    "plot_predictions(y_train, pred_train, Title)"
   ]
  },
  {
   "cell_type": "code",
   "execution_count": 482,
   "metadata": {},
   "outputs": [],
   "source": [
    "def plot_joint_predictions(y_train, pred_train, y_test, pred_test, Title):\n",
    "    df_predictions_test = pd.DataFrame(y_test)\n",
    "    df_predictions_test['Pred'] = pred_test\n",
    "    df_predictions_train = pd.DataFrame(y_train)\n",
    "    df_predictions_train['Pred'] = pred_train   \n",
    "    X1 = df_predictions_test.iloc[:, 0].values.reshape(-1, 1)\n",
    "    Y1 = df_predictions_test.iloc[:, 1].values.reshape(-1, 1)\n",
    "    X2 = df_predictions_train.iloc[:, 0].values.reshape(-1, 1)\n",
    "    Y2 = df_predictions_train.iloc[:, 1].values.reshape(-1, 1)\n",
    "    \n",
    "    fig, ax = plt.subplots()\n",
    "    ax.scatter(X2, Y2, color='maroon', label='Training')\n",
    "    ax.scatter(X1, Y1, color='orange', label='Evaluation')\n",
    "    \n",
    "    line = mlines.Line2D([0, 1], [0, 1], color='grey')\n",
    "    transform = ax.transAxes\n",
    "    line.set_transform(transform)\n",
    "    ax.add_line(line)\n",
    "    ax.set_xlabel(ax.get_xlabel(), fontsize = 18)\n",
    "    ax.set_ylabel(ax.get_ylabel(), fontsize = 18)\n",
    "    ax.tick_params(axis='both', which='major', labelsize=15)\n",
    "    plt.grid(True)\n",
    "    plt.xlabel(\"True Damage Index\")\n",
    "    plt.ylabel(\"Predicted Damage Index\")\n",
    "    plt.xlim(0,0.4)\n",
    "    plt.ylim(0,0.4)\n",
    "   # plt.title('Model Evaluation - ' +  Title, fontsize = 20)\n",
    "    plt.legend(loc='upper left', fontsize=15)\n",
    "    #plt.savefig('test_eval.png', dpi=600, bbox_inches = \"tight\")\n",
    "    plt.show()"
   ]
  },
  {
   "cell_type": "code",
   "execution_count": 483,
   "metadata": {},
   "outputs": [
    {
     "data": {
      "image/png": "[encoded data removed]",
      "text/plain": [
       "<Figure size 432x288 with 1 Axes>"
      ]
     },
     "metadata": {},
     "output_type": "display_data"
    }
   ],
   "source": [
    "Title = 'Model Results'\n",
    "plot_joint_predictions(y_train, pred_train, y_test, pred_test, Title)"
   ]
  },
  {
   "cell_type": "markdown",
   "metadata": {},
   "source": [
    "-----------"
   ]
  },
  {
   "cell_type": "markdown",
   "metadata": {},
   "source": [
    "# <span style=\"color:STEELBLUE\">**Analyze Results**</span>"
   ]
  },
  {
   "cell_type": "code",
   "execution_count": 102,
   "metadata": {},
   "outputs": [
    {
     "data": {
      "text/plain": [
       "Index(['PropSFHA', 'AveDepth', 'PropDG', 'AveLS', 'HurTrack', 'PeakGust',\n",
       "       'SpecCom', 'CDC_Tot', 'STRVI_1', 'SEVI_1'],\n",
       "      dtype='object')"
      ]
     },
     "execution_count": 102,
     "metadata": {},
     "output_type": "execute_result"
    }
   ],
   "source": [
    "x_train.columns"
   ]
  },
  {
   "cell_type": "markdown",
   "metadata": {},
   "source": [
    "## Gini Importance Calculation"
   ]
  },
  {
   "cell_type": "markdown",
   "metadata": {},
   "source": [
    "Tree based models provides a different measure of feature importances based on the mean decrease in impurity (MDI, the splitting criterion - The function to measure the quality of a split. Supported criteria are “mse” for the mean squared error, which is equal to variance reduction as feature selection criterion, and “mae” for the mean absolute error). This gives importance to features that may not be predictive on unseen data. The permutation feature importance avoids this issue, since it can be applied to unseen data. Furthermore, impurity-based feature importance for trees are strongly biased and favor high cardinality features (typically numerical features). Permutation-based feature importances do not exhibit such a bias. Additionally, the permutation feature importance may use an arbitrary metric on the tree’s predictions. These two methods of obtaining feature importance are explored in: Permutation Importance vs Random Forest Feature Importance (MDI)."
   ]
  },
  {
   "cell_type": "markdown",
   "metadata": {},
   "source": [
    "In scikit-learn, importance of a node 𝑗 in a decision tree is computed (source code) as: \\\n",
    "![alt text](nodeimportance.png \"Title\") \\\n",
    "where 𝑤𝑗 is weighted number of samples in node 𝑗, 𝐶𝑗 is impurity in this node, and 𝑙𝑒𝑓𝑡(𝑗) and 𝑟𝑖𝑔ℎ𝑡(𝑗) are its respective children nodes.\n",
    "\n",
    "Then feature importance of feature 𝑖 is computed as:\\\n",
    "![alt text](featureimportance.png \"Title\") \\\n",
    "In RandomForest or GradientBoosting, feature importances are then averaged over all the trees (source code).\n",
    "\n",
    "In short, (un-normalized) feature importance of a feature is a sum of importances of the corresponding nodes. So if you take a set of features, it would be totally consistent to represent the importance of this set as sum of importances of all the corresponding nodes. And the latter exactly equals sum of individual feature importances. And normailizing denominator is the same for all the features, so does not change relative importances."
   ]
  },
  {
   "cell_type": "code",
   "execution_count": 62,
   "metadata": {},
   "outputs": [],
   "source": [
    "def calc_gini_importances(x_train, model):\n",
    "    importances = model.feature_importances_\n",
    "    importances_df = pd.DataFrame(importances, x_train.columns,\n",
    "                                  columns=['Importance'])\n",
    "    importances_df.reset_index(inplace=True)\n",
    "    importances_df.rename(columns={'index':'Feature'}, inplace=True)\n",
    "    return importances_df\n"
   ]
  },
  {
   "cell_type": "code",
   "execution_count": 63,
   "metadata": {},
   "outputs": [],
   "source": [
    "# indicate if reg_model or class_model\n",
    "# EXAMPLE\n",
    "df_gini_importances = calc_gini_importances(x_train, OPT2)"
   ]
  },
  {
   "cell_type": "code",
   "execution_count": 64,
   "metadata": {},
   "outputs": [
    {
     "data": {
      "text/html": [
       "<div>\n",
       "<style scoped>\n",
       "    .dataframe tbody tr th:only-of-type {\n",
       "        vertical-align: middle;\n",
       "    }\n",
       "\n",
       "    .dataframe tbody tr th {\n",
       "        vertical-align: top;\n",
       "    }\n",
       "\n",
       "    .dataframe thead th {\n",
       "        text-align: right;\n",
       "    }\n",
       "</style>\n",
       "<table border=\"1\" class=\"dataframe\">\n",
       "  <thead>\n",
       "    <tr style=\"text-align: right;\">\n",
       "      <th></th>\n",
       "      <th>Feature</th>\n",
       "      <th>Importance</th>\n",
       "    </tr>\n",
       "  </thead>\n",
       "  <tbody>\n",
       "    <tr>\n",
       "      <th>0</th>\n",
       "      <td>PropSFHA</td>\n",
       "      <td>0.085001</td>\n",
       "    </tr>\n",
       "    <tr>\n",
       "      <th>1</th>\n",
       "      <td>AveDepth</td>\n",
       "      <td>0.073331</td>\n",
       "    </tr>\n",
       "    <tr>\n",
       "      <th>2</th>\n",
       "      <td>PropDG</td>\n",
       "      <td>0.052298</td>\n",
       "    </tr>\n",
       "    <tr>\n",
       "      <th>3</th>\n",
       "      <td>AveLS</td>\n",
       "      <td>0.080471</td>\n",
       "    </tr>\n",
       "    <tr>\n",
       "      <th>4</th>\n",
       "      <td>HurTrack</td>\n",
       "      <td>0.106672</td>\n",
       "    </tr>\n",
       "    <tr>\n",
       "      <th>5</th>\n",
       "      <td>PeakGust</td>\n",
       "      <td>0.107442</td>\n",
       "    </tr>\n",
       "    <tr>\n",
       "      <th>6</th>\n",
       "      <td>SpecCom</td>\n",
       "      <td>0.096604</td>\n",
       "    </tr>\n",
       "    <tr>\n",
       "      <th>7</th>\n",
       "      <td>CDC_Tot</td>\n",
       "      <td>0.125335</td>\n",
       "    </tr>\n",
       "    <tr>\n",
       "      <th>8</th>\n",
       "      <td>STRVI_1</td>\n",
       "      <td>0.128767</td>\n",
       "    </tr>\n",
       "    <tr>\n",
       "      <th>9</th>\n",
       "      <td>SEVI_1</td>\n",
       "      <td>0.144078</td>\n",
       "    </tr>\n",
       "  </tbody>\n",
       "</table>\n",
       "</div>"
      ],
      "text/plain": [
       "    Feature  Importance\n",
       "0  PropSFHA    0.085001\n",
       "1  AveDepth    0.073331\n",
       "2    PropDG    0.052298\n",
       "3     AveLS    0.080471\n",
       "4  HurTrack    0.106672\n",
       "5  PeakGust    0.107442\n",
       "6   SpecCom    0.096604\n",
       "7   CDC_Tot    0.125335\n",
       "8   STRVI_1    0.128767\n",
       "9    SEVI_1    0.144078"
      ]
     },
     "execution_count": 64,
     "metadata": {},
     "output_type": "execute_result"
    }
   ],
   "source": [
    "df_gini_importances"
   ]
  },
  {
   "cell_type": "code",
   "execution_count": 65,
   "metadata": {},
   "outputs": [],
   "source": [
    "df_gini_importances['Labels'] = ['PropSFHA', 'AveDepth', 'PropFA', 'AveLS', 'HurTrack', 'PeakGust', 'PropSC', 'StrVI', 'SeVI', 'CDCVuln']"
   ]
  },
  {
   "cell_type": "code",
   "execution_count": 66,
   "metadata": {},
   "outputs": [],
   "source": [
    "#df_gini_importances.drop(['Feature'], axis=1)\n",
    "#df_gini_importances['Feature'] = ['StrVI', 'CDCVuln', 'PeakGust', 'SeVI', 'HurTrack', 'PropSC', 'AveDepth', 'AveLS', 'PropSFHA', 'PropFA']"
   ]
  },
  {
   "cell_type": "code",
   "execution_count": 67,
   "metadata": {},
   "outputs": [
    {
     "data": {
      "text/html": [
       "<div>\n",
       "<style scoped>\n",
       "    .dataframe tbody tr th:only-of-type {\n",
       "        vertical-align: middle;\n",
       "    }\n",
       "\n",
       "    .dataframe tbody tr th {\n",
       "        vertical-align: top;\n",
       "    }\n",
       "\n",
       "    .dataframe thead th {\n",
       "        text-align: right;\n",
       "    }\n",
       "</style>\n",
       "<table border=\"1\" class=\"dataframe\">\n",
       "  <thead>\n",
       "    <tr style=\"text-align: right;\">\n",
       "      <th></th>\n",
       "      <th>Feature</th>\n",
       "      <th>Importance</th>\n",
       "      <th>Labels</th>\n",
       "    </tr>\n",
       "  </thead>\n",
       "  <tbody>\n",
       "    <tr>\n",
       "      <th>0</th>\n",
       "      <td>PropSFHA</td>\n",
       "      <td>0.085001</td>\n",
       "      <td>PropSFHA</td>\n",
       "    </tr>\n",
       "    <tr>\n",
       "      <th>1</th>\n",
       "      <td>AveDepth</td>\n",
       "      <td>0.073331</td>\n",
       "      <td>AveDepth</td>\n",
       "    </tr>\n",
       "    <tr>\n",
       "      <th>2</th>\n",
       "      <td>PropDG</td>\n",
       "      <td>0.052298</td>\n",
       "      <td>PropFA</td>\n",
       "    </tr>\n",
       "    <tr>\n",
       "      <th>3</th>\n",
       "      <td>AveLS</td>\n",
       "      <td>0.080471</td>\n",
       "      <td>AveLS</td>\n",
       "    </tr>\n",
       "    <tr>\n",
       "      <th>4</th>\n",
       "      <td>HurTrack</td>\n",
       "      <td>0.106672</td>\n",
       "      <td>HurTrack</td>\n",
       "    </tr>\n",
       "    <tr>\n",
       "      <th>5</th>\n",
       "      <td>PeakGust</td>\n",
       "      <td>0.107442</td>\n",
       "      <td>PeakGust</td>\n",
       "    </tr>\n",
       "    <tr>\n",
       "      <th>6</th>\n",
       "      <td>SpecCom</td>\n",
       "      <td>0.096604</td>\n",
       "      <td>PropSC</td>\n",
       "    </tr>\n",
       "    <tr>\n",
       "      <th>7</th>\n",
       "      <td>CDC_Tot</td>\n",
       "      <td>0.125335</td>\n",
       "      <td>StrVI</td>\n",
       "    </tr>\n",
       "    <tr>\n",
       "      <th>8</th>\n",
       "      <td>STRVI_1</td>\n",
       "      <td>0.128767</td>\n",
       "      <td>SeVI</td>\n",
       "    </tr>\n",
       "    <tr>\n",
       "      <th>9</th>\n",
       "      <td>SEVI_1</td>\n",
       "      <td>0.144078</td>\n",
       "      <td>CDCVuln</td>\n",
       "    </tr>\n",
       "  </tbody>\n",
       "</table>\n",
       "</div>"
      ],
      "text/plain": [
       "    Feature  Importance    Labels\n",
       "0  PropSFHA    0.085001  PropSFHA\n",
       "1  AveDepth    0.073331  AveDepth\n",
       "2    PropDG    0.052298    PropFA\n",
       "3     AveLS    0.080471     AveLS\n",
       "4  HurTrack    0.106672  HurTrack\n",
       "5  PeakGust    0.107442  PeakGust\n",
       "6   SpecCom    0.096604    PropSC\n",
       "7   CDC_Tot    0.125335     StrVI\n",
       "8   STRVI_1    0.128767      SeVI\n",
       "9    SEVI_1    0.144078   CDCVuln"
      ]
     },
     "execution_count": 67,
     "metadata": {},
     "output_type": "execute_result"
    }
   ],
   "source": [
    "df_gini_importances"
   ]
  },
  {
   "cell_type": "code",
   "execution_count": 68,
   "metadata": {},
   "outputs": [],
   "source": [
    "#df_gini_importances.to_excel(\"RF_DI3__Dflt_FI.xlsx\")"
   ]
  },
  {
   "cell_type": "markdown",
   "metadata": {},
   "source": [
    "## Impurity Importance Plot"
   ]
  },
  {
   "cell_type": "code",
   "execution_count": 73,
   "metadata": {},
   "outputs": [],
   "source": [
    "def plot_importance(df_gini_importances):\n",
    "    df_gini_importances.sort_values('Importance', ascending=False).plot.bar('Labels',\n",
    "                                                                            'Importance', \n",
    "                                                                            color='black', \n",
    "                                                                            legend = False, zorder=3)\n",
    "    plt.title(\"\", fontsize = 25)\n",
    "    plt.ylabel('Mean Decrease in MSE', fontsize = 18)\n",
    "    plt.xlabel('')\n",
    "    plt.xticks(fontsize = 18, rotation = 45, ha='right')\n",
    "    plt.yticks(fontsize = 18)\n",
    "    #plt.show()\n",
    "    plt.grid(False)\n",
    "    #plt.savefig('RF_DI3__Dflt_FI_BBW.pdf', dpi=600, bbox_inches = \"tight\")\n",
    "    \n",
    "\n"
   ]
  },
  {
   "cell_type": "code",
   "execution_count": 74,
   "metadata": {},
   "outputs": [
    {
     "data": {
      "image/png": "[encoded data removed]",
      "text/plain": [
       "<Figure size 432x288 with 1 Axes>"
      ]
     },
     "metadata": {},
     "output_type": "display_data"
    }
   ],
   "source": [
    "# EXAMPLE\n",
    "# these values are Normalized Average Decrease In Total MSE\n",
    "plot_importance(df_gini_importances)"
   ]
  },
  {
   "cell_type": "markdown",
   "metadata": {},
   "source": [
    "## Permutation Importance Calculation"
   ]
  },
  {
   "cell_type": "markdown",
   "metadata": {},
   "source": [
    "Permutation feature importance is a model inspection technique that can be used for any fitted estimator when the data is rectangular. This is especially useful for non-linear or opaque estimators. The permutation feature importance is defined to be the decrease in a model score when a single feature value is randomly shuffled 1. This procedure breaks the relationship between the feature and the target, thus the drop in the model score is indicative of how much the model depends on the feature. This technique benefits from being model agnostic and can be calculated many times with different permutations of the feature.\n",
    "\n",
    "The permutation_importance function calculates the feature importance of estimators for a given dataset. The n_repeats parameter sets the number of times a feature is randomly shuffled and returns a sample of feature importances. Permutation importances can either be computed on the training set or an held-out testing or validation set. Using a held-out set makes it possible to highlight which features contribute the most to the generalization power of the inspected model. Features that are important on the training set but not on the held-out set might cause the model to overfit."
   ]
  },
  {
   "cell_type": "code",
   "execution_count": 555,
   "metadata": {},
   "outputs": [],
   "source": [
    "# def permutation_importances(model, x_train, y_train, metric):\n",
    "#     baseline = metric(model, x_train, y_train)\n",
    "#     imp = []\n",
    "#     for col in x_train.columns:\n",
    "#         save = x_train[col].copy()\n",
    "#         x_train[col] = np.random.permutation(x_train[col])\n",
    "#         m = metric(model, x_train, y_train)\n",
    "#         x_train[col] = save\n",
    "#         imp.append(baseline - m)\n",
    "#     return np.array(imp)\n",
    "    "
   ]
  },
  {
   "cell_type": "code",
   "execution_count": 615,
   "metadata": {},
   "outputs": [],
   "source": [
    "# imp = permutation_importances(OPT3B, x_train, y_train, oob_regression_r2_score)"
   ]
  },
  {
   "cell_type": "code",
   "execution_count": 225,
   "metadata": {},
   "outputs": [],
   "source": [
    "# impcopy = imp.copy()"
   ]
  },
  {
   "cell_type": "code",
   "execution_count": 114,
   "metadata": {},
   "outputs": [],
   "source": [
    "def calc_permutation_imp(model,x,y, features):\n",
    "    baseline = model.score(x,y)\n",
    "    imp = []\n",
    "    for col in x.columns:\n",
    "        save = x[col].copy()\n",
    "        x[col]=np.random.permutation(x[col])\n",
    "        m = model.score(x,y)\n",
    "        x[col] = save\n",
    "        imp.append(((baseline - m)/baseline)*100)\n",
    "        \n",
    "    Results = np.array(imp)\n",
    "    Results = pd.DataFrame(Results)\n",
    "    Results['Feature'] = features\n",
    "    Results.rename(columns = {0:'Importance'}, inplace=True)\n",
    "    \n",
    "    return Results"
   ]
  },
  {
   "cell_type": "code",
   "execution_count": 115,
   "metadata": {},
   "outputs": [],
   "source": [
    "features = ['PropSFHA', 'AveDepth', 'PropDG', 'AveLS', 'HurTrack',\n",
    "       'PeakGust', 'SpecCom', 'STRVI_1', 'SEVI_1', 'CDC_Tot'] \n",
    "df_perm_imp = calc_permutation_imp(OPT2,x_train,y_train, features)"
   ]
  },
  {
   "cell_type": "code",
   "execution_count": 116,
   "metadata": {},
   "outputs": [
    {
     "data": {
      "text/html": [
       "<div>\n",
       "<style scoped>\n",
       "    .dataframe tbody tr th:only-of-type {\n",
       "        vertical-align: middle;\n",
       "    }\n",
       "\n",
       "    .dataframe tbody tr th {\n",
       "        vertical-align: top;\n",
       "    }\n",
       "\n",
       "    .dataframe thead th {\n",
       "        text-align: right;\n",
       "    }\n",
       "</style>\n",
       "<table border=\"1\" class=\"dataframe\">\n",
       "  <thead>\n",
       "    <tr style=\"text-align: right;\">\n",
       "      <th></th>\n",
       "      <th>Importance</th>\n",
       "      <th>Feature</th>\n",
       "    </tr>\n",
       "  </thead>\n",
       "  <tbody>\n",
       "    <tr>\n",
       "      <th>0</th>\n",
       "      <td>15.665072</td>\n",
       "      <td>PropSFHA</td>\n",
       "    </tr>\n",
       "    <tr>\n",
       "      <th>1</th>\n",
       "      <td>14.416620</td>\n",
       "      <td>AveDepth</td>\n",
       "    </tr>\n",
       "    <tr>\n",
       "      <th>2</th>\n",
       "      <td>12.749152</td>\n",
       "      <td>PropDG</td>\n",
       "    </tr>\n",
       "    <tr>\n",
       "      <th>3</th>\n",
       "      <td>14.009883</td>\n",
       "      <td>AveLS</td>\n",
       "    </tr>\n",
       "    <tr>\n",
       "      <th>4</th>\n",
       "      <td>21.280056</td>\n",
       "      <td>HurTrack</td>\n",
       "    </tr>\n",
       "    <tr>\n",
       "      <th>5</th>\n",
       "      <td>18.275108</td>\n",
       "      <td>PeakGust</td>\n",
       "    </tr>\n",
       "    <tr>\n",
       "      <th>6</th>\n",
       "      <td>20.496866</td>\n",
       "      <td>SpecCom</td>\n",
       "    </tr>\n",
       "    <tr>\n",
       "      <th>7</th>\n",
       "      <td>24.158524</td>\n",
       "      <td>STRVI_1</td>\n",
       "    </tr>\n",
       "    <tr>\n",
       "      <th>8</th>\n",
       "      <td>21.951792</td>\n",
       "      <td>SEVI_1</td>\n",
       "    </tr>\n",
       "    <tr>\n",
       "      <th>9</th>\n",
       "      <td>23.279280</td>\n",
       "      <td>CDC_Tot</td>\n",
       "    </tr>\n",
       "  </tbody>\n",
       "</table>\n",
       "</div>"
      ],
      "text/plain": [
       "   Importance   Feature\n",
       "0   15.665072  PropSFHA\n",
       "1   14.416620  AveDepth\n",
       "2   12.749152    PropDG\n",
       "3   14.009883     AveLS\n",
       "4   21.280056  HurTrack\n",
       "5   18.275108  PeakGust\n",
       "6   20.496866   SpecCom\n",
       "7   24.158524   STRVI_1\n",
       "8   21.951792    SEVI_1\n",
       "9   23.279280   CDC_Tot"
      ]
     },
     "execution_count": 116,
     "metadata": {},
     "output_type": "execute_result"
    }
   ],
   "source": [
    "df_perm_imp"
   ]
  },
  {
   "cell_type": "code",
   "execution_count": 117,
   "metadata": {},
   "outputs": [],
   "source": [
    "df_perm_imp['Labels'] = ['PropSFHA', 'AveDepth', 'PropFA', 'AveLS', 'HurTrack', 'PeakGust', 'PropSC', 'StrVI', 'SeVI', 'CDCVuln']"
   ]
  },
  {
   "cell_type": "code",
   "execution_count": 118,
   "metadata": {},
   "outputs": [
    {
     "data": {
      "text/html": [
       "<div>\n",
       "<style scoped>\n",
       "    .dataframe tbody tr th:only-of-type {\n",
       "        vertical-align: middle;\n",
       "    }\n",
       "\n",
       "    .dataframe tbody tr th {\n",
       "        vertical-align: top;\n",
       "    }\n",
       "\n",
       "    .dataframe thead th {\n",
       "        text-align: right;\n",
       "    }\n",
       "</style>\n",
       "<table border=\"1\" class=\"dataframe\">\n",
       "  <thead>\n",
       "    <tr style=\"text-align: right;\">\n",
       "      <th></th>\n",
       "      <th>Importance</th>\n",
       "      <th>Feature</th>\n",
       "      <th>Labels</th>\n",
       "    </tr>\n",
       "  </thead>\n",
       "  <tbody>\n",
       "    <tr>\n",
       "      <th>0</th>\n",
       "      <td>15.665072</td>\n",
       "      <td>PropSFHA</td>\n",
       "      <td>PropSFHA</td>\n",
       "    </tr>\n",
       "    <tr>\n",
       "      <th>1</th>\n",
       "      <td>14.416620</td>\n",
       "      <td>AveDepth</td>\n",
       "      <td>AveDepth</td>\n",
       "    </tr>\n",
       "    <tr>\n",
       "      <th>2</th>\n",
       "      <td>12.749152</td>\n",
       "      <td>PropDG</td>\n",
       "      <td>PropFA</td>\n",
       "    </tr>\n",
       "    <tr>\n",
       "      <th>3</th>\n",
       "      <td>14.009883</td>\n",
       "      <td>AveLS</td>\n",
       "      <td>AveLS</td>\n",
       "    </tr>\n",
       "    <tr>\n",
       "      <th>4</th>\n",
       "      <td>21.280056</td>\n",
       "      <td>HurTrack</td>\n",
       "      <td>HurTrack</td>\n",
       "    </tr>\n",
       "    <tr>\n",
       "      <th>5</th>\n",
       "      <td>18.275108</td>\n",
       "      <td>PeakGust</td>\n",
       "      <td>PeakGust</td>\n",
       "    </tr>\n",
       "    <tr>\n",
       "      <th>6</th>\n",
       "      <td>20.496866</td>\n",
       "      <td>SpecCom</td>\n",
       "      <td>PropSC</td>\n",
       "    </tr>\n",
       "    <tr>\n",
       "      <th>7</th>\n",
       "      <td>24.158524</td>\n",
       "      <td>STRVI_1</td>\n",
       "      <td>StrVI</td>\n",
       "    </tr>\n",
       "    <tr>\n",
       "      <th>8</th>\n",
       "      <td>21.951792</td>\n",
       "      <td>SEVI_1</td>\n",
       "      <td>SeVI</td>\n",
       "    </tr>\n",
       "    <tr>\n",
       "      <th>9</th>\n",
       "      <td>23.279280</td>\n",
       "      <td>CDC_Tot</td>\n",
       "      <td>CDCVuln</td>\n",
       "    </tr>\n",
       "  </tbody>\n",
       "</table>\n",
       "</div>"
      ],
      "text/plain": [
       "   Importance   Feature    Labels\n",
       "0   15.665072  PropSFHA  PropSFHA\n",
       "1   14.416620  AveDepth  AveDepth\n",
       "2   12.749152    PropDG    PropFA\n",
       "3   14.009883     AveLS     AveLS\n",
       "4   21.280056  HurTrack  HurTrack\n",
       "5   18.275108  PeakGust  PeakGust\n",
       "6   20.496866   SpecCom    PropSC\n",
       "7   24.158524   STRVI_1     StrVI\n",
       "8   21.951792    SEVI_1      SeVI\n",
       "9   23.279280   CDC_Tot   CDCVuln"
      ]
     },
     "execution_count": 118,
     "metadata": {},
     "output_type": "execute_result"
    }
   ],
   "source": [
    "df_perm_imp"
   ]
  },
  {
   "cell_type": "code",
   "execution_count": 129,
   "metadata": {},
   "outputs": [],
   "source": [
    "#df_gini_importances.to_excel(\"RF_DI3__Perm_FI.xlsx\")"
   ]
  },
  {
   "cell_type": "code",
   "execution_count": 124,
   "metadata": {},
   "outputs": [],
   "source": [
    "def perm_imp_plot(importances):\n",
    "    importances.reset_index(inplace=True)\n",
    "    importances.sort_values('Importance', ascending=False).plot.bar('Labels',\n",
    "                                                                            'Importance', \n",
    "                                                                            color='black', \n",
    "                                                                            legend = False)\n",
    "    plt.title(\"\", fontsize = 25)\n",
    "    plt.ylabel('% Decrease in ' + r'$R^2$', fontsize = 18)\n",
    "    plt.xlabel('')\n",
    "    plt.xticks(fontsize = 18, rotation = 45, ha='right')\n",
    "    plt.yticks(fontsize = 18)\n",
    "    plt.grid(False)\n",
    "    #plt.show()\n",
    "    #plt.savefig('RF_D3_Perm_FI_BW.tif', dpi=600, bbox_inches = \"tight\")\n",
    "    \n",
    "\n"
   ]
  },
  {
   "cell_type": "code",
   "execution_count": 125,
   "metadata": {},
   "outputs": [
    {
     "ename": "ValueError",
     "evalue": "cannot insert level_0, already exists",
     "output_type": "error",
     "traceback": [
      "\u001b[0;31m-------------------------------------------------------------------------\u001b[0m",
      "\u001b[0;31mValueError\u001b[0m                              Traceback (most recent call last)",
      "\u001b[0;32m<ipython-input-125-9f4e6932430c>\u001b[0m in \u001b[0;36m<module>\u001b[0;34m()\u001b[0m\n\u001b[0;32m----> 1\u001b[0;31m \u001b[0mperm_imp_plot\u001b[0m\u001b[0;34m(\u001b[0m\u001b[0mdf_perm_imp\u001b[0m\u001b[0;34m)\u001b[0m\u001b[0;34m\u001b[0m\u001b[0m\n\u001b[0m",
      "\u001b[0;32m<ipython-input-124-acb768ce35e0>\u001b[0m in \u001b[0;36mperm_imp_plot\u001b[0;34m(importances)\u001b[0m\n\u001b[1;32m      1\u001b[0m \u001b[0;32mdef\u001b[0m \u001b[0mperm_imp_plot\u001b[0m\u001b[0;34m(\u001b[0m\u001b[0mimportances\u001b[0m\u001b[0;34m)\u001b[0m\u001b[0;34m:\u001b[0m\u001b[0;34m\u001b[0m\u001b[0m\n\u001b[0;32m----> 2\u001b[0;31m     \u001b[0mimportances\u001b[0m\u001b[0;34m.\u001b[0m\u001b[0mreset_index\u001b[0m\u001b[0;34m(\u001b[0m\u001b[0minplace\u001b[0m\u001b[0;34m=\u001b[0m\u001b[0;32mTrue\u001b[0m\u001b[0;34m)\u001b[0m\u001b[0;34m\u001b[0m\u001b[0m\n\u001b[0m\u001b[1;32m      3\u001b[0m     importances.sort_values('Importance', ascending=False).plot.bar('Labels',\n\u001b[1;32m      4\u001b[0m                                                                             \u001b[0;34m'Importance'\u001b[0m\u001b[0;34m,\u001b[0m\u001b[0;34m\u001b[0m\u001b[0m\n\u001b[1;32m      5\u001b[0m                                                                             \u001b[0mcolor\u001b[0m\u001b[0;34m=\u001b[0m\u001b[0;34m'black'\u001b[0m\u001b[0;34m,\u001b[0m\u001b[0;34m\u001b[0m\u001b[0m\n",
      "\u001b[0;32m/usr/local/lib/python3.6/site-packages/pandas/core/frame.py\u001b[0m in \u001b[0;36mreset_index\u001b[0;34m(self, level, drop, inplace, col_level, col_fill)\u001b[0m\n\u001b[1;32m   4137\u001b[0m                 \u001b[0;31m# to ndarray and maybe infer different dtype\u001b[0m\u001b[0;34m\u001b[0m\u001b[0;34m\u001b[0m\u001b[0m\n\u001b[1;32m   4138\u001b[0m                 \u001b[0mlevel_values\u001b[0m \u001b[0;34m=\u001b[0m \u001b[0m_maybe_casted_values\u001b[0m\u001b[0;34m(\u001b[0m\u001b[0mlev\u001b[0m\u001b[0;34m,\u001b[0m \u001b[0mlab\u001b[0m\u001b[0;34m)\u001b[0m\u001b[0;34m\u001b[0m\u001b[0m\n\u001b[0;32m-> 4139\u001b[0;31m                 \u001b[0mnew_obj\u001b[0m\u001b[0;34m.\u001b[0m\u001b[0minsert\u001b[0m\u001b[0;34m(\u001b[0m\u001b[0;36m0\u001b[0m\u001b[0;34m,\u001b[0m \u001b[0mname\u001b[0m\u001b[0;34m,\u001b[0m \u001b[0mlevel_values\u001b[0m\u001b[0;34m)\u001b[0m\u001b[0;34m\u001b[0m\u001b[0m\n\u001b[0m\u001b[1;32m   4140\u001b[0m \u001b[0;34m\u001b[0m\u001b[0m\n\u001b[1;32m   4141\u001b[0m         \u001b[0mnew_obj\u001b[0m\u001b[0;34m.\u001b[0m\u001b[0mindex\u001b[0m \u001b[0;34m=\u001b[0m \u001b[0mnew_index\u001b[0m\u001b[0;34m\u001b[0m\u001b[0m\n",
      "\u001b[0;32m/usr/local/lib/python3.6/site-packages/pandas/core/frame.py\u001b[0m in \u001b[0;36minsert\u001b[0;34m(self, loc, column, value, allow_duplicates)\u001b[0m\n\u001b[1;32m   3220\u001b[0m         \u001b[0mvalue\u001b[0m \u001b[0;34m=\u001b[0m \u001b[0mself\u001b[0m\u001b[0;34m.\u001b[0m\u001b[0m_sanitize_column\u001b[0m\u001b[0;34m(\u001b[0m\u001b[0mcolumn\u001b[0m\u001b[0;34m,\u001b[0m \u001b[0mvalue\u001b[0m\u001b[0;34m,\u001b[0m \u001b[0mbroadcast\u001b[0m\u001b[0;34m=\u001b[0m\u001b[0;32mFalse\u001b[0m\u001b[0;34m)\u001b[0m\u001b[0;34m\u001b[0m\u001b[0m\n\u001b[1;32m   3221\u001b[0m         self._data.insert(loc, column, value,\n\u001b[0;32m-> 3222\u001b[0;31m                           allow_duplicates=allow_duplicates)\n\u001b[0m\u001b[1;32m   3223\u001b[0m \u001b[0;34m\u001b[0m\u001b[0m\n\u001b[1;32m   3224\u001b[0m     \u001b[0;32mdef\u001b[0m \u001b[0massign\u001b[0m\u001b[0;34m(\u001b[0m\u001b[0mself\u001b[0m\u001b[0;34m,\u001b[0m \u001b[0;34m**\u001b[0m\u001b[0mkwargs\u001b[0m\u001b[0;34m)\u001b[0m\u001b[0;34m:\u001b[0m\u001b[0;34m\u001b[0m\u001b[0m\n",
      "\u001b[0;32m/usr/local/lib/python3.6/site-packages/pandas/core/internals.py\u001b[0m in \u001b[0;36minsert\u001b[0;34m(self, loc, item, value, allow_duplicates)\u001b[0m\n\u001b[1;32m   4336\u001b[0m         \u001b[0;32mif\u001b[0m \u001b[0;32mnot\u001b[0m \u001b[0mallow_duplicates\u001b[0m \u001b[0;32mand\u001b[0m \u001b[0mitem\u001b[0m \u001b[0;32min\u001b[0m \u001b[0mself\u001b[0m\u001b[0;34m.\u001b[0m\u001b[0mitems\u001b[0m\u001b[0;34m:\u001b[0m\u001b[0;34m\u001b[0m\u001b[0m\n\u001b[1;32m   4337\u001b[0m             \u001b[0;31m# Should this be a different kind of error??\u001b[0m\u001b[0;34m\u001b[0m\u001b[0;34m\u001b[0m\u001b[0m\n\u001b[0;32m-> 4338\u001b[0;31m             \u001b[0;32mraise\u001b[0m \u001b[0mValueError\u001b[0m\u001b[0;34m(\u001b[0m\u001b[0;34m'cannot insert {}, already exists'\u001b[0m\u001b[0;34m.\u001b[0m\u001b[0mformat\u001b[0m\u001b[0;34m(\u001b[0m\u001b[0mitem\u001b[0m\u001b[0;34m)\u001b[0m\u001b[0;34m)\u001b[0m\u001b[0;34m\u001b[0m\u001b[0m\n\u001b[0m\u001b[1;32m   4339\u001b[0m \u001b[0;34m\u001b[0m\u001b[0m\n\u001b[1;32m   4340\u001b[0m         \u001b[0;32mif\u001b[0m \u001b[0;32mnot\u001b[0m \u001b[0misinstance\u001b[0m\u001b[0;34m(\u001b[0m\u001b[0mloc\u001b[0m\u001b[0;34m,\u001b[0m \u001b[0mint\u001b[0m\u001b[0;34m)\u001b[0m\u001b[0;34m:\u001b[0m\u001b[0;34m\u001b[0m\u001b[0m\n",
      "\u001b[0;31mValueError\u001b[0m: cannot insert level_0, already exists"
     ]
    }
   ],
   "source": [
    "perm_imp_plot(df_perm_imp)"
   ]
  },
  {
   "cell_type": "code",
   "execution_count": 619,
   "metadata": {},
   "outputs": [],
   "source": [
    "#imp.reset_index(inplace=True)"
   ]
  },
  {
   "cell_type": "code",
   "execution_count": 620,
   "metadata": {},
   "outputs": [
    {
     "data": {
      "text/html": [
       "<div>\n",
       "<style scoped>\n",
       "    .dataframe tbody tr th:only-of-type {\n",
       "        vertical-align: middle;\n",
       "    }\n",
       "\n",
       "    .dataframe tbody tr th {\n",
       "        vertical-align: top;\n",
       "    }\n",
       "\n",
       "    .dataframe thead th {\n",
       "        text-align: right;\n",
       "    }\n",
       "</style>\n",
       "<table border=\"1\" class=\"dataframe\">\n",
       "  <thead>\n",
       "    <tr style=\"text-align: right;\">\n",
       "      <th></th>\n",
       "      <th>Feature</th>\n",
       "      <th>Importance</th>\n",
       "    </tr>\n",
       "  </thead>\n",
       "  <tbody>\n",
       "    <tr>\n",
       "      <th>0</th>\n",
       "      <td>PeakGust</td>\n",
       "      <td>0.106021</td>\n",
       "    </tr>\n",
       "    <tr>\n",
       "      <th>1</th>\n",
       "      <td>HurTrack</td>\n",
       "      <td>0.074446</td>\n",
       "    </tr>\n",
       "    <tr>\n",
       "      <th>2</th>\n",
       "      <td>SpecCom</td>\n",
       "      <td>0.065706</td>\n",
       "    </tr>\n",
       "    <tr>\n",
       "      <th>3</th>\n",
       "      <td>STRVI_1</td>\n",
       "      <td>0.045014</td>\n",
       "    </tr>\n",
       "    <tr>\n",
       "      <th>4</th>\n",
       "      <td>AveDepth</td>\n",
       "      <td>0.037295</td>\n",
       "    </tr>\n",
       "    <tr>\n",
       "      <th>5</th>\n",
       "      <td>SEVI_1</td>\n",
       "      <td>0.029588</td>\n",
       "    </tr>\n",
       "    <tr>\n",
       "      <th>6</th>\n",
       "      <td>CDC_Tot</td>\n",
       "      <td>0.011717</td>\n",
       "    </tr>\n",
       "    <tr>\n",
       "      <th>7</th>\n",
       "      <td>PropDG</td>\n",
       "      <td>0.008616</td>\n",
       "    </tr>\n",
       "    <tr>\n",
       "      <th>8</th>\n",
       "      <td>AveLS</td>\n",
       "      <td>0.007407</td>\n",
       "    </tr>\n",
       "    <tr>\n",
       "      <th>9</th>\n",
       "      <td>PropSFHA</td>\n",
       "      <td>0.003838</td>\n",
       "    </tr>\n",
       "  </tbody>\n",
       "</table>\n",
       "</div>"
      ],
      "text/plain": [
       "    Feature  Importance\n",
       "0  PeakGust    0.106021\n",
       "1  HurTrack    0.074446\n",
       "2   SpecCom    0.065706\n",
       "3   STRVI_1    0.045014\n",
       "4  AveDepth    0.037295\n",
       "5    SEVI_1    0.029588\n",
       "6   CDC_Tot    0.011717\n",
       "7    PropDG    0.008616\n",
       "8     AveLS    0.007407\n",
       "9  PropSFHA    0.003838"
      ]
     },
     "execution_count": 620,
     "metadata": {},
     "output_type": "execute_result"
    }
   ],
   "source": [
    "#imp"
   ]
  },
  {
   "cell_type": "code",
   "execution_count": 72,
   "metadata": {},
   "outputs": [],
   "source": [
    "#imp.reset_index\n",
    "#imp.drop(['Feature'], axis=1)\n",
    "#imp['Feature'] = [  'PeakGust', 'HurTrack','StrVI', 'PropSC', 'AveDepth', 'CDCVuln', 'AveLS', 'SeVI', 'PropFA',  'PropSFHA' ]\n"
   ]
  },
  {
   "cell_type": "code",
   "execution_count": 73,
   "metadata": {},
   "outputs": [],
   "source": [
    "#imp.drop(['level_0', 'index'], axis=1, inplace=True)"
   ]
  },
  {
   "cell_type": "code",
   "execution_count": 74,
   "metadata": {},
   "outputs": [],
   "source": [
    "#perm_imp_plot(imp)"
   ]
  },
  {
   "cell_type": "code",
   "execution_count": 75,
   "metadata": {},
   "outputs": [],
   "source": [
    "# viz = plot_importances(impcopy)\n",
    "# viz"
   ]
  },
  {
   "cell_type": "markdown",
   "metadata": {},
   "source": [
    "### Importances with test set"
   ]
  },
  {
   "cell_type": "code",
   "execution_count": 76,
   "metadata": {},
   "outputs": [],
   "source": [
    "# imp2 = permutation_importances(OPT9, x_test, y_test, oob_regression_r2_score)\n",
    "# imp2copy = imp2.copy()"
   ]
  },
  {
   "cell_type": "code",
   "execution_count": 77,
   "metadata": {},
   "outputs": [],
   "source": [
    "# perm_imp_plot(imp2)"
   ]
  },
  {
   "cell_type": "code",
   "execution_count": 78,
   "metadata": {},
   "outputs": [],
   "source": [
    "# viz = plot_importances(imp2copy)\n",
    "# viz"
   ]
  },
  {
   "cell_type": "markdown",
   "metadata": {},
   "source": [
    "## Group Permutation Importance"
   ]
  },
  {
   "cell_type": "code",
   "execution_count": 126,
   "metadata": {},
   "outputs": [
    {
     "data": {
      "text/plain": [
       "Index(['PropSFHA', 'AveDepth', 'PropDG', 'AveLS', 'HurTrack', 'PeakGust',\n",
       "       'SpecCom', 'CDC_Tot', 'STRVI_1', 'SEVI_1'],\n",
       "      dtype='object')"
      ]
     },
     "execution_count": 126,
     "metadata": {},
     "output_type": "execute_result"
    }
   ],
   "source": [
    "x_train.columns"
   ]
  },
  {
   "cell_type": "code",
   "execution_count": 127,
   "metadata": {},
   "outputs": [],
   "source": [
    "features = [['PeakGust', 'HurTrack'],\n",
    "           ['STRVI_1', 'SpecCom', 'SEVI_1', 'CDC_Tot'],\n",
    "           ['AveDepth','PropDG', 'PropSFHA'],\n",
    "           ['AveLS']]\n"
   ]
  },
  {
   "cell_type": "code",
   "execution_count": 128,
   "metadata": {},
   "outputs": [
    {
     "data": {
      "text/html": [
       "<div>\n",
       "<style scoped>\n",
       "    .dataframe tbody tr th:only-of-type {\n",
       "        vertical-align: middle;\n",
       "    }\n",
       "\n",
       "    .dataframe tbody tr th {\n",
       "        vertical-align: top;\n",
       "    }\n",
       "\n",
       "    .dataframe thead th {\n",
       "        text-align: right;\n",
       "    }\n",
       "</style>\n",
       "<table border=\"1\" class=\"dataframe\">\n",
       "  <thead>\n",
       "    <tr style=\"text-align: right;\">\n",
       "      <th></th>\n",
       "      <th>Importance</th>\n",
       "    </tr>\n",
       "    <tr>\n",
       "      <th>Feature</th>\n",
       "      <th></th>\n",
       "    </tr>\n",
       "  </thead>\n",
       "  <tbody>\n",
       "    <tr>\n",
       "      <th>STRVI_1\\nSpecCom\\nSEVI_1\\nCDC_Tot</th>\n",
       "      <td>0.660484</td>\n",
       "    </tr>\n",
       "    <tr>\n",
       "      <th>AveDepth\\nPropDG\\nPropSFHA</th>\n",
       "      <td>0.367763</td>\n",
       "    </tr>\n",
       "    <tr>\n",
       "      <th>PeakGust\\nHurTrack</th>\n",
       "      <td>0.367227</td>\n",
       "    </tr>\n",
       "    <tr>\n",
       "      <th>AveLS</th>\n",
       "      <td>0.138520</td>\n",
       "    </tr>\n",
       "  </tbody>\n",
       "</table>\n",
       "</div>"
      ],
      "text/plain": [
       "                                   Importance\n",
       "Feature                                      \n",
       "STRVI_1\\nSpecCom\\nSEVI_1\\nCDC_Tot    0.660484\n",
       "AveDepth\\nPropDG\\nPropSFHA           0.367763\n",
       "PeakGust\\nHurTrack                   0.367227\n",
       "AveLS                                0.138520"
      ]
     },
     "execution_count": 128,
     "metadata": {},
     "output_type": "execute_result"
    }
   ],
   "source": [
    "I = importances(OPT2, x_train,y_train, features=features)\n",
    "I"
   ]
  },
  {
   "cell_type": "code",
   "execution_count": 130,
   "metadata": {},
   "outputs": [],
   "source": [
    "I.reset_index(inplace=True)\n",
    "I.drop(['Feature'], axis=1)\n",
    "I['Feature'] = ['Vulnerability', 'Wind', 'Flood', 'Landslide']"
   ]
  },
  {
   "cell_type": "code",
   "execution_count": 131,
   "metadata": {},
   "outputs": [],
   "source": [
    "#perm_imp_plot(I)"
   ]
  },
  {
   "cell_type": "code",
   "execution_count": 132,
   "metadata": {},
   "outputs": [
    {
     "data": {
      "text/html": [
       "<div>\n",
       "<style scoped>\n",
       "    .dataframe tbody tr th:only-of-type {\n",
       "        vertical-align: middle;\n",
       "    }\n",
       "\n",
       "    .dataframe tbody tr th {\n",
       "        vertical-align: top;\n",
       "    }\n",
       "\n",
       "    .dataframe thead th {\n",
       "        text-align: right;\n",
       "    }\n",
       "</style>\n",
       "<table border=\"1\" class=\"dataframe\">\n",
       "  <thead>\n",
       "    <tr style=\"text-align: right;\">\n",
       "      <th></th>\n",
       "      <th>Feature</th>\n",
       "      <th>Importance</th>\n",
       "    </tr>\n",
       "  </thead>\n",
       "  <tbody>\n",
       "    <tr>\n",
       "      <th>0</th>\n",
       "      <td>Vulnerability</td>\n",
       "      <td>0.660484</td>\n",
       "    </tr>\n",
       "    <tr>\n",
       "      <th>1</th>\n",
       "      <td>Wind</td>\n",
       "      <td>0.367763</td>\n",
       "    </tr>\n",
       "    <tr>\n",
       "      <th>2</th>\n",
       "      <td>Flood</td>\n",
       "      <td>0.367227</td>\n",
       "    </tr>\n",
       "    <tr>\n",
       "      <th>3</th>\n",
       "      <td>Landslide</td>\n",
       "      <td>0.138520</td>\n",
       "    </tr>\n",
       "  </tbody>\n",
       "</table>\n",
       "</div>"
      ],
      "text/plain": [
       "         Feature  Importance\n",
       "0  Vulnerability    0.660484\n",
       "1           Wind    0.367763\n",
       "2          Flood    0.367227\n",
       "3      Landslide    0.138520"
      ]
     },
     "execution_count": 132,
     "metadata": {},
     "output_type": "execute_result"
    }
   ],
   "source": [
    "I"
   ]
  },
  {
   "cell_type": "code",
   "execution_count": 133,
   "metadata": {},
   "outputs": [],
   "source": [
    "def perm_imp_plot(importances):\n",
    "    importances.reset_index(inplace=True)\n",
    "    importances.sort_values('Importance', ascending=False).plot.bar('Feature',\n",
    "                                                                            'Importance', \n",
    "                                                                            color='maroon', \n",
    "                                                                            legend = False)\n",
    "    plt.title(\"\", fontsize = 25)\n",
    "    plt.ylabel('% Decrease in R-Squared', fontsize = 18)\n",
    "    plt.xlabel('')\n",
    "    plt.xticks(fontsize = 18, rotation = 45, ha='right')\n",
    "    plt.yticks(fontsize = 18)\n",
    "    #plt.savefig('RF_DI2_GroupPerm_FI.png', dpi=600, bbox_inches = \"tight\")"
   ]
  },
  {
   "cell_type": "code",
   "execution_count": 134,
   "metadata": {},
   "outputs": [],
   "source": [
    "base_score = OPT2.score(x_train, y_train)"
   ]
  },
  {
   "cell_type": "code",
   "execution_count": 135,
   "metadata": {},
   "outputs": [],
   "source": [
    "I['basescore'] = base_score"
   ]
  },
  {
   "cell_type": "code",
   "execution_count": 136,
   "metadata": {},
   "outputs": [
    {
     "data": {
      "text/html": [
       "<div>\n",
       "<style scoped>\n",
       "    .dataframe tbody tr th:only-of-type {\n",
       "        vertical-align: middle;\n",
       "    }\n",
       "\n",
       "    .dataframe tbody tr th {\n",
       "        vertical-align: top;\n",
       "    }\n",
       "\n",
       "    .dataframe thead th {\n",
       "        text-align: right;\n",
       "    }\n",
       "</style>\n",
       "<table border=\"1\" class=\"dataframe\">\n",
       "  <thead>\n",
       "    <tr style=\"text-align: right;\">\n",
       "      <th></th>\n",
       "      <th>Feature</th>\n",
       "      <th>Importance</th>\n",
       "      <th>basescore</th>\n",
       "    </tr>\n",
       "  </thead>\n",
       "  <tbody>\n",
       "    <tr>\n",
       "      <th>0</th>\n",
       "      <td>Vulnerability</td>\n",
       "      <td>0.660484</td>\n",
       "      <td>0.889464</td>\n",
       "    </tr>\n",
       "    <tr>\n",
       "      <th>1</th>\n",
       "      <td>Wind</td>\n",
       "      <td>0.367763</td>\n",
       "      <td>0.889464</td>\n",
       "    </tr>\n",
       "    <tr>\n",
       "      <th>2</th>\n",
       "      <td>Flood</td>\n",
       "      <td>0.367227</td>\n",
       "      <td>0.889464</td>\n",
       "    </tr>\n",
       "    <tr>\n",
       "      <th>3</th>\n",
       "      <td>Landslide</td>\n",
       "      <td>0.138520</td>\n",
       "      <td>0.889464</td>\n",
       "    </tr>\n",
       "  </tbody>\n",
       "</table>\n",
       "</div>"
      ],
      "text/plain": [
       "         Feature  Importance  basescore\n",
       "0  Vulnerability    0.660484   0.889464\n",
       "1           Wind    0.367763   0.889464\n",
       "2          Flood    0.367227   0.889464\n",
       "3      Landslide    0.138520   0.889464"
      ]
     },
     "execution_count": 136,
     "metadata": {},
     "output_type": "execute_result"
    }
   ],
   "source": [
    "I"
   ]
  },
  {
   "cell_type": "code",
   "execution_count": 137,
   "metadata": {},
   "outputs": [],
   "source": [
    "I['Perc_Dec'] = ((I['Importance']) / I['basescore']) * 100"
   ]
  },
  {
   "cell_type": "code",
   "execution_count": 138,
   "metadata": {},
   "outputs": [
    {
     "data": {
      "text/html": [
       "<div>\n",
       "<style scoped>\n",
       "    .dataframe tbody tr th:only-of-type {\n",
       "        vertical-align: middle;\n",
       "    }\n",
       "\n",
       "    .dataframe tbody tr th {\n",
       "        vertical-align: top;\n",
       "    }\n",
       "\n",
       "    .dataframe thead th {\n",
       "        text-align: right;\n",
       "    }\n",
       "</style>\n",
       "<table border=\"1\" class=\"dataframe\">\n",
       "  <thead>\n",
       "    <tr style=\"text-align: right;\">\n",
       "      <th></th>\n",
       "      <th>Feature</th>\n",
       "      <th>Importance</th>\n",
       "      <th>basescore</th>\n",
       "      <th>Perc_Dec</th>\n",
       "    </tr>\n",
       "  </thead>\n",
       "  <tbody>\n",
       "    <tr>\n",
       "      <th>0</th>\n",
       "      <td>Vulnerability</td>\n",
       "      <td>0.660484</td>\n",
       "      <td>0.889464</td>\n",
       "      <td>74.256412</td>\n",
       "    </tr>\n",
       "    <tr>\n",
       "      <th>1</th>\n",
       "      <td>Wind</td>\n",
       "      <td>0.367763</td>\n",
       "      <td>0.889464</td>\n",
       "      <td>41.346646</td>\n",
       "    </tr>\n",
       "    <tr>\n",
       "      <th>2</th>\n",
       "      <td>Flood</td>\n",
       "      <td>0.367227</td>\n",
       "      <td>0.889464</td>\n",
       "      <td>41.286280</td>\n",
       "    </tr>\n",
       "    <tr>\n",
       "      <th>3</th>\n",
       "      <td>Landslide</td>\n",
       "      <td>0.138520</td>\n",
       "      <td>0.889464</td>\n",
       "      <td>15.573449</td>\n",
       "    </tr>\n",
       "  </tbody>\n",
       "</table>\n",
       "</div>"
      ],
      "text/plain": [
       "         Feature  Importance  basescore   Perc_Dec\n",
       "0  Vulnerability    0.660484   0.889464  74.256412\n",
       "1           Wind    0.367763   0.889464  41.346646\n",
       "2          Flood    0.367227   0.889464  41.286280\n",
       "3      Landslide    0.138520   0.889464  15.573449"
      ]
     },
     "execution_count": 138,
     "metadata": {},
     "output_type": "execute_result"
    }
   ],
   "source": [
    "I"
   ]
  },
  {
   "cell_type": "code",
   "execution_count": 143,
   "metadata": {},
   "outputs": [],
   "source": [
    "#I.to_excel(\"RF_DI3__GroupPerm_FI.xlsx\")"
   ]
  },
  {
   "cell_type": "code",
   "execution_count": 142,
   "metadata": {},
   "outputs": [
    {
     "data": {
      "image/png": "[encoded data removed]",
      "text/plain": [
       "<Figure size 432x288 with 1 Axes>"
      ]
     },
     "metadata": {},
     "output_type": "display_data"
    }
   ],
   "source": [
    "I.sort_values('Perc_Dec', ascending=False).plot.bar('Feature',\n",
    "                                                                            'Perc_Dec', \n",
    "                                                                            color='black', \n",
    "                                                                            legend = False, zorder=3)\n",
    "plt.title(\"\", fontsize = 25)\n",
    "plt.ylabel('% Decrease in ' + r'$R^2$', fontsize = 18)\n",
    "plt.xlabel('')\n",
    "plt.xticks(fontsize = 18, rotation = 45, ha='right')\n",
    "plt.yticks(fontsize = 18)\n",
    "plt.grid(True)\n",
    "plt.grid(False)\n",
    "#plt.show()\n",
    "#plt.savefig('RF_DI3_GroupPerm_FI_BW.tif', dpi=600, bbox_inches = \"tight\")"
   ]
  },
  {
   "cell_type": "code",
   "execution_count": null,
   "metadata": {},
   "outputs": [],
   "source": []
  },
  {
   "cell_type": "code",
   "execution_count": 106,
   "metadata": {},
   "outputs": [],
   "source": [
    "#perm_imp_plot(I)"
   ]
  },
  {
   "cell_type": "code",
   "execution_count": null,
   "metadata": {},
   "outputs": [],
   "source": []
  },
  {
   "cell_type": "raw",
   "metadata": {},
   "source": [
    "plot_importances(Icopy)"
   ]
  },
  {
   "cell_type": "markdown",
   "metadata": {},
   "source": [
    "### Group importances with test set"
   ]
  },
  {
   "cell_type": "code",
   "execution_count": 143,
   "metadata": {},
   "outputs": [],
   "source": [
    "I2 = importances(OPT8A, x_test, y_test, features = features)\n",
    "I2copy = I2.copy()"
   ]
  },
  {
   "cell_type": "code",
   "execution_count": 144,
   "metadata": {},
   "outputs": [
    {
     "data": {
      "image/png": "[encoded data removed]",
      "text/plain": [
       "<Figure size 432x288 with 1 Axes>"
      ]
     },
     "metadata": {},
     "output_type": "display_data"
    }
   ],
   "source": [
    "perm_imp_plot(I2)"
   ]
  },
  {
   "cell_type": "code",
   "execution_count": 121,
   "metadata": {},
   "outputs": [
    {
     "data": {
      "text/html": [
       "<div>\n",
       "<style scoped>\n",
       "    .dataframe tbody tr th:only-of-type {\n",
       "        vertical-align: middle;\n",
       "    }\n",
       "\n",
       "    .dataframe tbody tr th {\n",
       "        vertical-align: top;\n",
       "    }\n",
       "\n",
       "    .dataframe thead th {\n",
       "        text-align: right;\n",
       "    }\n",
       "</style>\n",
       "<table border=\"1\" class=\"dataframe\">\n",
       "  <thead>\n",
       "    <tr style=\"text-align: right;\">\n",
       "      <th></th>\n",
       "      <th>Feature</th>\n",
       "      <th>Importance</th>\n",
       "    </tr>\n",
       "  </thead>\n",
       "  <tbody>\n",
       "    <tr>\n",
       "      <th>0</th>\n",
       "      <td>PeakGust\\nHurTrack</td>\n",
       "      <td>0.441171</td>\n",
       "    </tr>\n",
       "    <tr>\n",
       "      <th>1</th>\n",
       "      <td>STRVI_1\\nSpecCom\\nSEVI_1\\nCDC_Tot</td>\n",
       "      <td>0.269685</td>\n",
       "    </tr>\n",
       "    <tr>\n",
       "      <th>2</th>\n",
       "      <td>AveDepth\\nPropDG\\nPropSFHA</td>\n",
       "      <td>0.074696</td>\n",
       "    </tr>\n",
       "    <tr>\n",
       "      <th>3</th>\n",
       "      <td>AveLS</td>\n",
       "      <td>0.042374</td>\n",
       "    </tr>\n",
       "  </tbody>\n",
       "</table>\n",
       "</div>"
      ],
      "text/plain": [
       "                             Feature  Importance\n",
       "0                 PeakGust\\nHurTrack    0.441171\n",
       "1  STRVI_1\\nSpecCom\\nSEVI_1\\nCDC_Tot    0.269685\n",
       "2         AveDepth\\nPropDG\\nPropSFHA    0.074696\n",
       "3                              AveLS    0.042374"
      ]
     },
     "execution_count": 121,
     "metadata": {},
     "output_type": "execute_result"
    }
   ],
   "source": [
    "I2"
   ]
  },
  {
   "cell_type": "code",
   "execution_count": 76,
   "metadata": {},
   "outputs": [],
   "source": [
    "I2.drop(['Feature'], axis=1)\n",
    "I2['Feature'] = ['Wind', 'Vulnerability','Flood', 'Landslide']"
   ]
  },
  {
   "cell_type": "code",
   "execution_count": 77,
   "metadata": {},
   "outputs": [
    {
     "data": {
      "image/png": "[encoded data removed]",
      "text/plain": [
       "<Figure size 432x288 with 1 Axes>"
      ]
     },
     "metadata": {},
     "output_type": "display_data"
    }
   ],
   "source": [
    "perm_imp_plot(I2)"
   ]
  },
  {
   "cell_type": "code",
   "execution_count": 78,
   "metadata": {},
   "outputs": [
    {
     "data": {
      "image/svg+xml": [
       "<?xml version=\"1.0\" encoding=\"utf-8\" standalone=\"no\"?>\n",
       "<!DOCTYPE svg PUBLIC \"-//W3C//DTD SVG 1.1//EN\"\n",
       "  \"http://www.w3.org/Graphics/SVG/1.1/DTD/svg11.dtd\">\n",
       "<!-- Created with matplotlib (https://matplotlib.org/) -->\n",
       "<svg height=\"143.678125pt\" version=\"1.1\" viewBox=\"0 0 266.521875 143.678125\" width=\"266.521875pt\" xmlns=\"http://www.w3.org/2000/svg\" xmlns:xlink=\"http://www.w3.org/1999/xlink\">\n",
       " <defs>\n",
       "  <style type=\"text/css\">\n",
       "*{stroke-linecap:butt;stroke-linejoin:round;}\n",
       "  </style>\n",
       " </defs>\n",
       " <g id=\"figure_1\">\n",
       "  <g id=\"patch_1\">\n",
       "   <path d=\"M 0 143.678125 \n",
       "L 266.521875 143.678125 \n",
       "L 266.521875 0 \n",
       "L 0 0 \n",
       "z\n",
       "\" style=\"fill:#ffffff;\"/>\n",
       "  </g>\n",
       "  <g id=\"axes_1\">\n",
       "   <g id=\"patch_2\">\n",
       "    <path d=\"M 56.364063 127 \n",
       "L 255.389063 127 \n",
       "L 255.389063 -0 \n",
       "L 56.364063 -0 \n",
       "z\n",
       "\" style=\"fill:#ffffff;\"/>\n",
       "   </g>\n",
       "   <g id=\"patch_3\">\n",
       "    <path clip-path=\"url(#pbc826d21c0)\" d=\"M 57.738138 1.104348 \n",
       "L 254.014987 1.104348 \n",
       "L 254.014987 23.191304 \n",
       "L 57.738138 23.191304 \n",
       "z\n",
       "\" style=\"fill:#d9e6f5;stroke:#444443;stroke-linejoin:miter;stroke-width:0.5;\"/>\n",
       "   </g>\n",
       "   <g id=\"patch_4\">\n",
       "    <path clip-path=\"url(#pbc826d21c0)\" d=\"M 57.738138 24.295652 \n",
       "L 125.06863 24.295652 \n",
       "L 125.06863 68.469565 \n",
       "L 57.738138 68.469565 \n",
       "z\n",
       "\" style=\"fill:#d9e6f5;stroke:#444443;stroke-linejoin:miter;stroke-width:0.5;\"/>\n",
       "   </g>\n",
       "   <g id=\"patch_5\">\n",
       "    <path clip-path=\"url(#pbc826d21c0)\" d=\"M 57.738138 69.573913 \n",
       "L 123.868653 69.573913 \n",
       "L 123.868653 113.747826 \n",
       "L 57.738138 113.747826 \n",
       "z\n",
       "\" style=\"fill:#d9e6f5;stroke:#444443;stroke-linejoin:miter;stroke-width:0.5;\"/>\n",
       "   </g>\n",
       "   <g id=\"patch_6\">\n",
       "    <path clip-path=\"url(#pbc826d21c0)\" d=\"M 57.738138 114.852174 \n",
       "L 94.963526 114.852174 \n",
       "L 94.963526 125.895652 \n",
       "L 57.738138 125.895652 \n",
       "z\n",
       "\" style=\"fill:#d9e6f5;stroke:#444443;stroke-linejoin:miter;stroke-width:0.5;\"/>\n",
       "   </g>\n",
       "   <g id=\"matplotlib.axis_1\">\n",
       "    <g id=\"xtick_1\">\n",
       "     <g id=\"line2d_1\">\n",
       "      <defs>\n",
       "       <path d=\"M 0 0 \n",
       "L 0 3.5 \n",
       "\" id=\"m744ce84b89\" style=\"stroke:#000000;stroke-width:0.8;\"/>\n",
       "      </defs>\n",
       "      <g>\n",
       "       <use style=\"stroke:#000000;stroke-width:0.8;\" x=\"57.738138\" xlink:href=\"#m744ce84b89\" y=\"127\"/>\n",
       "      </g>\n",
       "     </g>\n",
       "     <g id=\"text_1\">\n",
       "      <!-- 0.00 -->\n",
       "      <defs>\n",
       "       <path d=\"M 31.78125 66.40625 \n",
       "Q 24.171875 66.40625 20.328125 58.90625 \n",
       "Q 16.5 51.421875 16.5 36.375 \n",
       "Q 16.5 21.390625 20.328125 13.890625 \n",
       "Q 24.171875 6.390625 31.78125 6.390625 \n",
       "Q 39.453125 6.390625 43.28125 13.890625 \n",
       "Q 47.125 21.390625 47.125 36.375 \n",
       "Q 47.125 51.421875 43.28125 58.90625 \n",
       "Q 39.453125 66.40625 31.78125 66.40625 \n",
       "z\n",
       "M 31.78125 74.21875 \n",
       "Q 44.046875 74.21875 50.515625 64.515625 \n",
       "Q 56.984375 54.828125 56.984375 36.375 \n",
       "Q 56.984375 17.96875 50.515625 8.265625 \n",
       "Q 44.046875 -1.421875 31.78125 -1.421875 \n",
       "Q 19.53125 -1.421875 13.0625 8.265625 \n",
       "Q 6.59375 17.96875 6.59375 36.375 \n",
       "Q 6.59375 54.828125 13.0625 64.515625 \n",
       "Q 19.53125 74.21875 31.78125 74.21875 \n",
       "z\n",
       "\" id=\"DejaVuSans-48\"/>\n",
       "       <path d=\"M 10.6875 12.40625 \n",
       "L 21 12.40625 \n",
       "L 21 0 \n",
       "L 10.6875 0 \n",
       "z\n",
       "\" id=\"DejaVuSans-46\"/>\n",
       "      </defs>\n",
       "      <g style=\"fill:#444443;\" transform=\"translate(46.605325 141.598438)scale(0.1 -0.1)\">\n",
       "       <use xlink:href=\"#DejaVuSans-48\"/>\n",
       "       <use x=\"63.623047\" xlink:href=\"#DejaVuSans-46\"/>\n",
       "       <use x=\"95.410156\" xlink:href=\"#DejaVuSans-48\"/>\n",
       "       <use x=\"159.033203\" xlink:href=\"#DejaVuSans-48\"/>\n",
       "      </g>\n",
       "     </g>\n",
       "    </g>\n",
       "    <g id=\"xtick_2\">\n",
       "     <g id=\"line2d_2\">\n",
       "      <g>\n",
       "       <use style=\"stroke:#000000;stroke-width:0.8;\" x=\"255.389063\" xlink:href=\"#m744ce84b89\" y=\"127\"/>\n",
       "      </g>\n",
       "     </g>\n",
       "     <g id=\"text_2\">\n",
       "      <!-- 0.29 -->\n",
       "      <defs>\n",
       "       <path d=\"M 19.1875 8.296875 \n",
       "L 53.609375 8.296875 \n",
       "L 53.609375 0 \n",
       "L 7.328125 0 \n",
       "L 7.328125 8.296875 \n",
       "Q 12.9375 14.109375 22.625 23.890625 \n",
       "Q 32.328125 33.6875 34.8125 36.53125 \n",
       "Q 39.546875 41.84375 41.421875 45.53125 \n",
       "Q 43.3125 49.21875 43.3125 52.78125 \n",
       "Q 43.3125 58.59375 39.234375 62.25 \n",
       "Q 35.15625 65.921875 28.609375 65.921875 \n",
       "Q 23.96875 65.921875 18.8125 64.3125 \n",
       "Q 13.671875 62.703125 7.8125 59.421875 \n",
       "L 7.8125 69.390625 \n",
       "Q 13.765625 71.78125 18.9375 73 \n",
       "Q 24.125 74.21875 28.421875 74.21875 \n",
       "Q 39.75 74.21875 46.484375 68.546875 \n",
       "Q 53.21875 62.890625 53.21875 53.421875 \n",
       "Q 53.21875 48.921875 51.53125 44.890625 \n",
       "Q 49.859375 40.875 45.40625 35.40625 \n",
       "Q 44.1875 33.984375 37.640625 27.21875 \n",
       "Q 31.109375 20.453125 19.1875 8.296875 \n",
       "z\n",
       "\" id=\"DejaVuSans-50\"/>\n",
       "       <path d=\"M 10.984375 1.515625 \n",
       "L 10.984375 10.5 \n",
       "Q 14.703125 8.734375 18.5 7.8125 \n",
       "Q 22.3125 6.890625 25.984375 6.890625 \n",
       "Q 35.75 6.890625 40.890625 13.453125 \n",
       "Q 46.046875 20.015625 46.78125 33.40625 \n",
       "Q 43.953125 29.203125 39.59375 26.953125 \n",
       "Q 35.25 24.703125 29.984375 24.703125 \n",
       "Q 19.046875 24.703125 12.671875 31.3125 \n",
       "Q 6.296875 37.9375 6.296875 49.421875 \n",
       "Q 6.296875 60.640625 12.9375 67.421875 \n",
       "Q 19.578125 74.21875 30.609375 74.21875 \n",
       "Q 43.265625 74.21875 49.921875 64.515625 \n",
       "Q 56.59375 54.828125 56.59375 36.375 \n",
       "Q 56.59375 19.140625 48.40625 8.859375 \n",
       "Q 40.234375 -1.421875 26.421875 -1.421875 \n",
       "Q 22.703125 -1.421875 18.890625 -0.6875 \n",
       "Q 15.09375 0.046875 10.984375 1.515625 \n",
       "z\n",
       "M 30.609375 32.421875 \n",
       "Q 37.25 32.421875 41.125 36.953125 \n",
       "Q 45.015625 41.5 45.015625 49.421875 \n",
       "Q 45.015625 57.28125 41.125 61.84375 \n",
       "Q 37.25 66.40625 30.609375 66.40625 \n",
       "Q 23.96875 66.40625 20.09375 61.84375 \n",
       "Q 16.21875 57.28125 16.21875 49.421875 \n",
       "Q 16.21875 41.5 20.09375 36.953125 \n",
       "Q 23.96875 32.421875 30.609375 32.421875 \n",
       "z\n",
       "\" id=\"DejaVuSans-57\"/>\n",
       "      </defs>\n",
       "      <g style=\"fill:#444443;\" transform=\"translate(244.25625 141.598438)scale(0.1 -0.1)\">\n",
       "       <use xlink:href=\"#DejaVuSans-48\"/>\n",
       "       <use x=\"63.623047\" xlink:href=\"#DejaVuSans-46\"/>\n",
       "       <use x=\"95.410156\" xlink:href=\"#DejaVuSans-50\"/>\n",
       "       <use x=\"159.033203\" xlink:href=\"#DejaVuSans-57\"/>\n",
       "      </g>\n",
       "     </g>\n",
       "    </g>\n",
       "   </g>\n",
       "   <g id=\"matplotlib.axis_2\">\n",
       "    <g id=\"ytick_1\">\n",
       "     <g id=\"line2d_3\">\n",
       "      <defs>\n",
       "       <path d=\"M 0 0 \n",
       "L -3.5 0 \n",
       "\" id=\"m966d731ad3\" style=\"stroke:#000000;stroke-width:0.8;\"/>\n",
       "      </defs>\n",
       "      <g>\n",
       "       <use style=\"stroke:#000000;stroke-width:0.8;\" x=\"56.364063\" xlink:href=\"#m966d731ad3\" y=\"12.147826\"/>\n",
       "      </g>\n",
       "     </g>\n",
       "     <g id=\"text_3\">\n",
       "      <!-- PeakGust -->\n",
       "      <defs>\n",
       "       <path d=\"M 19.671875 64.796875 \n",
       "L 19.671875 37.40625 \n",
       "L 32.078125 37.40625 \n",
       "Q 38.96875 37.40625 42.71875 40.96875 \n",
       "Q 46.484375 44.53125 46.484375 51.125 \n",
       "Q 46.484375 57.671875 42.71875 61.234375 \n",
       "Q 38.96875 64.796875 32.078125 64.796875 \n",
       "z\n",
       "M 9.8125 72.90625 \n",
       "L 32.078125 72.90625 \n",
       "Q 44.34375 72.90625 50.609375 67.359375 \n",
       "Q 56.890625 61.8125 56.890625 51.125 \n",
       "Q 56.890625 40.328125 50.609375 34.8125 \n",
       "Q 44.34375 29.296875 32.078125 29.296875 \n",
       "L 19.671875 29.296875 \n",
       "L 19.671875 0 \n",
       "L 9.8125 0 \n",
       "z\n",
       "\" id=\"DejaVuSans-80\"/>\n",
       "       <path d=\"M 56.203125 29.59375 \n",
       "L 56.203125 25.203125 \n",
       "L 14.890625 25.203125 \n",
       "Q 15.484375 15.921875 20.484375 11.0625 \n",
       "Q 25.484375 6.203125 34.421875 6.203125 \n",
       "Q 39.59375 6.203125 44.453125 7.46875 \n",
       "Q 49.3125 8.734375 54.109375 11.28125 \n",
       "L 54.109375 2.78125 \n",
       "Q 49.265625 0.734375 44.1875 -0.34375 \n",
       "Q 39.109375 -1.421875 33.890625 -1.421875 \n",
       "Q 20.796875 -1.421875 13.15625 6.1875 \n",
       "Q 5.515625 13.8125 5.515625 26.8125 \n",
       "Q 5.515625 40.234375 12.765625 48.109375 \n",
       "Q 20.015625 56 32.328125 56 \n",
       "Q 43.359375 56 49.78125 48.890625 \n",
       "Q 56.203125 41.796875 56.203125 29.59375 \n",
       "z\n",
       "M 47.21875 32.234375 \n",
       "Q 47.125 39.59375 43.09375 43.984375 \n",
       "Q 39.0625 48.390625 32.421875 48.390625 \n",
       "Q 24.90625 48.390625 20.390625 44.140625 \n",
       "Q 15.875 39.890625 15.1875 32.171875 \n",
       "z\n",
       "\" id=\"DejaVuSans-101\"/>\n",
       "       <path d=\"M 34.28125 27.484375 \n",
       "Q 23.390625 27.484375 19.1875 25 \n",
       "Q 14.984375 22.515625 14.984375 16.5 \n",
       "Q 14.984375 11.71875 18.140625 8.90625 \n",
       "Q 21.296875 6.109375 26.703125 6.109375 \n",
       "Q 34.1875 6.109375 38.703125 11.40625 \n",
       "Q 43.21875 16.703125 43.21875 25.484375 \n",
       "L 43.21875 27.484375 \n",
       "z\n",
       "M 52.203125 31.203125 \n",
       "L 52.203125 0 \n",
       "L 43.21875 0 \n",
       "L 43.21875 8.296875 \n",
       "Q 40.140625 3.328125 35.546875 0.953125 \n",
       "Q 30.953125 -1.421875 24.3125 -1.421875 \n",
       "Q 15.921875 -1.421875 10.953125 3.296875 \n",
       "Q 6 8.015625 6 15.921875 \n",
       "Q 6 25.140625 12.171875 29.828125 \n",
       "Q 18.359375 34.515625 30.609375 34.515625 \n",
       "L 43.21875 34.515625 \n",
       "L 43.21875 35.40625 \n",
       "Q 43.21875 41.609375 39.140625 45 \n",
       "Q 35.0625 48.390625 27.6875 48.390625 \n",
       "Q 23 48.390625 18.546875 47.265625 \n",
       "Q 14.109375 46.140625 10.015625 43.890625 \n",
       "L 10.015625 52.203125 \n",
       "Q 14.9375 54.109375 19.578125 55.046875 \n",
       "Q 24.21875 56 28.609375 56 \n",
       "Q 40.484375 56 46.34375 49.84375 \n",
       "Q 52.203125 43.703125 52.203125 31.203125 \n",
       "z\n",
       "\" id=\"DejaVuSans-97\"/>\n",
       "       <path d=\"M 9.078125 75.984375 \n",
       "L 18.109375 75.984375 \n",
       "L 18.109375 31.109375 \n",
       "L 44.921875 54.6875 \n",
       "L 56.390625 54.6875 \n",
       "L 27.390625 29.109375 \n",
       "L 57.625 0 \n",
       "L 45.90625 0 \n",
       "L 18.109375 26.703125 \n",
       "L 18.109375 0 \n",
       "L 9.078125 0 \n",
       "z\n",
       "\" id=\"DejaVuSans-107\"/>\n",
       "       <path d=\"M 59.515625 10.40625 \n",
       "L 59.515625 29.984375 \n",
       "L 43.40625 29.984375 \n",
       "L 43.40625 38.09375 \n",
       "L 69.28125 38.09375 \n",
       "L 69.28125 6.78125 \n",
       "Q 63.578125 2.734375 56.6875 0.65625 \n",
       "Q 49.8125 -1.421875 42 -1.421875 \n",
       "Q 24.90625 -1.421875 15.25 8.5625 \n",
       "Q 5.609375 18.5625 5.609375 36.375 \n",
       "Q 5.609375 54.25 15.25 64.234375 \n",
       "Q 24.90625 74.21875 42 74.21875 \n",
       "Q 49.125 74.21875 55.546875 72.453125 \n",
       "Q 61.96875 70.703125 67.390625 67.28125 \n",
       "L 67.390625 56.78125 \n",
       "Q 61.921875 61.421875 55.765625 63.765625 \n",
       "Q 49.609375 66.109375 42.828125 66.109375 \n",
       "Q 29.4375 66.109375 22.71875 58.640625 \n",
       "Q 16.015625 51.171875 16.015625 36.375 \n",
       "Q 16.015625 21.625 22.71875 14.15625 \n",
       "Q 29.4375 6.6875 42.828125 6.6875 \n",
       "Q 48.046875 6.6875 52.140625 7.59375 \n",
       "Q 56.25 8.5 59.515625 10.40625 \n",
       "z\n",
       "\" id=\"DejaVuSans-71\"/>\n",
       "       <path d=\"M 8.5 21.578125 \n",
       "L 8.5 54.6875 \n",
       "L 17.484375 54.6875 \n",
       "L 17.484375 21.921875 \n",
       "Q 17.484375 14.15625 20.5 10.265625 \n",
       "Q 23.53125 6.390625 29.59375 6.390625 \n",
       "Q 36.859375 6.390625 41.078125 11.03125 \n",
       "Q 45.3125 15.671875 45.3125 23.6875 \n",
       "L 45.3125 54.6875 \n",
       "L 54.296875 54.6875 \n",
       "L 54.296875 0 \n",
       "L 45.3125 0 \n",
       "L 45.3125 8.40625 \n",
       "Q 42.046875 3.421875 37.71875 1 \n",
       "Q 33.40625 -1.421875 27.6875 -1.421875 \n",
       "Q 18.265625 -1.421875 13.375 4.4375 \n",
       "Q 8.5 10.296875 8.5 21.578125 \n",
       "z\n",
       "M 31.109375 56 \n",
       "z\n",
       "\" id=\"DejaVuSans-117\"/>\n",
       "       <path d=\"M 44.28125 53.078125 \n",
       "L 44.28125 44.578125 \n",
       "Q 40.484375 46.53125 36.375 47.5 \n",
       "Q 32.28125 48.484375 27.875 48.484375 \n",
       "Q 21.1875 48.484375 17.84375 46.4375 \n",
       "Q 14.5 44.390625 14.5 40.28125 \n",
       "Q 14.5 37.15625 16.890625 35.375 \n",
       "Q 19.28125 33.59375 26.515625 31.984375 \n",
       "L 29.59375 31.296875 \n",
       "Q 39.15625 29.25 43.1875 25.515625 \n",
       "Q 47.21875 21.78125 47.21875 15.09375 \n",
       "Q 47.21875 7.46875 41.1875 3.015625 \n",
       "Q 35.15625 -1.421875 24.609375 -1.421875 \n",
       "Q 20.21875 -1.421875 15.453125 -0.5625 \n",
       "Q 10.6875 0.296875 5.421875 2 \n",
       "L 5.421875 11.28125 \n",
       "Q 10.40625 8.6875 15.234375 7.390625 \n",
       "Q 20.0625 6.109375 24.8125 6.109375 \n",
       "Q 31.15625 6.109375 34.5625 8.28125 \n",
       "Q 37.984375 10.453125 37.984375 14.40625 \n",
       "Q 37.984375 18.0625 35.515625 20.015625 \n",
       "Q 33.0625 21.96875 24.703125 23.78125 \n",
       "L 21.578125 24.515625 \n",
       "Q 13.234375 26.265625 9.515625 29.90625 \n",
       "Q 5.8125 33.546875 5.8125 39.890625 \n",
       "Q 5.8125 47.609375 11.28125 51.796875 \n",
       "Q 16.75 56 26.8125 56 \n",
       "Q 31.78125 56 36.171875 55.265625 \n",
       "Q 40.578125 54.546875 44.28125 53.078125 \n",
       "z\n",
       "\" id=\"DejaVuSans-115\"/>\n",
       "       <path d=\"M 18.3125 70.21875 \n",
       "L 18.3125 54.6875 \n",
       "L 36.8125 54.6875 \n",
       "L 36.8125 47.703125 \n",
       "L 18.3125 47.703125 \n",
       "L 18.3125 18.015625 \n",
       "Q 18.3125 11.328125 20.140625 9.421875 \n",
       "Q 21.96875 7.515625 27.59375 7.515625 \n",
       "L 36.8125 7.515625 \n",
       "L 36.8125 0 \n",
       "L 27.59375 0 \n",
       "Q 17.1875 0 13.234375 3.875 \n",
       "Q 9.28125 7.765625 9.28125 18.015625 \n",
       "L 9.28125 47.703125 \n",
       "L 2.6875 47.703125 \n",
       "L 2.6875 54.6875 \n",
       "L 9.28125 54.6875 \n",
       "L 9.28125 70.21875 \n",
       "z\n",
       "\" id=\"DejaVuSans-116\"/>\n",
       "      </defs>\n",
       "      <g style=\"fill:#444443;\" transform=\"translate(2.051563 11.107982)scale(0.1 -0.1)\">\n",
       "       <use xlink:href=\"#DejaVuSans-80\"/>\n",
       "       <use x=\"60.255859\" xlink:href=\"#DejaVuSans-101\"/>\n",
       "       <use x=\"121.779297\" xlink:href=\"#DejaVuSans-97\"/>\n",
       "       <use x=\"183.058594\" xlink:href=\"#DejaVuSans-107\"/>\n",
       "       <use x=\"240.96875\" xlink:href=\"#DejaVuSans-71\"/>\n",
       "       <use x=\"318.458984\" xlink:href=\"#DejaVuSans-117\"/>\n",
       "       <use x=\"381.837891\" xlink:href=\"#DejaVuSans-115\"/>\n",
       "       <use x=\"433.9375\" xlink:href=\"#DejaVuSans-116\"/>\n",
       "      </g>\n",
       "      <!-- HurTrack -->\n",
       "      <defs>\n",
       "       <path d=\"M 9.8125 72.90625 \n",
       "L 19.671875 72.90625 \n",
       "L 19.671875 43.015625 \n",
       "L 55.515625 43.015625 \n",
       "L 55.515625 72.90625 \n",
       "L 65.375 72.90625 \n",
       "L 65.375 0 \n",
       "L 55.515625 0 \n",
       "L 55.515625 34.71875 \n",
       "L 19.671875 34.71875 \n",
       "L 19.671875 0 \n",
       "L 9.8125 0 \n",
       "z\n",
       "\" id=\"DejaVuSans-72\"/>\n",
       "       <path d=\"M 41.109375 46.296875 \n",
       "Q 39.59375 47.171875 37.8125 47.578125 \n",
       "Q 36.03125 48 33.890625 48 \n",
       "Q 26.265625 48 22.1875 43.046875 \n",
       "Q 18.109375 38.09375 18.109375 28.8125 \n",
       "L 18.109375 0 \n",
       "L 9.078125 0 \n",
       "L 9.078125 54.6875 \n",
       "L 18.109375 54.6875 \n",
       "L 18.109375 46.1875 \n",
       "Q 20.953125 51.171875 25.484375 53.578125 \n",
       "Q 30.03125 56 36.53125 56 \n",
       "Q 37.453125 56 38.578125 55.875 \n",
       "Q 39.703125 55.765625 41.0625 55.515625 \n",
       "z\n",
       "\" id=\"DejaVuSans-114\"/>\n",
       "       <path d=\"M -0.296875 72.90625 \n",
       "L 61.375 72.90625 \n",
       "L 61.375 64.59375 \n",
       "L 35.5 64.59375 \n",
       "L 35.5 0 \n",
       "L 25.59375 0 \n",
       "L 25.59375 64.59375 \n",
       "L -0.296875 64.59375 \n",
       "z\n",
       "\" id=\"DejaVuSans-84\"/>\n",
       "       <path d=\"M 48.78125 52.59375 \n",
       "L 48.78125 44.1875 \n",
       "Q 44.96875 46.296875 41.140625 47.34375 \n",
       "Q 37.3125 48.390625 33.40625 48.390625 \n",
       "Q 24.65625 48.390625 19.8125 42.84375 \n",
       "Q 14.984375 37.3125 14.984375 27.296875 \n",
       "Q 14.984375 17.28125 19.8125 11.734375 \n",
       "Q 24.65625 6.203125 33.40625 6.203125 \n",
       "Q 37.3125 6.203125 41.140625 7.25 \n",
       "Q 44.96875 8.296875 48.78125 10.40625 \n",
       "L 48.78125 2.09375 \n",
       "Q 45.015625 0.34375 40.984375 -0.53125 \n",
       "Q 36.96875 -1.421875 32.421875 -1.421875 \n",
       "Q 20.0625 -1.421875 12.78125 6.34375 \n",
       "Q 5.515625 14.109375 5.515625 27.296875 \n",
       "Q 5.515625 40.671875 12.859375 48.328125 \n",
       "Q 20.21875 56 33.015625 56 \n",
       "Q 37.15625 56 41.109375 55.140625 \n",
       "Q 45.0625 54.296875 48.78125 52.59375 \n",
       "z\n",
       "\" id=\"DejaVuSans-99\"/>\n",
       "      </defs>\n",
       "      <g style=\"fill:#444443;\" transform=\"translate(3.78125 22.305795)scale(0.1 -0.1)\">\n",
       "       <use xlink:href=\"#DejaVuSans-72\"/>\n",
       "       <use x=\"75.195312\" xlink:href=\"#DejaVuSans-117\"/>\n",
       "       <use x=\"138.574219\" xlink:href=\"#DejaVuSans-114\"/>\n",
       "       <use x=\"179.6875\" xlink:href=\"#DejaVuSans-84\"/>\n",
       "       <use x=\"240.552734\" xlink:href=\"#DejaVuSans-114\"/>\n",
       "       <use x=\"281.666016\" xlink:href=\"#DejaVuSans-97\"/>\n",
       "       <use x=\"342.945312\" xlink:href=\"#DejaVuSans-99\"/>\n",
       "       <use x=\"397.925781\" xlink:href=\"#DejaVuSans-107\"/>\n",
       "      </g>\n",
       "     </g>\n",
       "    </g>\n",
       "    <g id=\"ytick_2\">\n",
       "     <g id=\"line2d_4\">\n",
       "      <g>\n",
       "       <use style=\"stroke:#000000;stroke-width:0.8;\" x=\"56.364063\" xlink:href=\"#m966d731ad3\" y=\"46.382609\"/>\n",
       "      </g>\n",
       "     </g>\n",
       "     <g id=\"text_4\">\n",
       "      <!-- AveDepth -->\n",
       "      <defs>\n",
       "       <path d=\"M 34.1875 63.1875 \n",
       "L 20.796875 26.90625 \n",
       "L 47.609375 26.90625 \n",
       "z\n",
       "M 28.609375 72.90625 \n",
       "L 39.796875 72.90625 \n",
       "L 67.578125 0 \n",
       "L 57.328125 0 \n",
       "L 50.6875 18.703125 \n",
       "L 17.828125 18.703125 \n",
       "L 11.1875 0 \n",
       "L 0.78125 0 \n",
       "z\n",
       "\" id=\"DejaVuSans-65\"/>\n",
       "       <path d=\"M 2.984375 54.6875 \n",
       "L 12.5 54.6875 \n",
       "L 29.59375 8.796875 \n",
       "L 46.6875 54.6875 \n",
       "L 56.203125 54.6875 \n",
       "L 35.6875 0 \n",
       "L 23.484375 0 \n",
       "z\n",
       "\" id=\"DejaVuSans-118\"/>\n",
       "       <path d=\"M 19.671875 64.796875 \n",
       "L 19.671875 8.109375 \n",
       "L 31.59375 8.109375 \n",
       "Q 46.6875 8.109375 53.6875 14.9375 \n",
       "Q 60.6875 21.78125 60.6875 36.53125 \n",
       "Q 60.6875 51.171875 53.6875 57.984375 \n",
       "Q 46.6875 64.796875 31.59375 64.796875 \n",
       "z\n",
       "M 9.8125 72.90625 \n",
       "L 30.078125 72.90625 \n",
       "Q 51.265625 72.90625 61.171875 64.09375 \n",
       "Q 71.09375 55.28125 71.09375 36.53125 \n",
       "Q 71.09375 17.671875 61.125 8.828125 \n",
       "Q 51.171875 0 30.078125 0 \n",
       "L 9.8125 0 \n",
       "z\n",
       "\" id=\"DejaVuSans-68\"/>\n",
       "       <path d=\"M 18.109375 8.203125 \n",
       "L 18.109375 -20.796875 \n",
       "L 9.078125 -20.796875 \n",
       "L 9.078125 54.6875 \n",
       "L 18.109375 54.6875 \n",
       "L 18.109375 46.390625 \n",
       "Q 20.953125 51.265625 25.265625 53.625 \n",
       "Q 29.59375 56 35.59375 56 \n",
       "Q 45.5625 56 51.78125 48.09375 \n",
       "Q 58.015625 40.1875 58.015625 27.296875 \n",
       "Q 58.015625 14.40625 51.78125 6.484375 \n",
       "Q 45.5625 -1.421875 35.59375 -1.421875 \n",
       "Q 29.59375 -1.421875 25.265625 0.953125 \n",
       "Q 20.953125 3.328125 18.109375 8.203125 \n",
       "z\n",
       "M 48.6875 27.296875 \n",
       "Q 48.6875 37.203125 44.609375 42.84375 \n",
       "Q 40.53125 48.484375 33.40625 48.484375 \n",
       "Q 26.265625 48.484375 22.1875 42.84375 \n",
       "Q 18.109375 37.203125 18.109375 27.296875 \n",
       "Q 18.109375 17.390625 22.1875 11.75 \n",
       "Q 26.265625 6.109375 33.40625 6.109375 \n",
       "Q 40.53125 6.109375 44.609375 11.75 \n",
       "Q 48.6875 17.390625 48.6875 27.296875 \n",
       "z\n",
       "\" id=\"DejaVuSans-112\"/>\n",
       "       <path d=\"M 54.890625 33.015625 \n",
       "L 54.890625 0 \n",
       "L 45.90625 0 \n",
       "L 45.90625 32.71875 \n",
       "Q 45.90625 40.484375 42.875 44.328125 \n",
       "Q 39.84375 48.1875 33.796875 48.1875 \n",
       "Q 26.515625 48.1875 22.3125 43.546875 \n",
       "Q 18.109375 38.921875 18.109375 30.90625 \n",
       "L 18.109375 0 \n",
       "L 9.078125 0 \n",
       "L 9.078125 75.984375 \n",
       "L 18.109375 75.984375 \n",
       "L 18.109375 46.1875 \n",
       "Q 21.34375 51.125 25.703125 53.5625 \n",
       "Q 30.078125 56 35.796875 56 \n",
       "Q 45.21875 56 50.046875 50.171875 \n",
       "Q 54.890625 44.34375 54.890625 33.015625 \n",
       "z\n",
       "\" id=\"DejaVuSans-104\"/>\n",
       "      </defs>\n",
       "      <g style=\"fill:#444443;\" transform=\"translate(0 34.144952)scale(0.1 -0.1)\">\n",
       "       <use xlink:href=\"#DejaVuSans-65\"/>\n",
       "       <use x=\"68.330078\" xlink:href=\"#DejaVuSans-118\"/>\n",
       "       <use x=\"127.509766\" xlink:href=\"#DejaVuSans-101\"/>\n",
       "       <use x=\"189.033203\" xlink:href=\"#DejaVuSans-68\"/>\n",
       "       <use x=\"266.035156\" xlink:href=\"#DejaVuSans-101\"/>\n",
       "       <use x=\"327.558594\" xlink:href=\"#DejaVuSans-112\"/>\n",
       "       <use x=\"391.035156\" xlink:href=\"#DejaVuSans-116\"/>\n",
       "       <use x=\"430.244141\" xlink:href=\"#DejaVuSans-104\"/>\n",
       "      </g>\n",
       "      <!-- AveDepth -->\n",
       "      <g style=\"fill:#444443;\" transform=\"translate(0 45.342765)scale(0.1 -0.1)\">\n",
       "       <use xlink:href=\"#DejaVuSans-65\"/>\n",
       "       <use x=\"68.330078\" xlink:href=\"#DejaVuSans-118\"/>\n",
       "       <use x=\"127.509766\" xlink:href=\"#DejaVuSans-101\"/>\n",
       "       <use x=\"189.033203\" xlink:href=\"#DejaVuSans-68\"/>\n",
       "       <use x=\"266.035156\" xlink:href=\"#DejaVuSans-101\"/>\n",
       "       <use x=\"327.558594\" xlink:href=\"#DejaVuSans-112\"/>\n",
       "       <use x=\"391.035156\" xlink:href=\"#DejaVuSans-116\"/>\n",
       "       <use x=\"430.244141\" xlink:href=\"#DejaVuSans-104\"/>\n",
       "      </g>\n",
       "      <!-- PropDG -->\n",
       "      <defs>\n",
       "       <path d=\"M 30.609375 48.390625 \n",
       "Q 23.390625 48.390625 19.1875 42.75 \n",
       "Q 14.984375 37.109375 14.984375 27.296875 \n",
       "Q 14.984375 17.484375 19.15625 11.84375 \n",
       "Q 23.34375 6.203125 30.609375 6.203125 \n",
       "Q 37.796875 6.203125 41.984375 11.859375 \n",
       "Q 46.1875 17.53125 46.1875 27.296875 \n",
       "Q 46.1875 37.015625 41.984375 42.703125 \n",
       "Q 37.796875 48.390625 30.609375 48.390625 \n",
       "z\n",
       "M 30.609375 56 \n",
       "Q 42.328125 56 49.015625 48.375 \n",
       "Q 55.71875 40.765625 55.71875 27.296875 \n",
       "Q 55.71875 13.875 49.015625 6.21875 \n",
       "Q 42.328125 -1.421875 30.609375 -1.421875 \n",
       "Q 18.84375 -1.421875 12.171875 6.21875 \n",
       "Q 5.515625 13.875 5.515625 27.296875 \n",
       "Q 5.515625 40.765625 12.171875 48.375 \n",
       "Q 18.84375 56 30.609375 56 \n",
       "z\n",
       "\" id=\"DejaVuSans-111\"/>\n",
       "      </defs>\n",
       "      <g style=\"fill:#444443;\" transform=\"translate(11.3125 56.540577)scale(0.1 -0.1)\">\n",
       "       <use xlink:href=\"#DejaVuSans-80\"/>\n",
       "       <use x=\"60.287109\" xlink:href=\"#DejaVuSans-114\"/>\n",
       "       <use x=\"101.369141\" xlink:href=\"#DejaVuSans-111\"/>\n",
       "       <use x=\"162.550781\" xlink:href=\"#DejaVuSans-112\"/>\n",
       "       <use x=\"226.027344\" xlink:href=\"#DejaVuSans-68\"/>\n",
       "       <use x=\"303.029297\" xlink:href=\"#DejaVuSans-71\"/>\n",
       "      </g>\n",
       "      <!-- PropSFHA -->\n",
       "      <defs>\n",
       "       <path d=\"M 53.515625 70.515625 \n",
       "L 53.515625 60.890625 \n",
       "Q 47.90625 63.578125 42.921875 64.890625 \n",
       "Q 37.9375 66.21875 33.296875 66.21875 \n",
       "Q 25.25 66.21875 20.875 63.09375 \n",
       "Q 16.5 59.96875 16.5 54.203125 \n",
       "Q 16.5 49.359375 19.40625 46.890625 \n",
       "Q 22.3125 44.4375 30.421875 42.921875 \n",
       "L 36.375 41.703125 \n",
       "Q 47.40625 39.59375 52.65625 34.296875 \n",
       "Q 57.90625 29 57.90625 20.125 \n",
       "Q 57.90625 9.515625 50.796875 4.046875 \n",
       "Q 43.703125 -1.421875 29.984375 -1.421875 \n",
       "Q 24.8125 -1.421875 18.96875 -0.25 \n",
       "Q 13.140625 0.921875 6.890625 3.21875 \n",
       "L 6.890625 13.375 \n",
       "Q 12.890625 10.015625 18.65625 8.296875 \n",
       "Q 24.421875 6.59375 29.984375 6.59375 \n",
       "Q 38.421875 6.59375 43.015625 9.90625 \n",
       "Q 47.609375 13.234375 47.609375 19.390625 \n",
       "Q 47.609375 24.75 44.3125 27.78125 \n",
       "Q 41.015625 30.8125 33.5 32.328125 \n",
       "L 27.484375 33.5 \n",
       "Q 16.453125 35.6875 11.515625 40.375 \n",
       "Q 6.59375 45.0625 6.59375 53.421875 \n",
       "Q 6.59375 63.09375 13.40625 68.65625 \n",
       "Q 20.21875 74.21875 32.171875 74.21875 \n",
       "Q 37.3125 74.21875 42.625 73.28125 \n",
       "Q 47.953125 72.359375 53.515625 70.515625 \n",
       "z\n",
       "\" id=\"DejaVuSans-83\"/>\n",
       "       <path d=\"M 9.8125 72.90625 \n",
       "L 51.703125 72.90625 \n",
       "L 51.703125 64.59375 \n",
       "L 19.671875 64.59375 \n",
       "L 19.671875 43.109375 \n",
       "L 48.578125 43.109375 \n",
       "L 48.578125 34.8125 \n",
       "L 19.671875 34.8125 \n",
       "L 19.671875 0 \n",
       "L 9.8125 0 \n",
       "z\n",
       "\" id=\"DejaVuSans-70\"/>\n",
       "      </defs>\n",
       "      <g style=\"fill:#444443;\" transform=\"translate(0.3 67.73839)scale(0.1 -0.1)\">\n",
       "       <use xlink:href=\"#DejaVuSans-80\"/>\n",
       "       <use x=\"60.287109\" xlink:href=\"#DejaVuSans-114\"/>\n",
       "       <use x=\"101.369141\" xlink:href=\"#DejaVuSans-111\"/>\n",
       "       <use x=\"162.550781\" xlink:href=\"#DejaVuSans-112\"/>\n",
       "       <use x=\"226.027344\" xlink:href=\"#DejaVuSans-83\"/>\n",
       "       <use x=\"289.503906\" xlink:href=\"#DejaVuSans-70\"/>\n",
       "       <use x=\"347.023438\" xlink:href=\"#DejaVuSans-72\"/>\n",
       "       <use x=\"422.21875\" xlink:href=\"#DejaVuSans-65\"/>\n",
       "      </g>\n",
       "     </g>\n",
       "    </g>\n",
       "    <g id=\"ytick_3\">\n",
       "     <g id=\"line2d_5\">\n",
       "      <g>\n",
       "       <use style=\"stroke:#000000;stroke-width:0.8;\" x=\"56.364063\" xlink:href=\"#m966d731ad3\" y=\"91.66087\"/>\n",
       "      </g>\n",
       "     </g>\n",
       "     <g id=\"text_5\">\n",
       "      <!-- STRVI_1 -->\n",
       "      <defs>\n",
       "       <path d=\"M 44.390625 34.1875 \n",
       "Q 47.5625 33.109375 50.5625 29.59375 \n",
       "Q 53.5625 26.078125 56.59375 19.921875 \n",
       "L 66.609375 0 \n",
       "L 56 0 \n",
       "L 46.6875 18.703125 \n",
       "Q 43.0625 26.03125 39.671875 28.421875 \n",
       "Q 36.28125 30.8125 30.421875 30.8125 \n",
       "L 19.671875 30.8125 \n",
       "L 19.671875 0 \n",
       "L 9.8125 0 \n",
       "L 9.8125 72.90625 \n",
       "L 32.078125 72.90625 \n",
       "Q 44.578125 72.90625 50.734375 67.671875 \n",
       "Q 56.890625 62.453125 56.890625 51.90625 \n",
       "Q 56.890625 45.015625 53.6875 40.46875 \n",
       "Q 50.484375 35.9375 44.390625 34.1875 \n",
       "z\n",
       "M 19.671875 64.796875 \n",
       "L 19.671875 38.921875 \n",
       "L 32.078125 38.921875 \n",
       "Q 39.203125 38.921875 42.84375 42.21875 \n",
       "Q 46.484375 45.515625 46.484375 51.90625 \n",
       "Q 46.484375 58.296875 42.84375 61.546875 \n",
       "Q 39.203125 64.796875 32.078125 64.796875 \n",
       "z\n",
       "\" id=\"DejaVuSans-82\"/>\n",
       "       <path d=\"M 28.609375 0 \n",
       "L 0.78125 72.90625 \n",
       "L 11.078125 72.90625 \n",
       "L 34.1875 11.53125 \n",
       "L 57.328125 72.90625 \n",
       "L 67.578125 72.90625 \n",
       "L 39.796875 0 \n",
       "z\n",
       "\" id=\"DejaVuSans-86\"/>\n",
       "       <path d=\"M 9.8125 72.90625 \n",
       "L 19.671875 72.90625 \n",
       "L 19.671875 0 \n",
       "L 9.8125 0 \n",
       "z\n",
       "\" id=\"DejaVuSans-73\"/>\n",
       "       <path d=\"M 50.984375 -16.609375 \n",
       "L 50.984375 -23.578125 \n",
       "L -0.984375 -23.578125 \n",
       "L -0.984375 -16.609375 \n",
       "z\n",
       "\" id=\"DejaVuSans-95\"/>\n",
       "       <path d=\"M 12.40625 8.296875 \n",
       "L 28.515625 8.296875 \n",
       "L 28.515625 63.921875 \n",
       "L 10.984375 60.40625 \n",
       "L 10.984375 69.390625 \n",
       "L 28.421875 72.90625 \n",
       "L 38.28125 72.90625 \n",
       "L 38.28125 8.296875 \n",
       "L 54.390625 8.296875 \n",
       "L 54.390625 0 \n",
       "L 12.40625 0 \n",
       "z\n",
       "\" id=\"DejaVuSans-49\"/>\n",
       "      </defs>\n",
       "      <g style=\"fill:#444443;\" transform=\"translate(8.814062 79.145088)scale(0.1 -0.1)\">\n",
       "       <use xlink:href=\"#DejaVuSans-83\"/>\n",
       "       <use x=\"63.476562\" xlink:href=\"#DejaVuSans-84\"/>\n",
       "       <use x=\"124.560547\" xlink:href=\"#DejaVuSans-82\"/>\n",
       "       <use x=\"193.964844\" xlink:href=\"#DejaVuSans-86\"/>\n",
       "       <use x=\"262.373047\" xlink:href=\"#DejaVuSans-73\"/>\n",
       "       <use x=\"291.865234\" xlink:href=\"#DejaVuSans-95\"/>\n",
       "       <use x=\"341.865234\" xlink:href=\"#DejaVuSans-49\"/>\n",
       "      </g>\n",
       "      <!-- SpecCom -->\n",
       "      <defs>\n",
       "       <path d=\"M 64.40625 67.28125 \n",
       "L 64.40625 56.890625 \n",
       "Q 59.421875 61.53125 53.78125 63.8125 \n",
       "Q 48.140625 66.109375 41.796875 66.109375 \n",
       "Q 29.296875 66.109375 22.65625 58.46875 \n",
       "Q 16.015625 50.828125 16.015625 36.375 \n",
       "Q 16.015625 21.96875 22.65625 14.328125 \n",
       "Q 29.296875 6.6875 41.796875 6.6875 \n",
       "Q 48.140625 6.6875 53.78125 8.984375 \n",
       "Q 59.421875 11.28125 64.40625 15.921875 \n",
       "L 64.40625 5.609375 \n",
       "Q 59.234375 2.09375 53.4375 0.328125 \n",
       "Q 47.65625 -1.421875 41.21875 -1.421875 \n",
       "Q 24.65625 -1.421875 15.125 8.703125 \n",
       "Q 5.609375 18.84375 5.609375 36.375 \n",
       "Q 5.609375 53.953125 15.125 64.078125 \n",
       "Q 24.65625 74.21875 41.21875 74.21875 \n",
       "Q 47.75 74.21875 53.53125 72.484375 \n",
       "Q 59.328125 70.75 64.40625 67.28125 \n",
       "z\n",
       "\" id=\"DejaVuSans-67\"/>\n",
       "       <path d=\"M 52 44.1875 \n",
       "Q 55.375 50.25 60.0625 53.125 \n",
       "Q 64.75 56 71.09375 56 \n",
       "Q 79.640625 56 84.28125 50.015625 \n",
       "Q 88.921875 44.046875 88.921875 33.015625 \n",
       "L 88.921875 0 \n",
       "L 79.890625 0 \n",
       "L 79.890625 32.71875 \n",
       "Q 79.890625 40.578125 77.09375 44.375 \n",
       "Q 74.3125 48.1875 68.609375 48.1875 \n",
       "Q 61.625 48.1875 57.5625 43.546875 \n",
       "Q 53.515625 38.921875 53.515625 30.90625 \n",
       "L 53.515625 0 \n",
       "L 44.484375 0 \n",
       "L 44.484375 32.71875 \n",
       "Q 44.484375 40.625 41.703125 44.40625 \n",
       "Q 38.921875 48.1875 33.109375 48.1875 \n",
       "Q 26.21875 48.1875 22.15625 43.53125 \n",
       "Q 18.109375 38.875 18.109375 30.90625 \n",
       "L 18.109375 0 \n",
       "L 9.078125 0 \n",
       "L 9.078125 54.6875 \n",
       "L 18.109375 54.6875 \n",
       "L 18.109375 46.1875 \n",
       "Q 21.1875 51.21875 25.484375 53.609375 \n",
       "Q 29.78125 56 35.6875 56 \n",
       "Q 41.65625 56 45.828125 52.96875 \n",
       "Q 50 49.953125 52 44.1875 \n",
       "z\n",
       "\" id=\"DejaVuSans-109\"/>\n",
       "      </defs>\n",
       "      <g style=\"fill:#444443;\" transform=\"translate(2.173437 90.621026)scale(0.1 -0.1)\">\n",
       "       <use xlink:href=\"#DejaVuSans-83\"/>\n",
       "       <use x=\"63.476562\" xlink:href=\"#DejaVuSans-112\"/>\n",
       "       <use x=\"126.953125\" xlink:href=\"#DejaVuSans-101\"/>\n",
       "       <use x=\"188.476562\" xlink:href=\"#DejaVuSans-99\"/>\n",
       "       <use x=\"243.457031\" xlink:href=\"#DejaVuSans-67\"/>\n",
       "       <use x=\"313.28125\" xlink:href=\"#DejaVuSans-111\"/>\n",
       "       <use x=\"374.462891\" xlink:href=\"#DejaVuSans-109\"/>\n",
       "      </g>\n",
       "      <!-- SEVI_1 -->\n",
       "      <defs>\n",
       "       <path d=\"M 9.8125 72.90625 \n",
       "L 55.90625 72.90625 \n",
       "L 55.90625 64.59375 \n",
       "L 19.671875 64.59375 \n",
       "L 19.671875 43.015625 \n",
       "L 54.390625 43.015625 \n",
       "L 54.390625 34.71875 \n",
       "L 19.671875 34.71875 \n",
       "L 19.671875 8.296875 \n",
       "L 56.78125 8.296875 \n",
       "L 56.78125 0 \n",
       "L 9.8125 0 \n",
       "z\n",
       "\" id=\"DejaVuSans-69\"/>\n",
       "      </defs>\n",
       "      <g style=\"fill:#444443;\" transform=\"translate(15.54375 101.818838)scale(0.1 -0.1)\">\n",
       "       <use xlink:href=\"#DejaVuSans-83\"/>\n",
       "       <use x=\"63.476562\" xlink:href=\"#DejaVuSans-69\"/>\n",
       "       <use x=\"126.660156\" xlink:href=\"#DejaVuSans-86\"/>\n",
       "       <use x=\"195.068359\" xlink:href=\"#DejaVuSans-73\"/>\n",
       "       <use x=\"224.560547\" xlink:href=\"#DejaVuSans-95\"/>\n",
       "       <use x=\"274.560547\" xlink:href=\"#DejaVuSans-49\"/>\n",
       "      </g>\n",
       "      <!-- CDC_Tot -->\n",
       "      <g style=\"fill:#444443;\" transform=\"translate(6.578125 113.294776)scale(0.1 -0.1)\">\n",
       "       <use xlink:href=\"#DejaVuSans-67\"/>\n",
       "       <use x=\"69.824219\" xlink:href=\"#DejaVuSans-68\"/>\n",
       "       <use x=\"146.826172\" xlink:href=\"#DejaVuSans-67\"/>\n",
       "       <use x=\"216.650391\" xlink:href=\"#DejaVuSans-95\"/>\n",
       "       <use x=\"266.650391\" xlink:href=\"#DejaVuSans-84\"/>\n",
       "       <use x=\"327.46875\" xlink:href=\"#DejaVuSans-111\"/>\n",
       "       <use x=\"388.650391\" xlink:href=\"#DejaVuSans-116\"/>\n",
       "      </g>\n",
       "     </g>\n",
       "    </g>\n",
       "    <g id=\"ytick_4\">\n",
       "     <g id=\"line2d_6\">\n",
       "      <g>\n",
       "       <use style=\"stroke:#000000;stroke-width:0.8;\" x=\"56.364063\" xlink:href=\"#m966d731ad3\" y=\"120.373913\"/>\n",
       "      </g>\n",
       "     </g>\n",
       "     <g id=\"text_6\">\n",
       "      <!-- AveLS -->\n",
       "      <defs>\n",
       "       <path d=\"M 9.8125 72.90625 \n",
       "L 19.671875 72.90625 \n",
       "L 19.671875 8.296875 \n",
       "L 55.171875 8.296875 \n",
       "L 55.171875 0 \n",
       "L 9.8125 0 \n",
       "z\n",
       "\" id=\"DejaVuSans-76\"/>\n",
       "      </defs>\n",
       "      <g style=\"fill:#444443;\" transform=\"translate(18.539062 124.173132)scale(0.1 -0.1)\">\n",
       "       <use xlink:href=\"#DejaVuSans-65\"/>\n",
       "       <use x=\"68.330078\" xlink:href=\"#DejaVuSans-118\"/>\n",
       "       <use x=\"127.509766\" xlink:href=\"#DejaVuSans-101\"/>\n",
       "       <use x=\"189.033203\" xlink:href=\"#DejaVuSans-76\"/>\n",
       "       <use x=\"244.746094\" xlink:href=\"#DejaVuSans-83\"/>\n",
       "      </g>\n",
       "     </g>\n",
       "    </g>\n",
       "   </g>\n",
       "   <g id=\"patch_7\">\n",
       "    <path d=\"M 56.364063 127 \n",
       "L 56.364063 -0 \n",
       "\" style=\"fill:none;stroke:#000000;stroke-linecap:square;stroke-linejoin:miter;stroke-width:0.3;\"/>\n",
       "   </g>\n",
       "   <g id=\"patch_8\">\n",
       "    <path d=\"M 255.389063 127 \n",
       "L 255.389063 -0 \n",
       "\" style=\"fill:none;stroke:#000000;stroke-linecap:square;stroke-linejoin:miter;stroke-width:0.3;\"/>\n",
       "   </g>\n",
       "   <g id=\"patch_9\">\n",
       "    <path d=\"M 56.364063 127 \n",
       "L 255.389063 127 \n",
       "\" style=\"fill:none;stroke:#000000;stroke-linecap:square;stroke-linejoin:miter;stroke-width:0.3;\"/>\n",
       "   </g>\n",
       "   <g id=\"patch_10\">\n",
       "    <path d=\"M 56.364063 -0 \n",
       "L 255.389063 -0 \n",
       "\" style=\"fill:none;stroke:#000000;stroke-linecap:square;stroke-linejoin:miter;stroke-width:0.3;\"/>\n",
       "   </g>\n",
       "  </g>\n",
       " </g>\n",
       " <defs>\n",
       "  <clipPath id=\"pbc826d21c0\">\n",
       "   <rect height=\"127\" width=\"199.025\" x=\"56.364063\" y=\"-0\"/>\n",
       "  </clipPath>\n",
       " </defs>\n",
       "</svg>\n"
      ],
      "text/plain": [
       "<rfpimp.PimpViz at 0x10c9743c8>"
      ]
     },
     "execution_count": 78,
     "metadata": {},
     "output_type": "execute_result"
    }
   ],
   "source": [
    "plot_importances(I2copy)"
   ]
  },
  {
   "cell_type": "markdown",
   "metadata": {},
   "source": [
    "## Partial Dependencies"
   ]
  },
  {
   "cell_type": "code",
   "execution_count": 79,
   "metadata": {},
   "outputs": [],
   "source": [
    "def plot_part_depend(model, x_train, feature_list, feature_names):\n",
    "    with plt.rc_context({'legend.fontsize': 'large',\n",
    "              'figure.figsize': (20, 40),\n",
    "             'axes.labelsize': 'large',\n",
    "             'axes.titlesize':'x-large',\n",
    "             'xtick.labelsize':'large',\n",
    "             'ytick.labelsize':'large'}):\n",
    "        #plt.subplots(nrows=3,ncols=3, sharey=True)\n",
    "        plot_partial_dependence(model, \n",
    "                                x_train, \n",
    "                                feature_list, \n",
    "                                feature_names = feature_names, \n",
    "                                grid_resolution=10, \n",
    "                                n_cols=2,\n",
    "                                method='brute'\n",
    "                               ) \n",
    "        #plt.savefig('partialdependence.png', dpi=400, bbox_inches = \"tight\")"
   ]
  },
  {
   "cell_type": "code",
   "execution_count": 82,
   "metadata": {},
   "outputs": [
    {
     "data": {
      "text/html": [
       "<div>\n",
       "<style scoped>\n",
       "    .dataframe tbody tr th:only-of-type {\n",
       "        vertical-align: middle;\n",
       "    }\n",
       "\n",
       "    .dataframe tbody tr th {\n",
       "        vertical-align: top;\n",
       "    }\n",
       "\n",
       "    .dataframe thead th {\n",
       "        text-align: right;\n",
       "    }\n",
       "</style>\n",
       "<table border=\"1\" class=\"dataframe\">\n",
       "  <thead>\n",
       "    <tr style=\"text-align: right;\">\n",
       "      <th></th>\n",
       "      <th>PropSFHA</th>\n",
       "      <th>AveDepth</th>\n",
       "      <th>PropDG</th>\n",
       "      <th>AveLS</th>\n",
       "      <th>HurTrack</th>\n",
       "      <th>PeakGust</th>\n",
       "      <th>SpecCom</th>\n",
       "      <th>STRVI_1</th>\n",
       "      <th>SEVI_1</th>\n",
       "      <th>CDC_Tot</th>\n",
       "    </tr>\n",
       "    <tr>\n",
       "      <th>FIPS</th>\n",
       "      <th></th>\n",
       "      <th></th>\n",
       "      <th></th>\n",
       "      <th></th>\n",
       "      <th></th>\n",
       "      <th></th>\n",
       "      <th></th>\n",
       "      <th></th>\n",
       "      <th></th>\n",
       "      <th></th>\n",
       "    </tr>\n",
       "  </thead>\n",
       "  <tbody>\n",
       "    <tr>\n",
       "      <th>72127005401</th>\n",
       "      <td>0.00</td>\n",
       "      <td>0.00</td>\n",
       "      <td>0.00</td>\n",
       "      <td>0.80</td>\n",
       "      <td>0.26</td>\n",
       "      <td>61.24</td>\n",
       "      <td>0.029121</td>\n",
       "      <td>-3.11</td>\n",
       "      <td>8.16</td>\n",
       "      <td>0.4632</td>\n",
       "    </tr>\n",
       "    <tr>\n",
       "      <th>72127009903</th>\n",
       "      <td>0.00</td>\n",
       "      <td>0.00</td>\n",
       "      <td>0.00</td>\n",
       "      <td>1.60</td>\n",
       "      <td>0.20</td>\n",
       "      <td>60.35</td>\n",
       "      <td>0.667688</td>\n",
       "      <td>-3.98</td>\n",
       "      <td>7.79</td>\n",
       "      <td>0.1019</td>\n",
       "    </tr>\n",
       "    <tr>\n",
       "      <th>72033020422</th>\n",
       "      <td>0.27</td>\n",
       "      <td>0.00</td>\n",
       "      <td>0.00</td>\n",
       "      <td>1.00</td>\n",
       "      <td>0.24</td>\n",
       "      <td>61.24</td>\n",
       "      <td>1.278594</td>\n",
       "      <td>2.79</td>\n",
       "      <td>-8.06</td>\n",
       "      <td>0.9388</td>\n",
       "    </tr>\n",
       "    <tr>\n",
       "      <th>72127010042</th>\n",
       "      <td>0.00</td>\n",
       "      <td>0.69</td>\n",
       "      <td>0.01</td>\n",
       "      <td>1.25</td>\n",
       "      <td>0.20</td>\n",
       "      <td>60.35</td>\n",
       "      <td>0.055834</td>\n",
       "      <td>6.51</td>\n",
       "      <td>9.00</td>\n",
       "      <td>0.1665</td>\n",
       "    </tr>\n",
       "    <tr>\n",
       "      <th>72054580100</th>\n",
       "      <td>0.00</td>\n",
       "      <td>0.00</td>\n",
       "      <td>0.00</td>\n",
       "      <td>0.53</td>\n",
       "      <td>0.00</td>\n",
       "      <td>50.52</td>\n",
       "      <td>0.014294</td>\n",
       "      <td>2.81</td>\n",
       "      <td>1.00</td>\n",
       "      <td>0.5266</td>\n",
       "    </tr>\n",
       "  </tbody>\n",
       "</table>\n",
       "</div>"
      ],
      "text/plain": [
       "             PropSFHA  AveDepth  PropDG  AveLS  HurTrack  PeakGust   SpecCom  \\\n",
       "FIPS                                                                           \n",
       "72127005401      0.00      0.00    0.00   0.80      0.26     61.24  0.029121   \n",
       "72127009903      0.00      0.00    0.00   1.60      0.20     60.35  0.667688   \n",
       "72033020422      0.27      0.00    0.00   1.00      0.24     61.24  1.278594   \n",
       "72127010042      0.00      0.69    0.01   1.25      0.20     60.35  0.055834   \n",
       "72054580100      0.00      0.00    0.00   0.53      0.00     50.52  0.014294   \n",
       "\n",
       "             STRVI_1  SEVI_1  CDC_Tot  \n",
       "FIPS                                   \n",
       "72127005401    -3.11    8.16   0.4632  \n",
       "72127009903    -3.98    7.79   0.1019  \n",
       "72033020422     2.79   -8.06   0.9388  \n",
       "72127010042     6.51    9.00   0.1665  \n",
       "72054580100     2.81    1.00   0.5266  "
      ]
     },
     "execution_count": 82,
     "metadata": {},
     "output_type": "execute_result"
    }
   ],
   "source": [
    "x_train.head()"
   ]
  },
  {
   "cell_type": "code",
   "execution_count": 83,
   "metadata": {},
   "outputs": [
    {
     "data": {
      "image/png": "[encoded data removed]",
      "text/plain": [
       "<Figure size 1440x2880 with 10 Axes>"
      ]
     },
     "metadata": {},
     "output_type": "display_data"
    }
   ],
   "source": [
    "#EXAMPLE\n",
    "feature_list=[0,1,2,3,4,5,6,7,8,9]\n",
    "feature_names=['PropSFHA', 'AveDepth', 'PropDG', 'AveLS', 'HurTrack',\n",
    "       'PeakGust', 'SpecCom', 'STRVI_1', 'SEVI_1', 'CDC_Tot']\n",
    "plot_part_depend(OPT3, x_train, feature_list, feature_names)"
   ]
  },
  {
   "cell_type": "code",
   "execution_count": 87,
   "metadata": {},
   "outputs": [],
   "source": [
    "def partial_dependence(x_train, model, variable1, variable2, xlabel, ylabel):\n",
    "    with plt.rc_context({'legend.fontsize': 'large',\n",
    "              'figure.figsize': (6, 6),\n",
    "             'axes.labelsize': 'large',\n",
    "             'axes.titlesize':'x-large',\n",
    "             'xtick.labelsize':'large',\n",
    "             'ytick.labelsize':'large'}):\n",
    "        forty_ice_df = ice(data=x_train, column=variable1, \n",
    "                       predict=model.predict)\n",
    "        cmap2 = plt.get_cmap('OrRd')\n",
    "        wt_vals = forty_ice_df.columns.get_level_values(variable2).values\n",
    "        sm = plt.cm.ScalarMappable(cmap=cmap2, \n",
    "                                   norm=plt.Normalize(vmin=wt_vals.min(), \n",
    "                                                      vmax=wt_vals.max()))\n",
    "        sm._A = []\n",
    "        ice_plot(forty_ice_df, linewidth=.5, color_by=variable2, cmap=cmap2, plot_pdp=True, \n",
    "                 pdp_kwargs={'c': 'k', 'linewidth': 5})\n",
    "        plt.colorbar(sm, label=variable2)\n",
    "        plt.ylabel(ylabel)\n",
    "        plt.xlabel(xlabel);"
   ]
  },
  {
   "cell_type": "code",
   "execution_count": 88,
   "metadata": {},
   "outputs": [
    {
     "data": {
      "text/plain": [
       "Index(['PropSFHA', 'AveDepth', 'PropDG', 'AveLS', 'HurTrack', 'PeakGust',\n",
       "       'SpecCom', 'STRVI_1', 'SEVI_1', 'CDC_Tot'],\n",
       "      dtype='object')"
      ]
     },
     "execution_count": 88,
     "metadata": {},
     "output_type": "execute_result"
    }
   ],
   "source": [
    "x_train.columns"
   ]
  },
  {
   "cell_type": "code",
   "execution_count": 100,
   "metadata": {},
   "outputs": [
    {
     "data": {
      "image/png": "[encoded data removed]",
      "text/plain": [
       "<Figure size 432x432 with 2 Axes>"
      ]
     },
     "metadata": {},
     "output_type": "display_data"
    }
   ],
   "source": [
    "#EXAMPLE\n",
    "model=OPT3\n",
    "variable1='SpecCom'\n",
    "variable2='SEVI_1'\n",
    "xlabel='SpecCom' \n",
    "ylabel= 'Partial Dependence'\n",
    "partial_dependence(x_train, model, variable1, variable2, xlabel, ylabel)"
   ]
  },
  {
   "cell_type": "code",
   "execution_count": null,
   "metadata": {},
   "outputs": [],
   "source": []
  },
  {
   "cell_type": "code",
   "execution_count": null,
   "metadata": {},
   "outputs": [],
   "source": []
  },
  {
   "cell_type": "code",
   "execution_count": null,
   "metadata": {},
   "outputs": [],
   "source": []
  },
  {
   "cell_type": "code",
   "execution_count": null,
   "metadata": {},
   "outputs": [],
   "source": []
  },
  {
   "cell_type": "code",
   "execution_count": null,
   "metadata": {},
   "outputs": [],
   "source": []
  },
  {
   "cell_type": "code",
   "execution_count": null,
   "metadata": {},
   "outputs": [],
   "source": []
  },
  {
   "cell_type": "code",
   "execution_count": 368,
   "metadata": {},
   "outputs": [
    {
     "data": {
      "image/png": "[encoded data removed]",
      "text/plain": [
       "<matplotlib.figure.Figure at 0x127999940>"
      ]
     },
     "metadata": {},
     "output_type": "display_data"
    }
   ],
   "source": [
    "forty_ice_df = ice(data=x_train, column='HurTrack', \n",
    "                   predict=OPT4.predict)\n",
    "cmap2 = plt.get_cmap('OrRd')\n",
    "wt_vals = forty_ice_df.columns.get_level_values('PeakGust').values\n",
    "sm = plt.cm.ScalarMappable(cmap=cmap2, \n",
    "                           norm=plt.Normalize(vmin=wt_vals.min(), \n",
    "                                              vmax=wt_vals.max()))\n",
    "sm._A = []\n",
    "ice_plot(forty_ice_df, linewidth=.5, color_by='PeakGust', cmap=cmap2, plot_pdp=True, \n",
    "         pdp_kwargs={'c': 'k', 'linewidth': 5})\n",
    "plt.colorbar(sm, label='PeakGust')\n",
    "plt.ylabel('Pred. AV %ile')\n",
    "plt.xlabel('HurTrack');"
   ]
  },
  {
   "cell_type": "markdown",
   "metadata": {},
   "source": [
    "## Spearman's correlation matrix"
   ]
  },
  {
   "cell_type": "code",
   "execution_count": 143,
   "metadata": {},
   "outputs": [
    {
     "data": {
      "image/png": "[encoded data removed]",
      "text/plain": [
       "<matplotlib.figure.Figure at 0x11b729be0>"
      ]
     },
     "metadata": {},
     "output_type": "display_data"
    }
   ],
   "source": [
    "viz = plot_corr_heatmap(x_train, figsize=(14,10), label_fontsize=16, value_fontsize=14)\n",
    "viz.view()\n"
   ]
  },
  {
   "cell_type": "code",
   "execution_count": null,
   "metadata": {},
   "outputs": [],
   "source": []
  },
  {
   "cell_type": "code",
   "execution_count": null,
   "metadata": {},
   "outputs": [],
   "source": []
  },
  {
   "cell_type": "code",
   "execution_count": null,
   "metadata": {},
   "outputs": [],
   "source": []
  },
  {
   "cell_type": "code",
   "execution_count": null,
   "metadata": {},
   "outputs": [],
   "source": []
  },
  {
   "cell_type": "code",
   "execution_count": null,
   "metadata": {},
   "outputs": [],
   "source": []
  },
  {
   "cell_type": "code",
   "execution_count": null,
   "metadata": {},
   "outputs": [],
   "source": []
  },
  {
   "cell_type": "code",
   "execution_count": null,
   "metadata": {},
   "outputs": [],
   "source": []
  },
  {
   "cell_type": "code",
   "execution_count": null,
   "metadata": {},
   "outputs": [],
   "source": []
  },
  {
   "cell_type": "code",
   "execution_count": null,
   "metadata": {},
   "outputs": [],
   "source": []
  },
  {
   "cell_type": "code",
   "execution_count": null,
   "metadata": {},
   "outputs": [],
   "source": []
  },
  {
   "cell_type": "markdown",
   "metadata": {},
   "source": [
    "### Standard Classification Model"
   ]
  },
  {
   "cell_type": "code",
   "execution_count": 253,
   "metadata": {},
   "outputs": [],
   "source": [
    "def run_classification(x_train, y_train,):\n",
    "    class_model = RandomForestClassifier(random_state=42)\n",
    "    class_model.fit(x_train, y_train)\n",
    "    return class_model"
   ]
  },
  {
   "cell_type": "code",
   "execution_count": 31,
   "metadata": {},
   "outputs": [],
   "source": [
    "# EXAMPLE\n",
    "# Careful of Random State\n",
    "class_model = run_classification(x_train, y_train)"
   ]
  },
  {
   "cell_type": "markdown",
   "metadata": {},
   "source": [
    "### Evaluate Classification"
   ]
  },
  {
   "cell_type": "code",
   "execution_count": 36,
   "metadata": {},
   "outputs": [],
   "source": [
    "def evaluate_classification(model, x_train, x_test, y_train, y_test):\n",
    "    pred = model.predict(x_test)\n",
    "    accuracy_train = model.score(x_train, y_train)\n",
    "    print('The mean training accuracy is {}'.format(accuracy_train))\n",
    "    accuracy_test = model.score(x_test, y_test)\n",
    "    print('The mean test accuracy is {}'.format(accuracy_test))\n",
    "    df_confusion = pd.DataFrame(confusion_matrix(y_test, pred))\n",
    "    print(df_confusion)\n",
    "    print(classification_report(y_test, pred))\n",
    "    return df_confusion"
   ]
  },
  {
   "cell_type": "code",
   "execution_count": 39,
   "metadata": {},
   "outputs": [],
   "source": [
    "# EXAMPLE\n",
    "# CHOOSE MODEL IF WANT TUNED OR JUST CLASSIFICATION WITH DEFAULT\n",
    "df_confusion = evaluate_classification(hypertune_model, x_train, x_test, y_train, y_test)"
   ]
  },
  {
   "cell_type": "code",
   "execution_count": 76,
   "metadata": {},
   "outputs": [],
   "source": [
    "def plot_confusion(df_confusion):\n",
    "    sns.set(font_scale=1.4)#for label size\n",
    "    sns.heatmap(df_confusion, cmap='PuBu', annot=True, annot_kws={\"size\": 16})# font size\n",
    "    plt.ylabel('Predicted')\n",
    "    plt.xlabel('True Value')\n",
    "#     plt.savefig('classification.png', dpi=600, bbox_inches = \"tight\")\n",
    "    plt.show()"
   ]
  },
  {
   "cell_type": "code",
   "execution_count": 113,
   "metadata": {},
   "outputs": [
    {
     "data": {
      "image/png": "[encoded data removed]",
      "text/plain": [
       "<matplotlib.figure.Figure at 0x111b9a278>"
      ]
     },
     "metadata": {},
     "output_type": "display_data"
    }
   ],
   "source": [
    "# EXAMPLE\n",
    "plot_confusion(df_confusion)"
   ]
  },
  {
   "cell_type": "code",
   "execution_count": 38,
   "metadata": {},
   "outputs": [],
   "source": [
    "# def calc_permutation_importance(criterion, model, df_x, y):\n",
    "#     features = df_x.columns.values\n",
    "#     X = df_x.as_matrix()\n",
    "#     Y = y.as_matrix()\n",
    "#     scores = defaultdict(list)\n",
    "#     rf = model\n",
    "#     for train_idx, test_idx in ShuffleSplit(len(X), 100, .3, random_state=42): #number of splits, absolute number of test samples, proportion of data in train split\n",
    "#         X_train, X_test = X[train_idx], X[test_idx] #Random permutation cross-validator, Yields indices to split data into training and test sets.\n",
    "#         Y_train, Y_test = Y[train_idx], Y[test_idx]\n",
    "#         r = rf.fit(X_train, Y_train)\n",
    "#         acc = criterion(Y_test, rf.predict(X_test))\n",
    "#         for i in range(X.shape[1]): #The shape attribute for numpy arrays returns the dimensions of the array. If Y has n rows and m columns, then Y.shape is (n,m). So Y.shape[0] is n.\n",
    "#             X_t = X_test.copy()\n",
    "#             np.random.seed(42)\n",
    "#             np.random.shuffle(X_t[:, i]) #rearranging randomly\n",
    "#             shuff_acc = criterion(Y_test, rf.predict(X_t)) \n",
    "#             scores[features[i]].append((acc-shuff_acc)/acc) #change in importance, actual - shuffled/actual, this is percent error        \n",
    "#     mda_features = [f for f in scores.keys()]\n",
    "#     mda_importance = [(np.mean(score)) for score in scores.values()] #average over all the shuffled permutations\n",
    "#     mda_indices = np.argsort(mda_importance)\n",
    "#     return mda_features, mda_importance, mda_indices"
   ]
  },
  {
   "cell_type": "code",
   "execution_count": 73,
   "metadata": {},
   "outputs": [],
   "source": [
    "# #EXAMPLE\n",
    "# #criterion can be r2_score or mean_squared_error\n",
    "# #should be mean_squared_error i think\n",
    "\n",
    "# criterion = mean_squared_error\n",
    "# mda_features, mda_importance, mda_indices = calc_permutation_importance(criterion, hypertune_model, df_x, y)"
   ]
  },
  {
   "cell_type": "markdown",
   "metadata": {},
   "source": [
    "## Permutation Plot"
   ]
  },
  {
   "cell_type": "code",
   "execution_count": 184,
   "metadata": {},
   "outputs": [],
   "source": [
    "def permutation_importance_plot(mda_features, mda_importance):\n",
    "    df_perm_FI = pd.DataFrame({'Feature':mda_features, 'Importance':[abs(number) for number in mda_importance]})\n",
    "    df_perm_FI.sort_values('Importance', ascending=False).plot.bar('Feature',\n",
    "                                                                   'Importance', \n",
    "                                                                    color='maroon', \n",
    "                                                                    legend = False)\n",
    "    plt.title(\"Feature Importances\", fontsize = 30)\n",
    "    plt.ylabel('Importance')\n",
    "    plt.xlabel('')\n",
    "    plt.xticks(fontsize = 12, rotation = 45, ha='right')\n",
    "    plt.savefig('permutimportance.png', dpi=600, bbox_inches = \"tight\")"
   ]
  },
  {
   "cell_type": "code",
   "execution_count": 185,
   "metadata": {},
   "outputs": [
    {
     "data": {
      "image/png": "[encoded data removed]",
      "text/plain": [
       "<matplotlib.figure.Figure at 0x105bb59b0>"
      ]
     },
     "metadata": {},
     "output_type": "display_data"
    }
   ],
   "source": [
    "# EXAMPLE\n",
    "permutation_importance_plot(mda_features, mda_importance)"
   ]
  },
  {
   "cell_type": "code",
   "execution_count": null,
   "metadata": {},
   "outputs": [],
   "source": []
  },
  {
   "cell_type": "code",
   "execution_count": null,
   "metadata": {},
   "outputs": [],
   "source": []
  },
  {
   "cell_type": "markdown",
   "metadata": {},
   "source": [
    "## Export"
   ]
  },
  {
   "cell_type": "code",
   "execution_count": 170,
   "metadata": {},
   "outputs": [],
   "source": [
    "train_set = x_train.copy()\n",
    "test_set = x_test.copy()"
   ]
  },
  {
   "cell_type": "code",
   "execution_count": 171,
   "metadata": {},
   "outputs": [],
   "source": [
    "train_set['y_train'] = y_train\n",
    "train_set['train_pred'] = pred_train\n",
    "\n",
    "test_set['y_test'] = y_test\n",
    "test_set['test_pred'] = pred_test"
   ]
  },
  {
   "cell_type": "code",
   "execution_count": 173,
   "metadata": {},
   "outputs": [],
   "source": [
    "train_set.to_excel(\"/Users/lszczyrba/Documents/Research/Projects/PR_Housing/Data/train_set_20191031.xlsx\")\n",
    "test_set.to_excel(\"/Users/lszczyrba/Documents/Research/Projects/PR_Housing/Data/test_set_20191031.xlsx\")"
   ]
  },
  {
   "cell_type": "code",
   "execution_count": null,
   "metadata": {},
   "outputs": [],
   "source": [
    "train_set = x_train.copy()\n",
    "test_set = x_test.copy()\n",
    "\n",
    "train_set['y_train'] = y_train\n",
    "train_set['train_pred'] = pred_train\n",
    "\n",
    "test_set['y_test'] = y_test\n",
    "test_set['test_pred'] = pred_test\n",
    "\n",
    "train_set.to_excel(\"/Users/lszczyrba/Documents/Research/Projects/PR_Housing/Data/train_set_20191209.xlsx\")\n",
    "test_set.to_excel(\"/Users/lszczyrba/Documents/Research/Projects/PR_Housing/Data/test_set_20191209.xlsx\")"
   ]
  },
  {
   "cell_type": "code",
   "execution_count": null,
   "metadata": {},
   "outputs": [],
   "source": []
  },
  {
   "cell_type": "code",
   "execution_count": null,
   "metadata": {},
   "outputs": [],
   "source": []
  },
  {
   "cell_type": "markdown",
   "metadata": {},
   "source": [
    "### Tree Visualization"
   ]
  },
  {
   "cell_type": "code",
   "execution_count": 27,
   "metadata": {},
   "outputs": [],
   "source": [
    "# Import tools needed for visualization\n",
    "from sklearn.tree import export_graphviz\n",
    "import pydot\n",
    "# Pull out one tree from the forest\n",
    "tree = reg_model.estimators_[5]\n",
    "# Import tools needed for visualization\n",
    "from sklearn.tree import export_graphviz\n",
    "import pydot\n",
    "\n",
    "feature_list = list(df_x.columns)\n",
    "\n",
    "\n",
    "# Export the image to a dot file\n",
    "export_graphviz(tree, out_file = 'tree.dot', feature_names = feature_list, rounded = True, precision = 1)\n",
    "#Use dot file to create a graph\n",
    "(graph, ) = pydot.graph_from_dot_file('tree.dot')\n",
    "# Write graph to a png file\n",
    "graph.write_png('tree.png')"
   ]
  },
  {
   "cell_type": "code",
   "execution_count": null,
   "metadata": {},
   "outputs": [],
   "source": []
  }
 ],
 "metadata": {
  "kernelspec": {
   "display_name": "Python 3",
   "language": "python",
   "name": "python3"
  },
  "language_info": {
   "codemirror_mode": {
    "name": "ipython",
    "version": 3
   },
   "file_extension": ".py",
   "mimetype": "text/x-python",
   "name": "python",
   "nbconvert_exporter": "python",
   "pygments_lexer": "ipython3",
   "version": "3.6.5"
  }
 },
 "nbformat": 4,
 "nbformat_minor": 4
}
