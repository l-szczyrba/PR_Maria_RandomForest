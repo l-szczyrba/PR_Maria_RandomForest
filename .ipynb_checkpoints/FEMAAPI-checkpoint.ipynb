{
 "cells": [
  {
   "cell_type": "code",
   "execution_count": 6,
   "metadata": {},
   "outputs": [],
   "source": [
    "import urllib.request\n"
   ]
  },
  {
   "cell_type": "code",
   "execution_count": 39,
   "metadata": {},
   "outputs": [
    {
     "name": "stdout",
     "output_type": "stream",
     "text": [
      "http://www.fema.gov/api/open/v1/IndividualAssistanceHousingRegistrantsLargeDisasters?$select=id,disasterNumber,damagedCity,damagedZipCode,ownRent,rpfvl,destroyed,waterLevel,floodDamage,roofDamage,roofDamageAmount,renterDamageLevel,repairAmount,replacementAmount,rentalAssistanceAmount,ppfvl,censusBlockId &$filter=disasterNumber eq 4339&$top=5000\n"
     ]
    }
   ],
   "source": [
    "host = \"http://www.fema.gov\"\n",
    "path = \"/api/open\"\n",
    "version = \"/v1\"\n",
    "entity = \"/IndividualAssistanceHousingRegistrantsLargeDisasters\"\n",
    "\n",
    "request_s = host + path + version + entity + \"?\"\n",
    "\n",
    "request_s += \"$select=id,disasterNumber,damagedCity,damagedZipCode,ownRent,rpfvl,destroyed,waterLevel,floodDamage,roofDamage,roofDamageAmount,renterDamageLevel,repairAmount,replacementAmount,rentalAssistanceAmount,ppfvl,censusBlockId \"\n",
    "request_s += \"&$filter=disasterNumber eq 4339\"\n",
    "\n",
    "# \"\"\"\n",
    "# For 5000 disaster records\n",
    "# \"\"\"\n",
    "request_s += \"&$top=5000\"\n",
    "\n",
    "print(request_s)"
   ]
  },
  {
   "cell_type": "code",
   "execution_count": 40,
   "metadata": {},
   "outputs": [],
   "source": [
    "result = urllib.request.urlopen(request_s).read()\n",
    "null = None\n",
    "false = False\n",
    "true = True\n",
    "req_dict = eval(result)\n",
    "\n",
    "hey = list(req_dict.keys())\n",
    "disaster_list = eval(str(hey))\n",
    "\n",
    "csvfile = open(\"fematest.csv\", \"w\")\n",
    "\n",
    "for item in dict(disaster_list[0]):\n",
    "    csvfile.write(item + \",\")\n",
    "\n",
    "csvfile.write(\"\\n\")\n",
    "\n",
    "for disaster in disaster_list:\n",
    "    disaster_dict = dict(disaster)\n",
    "    for key in disaster_dict:\n",
    "        csvfile.write(str(disaster_dict[key]) + \",\")\n",
    "    csvfile.write(\"\\n\")\n",
    "\n",
    "csvfile.close()"
   ]
  },
  {
   "cell_type": "code",
   "execution_count": 42,
   "metadata": {},
   "outputs": [
    {
     "data": {
      "text/plain": [
       "b'{\"metadata\":{\"skip\":0,\"top\":1000,\"count\":0,\"filter\":\"disasterNumber eq 4339\",\"format\":\"json\",\"orderby\":{},\"select\":\"id disasterNumber damagedCity damagedZipCode ownRent rpfvl destroyed waterLevel floodDamage roofDamage roofDamageAmount renterDamageLevel repairAmount replacementAmount rentalAssistanceAmount ppfvl censusBlockId\",\"entityname\":\"IndividualAssistanceHousingRegistrantsLargeDisasters\",\"version\":\"v1\",\"url\":\"/api/open/v1/IndividualAssistanceHousingRegistrantsLargeDisasters?$select=id,disasterNumber,damagedCity,damagedZipCode,ownRent,rpfvl,destroyed,waterLevel,floodDamage,roofDamage,roofDamageAmount,renterDamageLevel,repairAmount,replacementAmount,rentalAssistanceAmount,ppfvl,censusBlockId%20&$filter=disasterNumber%20eq%204339&$top=5000\",\"rundate\":\"2019-11-04T13:58:37.378Z\"},\"IndividualAssistanceHousingRegistrantsLargeDisasters\": []}'"
      ]
     },
     "execution_count": 42,
     "metadata": {},
     "output_type": "execute_result"
    }
   ],
   "source": [
    "result"
   ]
  },
  {
   "cell_type": "code",
   "execution_count": null,
   "metadata": {},
   "outputs": [],
   "source": []
  }
 ],
 "metadata": {
  "kernelspec": {
   "display_name": "Python 3",
   "language": "python",
   "name": "python3"
  },
  "language_info": {
   "codemirror_mode": {
    "name": "ipython",
    "version": 3
   },
   "file_extension": ".py",
   "mimetype": "text/x-python",
   "name": "python",
   "nbconvert_exporter": "python",
   "pygments_lexer": "ipython3",
   "version": "3.6.5"
  },
  "stem_cell": {
   "cell_type": "raw",
   "metadata": {
    "pycharm": {
     "metadata": false
    }
   },
   "source": ""
  }
 },
 "nbformat": 4,
 "nbformat_minor": 4
}
