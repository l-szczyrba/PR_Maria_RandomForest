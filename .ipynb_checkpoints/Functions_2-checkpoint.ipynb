{
 "cells": [
  {
   "cell_type": "markdown",
   "metadata": {},
   "source": [
    "## Function Logic"
   ]
  },
  {
   "cell_type": "markdown",
   "metadata": {},
   "source": [
    "using master_df\n",
    "\n",
    "Choose list of predictors and choose target \\\n",
    "drop unnecssary columns \\\n",
    "Drop NaN \\\n",
    "Train/test/split with random state at 42 \\\n",
    "\n",
    "...........................................................\n",
    "\n",
    "If classifier \\\n",
    "Train random forest classifier with default hyper parameters \\\n",
    "spit out classification metrics\n",
    "\n",
    "If regressor \\\n",
    "Train random forest regression with default hyper parameters \\\n",
    "Spit out regressor metrics\n",
    "\n",
    "...........................................................\n",
    "\n",
    "Calculate\n",
    "- Scikit learn method\n",
    "- Permutation method\n",
    "\n",
    "plot feature importances\n",
    "- Scikit learn method\n",
    "- Permutation method"
   ]
  },
  {
   "cell_type": "markdown",
   "metadata": {},
   "source": [
    "# <span style=\"color:STEELBLUE\">**Set Up**</span>"
   ]
  },
  {
   "cell_type": "markdown",
   "metadata": {},
   "source": [
    "### Import libraries and data"
   ]
  },
  {
   "cell_type": "code",
   "execution_count": 112,
   "metadata": {},
   "outputs": [],
   "source": [
    "import pandas as pd\n",
    "import numpy as np\n",
    "import seaborn as sns\n",
    "import matplotlib.pyplot as plt\n",
    "\n",
    "from sklearn.model_selection import train_test_split\n",
    "\n",
    "from sklearn.ensemble import RandomForestClassifier\n",
    "from sklearn.ensemble import RandomForestRegressor\n",
    "\n",
    "from sklearn.model_selection import GridSearchCV\n",
    "from sklearn.model_selection import RandomizedSearchCV\n",
    "from sklearn.metrics import mean_squared_error\n",
    "\n",
    "from sklearn.metrics import mean_squared_error\n",
    "from sklearn.metrics import confusion_matrix\n",
    "from sklearn.metrics import r2_score\n",
    "from sklearn.metrics import classification_report\n",
    "\n",
    "import math\n"
   ]
  },
  {
   "cell_type": "code",
   "execution_count": 57,
   "metadata": {},
   "outputs": [],
   "source": [
    "file = \"/Users/lszczyrba/Documents/Research/Projects/PR_Housing/Data/master_df_20191021.xlsx\"\n",
    "data = pd.read_excel(file)\n",
    "df_master = pd.DataFrame(data).set_index('FIPS').round(2)"
   ]
  },
  {
   "cell_type": "code",
   "execution_count": 180,
   "metadata": {},
   "outputs": [
    {
     "name": "stdout",
     "output_type": "stream",
     "text": [
      "Index(['Prop_SFHA_', 'Prop_DG_Ar', 'Ave_LS_cod', 'DG_MaxDe_1', 'HurTrack_D',\n",
      "       'PeakGust_1', 'MaxSusta_1', 'Count_', 'StrVI', 'SeVI', 'Str+SeVI',\n",
      "       'SoVI', 'DG_mean_m', 'O_Ind', 'R_Ind', 'R_I_No0', 'R_I_NoO',\n",
      "       'R_I_No0_NoO', 'cat_3q', 'cat_4q'],\n",
      "      dtype='object')\n"
     ]
    }
   ],
   "source": [
    "print(df_master.columns)"
   ]
  },
  {
   "cell_type": "markdown",
   "metadata": {},
   "source": [
    "### Choose Data"
   ]
  },
  {
   "cell_type": "code",
   "execution_count": 181,
   "metadata": {},
   "outputs": [],
   "source": [
    "def choose_data(df_master, feature_list, target_list):\n",
    "    choices = feature_list + target_list\n",
    "    df = df_master[choices].copy()\n",
    "    df.dropna(inplace = True)\n",
    "    return df"
   ]
  },
  {
   "cell_type": "code",
   "execution_count": 182,
   "metadata": {},
   "outputs": [],
   "source": [
    "# EXAMPLE:\n",
    "feature_list = ['Prop_SFHA_', 'Prop_DG_Ar', 'Ave_LS_cod']\n",
    "target_list = ['R_Ind']\n",
    "\n",
    "df = choose_data(df_master, feature_list, target_list)"
   ]
  },
  {
   "cell_type": "markdown",
   "metadata": {},
   "source": [
    "### Partition Data"
   ]
  },
  {
   "cell_type": "code",
   "execution_count": 183,
   "metadata": {},
   "outputs": [],
   "source": [
    "def partition_data(df, target_str):\n",
    "    y = df[target_str]\n",
    "    df_x = df.drop(target_str, axis = 1)\n",
    "    return y, df_x"
   ]
  },
  {
   "cell_type": "code",
   "execution_count": 184,
   "metadata": {},
   "outputs": [],
   "source": [
    "# EXAMPLE:\n",
    "target_str = 'R_Ind'\n",
    "y, df_x = partition_data(df, target_str)"
   ]
  },
  {
   "cell_type": "markdown",
   "metadata": {},
   "source": [
    "### Train, Test, Split"
   ]
  },
  {
   "cell_type": "code",
   "execution_count": 185,
   "metadata": {},
   "outputs": [],
   "source": [
    "def split_the_data(df_x, y):\n",
    "    x_train, x_test, y_train, y_test = train_test_split(df_x, y, \n",
    "                                                        test_size=0.2, \n",
    "                                                        random_state=42)\n",
    "    return x_train, x_test, y_train, y_test\n"
   ]
  },
  {
   "cell_type": "code",
   "execution_count": 186,
   "metadata": {},
   "outputs": [],
   "source": [
    "# EXAMPLE:\n",
    "x_train, x_test, y_train, y_test = split_the_data(df_x, y)"
   ]
  },
  {
   "cell_type": "markdown",
   "metadata": {},
   "source": [
    "# <span style=\"color:STEELBLUE\">**Run Models**</span>"
   ]
  },
  {
   "cell_type": "markdown",
   "metadata": {},
   "source": [
    "### Regression Model"
   ]
  },
  {
   "cell_type": "code",
   "execution_count": 187,
   "metadata": {},
   "outputs": [],
   "source": [
    "#eventually want to add in functionality to customize parameters based on hyperparameter tuning\n",
    "\n",
    "def run_regression(x_train, x_test, y_train, y_test):\n",
    "    reg_model = RandomForestRegressor() \n",
    "    reg_model.fit(x_train, y_train)\n",
    "    return reg_model"
   ]
  },
  {
   "cell_type": "code",
   "execution_count": 188,
   "metadata": {},
   "outputs": [],
   "source": [
    "# EXAMPLE\n",
    "reg_model = run_regression(x_train, x_test, y_train, y_test)"
   ]
  },
  {
   "cell_type": "markdown",
   "metadata": {},
   "source": [
    "----------------"
   ]
  },
  {
   "cell_type": "markdown",
   "metadata": {},
   "source": [
    "### Classification Model"
   ]
  },
  {
   "cell_type": "code",
   "execution_count": 177,
   "metadata": {},
   "outputs": [],
   "source": [
    "#eventually want to add in functionality to customize parameters based on hyperparameter tuning\n",
    "\n",
    "def run_classification(x_train, x_test, y_train, y_test):\n",
    "    class_model = RandomForestClassifier()\n",
    "    class_model.fit(x_train, y_train)\n",
    "    return class_model"
   ]
  },
  {
   "cell_type": "code",
   "execution_count": 179,
   "metadata": {},
   "outputs": [],
   "source": [
    "# EXAMPLE\n",
    " class_model = run_classification(x_train, x_test, y_train, y_test)"
   ]
  },
  {
   "cell_type": "markdown",
   "metadata": {},
   "source": [
    "# <span style=\"color:STEELBLUE\">**Evaluate Models**</span>"
   ]
  },
  {
   "cell_type": "markdown",
   "metadata": {},
   "source": [
    "### Evaluate Regression"
   ]
  },
  {
   "cell_type": "code",
   "execution_count": 189,
   "metadata": {},
   "outputs": [],
   "source": [
    "def evaluate_regression(model, x_train, x_test, y_train, y_test):\n",
    "    pred = model.predict(x_test)\n",
    "    r_model = model.score(x_train, y_train)\n",
    "    print('The training r-squared score is {}'.format(r_model))\n",
    "    r = r2_score(y_test, pred)\n",
    "    print('The testing r-squared score is {}'.format(r))\n",
    "    mse = mean_squared_error(y_test, pred)\n",
    "    print('The mean square error is {}'.format(mse))\n",
    "    rmse = math.sqrt(mean_squared_error(y_test, pred))\n",
    "    print('The root mean square error is {}'.format(rmse))\n",
    "    errors = pred - y_test\n",
    "    meanerror = np.mean(errors)\n",
    "    print('The mean error is {}'.format(meanerror))\n",
    "    meanabserrors = np.mean(abs(pred - y_test))\n",
    "    print('The mean absolute error is {}'.format(meanabserrors))\n",
    "    return pred, errors"
   ]
  },
  {
   "cell_type": "code",
   "execution_count": 190,
   "metadata": {},
   "outputs": [
    {
     "name": "stdout",
     "output_type": "stream",
     "text": [
      "The training r-squared score is 0.6239528115950346\n",
      "The testing r-squared score is -0.8863443607754653\n",
      "The mean square error is 0.002003875855308764\n",
      "The root mean square error is 0.04476467195578187\n",
      "The mean error is 0.004607371675583398\n",
      "The mean absolute error is 0.03335891842160213\n"
     ]
    }
   ],
   "source": [
    "# EXAMPLE\n",
    "pred, errors = evaluate_regression(reg_model, x_train, x_test, y_train, y_test)"
   ]
  },
  {
   "cell_type": "code",
   "execution_count": 191,
   "metadata": {},
   "outputs": [],
   "source": [
    "def analyze_errors(errors):\n",
    "    error_range =  max(errors) - min(errors)\n",
    "    print('The error range is {}'.format(error_range))\n",
    "    error_max = max(errors)\n",
    "    print('The error max is {}'.format(error_max))\n",
    "    error_min = min(errors)\n",
    "    print('The error min is {}'.format(error_min))"
   ]
  },
  {
   "cell_type": "code",
   "execution_count": 192,
   "metadata": {},
   "outputs": [
    {
     "name": "stdout",
     "output_type": "stream",
     "text": [
      "The error range is 0.3115825396825397\n",
      "The error max is 0.16716666666666666\n",
      "The error min is -0.144415873015873\n"
     ]
    }
   ],
   "source": [
    "# EXAMPLE\n",
    "analyze_errors(errors)"
   ]
  },
  {
   "cell_type": "code",
   "execution_count": 195,
   "metadata": {},
   "outputs": [],
   "source": [
    "def plot_errors(errors):\n",
    "    plt.hist(errors, 30, histtype='bar', ec='white', color='maroon')\n",
    "    plt.xlabel('Error')\n",
    "    plt.ylabel('Count')\n",
    "    plt.title('Histogram of Model Error')\n",
    "    plt.grid(True)\n",
    "    plt.show()\n"
   ]
  },
  {
   "cell_type": "code",
   "execution_count": 196,
   "metadata": {},
   "outputs": [
    {
     "data": {
      "image/png": "[encoded data removed]",
      "text/plain": [
       "<matplotlib.figure.Figure at 0x11134e780>"
      ]
     },
     "metadata": {},
     "output_type": "display_data"
    }
   ],
   "source": [
    "# EXAMPLE\n",
    "plot_errors(errors)"
   ]
  },
  {
   "cell_type": "code",
   "execution_count": 270,
   "metadata": {},
   "outputs": [],
   "source": [
    "######### HOW GET XLIM AND YLIM TO AUTOMATICALLY BE EQUAL???\n",
    "\n",
    "def plot_predictions(y_test, pred):\n",
    "    df_predictions = pd.DataFrame(y_test)\n",
    "    df_predictions['Pred'] = pred\n",
    "    X = df_predictions.iloc[:, 0].values.reshape(-1, 1)\n",
    "    Y = df_predictions.iloc[:, 1].values.reshape(-1, 1)\n",
    "    plt.scatter(X, Y, color='maroon')\n",
    "    plt.grid(True)\n",
    "    plt.xlabel(\"Damage Index\")\n",
    "    plt.ylabel(\"Precited Damage Index\")\n",
    "    plt.title('Model Evaluation')\n",
    "    plt.show()"
   ]
  },
  {
   "cell_type": "code",
   "execution_count": 271,
   "metadata": {},
   "outputs": [
    {
     "data": {
      "image/png": "[encoded data removed]",
      "text/plain": [
       "<matplotlib.figure.Figure at 0x1110519e8>"
      ]
     },
     "metadata": {},
     "output_type": "display_data"
    }
   ],
   "source": [
    "# EXAMPLE\n",
    "plot_predictions(y_test, pred)"
   ]
  },
  {
   "cell_type": "markdown",
   "metadata": {},
   "source": [
    "-----------"
   ]
  },
  {
   "cell_type": "markdown",
   "metadata": {},
   "source": [
    "### Evaluate Classification"
   ]
  },
  {
   "cell_type": "code",
   "execution_count": 157,
   "metadata": {},
   "outputs": [],
   "source": [
    "def evaluate_classification(model, x_train, x_test, y_train, y_test):\n",
    "    pred = model.predict(x_test)\n",
    "    accuracy_train = model.score(x_train, y_train)\n",
    "    print('The mean training accuracy is {}'.format(accuracy_train))\n",
    "    accuracy_test = model.score(x_test, y_test)\n",
    "    print('The mean test accuracy is {}'.format(accuracy_test))\n",
    "    df_confusion = pd.DataFrame(confusion_matrix(y_test, pred))\n",
    "    print(df_confusion)\n",
    "    print(classification_report(y_test, pred))\n",
    "    return df_confusion"
   ]
  },
  {
   "cell_type": "code",
   "execution_count": 158,
   "metadata": {},
   "outputs": [
    {
     "name": "stdout",
     "output_type": "stream",
     "text": [
      "The mean training accuracy is 0.7687943262411348\n",
      "The mean test accuracy is 0.3672316384180791\n",
      "    0   1   2\n",
      "0  25  14  15\n",
      "1  24  15  17\n",
      "2  21  21  25\n",
      "             precision    recall  f1-score   support\n",
      "\n",
      "          0       0.36      0.46      0.40        54\n",
      "          1       0.30      0.27      0.28        56\n",
      "          2       0.44      0.37      0.40        67\n",
      "\n",
      "avg / total       0.37      0.37      0.37       177\n",
      "\n"
     ]
    }
   ],
   "source": [
    "# EXAMPLE\n",
    "df_confusion = evaluate_classification(class_model, x_train, x_test, y_train, y_test)"
   ]
  },
  {
   "cell_type": "code",
   "execution_count": 159,
   "metadata": {},
   "outputs": [],
   "source": [
    "def plot_confusion(df_confusion):\n",
    "    sns.set(font_scale=1.4)#for label size\n",
    "    sns.heatmap(df_confusion, cmap='PuBu', annot=True, annot_kws={\"size\": 16})# font size\n",
    "    plt.ylabel('Predicted')\n",
    "    plt.xlabel('True Value')\n",
    "    plt.show()"
   ]
  },
  {
   "cell_type": "code",
   "execution_count": 161,
   "metadata": {},
   "outputs": [
    {
     "data": {
      "image/png": "[encoded data removed]",
      "text/plain": [
       "<matplotlib.figure.Figure at 0x111479908>"
      ]
     },
     "metadata": {},
     "output_type": "display_data"
    }
   ],
   "source": [
    "# EXAMPLE\n",
    "plot_confusion(df_confusion)"
   ]
  },
  {
   "cell_type": "markdown",
   "metadata": {},
   "source": [
    "# <span style=\"color:STEELBLUE\">**Analyze Results**</span>"
   ]
  },
  {
   "cell_type": "markdown",
   "metadata": {},
   "source": [
    "### Gini calculation and storage"
   ]
  },
  {
   "cell_type": "code",
   "execution_count": 282,
   "metadata": {},
   "outputs": [],
   "source": [
    "#check when reset_index, look at feature column (might want to rename)\n",
    "#model is either going to be class_model or reg_model\n",
    "\n",
    "def calc_gini_importances(x_train, model):\n",
    "    importances = model.feature_importances_\n",
    "    importances_df = pd.DataFrame(importances, x_train.columns,\n",
    "                                  columns=['Importance']).sort_values('Importance',\n",
    "                                  ascending=False)\n",
    "    importances_df.reset_index(inplace=True)\n",
    "    importances_df.rename(columns={'index':'Feature'}, inplace=True)\n",
    "    return importances_df\n"
   ]
  },
  {
   "cell_type": "code",
   "execution_count": 283,
   "metadata": {},
   "outputs": [],
   "source": [
    "# EXAMPLE\n",
    "df_gini_importances = calc_gini_importances(x_train, reg_model)"
   ]
  },
  {
   "cell_type": "markdown",
   "metadata": {},
   "source": [
    "### Gini Plot"
   ]
  },
  {
   "cell_type": "code",
   "execution_count": 8,
   "metadata": {},
   "outputs": [],
   "source": [
    "#Edit so that taking and using just ONE dataframe df_gini_importances\n",
    "\n",
    "def gini_importance_plot(x_train, gini_importances, gini_indices):\n",
    "    plt.figure()\n",
    "    plt.title(\"Feature Importances\", fontsize = 30)\n",
    "    plt.bar(range(x_train.shape[1]), gini_importances[gini_indices],\n",
    "    align=\"center\", color='maroon')\n",
    "    plt.xticks(range(x_train.shape[1]), label, fontsize = 15)\n",
    "    #plt.xlabel(importance_d.index)\n",
    "    plt.xlim([-1, x_train.shape[1]])\n",
    "    plt.show\n",
    "\n"
   ]
  },
  {
   "cell_type": "markdown",
   "metadata": {},
   "source": [
    "## Permutation calculation and storage"
   ]
  },
  {
   "cell_type": "markdown",
   "metadata": {},
   "source": [
    "## Permutation Plot"
   ]
  },
  {
   "cell_type": "code",
   "execution_count": null,
   "metadata": {},
   "outputs": [],
   "source": []
  }
 ],
 "metadata": {
  "kernelspec": {
   "display_name": "Python 3",
   "language": "python",
   "name": "python3"
  },
  "language_info": {
   "codemirror_mode": {
    "name": "ipython",
    "version": 3
   },
   "file_extension": ".py",
   "mimetype": "text/x-python",
   "name": "python",
   "nbconvert_exporter": "python",
   "pygments_lexer": "ipython3",
   "version": "3.6.5"
  }
 },
 "nbformat": 4,
 "nbformat_minor": 4
}
