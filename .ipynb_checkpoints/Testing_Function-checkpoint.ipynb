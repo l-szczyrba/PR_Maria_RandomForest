{
 "cells": [
  {
   "cell_type": "code",
   "execution_count": 27,
   "metadata": {},
   "outputs": [],
   "source": [
    "import pandas as pd\n",
    "import numpy as np\n",
    "import seaborn as sns\n",
    "import matplotlib.pyplot as plt\n",
    "\n",
    "from sklearn.model_selection import train_test_split\n",
    "from sklearn.ensemble import RandomForestClassifier\n",
    "from sklearn.ensemble import RandomForestRegressor\n",
    "from sklearn.model_selection import GridSearchCV\n",
    "from sklearn.model_selection import RandomizedSearchCV\n",
    "from sklearn.metrics import mean_squared_error"
   ]
  },
  {
   "cell_type": "markdown",
   "metadata": {},
   "source": [
    "# Import Features Dataframe (df_features)"
   ]
  },
  {
   "cell_type": "code",
   "execution_count": 22,
   "metadata": {},
   "outputs": [],
   "source": [
    "data = pd.read_excel(\"/Users/lszczyrba/Documents/Research/Projects/PR_Housing/Data/AllFeatures20191018.xlsx\")\n",
    "df_features = pd.DataFrame(data)\n",
    "df_features = df_features.set_index(['FIPS'])"
   ]
  },
  {
   "cell_type": "markdown",
   "metadata": {},
   "source": [
    "# Import Target Data Frames "
   ]
  },
  {
   "cell_type": "markdown",
   "metadata": {},
   "source": [
    "df_origs = Original targets, index with destroyed weighted 2x and straight ratio of affected and destroyed\n",
    "\n",
    "df_No0 = Straight ratio with dropped 0 values\n",
    "\n",
    "df_NoO = Straight ratio with dropped outliers\n",
    "\n",
    "df_No0_NoO = Ratio with bboth 0 values and outliers dropped\n",
    "\n",
    "df_cat = Categorical values, one with 3 (0:low, 1:medium, 2:high) and one with 4 (0:low, 1:medium-low, 2:medium-high, 3:high)"
   ]
  },
  {
   "cell_type": "code",
   "execution_count": 26,
   "metadata": {},
   "outputs": [],
   "source": [
    "origs = pd.read_excel(\"/Users/lszczyrba/Documents/Research/Projects/PR_Housing/Data/origs.xlsx\")\n",
    "df_origs = pd.DataFrame(origs)\n",
    "df_origs = df_origs.set_index(['FIPS'])\n",
    "\n",
    "No0 = pd.read_excel(\"/Users/lszczyrba/Documents/Research/Projects/PR_Housing/Data/No0.xlsx\")\n",
    "df_No0 = pd.DataFrame(No0)\n",
    "df_No0 = df_No0.set_index(['FIPS'])\n",
    "\n",
    "NoO = pd.read_excel(\"/Users/lszczyrba/Documents/Research/Projects/PR_Housing/Data/NoO.xlsx\")\n",
    "df_NoO = pd.DataFrame(NoO)\n",
    "df_NoO = df_NoO.set_index(['FIPS'])\n",
    "\n",
    "No0_NoO = pd.read_excel(\"/Users/lszczyrba/Documents/Research/Projects/PR_Housing/Data/No0_NoO.xlsx\")\n",
    "df_No0_NoO = pd.DataFrame(No0_NoO)\n",
    "df_No0_NoO = df_No0_NoO.set_index(['FIPS'])\n",
    "\n",
    "cat = pd.read_excel(\"/Users/lszczyrba/Documents/Research/Projects/PR_Housing/Data/AllFeatures20191018.xlsx\")\n",
    "df_cat = pd.DataFrame(cat)\n",
    "df_cat = df_cat.set_index(['FIPS'])\n"
   ]
  },
  {
   "cell_type": "code",
   "execution_count": null,
   "metadata": {},
   "outputs": [],
   "source": []
  }
 ],
 "metadata": {
  "kernelspec": {
   "display_name": "Python 3",
   "language": "python",
   "name": "python3"
  },
  "language_info": {
   "codemirror_mode": {
    "name": "ipython",
    "version": 3
   },
   "file_extension": ".py",
   "mimetype": "text/x-python",
   "name": "python",
   "nbconvert_exporter": "python",
   "pygments_lexer": "ipython3",
   "version": "3.6.5"
  }
 },
 "nbformat": 4,
 "nbformat_minor": 4
}
