{
 "cells": [
  {
   "cell_type": "code",
   "execution_count": 864,
   "metadata": {},
   "outputs": [
    {
     "name": "stdout",
     "output_type": "stream",
     "text": [
      "The scikit-learn version is 0.19.2.\n"
     ]
    }
   ],
   "source": [
    "import sklearn\n",
    "print('The scikit-learn version is {}.'.format(sklearn.__version__))"
   ]
  },
  {
   "cell_type": "code",
   "execution_count": 861,
   "metadata": {},
   "outputs": [
    {
     "ename": "ModuleNotFoundError",
     "evalue": "No module named 'sklearn.inspection'",
     "output_type": "error",
     "traceback": [
      "\u001b[0;31m--------------------------------------------------------------------------\u001b[0m",
      "\u001b[0;31mModuleNotFoundError\u001b[0m                      Traceback (most recent call last)",
      "\u001b[0;32m<ipython-input-861-5ed1c32f480a>\u001b[0m in \u001b[0;36m<module>\u001b[0;34m()\u001b[0m\n\u001b[1;32m      3\u001b[0m \u001b[0;32mfrom\u001b[0m \u001b[0mmpl_toolkits\u001b[0m\u001b[0;34m.\u001b[0m\u001b[0mmplot3d\u001b[0m \u001b[0;32mimport\u001b[0m \u001b[0mAxes3D\u001b[0m\u001b[0;34m\u001b[0m\u001b[0m\n\u001b[1;32m      4\u001b[0m \u001b[0;34m\u001b[0m\u001b[0m\n\u001b[0;32m----> 5\u001b[0;31m \u001b[0;32mfrom\u001b[0m \u001b[0msklearn\u001b[0m\u001b[0;34m.\u001b[0m\u001b[0minspection\u001b[0m \u001b[0;32mimport\u001b[0m \u001b[0mpartial_dependence\u001b[0m\u001b[0;34m\u001b[0m\u001b[0m\n\u001b[0m\u001b[1;32m      6\u001b[0m \u001b[0;32mfrom\u001b[0m \u001b[0msklearn\u001b[0m\u001b[0;34m.\u001b[0m\u001b[0minspection\u001b[0m \u001b[0;32mimport\u001b[0m \u001b[0mplot_partial_dependence\u001b[0m\u001b[0;34m\u001b[0m\u001b[0m\n\u001b[1;32m      7\u001b[0m \u001b[0;32mfrom\u001b[0m \u001b[0msklearn\u001b[0m\u001b[0;34m.\u001b[0m\u001b[0mensemble\u001b[0m \u001b[0;32mimport\u001b[0m \u001b[0mGradientBoostingRegressor\u001b[0m\u001b[0;34m\u001b[0m\u001b[0m\n",
      "\u001b[0;31mModuleNotFoundError\u001b[0m: No module named 'sklearn.inspection'"
     ]
    }
   ],
   "source": [
    "# from sklearn.inspection import partial_dependence\n",
    "# from sklearn.inspection import plot_partial_dependence\n"
   ]
  },
  {
   "cell_type": "code",
   "execution_count": 870,
   "metadata": {},
   "outputs": [],
   "source": [
    "import pandas as pd\n",
    "from pandas.plotting import scatter_matrix\n",
    "\n",
    "import numpy as np\n",
    "import seaborn as sns\n",
    "\n",
    "import matplotlib.pyplot as plt\n",
    "import matplotlib.lines as mlines\n",
    "import matplotlib.transforms as mtransforms\n",
    "\n",
    "from sklearn.model_selection import train_test_split\n",
    "from sklearn.ensemble import RandomForestClassifier, RandomForestRegressor, GradientBoostingRegressor\n",
    "from sklearn.model_selection import GridSearchCV, RandomizedSearchCV\n",
    "from sklearn.cross_validation import ShuffleSplit\n",
    "from sklearn import cross_validation, metrics\n",
    "from sklearn.metrics import mean_squared_error, mean_absolute_error, confusion_matrix, r2_score, classification_report\n",
    "\n",
    "import math\n",
    "\n",
    "from collections import defaultdict"
   ]
  },
  {
   "cell_type": "code",
   "execution_count": 144,
   "metadata": {},
   "outputs": [],
   "source": [
    "file = \"/Users/lszczyrba/Documents/Research/Projects/PR_Housing/Data/master_df_20191103.xlsx\"\n",
    "data = pd.read_excel(file)\n",
    "df_master = pd.DataFrame(data).set_index('FIPS')"
   ]
  },
  {
   "cell_type": "code",
   "execution_count": 145,
   "metadata": {},
   "outputs": [
    {
     "name": "stdout",
     "output_type": "stream",
     "text": [
      "Index(['PropSFHA', 'PropDG', 'AveLS', 'MaxDepth', 'HurTrack', 'PeakGust',\n",
      "       'MaxSusta', 'StrVI', 'SeVI', 'Str+SeVI', 'SoVI', 'AveDepth', 'O_Ind',\n",
      "       'R_Ind', 'PropSComm', 'R_I_No0', 'R_I_NoO', 'R_I_No0_NoO', 'cat_3q',\n",
      "       'cat_4q', 'Count', 'R_DES', 'R_AFF'],\n",
      "      dtype='object')\n"
     ]
    }
   ],
   "source": [
    "print(df_master.columns)"
   ]
  },
  {
   "cell_type": "code",
   "execution_count": 146,
   "metadata": {},
   "outputs": [],
   "source": [
    "def choose_data(df_master, feature_list, target_list):\n",
    "    choices = feature_list + target_list\n",
    "    df = df_master[choices].copy()\n",
    "    df.dropna(inplace = True)\n",
    "    return df"
   ]
  },
  {
   "cell_type": "code",
   "execution_count": 147,
   "metadata": {},
   "outputs": [],
   "source": [
    "# EXAMPLE:\n",
    "feature_list = ['PropSFHA', 'PropDG', 'AveLS', 'HurTrack',\n",
    "                'PeakGust', 'StrVI', 'SeVI', 'AveDepth', 'PropSComm']\n",
    "target_list = ['R_I_No0']\n",
    "\n",
    "df = choose_data(df_master, feature_list, target_list)"
   ]
  },
  {
   "cell_type": "code",
   "execution_count": 148,
   "metadata": {},
   "outputs": [],
   "source": [
    "def partition_data(df, target_str):\n",
    "    y = df[target_str]\n",
    "    df_x = df.drop(target_str, axis = 1)\n",
    "    return y, df_x"
   ]
  },
  {
   "cell_type": "code",
   "execution_count": 149,
   "metadata": {},
   "outputs": [],
   "source": [
    "# EXAMPLE:\n",
    "target_str = 'R_I_No0'\n",
    "y, df_x = partition_data(df, target_str)"
   ]
  },
  {
   "cell_type": "code",
   "execution_count": 150,
   "metadata": {},
   "outputs": [],
   "source": [
    "def bin_target(y, n_bins, label):\n",
    "    y_binned = pd.qcut(y, q=n_bins, labels = label)\n",
    "    return y_binned"
   ]
  },
  {
   "cell_type": "code",
   "execution_count": 151,
   "metadata": {},
   "outputs": [],
   "source": [
    "# EXAMPLE:\n",
    "y_binned = bin_target(y,4, [0,1,2,3])"
   ]
  },
  {
   "cell_type": "code",
   "execution_count": 152,
   "metadata": {},
   "outputs": [],
   "source": [
    "def split_the_data(df_x, y):\n",
    "    x_train, x_test, y_train, y_test = train_test_split(df_x, y, \n",
    "                                                        test_size=0.3, \n",
    "                                                        random_state=42,\n",
    "                                                        stratify = y_binned)\n",
    "    return x_train, x_test, y_train, y_test"
   ]
  },
  {
   "cell_type": "code",
   "execution_count": 153,
   "metadata": {},
   "outputs": [],
   "source": [
    "# Careful of Random State\n",
    "# Change y_binned to y if categorical\n",
    "# EXAMPLE:\n",
    "x_train, x_test, y_train, y_test = split_the_data(df_x, y)"
   ]
  },
  {
   "cell_type": "markdown",
   "metadata": {},
   "source": [
    "### Tune"
   ]
  },
  {
   "cell_type": "code",
   "execution_count": 823,
   "metadata": {
    "collapsed": true,
    "jupyter": {
     "outputs_hidden": true
    }
   },
   "outputs": [
    {
     "name": "stderr",
     "output_type": "stream",
     "text": [
      "/usr/local/lib/python3.6/site-packages/sklearn/model_selection/_search.py:762: DeprecationWarning: The grid_scores_ attribute was deprecated in version 0.18 in favor of the more elaborate cv_results_ attribute. The grid_scores_ attribute will not be available from 0.20\n",
      "  DeprecationWarning)\n"
     ]
    },
    {
     "data": {
      "text/plain": [
       "([mean: 0.16451, std: 0.10842, params: {'n_estimators': 20},\n",
       "  mean: 0.17117, std: 0.11497, params: {'n_estimators': 25},\n",
       "  mean: 0.17948, std: 0.12004, params: {'n_estimators': 30},\n",
       "  mean: 0.18038, std: 0.11811, params: {'n_estimators': 35},\n",
       "  mean: 0.18772, std: 0.11424, params: {'n_estimators': 40},\n",
       "  mean: 0.19546, std: 0.11956, params: {'n_estimators': 45},\n",
       "  mean: 0.19277, std: 0.11728, params: {'n_estimators': 50},\n",
       "  mean: 0.19239, std: 0.12040, params: {'n_estimators': 55},\n",
       "  mean: 0.19563, std: 0.12114, params: {'n_estimators': 60},\n",
       "  mean: 0.19725, std: 0.12312, params: {'n_estimators': 65},\n",
       "  mean: 0.19940, std: 0.12527, params: {'n_estimators': 70},\n",
       "  mean: 0.20013, std: 0.12680, params: {'n_estimators': 75},\n",
       "  mean: 0.20153, std: 0.12906, params: {'n_estimators': 80},\n",
       "  mean: 0.20473, std: 0.12809, params: {'n_estimators': 85},\n",
       "  mean: 0.20559, std: 0.13024, params: {'n_estimators': 90},\n",
       "  mean: 0.20315, std: 0.12843, params: {'n_estimators': 95},\n",
       "  mean: 0.20173, std: 0.12894, params: {'n_estimators': 100},\n",
       "  mean: 0.20243, std: 0.13023, params: {'n_estimators': 105},\n",
       "  mean: 0.20160, std: 0.13140, params: {'n_estimators': 110},\n",
       "  mean: 0.20181, std: 0.13357, params: {'n_estimators': 115},\n",
       "  mean: 0.20024, std: 0.13584, params: {'n_estimators': 120},\n",
       "  mean: 0.20030, std: 0.13590, params: {'n_estimators': 125},\n",
       "  mean: 0.20033, std: 0.13663, params: {'n_estimators': 130},\n",
       "  mean: 0.19917, std: 0.13527, params: {'n_estimators': 135},\n",
       "  mean: 0.20027, std: 0.13556, params: {'n_estimators': 140},\n",
       "  mean: 0.20000, std: 0.13694, params: {'n_estimators': 145},\n",
       "  mean: 0.20151, std: 0.13767, params: {'n_estimators': 150},\n",
       "  mean: 0.20196, std: 0.13737, params: {'n_estimators': 155},\n",
       "  mean: 0.20259, std: 0.13596, params: {'n_estimators': 160},\n",
       "  mean: 0.20153, std: 0.13474, params: {'n_estimators': 165},\n",
       "  mean: 0.20238, std: 0.13717, params: {'n_estimators': 170},\n",
       "  mean: 0.20078, std: 0.13597, params: {'n_estimators': 175},\n",
       "  mean: 0.20097, std: 0.13690, params: {'n_estimators': 180},\n",
       "  mean: 0.20009, std: 0.13673, params: {'n_estimators': 185},\n",
       "  mean: 0.20079, std: 0.13852, params: {'n_estimators': 190},\n",
       "  mean: 0.20092, std: 0.13992, params: {'n_estimators': 195},\n",
       "  mean: 0.20109, std: 0.14026, params: {'n_estimators': 200},\n",
       "  mean: 0.20214, std: 0.14118, params: {'n_estimators': 205},\n",
       "  mean: 0.20168, std: 0.13919, params: {'n_estimators': 210},\n",
       "  mean: 0.20147, std: 0.13997, params: {'n_estimators': 215},\n",
       "  mean: 0.20325, std: 0.14332, params: {'n_estimators': 220},\n",
       "  mean: 0.20663, std: 0.14845, params: {'n_estimators': 225},\n",
       "  mean: 0.20685, std: 0.14859, params: {'n_estimators': 230},\n",
       "  mean: 0.20766, std: 0.15007, params: {'n_estimators': 235},\n",
       "  mean: 0.20766, std: 0.15026, params: {'n_estimators': 240},\n",
       "  mean: 0.20670, std: 0.14909, params: {'n_estimators': 245},\n",
       "  mean: 0.20717, std: 0.14793, params: {'n_estimators': 250},\n",
       "  mean: 0.20662, std: 0.14762, params: {'n_estimators': 255},\n",
       "  mean: 0.20797, std: 0.14829, params: {'n_estimators': 260},\n",
       "  mean: 0.20819, std: 0.14745, params: {'n_estimators': 265},\n",
       "  mean: 0.20820, std: 0.14750, params: {'n_estimators': 270},\n",
       "  mean: 0.20718, std: 0.14677, params: {'n_estimators': 275},\n",
       "  mean: 0.20724, std: 0.14766, params: {'n_estimators': 280},\n",
       "  mean: 0.20686, std: 0.14781, params: {'n_estimators': 285},\n",
       "  mean: 0.20684, std: 0.14782, params: {'n_estimators': 290},\n",
       "  mean: 0.20560, std: 0.14754, params: {'n_estimators': 295},\n",
       "  mean: 0.20605, std: 0.14784, params: {'n_estimators': 300},\n",
       "  mean: 0.20624, std: 0.14774, params: {'n_estimators': 305},\n",
       "  mean: 0.20799, std: 0.14503, params: {'n_estimators': 310},\n",
       "  mean: 0.20891, std: 0.14604, params: {'n_estimators': 315},\n",
       "  mean: 0.20838, std: 0.14530, params: {'n_estimators': 320},\n",
       "  mean: 0.20806, std: 0.14556, params: {'n_estimators': 325},\n",
       "  mean: 0.20823, std: 0.14410, params: {'n_estimators': 330},\n",
       "  mean: 0.20779, std: 0.14407, params: {'n_estimators': 335},\n",
       "  mean: 0.20784, std: 0.14437, params: {'n_estimators': 340},\n",
       "  mean: 0.20781, std: 0.14434, params: {'n_estimators': 345},\n",
       "  mean: 0.20823, std: 0.14440, params: {'n_estimators': 350},\n",
       "  mean: 0.20893, std: 0.14419, params: {'n_estimators': 355},\n",
       "  mean: 0.20882, std: 0.14464, params: {'n_estimators': 360},\n",
       "  mean: 0.20859, std: 0.14464, params: {'n_estimators': 365},\n",
       "  mean: 0.20917, std: 0.14472, params: {'n_estimators': 370},\n",
       "  mean: 0.20891, std: 0.14467, params: {'n_estimators': 375},\n",
       "  mean: 0.20768, std: 0.14425, params: {'n_estimators': 380},\n",
       "  mean: 0.20755, std: 0.14427, params: {'n_estimators': 385},\n",
       "  mean: 0.20767, std: 0.14355, params: {'n_estimators': 390},\n",
       "  mean: 0.20775, std: 0.14340, params: {'n_estimators': 395},\n",
       "  mean: 0.20758, std: 0.14284, params: {'n_estimators': 400},\n",
       "  mean: 0.20832, std: 0.14175, params: {'n_estimators': 405},\n",
       "  mean: 0.20784, std: 0.14210, params: {'n_estimators': 410},\n",
       "  mean: 0.20161, std: 0.13172, params: {'n_estimators': 415},\n",
       "  mean: 0.20148, std: 0.13171, params: {'n_estimators': 420},\n",
       "  mean: 0.20053, std: 0.13055, params: {'n_estimators': 425},\n",
       "  mean: 0.20034, std: 0.13032, params: {'n_estimators': 430},\n",
       "  mean: 0.20027, std: 0.13033, params: {'n_estimators': 435},\n",
       "  mean: 0.20037, std: 0.13053, params: {'n_estimators': 440},\n",
       "  mean: 0.20058, std: 0.13039, params: {'n_estimators': 445},\n",
       "  mean: 0.20034, std: 0.13038, params: {'n_estimators': 450},\n",
       "  mean: 0.20033, std: 0.13045, params: {'n_estimators': 455},\n",
       "  mean: 0.20045, std: 0.13039, params: {'n_estimators': 460},\n",
       "  mean: 0.19852, std: 0.12868, params: {'n_estimators': 465},\n",
       "  mean: 0.19812, std: 0.12883, params: {'n_estimators': 470},\n",
       "  mean: 0.19825, std: 0.12903, params: {'n_estimators': 475},\n",
       "  mean: 0.19860, std: 0.13031, params: {'n_estimators': 480},\n",
       "  mean: 0.20008, std: 0.13324, params: {'n_estimators': 485},\n",
       "  mean: 0.20043, std: 0.13429, params: {'n_estimators': 490},\n",
       "  mean: 0.20045, std: 0.13494, params: {'n_estimators': 495},\n",
       "  mean: 0.20023, std: 0.13533, params: {'n_estimators': 500}],\n",
       " {'n_estimators': 370},\n",
       " 0.20917488566596867)"
      ]
     },
     "execution_count": 823,
     "metadata": {},
     "output_type": "execute_result"
    }
   ],
   "source": [
    "#Choose all predictors except target & IDcols\n",
    "# predictors = [x for x in x_train]\n",
    "param_test1 = {'n_estimators':range(20,501,5)}\n",
    "gsearch1 = GridSearchCV(estimator = GradientBoostingRegressor(loss = 'lad',\n",
    "                                                             learning_rate=0.1, \n",
    "                                                              min_samples_split=2,\n",
    "                                                              min_samples_leaf=1,\n",
    "                                                              max_depth=5,\n",
    "                                                              max_features='auto',\n",
    "                                                              subsample=0.9,\n",
    "                                                              random_state=42), \n",
    "param_grid = param_test1, n_jobs=4,iid=False, cv=5)\n",
    "\n",
    "gsearch1.fit(x_train,y_train)\n",
    "\n",
    "gsearch1.grid_scores_, gsearch1.best_params_, gsearch1.best_score_"
   ]
  },
  {
   "cell_type": "markdown",
   "metadata": {},
   "source": [
    "### Plot ideal trees"
   ]
  },
  {
   "cell_type": "code",
   "execution_count": 824,
   "metadata": {},
   "outputs": [
    {
     "name": "stderr",
     "output_type": "stream",
     "text": [
      "/usr/local/lib/python3.6/site-packages/sklearn/model_selection/_search.py:762: DeprecationWarning: The grid_scores_ attribute was deprecated in version 0.18 in favor of the more elaborate cv_results_ attribute. The grid_scores_ attribute will not be available from 0.20\n",
      "  DeprecationWarning)\n"
     ]
    }
   ],
   "source": [
    "score = pd.DataFrame(gsearch1.grid_scores_)"
   ]
  },
  {
   "cell_type": "code",
   "execution_count": 826,
   "metadata": {},
   "outputs": [],
   "source": [
    "score['n_tree'] = range(20,501,5)"
   ]
  },
  {
   "cell_type": "code",
   "execution_count": 827,
   "metadata": {},
   "outputs": [
    {
     "data": {
      "text/plain": [
       "Index(['parameters', 'mean_validation_score', 'cv_validation_scores',\n",
       "       'n_tree'],\n",
       "      dtype='object')"
      ]
     },
     "execution_count": 827,
     "metadata": {},
     "output_type": "execute_result"
    }
   ],
   "source": [
    "score.columns"
   ]
  },
  {
   "cell_type": "code",
   "execution_count": 828,
   "metadata": {},
   "outputs": [
    {
     "data": {
      "text/plain": [
       "[<matplotlib.lines.Line2D at 0x10afdd518>]"
      ]
     },
     "execution_count": 828,
     "metadata": {},
     "output_type": "execute_result"
    },
    {
     "data": {
      "image/png": "[encoded data removed]",
      "text/plain": [
       "<matplotlib.figure.Figure at 0x10b331b38>"
      ]
     },
     "metadata": {},
     "output_type": "display_data"
    }
   ],
   "source": [
    "fig, ax = plt.subplots(1, 1, figsize=(11, 4))\n",
    "ax.plot(score['n_tree'], score['mean_validation_score'], linewidth = 1)\n",
    "# ax.set_title('Non-Tidal Component by FFT - Chesapeake Bay Bridge Tunnel', fontsize=20)\n",
    "# #ax.set_xlabel('Date', fontsize=16)\n",
    "# ax.set_ylabel('Water Elevation (m)', fontsize=16)\n",
    "# plt.xticks(fontsize=14)\n",
    "# plt.yticks(fontsize=14)"
   ]
  },
  {
   "cell_type": "code",
   "execution_count": 842,
   "metadata": {
    "collapsed": true,
    "jupyter": {
     "outputs_hidden": true
    }
   },
   "outputs": [
    {
     "name": "stderr",
     "output_type": "stream",
     "text": [
      "/usr/local/lib/python3.6/site-packages/sklearn/model_selection/_search.py:762: DeprecationWarning: The grid_scores_ attribute was deprecated in version 0.18 in favor of the more elaborate cv_results_ attribute. The grid_scores_ attribute will not be available from 0.20\n",
      "  DeprecationWarning)\n"
     ]
    },
    {
     "data": {
      "text/plain": [
       "([mean: 0.16451, std: 0.10842, params: {'n_estimators': 20},\n",
       "  mean: 0.17117, std: 0.11497, params: {'n_estimators': 25},\n",
       "  mean: 0.17948, std: 0.12004, params: {'n_estimators': 30},\n",
       "  mean: 0.18038, std: 0.11811, params: {'n_estimators': 35},\n",
       "  mean: 0.18772, std: 0.11424, params: {'n_estimators': 40},\n",
       "  mean: 0.19546, std: 0.11956, params: {'n_estimators': 45},\n",
       "  mean: 0.19277, std: 0.11728, params: {'n_estimators': 50},\n",
       "  mean: 0.19239, std: 0.12040, params: {'n_estimators': 55},\n",
       "  mean: 0.19563, std: 0.12114, params: {'n_estimators': 60},\n",
       "  mean: 0.19725, std: 0.12312, params: {'n_estimators': 65},\n",
       "  mean: 0.19940, std: 0.12527, params: {'n_estimators': 70},\n",
       "  mean: 0.20013, std: 0.12680, params: {'n_estimators': 75},\n",
       "  mean: 0.20153, std: 0.12906, params: {'n_estimators': 80},\n",
       "  mean: 0.20473, std: 0.12809, params: {'n_estimators': 85},\n",
       "  mean: 0.20559, std: 0.13024, params: {'n_estimators': 90},\n",
       "  mean: 0.20315, std: 0.12843, params: {'n_estimators': 95},\n",
       "  mean: 0.20173, std: 0.12894, params: {'n_estimators': 100},\n",
       "  mean: 0.20243, std: 0.13023, params: {'n_estimators': 105},\n",
       "  mean: 0.20160, std: 0.13140, params: {'n_estimators': 110},\n",
       "  mean: 0.20181, std: 0.13357, params: {'n_estimators': 115},\n",
       "  mean: 0.20024, std: 0.13584, params: {'n_estimators': 120},\n",
       "  mean: 0.20030, std: 0.13590, params: {'n_estimators': 125},\n",
       "  mean: 0.20033, std: 0.13663, params: {'n_estimators': 130},\n",
       "  mean: 0.19917, std: 0.13527, params: {'n_estimators': 135},\n",
       "  mean: 0.20027, std: 0.13556, params: {'n_estimators': 140},\n",
       "  mean: 0.20000, std: 0.13694, params: {'n_estimators': 145},\n",
       "  mean: 0.20151, std: 0.13767, params: {'n_estimators': 150},\n",
       "  mean: 0.20196, std: 0.13737, params: {'n_estimators': 155},\n",
       "  mean: 0.20259, std: 0.13596, params: {'n_estimators': 160},\n",
       "  mean: 0.20153, std: 0.13474, params: {'n_estimators': 165},\n",
       "  mean: 0.20238, std: 0.13717, params: {'n_estimators': 170},\n",
       "  mean: 0.20078, std: 0.13597, params: {'n_estimators': 175},\n",
       "  mean: 0.20097, std: 0.13690, params: {'n_estimators': 180},\n",
       "  mean: 0.20009, std: 0.13673, params: {'n_estimators': 185},\n",
       "  mean: 0.20079, std: 0.13852, params: {'n_estimators': 190},\n",
       "  mean: 0.20092, std: 0.13992, params: {'n_estimators': 195},\n",
       "  mean: 0.20109, std: 0.14026, params: {'n_estimators': 200},\n",
       "  mean: 0.20214, std: 0.14118, params: {'n_estimators': 205},\n",
       "  mean: 0.20168, std: 0.13919, params: {'n_estimators': 210},\n",
       "  mean: 0.20147, std: 0.13997, params: {'n_estimators': 215},\n",
       "  mean: 0.20325, std: 0.14332, params: {'n_estimators': 220},\n",
       "  mean: 0.20663, std: 0.14845, params: {'n_estimators': 225},\n",
       "  mean: 0.20685, std: 0.14859, params: {'n_estimators': 230},\n",
       "  mean: 0.20766, std: 0.15007, params: {'n_estimators': 235},\n",
       "  mean: 0.20766, std: 0.15026, params: {'n_estimators': 240},\n",
       "  mean: 0.20670, std: 0.14909, params: {'n_estimators': 245},\n",
       "  mean: 0.20717, std: 0.14793, params: {'n_estimators': 250},\n",
       "  mean: 0.20662, std: 0.14762, params: {'n_estimators': 255},\n",
       "  mean: 0.20797, std: 0.14829, params: {'n_estimators': 260},\n",
       "  mean: 0.20819, std: 0.14745, params: {'n_estimators': 265},\n",
       "  mean: 0.20820, std: 0.14750, params: {'n_estimators': 270},\n",
       "  mean: 0.20718, std: 0.14677, params: {'n_estimators': 275},\n",
       "  mean: 0.20724, std: 0.14766, params: {'n_estimators': 280},\n",
       "  mean: 0.20686, std: 0.14781, params: {'n_estimators': 285},\n",
       "  mean: 0.20684, std: 0.14782, params: {'n_estimators': 290},\n",
       "  mean: 0.20560, std: 0.14754, params: {'n_estimators': 295},\n",
       "  mean: 0.20605, std: 0.14784, params: {'n_estimators': 300},\n",
       "  mean: 0.20624, std: 0.14774, params: {'n_estimators': 305},\n",
       "  mean: 0.20799, std: 0.14503, params: {'n_estimators': 310},\n",
       "  mean: 0.20891, std: 0.14604, params: {'n_estimators': 315},\n",
       "  mean: 0.20838, std: 0.14530, params: {'n_estimators': 320},\n",
       "  mean: 0.20806, std: 0.14556, params: {'n_estimators': 325},\n",
       "  mean: 0.20823, std: 0.14410, params: {'n_estimators': 330},\n",
       "  mean: 0.20779, std: 0.14407, params: {'n_estimators': 335},\n",
       "  mean: 0.20784, std: 0.14437, params: {'n_estimators': 340},\n",
       "  mean: 0.20781, std: 0.14434, params: {'n_estimators': 345},\n",
       "  mean: 0.20823, std: 0.14440, params: {'n_estimators': 350},\n",
       "  mean: 0.20893, std: 0.14419, params: {'n_estimators': 355},\n",
       "  mean: 0.20882, std: 0.14464, params: {'n_estimators': 360},\n",
       "  mean: 0.20859, std: 0.14464, params: {'n_estimators': 365},\n",
       "  mean: 0.20917, std: 0.14472, params: {'n_estimators': 370},\n",
       "  mean: 0.20891, std: 0.14467, params: {'n_estimators': 375},\n",
       "  mean: 0.20768, std: 0.14425, params: {'n_estimators': 380},\n",
       "  mean: 0.20755, std: 0.14427, params: {'n_estimators': 385},\n",
       "  mean: 0.20767, std: 0.14355, params: {'n_estimators': 390},\n",
       "  mean: 0.20775, std: 0.14340, params: {'n_estimators': 395},\n",
       "  mean: 0.20758, std: 0.14284, params: {'n_estimators': 400},\n",
       "  mean: 0.20832, std: 0.14175, params: {'n_estimators': 405},\n",
       "  mean: 0.20784, std: 0.14210, params: {'n_estimators': 410},\n",
       "  mean: 0.20161, std: 0.13172, params: {'n_estimators': 415},\n",
       "  mean: 0.20148, std: 0.13171, params: {'n_estimators': 420},\n",
       "  mean: 0.20053, std: 0.13055, params: {'n_estimators': 425},\n",
       "  mean: 0.20034, std: 0.13032, params: {'n_estimators': 430},\n",
       "  mean: 0.20027, std: 0.13033, params: {'n_estimators': 435},\n",
       "  mean: 0.20037, std: 0.13053, params: {'n_estimators': 440},\n",
       "  mean: 0.20058, std: 0.13039, params: {'n_estimators': 445},\n",
       "  mean: 0.20034, std: 0.13038, params: {'n_estimators': 450},\n",
       "  mean: 0.20033, std: 0.13045, params: {'n_estimators': 455},\n",
       "  mean: 0.20045, std: 0.13039, params: {'n_estimators': 460},\n",
       "  mean: 0.19852, std: 0.12868, params: {'n_estimators': 465},\n",
       "  mean: 0.19812, std: 0.12883, params: {'n_estimators': 470},\n",
       "  mean: 0.19825, std: 0.12903, params: {'n_estimators': 475},\n",
       "  mean: 0.19860, std: 0.13031, params: {'n_estimators': 480},\n",
       "  mean: 0.20008, std: 0.13324, params: {'n_estimators': 485},\n",
       "  mean: 0.20043, std: 0.13429, params: {'n_estimators': 490},\n",
       "  mean: 0.20045, std: 0.13494, params: {'n_estimators': 495},\n",
       "  mean: 0.20023, std: 0.13533, params: {'n_estimators': 500}],\n",
       " {'n_estimators': 370},\n",
       " 0.20917488566596867)"
      ]
     },
     "execution_count": 842,
     "metadata": {},
     "output_type": "execute_result"
    }
   ],
   "source": [
    "#Choose all predictors except target & IDcols\n",
    "# predictors = [x for x in x_train]\n",
    "param_test1 = {'n_estimators':range(20,501,5)}\n",
    "treeplot = GridSearchCV(estimator = GradientBoostingRegressor(loss = 'lad',\n",
    "                                                             learning_rate=0.1, \n",
    "                                                              min_samples_split=2,\n",
    "                                                              min_samples_leaf=1,\n",
    "                                                              max_depth=5,\n",
    "                                                              max_features='auto',\n",
    "                                                              subsample=0.9,\n",
    "                                                              random_state=42), \n",
    "param_grid = param_test1,scoring='neg_mean_absolute_error', n_jobs=4,iid=False, cv=5)\n",
    "\n",
    "treeplot.fit(x_train,y_train)\n",
    "\n",
    "treeplot.grid_scores_, treeplot.best_params_, treeplot.best_score_"
   ]
  },
  {
   "cell_type": "code",
   "execution_count": 833,
   "metadata": {},
   "outputs": [
    {
     "name": "stderr",
     "output_type": "stream",
     "text": [
      "/usr/local/lib/python3.6/site-packages/sklearn/model_selection/_search.py:762: DeprecationWarning: The grid_scores_ attribute was deprecated in version 0.18 in favor of the more elaborate cv_results_ attribute. The grid_scores_ attribute will not be available from 0.20\n",
      "  DeprecationWarning)\n"
     ]
    },
    {
     "data": {
      "text/plain": [
       "[<matplotlib.lines.Line2D at 0x10b799550>]"
      ]
     },
     "execution_count": 833,
     "metadata": {},
     "output_type": "execute_result"
    },
    {
     "data": {
      "image/png": "[encoded data removed]",
      "text/plain": [
       "<matplotlib.figure.Figure at 0x10b03bf98>"
      ]
     },
     "metadata": {},
     "output_type": "display_data"
    }
   ],
   "source": [
    "score = pd.DataFrame(treeplot.grid_scores_)\n",
    "score['n_tree'] = range(20,501,5)\n",
    "\n",
    "\n",
    "fig, ax = plt.subplots(1, 1, figsize=(11, 4))\n",
    "ax.plot(score['n_tree'], score['mean_validation_score'], linewidth = 1)\n",
    "# ax.set_title('Non-Tidal Component by FFT - Chesapeake Bay Bridge Tunnel', fontsize=20)\n",
    "# #ax.set_xlabel('Date', fontsize=16)\n",
    "# ax.set_ylabel('Water Elevation (m)', fontsize=16)\n",
    "# plt.xticks(fontsize=14)\n",
    "# plt.yticks(fontsize=14)"
   ]
  },
  {
   "cell_type": "code",
   "execution_count": null,
   "metadata": {},
   "outputs": [],
   "source": []
  },
  {
   "cell_type": "code",
   "execution_count": null,
   "metadata": {},
   "outputs": [],
   "source": []
  },
  {
   "cell_type": "code",
   "execution_count": 836,
   "metadata": {},
   "outputs": [
    {
     "name": "stderr",
     "output_type": "stream",
     "text": [
      "/usr/local/lib/python3.6/site-packages/sklearn/model_selection/_search.py:762: DeprecationWarning: The grid_scores_ attribute was deprecated in version 0.18 in favor of the more elaborate cv_results_ attribute. The grid_scores_ attribute will not be available from 0.20\n",
      "  DeprecationWarning)\n"
     ]
    },
    {
     "data": {
      "text/plain": [
       "({'max_depth': 12, 'min_samples_split': 16}, 0.24984427463614586)"
      ]
     },
     "execution_count": 836,
     "metadata": {},
     "output_type": "execute_result"
    }
   ],
   "source": [
    "param_test2 = {'max_depth':range(2,16,1), 'min_samples_split':range(2,20,1)}\n",
    "gsearch2 = GridSearchCV(estimator = GradientBoostingRegressor(loss = 'lad',\n",
    "                                                              learning_rate=0.1, \n",
    "                                                              n_estimators=70, \n",
    "                                                              max_features='sqrt', \n",
    "                                                              subsample=0.8, \n",
    "                                                              random_state=42), \n",
    "param_grid = param_test2,n_jobs=4,iid=False, cv=5)\n",
    "\n",
    "gsearch2.fit(x_train,y_train)\n",
    "\n",
    "gsearch2.grid_scores_, \n",
    "gsearch2.best_params_, gsearch2.best_score_"
   ]
  },
  {
   "cell_type": "markdown",
   "metadata": {},
   "source": [
    "### Depth plot"
   ]
  },
  {
   "cell_type": "code",
   "execution_count": 843,
   "metadata": {},
   "outputs": [
    {
     "name": "stderr",
     "output_type": "stream",
     "text": [
      "/usr/local/lib/python3.6/site-packages/sklearn/model_selection/_search.py:762: DeprecationWarning: The grid_scores_ attribute was deprecated in version 0.18 in favor of the more elaborate cv_results_ attribute. The grid_scores_ attribute will not be available from 0.20\n",
      "  DeprecationWarning)\n"
     ]
    },
    {
     "data": {
      "text/plain": [
       "({'max_depth': 7}, 0.23563234904544181)"
      ]
     },
     "execution_count": 843,
     "metadata": {},
     "output_type": "execute_result"
    }
   ],
   "source": [
    "param_test2 = {'max_depth':range(2,50,1)}\n",
    "gsearch2 = GridSearchCV(estimator = GradientBoostingRegressor(loss = 'lad',\n",
    "                                                              learning_rate=0.1, \n",
    "                                                              n_estimators=70, \n",
    "                                                              max_features='sqrt', \n",
    "                                                              subsample=0.8, \n",
    "                                                              random_state=42), \n",
    "param_grid = param_test2, n_jobs=4,iid=False, cv=5)\n",
    "\n",
    "gsearch2.fit(x_train,y_train)\n",
    "\n",
    "gsearch2.grid_scores_, \n",
    "gsearch2.best_params_, gsearch2.best_score_"
   ]
  },
  {
   "cell_type": "code",
   "execution_count": 844,
   "metadata": {},
   "outputs": [
    {
     "name": "stderr",
     "output_type": "stream",
     "text": [
      "/usr/local/lib/python3.6/site-packages/sklearn/model_selection/_search.py:762: DeprecationWarning: The grid_scores_ attribute was deprecated in version 0.18 in favor of the more elaborate cv_results_ attribute. The grid_scores_ attribute will not be available from 0.20\n",
      "  DeprecationWarning)\n"
     ]
    },
    {
     "data": {
      "text/plain": [
       "[<matplotlib.lines.Line2D at 0x10ba30358>]"
      ]
     },
     "execution_count": 844,
     "metadata": {},
     "output_type": "execute_result"
    },
    {
     "data": {
      "image/png": "[encoded data removed]",
      "text/plain": [
       "<matplotlib.figure.Figure at 0x10ba41e48>"
      ]
     },
     "metadata": {},
     "output_type": "display_data"
    }
   ],
   "source": [
    "score = pd.DataFrame(gsearch2.grid_scores_)\n",
    "score['depth'] = range(2,50,1)\n",
    "\n",
    "\n",
    "fig, ax = plt.subplots(1, 1, figsize=(11, 4))\n",
    "ax.plot(score['depth'], score['mean_validation_score'], linewidth = 1)\n",
    "# ax.set_title('Non-Tidal Component by FFT - Chesapeake Bay Bridge Tunnel', fontsize=20)\n",
    "# #ax.set_xlabel('Date', fontsize=16)\n",
    "# ax.set_ylabel('Water Elevation (m)', fontsize=16)\n",
    "# plt.xticks(fontsize=14)\n",
    "# plt.yticks(fontsize=14)"
   ]
  },
  {
   "cell_type": "code",
   "execution_count": 213,
   "metadata": {},
   "outputs": [
    {
     "data": {
      "text/plain": [
       "({'min_samples_leaf': 9, 'min_samples_split': 19}, 0.25122282428612419)"
      ]
     },
     "execution_count": 213,
     "metadata": {},
     "output_type": "execute_result"
    }
   ],
   "source": [
    "param_test3 = {'min_samples_split':range(2,20,1), 'min_samples_leaf':range(2,20,1)}\n",
    "gsearch3 = GridSearchCV(estimator = GradientBoostingRegressor(loss = 'lad',\n",
    "                                                              learning_rate=0.1, \n",
    "                                                              n_estimators=70,\n",
    "                                                              max_depth=12,\n",
    "                                                              max_features='sqrt', \n",
    "                                                              subsample=0.8, \n",
    "                                                              random_state=42), \n",
    "param_grid = param_test3,n_jobs=4,iid=False, cv=5)\n",
    "gsearch3.fit(x_train, y_train)\n",
    "\n",
    "#gsearch3.grid_scores_, \n",
    "gsearch3.best_params_, gsearch3.best_score_"
   ]
  },
  {
   "cell_type": "code",
   "execution_count": 215,
   "metadata": {},
   "outputs": [
    {
     "data": {
      "text/plain": [
       "({'max_features': 3}, 0.25122282428612419)"
      ]
     },
     "execution_count": 215,
     "metadata": {},
     "output_type": "execute_result"
    }
   ],
   "source": [
    "param_test4 = {'max_features':range(1,9,1)}\n",
    "gsearch4 = GridSearchCV(estimator = GradientBoostingRegressor(loss = 'lad',\n",
    "                                                              learning_rate=0.1, \n",
    "                                                               n_estimators=70,\n",
    "                                                               max_depth=12, \n",
    "                                                               min_samples_split=19, \n",
    "                                                               min_samples_leaf=9, \n",
    "                                                               subsample=0.8, \n",
    "                                                               random_state=42),\n",
    "param_grid = param_test4, n_jobs=4,iid=False, cv=5)\n",
    "gsearch4.fit(x_train, y_train)\n",
    "#gsearch4.grid_scores_, \n",
    "gsearch4.best_params_, gsearch4.best_score_"
   ]
  },
  {
   "cell_type": "code",
   "execution_count": 218,
   "metadata": {},
   "outputs": [
    {
     "data": {
      "text/plain": [
       "({'subsample': 0.8}, 0.25122282428612419)"
      ]
     },
     "execution_count": 218,
     "metadata": {},
     "output_type": "execute_result"
    }
   ],
   "source": [
    "param_test5 = {'subsample':[0.6,0.7,0.75,0.8,0.85,0.9]}\n",
    "gsearch5 = GridSearchCV(estimator = GradientBoostingRegressor(loss = 'lad',\n",
    "                                                              learning_rate=0.1, \n",
    "                                                               n_estimators=70,\n",
    "                                                               max_depth=12, \n",
    "                                                               min_samples_split=19, \n",
    "                                                               min_samples_leaf=9, \n",
    "                                                               #subsample=0.8, \n",
    "                                                               random_state=42,\n",
    "                                                              max_features=3),\n",
    "param_grid = param_test5, n_jobs=4,iid=False, cv=5)\n",
    "tuned1 = gsearch5.fit(x_train, y_train)\n",
    "#gsearch5.grid_scores_, \n",
    "gsearch5.best_params_, gsearch5.best_score_"
   ]
  },
  {
   "cell_type": "code",
   "execution_count": 227,
   "metadata": {},
   "outputs": [],
   "source": [
    "# predictors = [x for x in x_train]\n",
    "gbm_tuned_1 = GradientBoostingRegressor(loss = 'lad',\n",
    "                                        learning_rate=0.05, \n",
    "                                        n_estimators=140,\n",
    "                                        max_depth=12, \n",
    "                                        min_samples_split=19, \n",
    "                                        min_samples_leaf=9, \n",
    "                                        #subsample=0.8, \n",
    "                                        random_state=42,\n",
    "                                        max_features=3)\n",
    "tuned2 = gbm_tuned_1.fit(x_train, y_train)"
   ]
  },
  {
   "cell_type": "code",
   "execution_count": 228,
   "metadata": {},
   "outputs": [
    {
     "data": {
      "text/plain": [
       "<bound method BaseEstimator.get_params of GradientBoostingRegressor(alpha=0.9, criterion='friedman_mse', init=None,\n",
       "             learning_rate=0.05, loss='lad', max_depth=12, max_features=3,\n",
       "             max_leaf_nodes=None, min_impurity_decrease=0.0,\n",
       "             min_impurity_split=None, min_samples_leaf=9,\n",
       "             min_samples_split=19, min_weight_fraction_leaf=0.0,\n",
       "             n_estimators=140, presort='auto', random_state=42,\n",
       "             subsample=1.0, verbose=0, warm_start=False)>"
      ]
     },
     "execution_count": 228,
     "metadata": {},
     "output_type": "execute_result"
    }
   ],
   "source": [
    "tuned2.get_params"
   ]
  },
  {
   "cell_type": "markdown",
   "metadata": {},
   "source": [
    "# Optimization Results"
   ]
  },
  {
   "cell_type": "markdown",
   "metadata": {},
   "source": [
    "### R_In_No0"
   ]
  },
  {
   "cell_type": "code",
   "execution_count": 846,
   "metadata": {},
   "outputs": [],
   "source": [
    "# IDEAL1 (SCORE 70%/15%)\n",
    "\n",
    "gbrt = GradientBoostingRegressor(loss = 'ls',\n",
    "                                #alpha = .4,\n",
    "                                learning_rate = 0.05,\n",
    "                                n_estimators=175,\n",
    "                                subsample = 0.78,\n",
    "                                criterion = \"friedman_mse\",\n",
    "                                min_samples_split = 2,\n",
    "                                min_samples_leaf = 11,\n",
    "                                random_state = 42,\n",
    "                                max_depth = 6,\n",
    "                                max_features = 1)\n",
    "IDEAL1 = gbrt.fit(x_train, y_train)"
   ]
  },
  {
   "cell_type": "code",
   "execution_count": 845,
   "metadata": {},
   "outputs": [],
   "source": [
    "#IDEAL2 (SCORE 80%/ 16%)\n",
    "\n",
    "gbrt = GradientBoostingRegressor(loss = 'lad',\n",
    "                                #alpha = .4,\n",
    "                                learning_rate = 0.1,\n",
    "                                n_estimators=500,\n",
    "                                subsample = 0.9,\n",
    "                                criterion = \"friedman_mse\",\n",
    "                                min_samples_split = 2,\n",
    "                                min_samples_leaf = 1,\n",
    "                                random_state = 42,\n",
    "                                max_depth = 5,\n",
    "                                max_features = 'auto')\n",
    "IDEAL2 = gbrt.fit(x_train, y_train)"
   ]
  },
  {
   "cell_type": "code",
   "execution_count": 247,
   "metadata": {},
   "outputs": [],
   "source": [
    "# IDEAL 3 (SCORE 57%/13%)\n",
    "gbm_tuned_1 = GradientBoostingRegressor(loss = 'lad',\n",
    "                                        learning_rate=0.05, \n",
    "                                        n_estimators=140,\n",
    "                                        max_depth=12, \n",
    "                                        min_samples_split=19, \n",
    "                                        min_samples_leaf=9, \n",
    "                                        #subsample=0.8, \n",
    "                                        random_state=42,\n",
    "                                        max_features=3)\n",
    "IDEAL3 = gbm_tuned_1.fit(x_train, y_train)"
   ]
  },
  {
   "cell_type": "code",
   "execution_count": null,
   "metadata": {},
   "outputs": [],
   "source": []
  },
  {
   "cell_type": "code",
   "execution_count": 124,
   "metadata": {},
   "outputs": [],
   "source": [
    "# tuned_model.fit(x_train, y_train)"
   ]
  },
  {
   "cell_type": "markdown",
   "metadata": {},
   "source": [
    "### Evaluate"
   ]
  },
  {
   "cell_type": "code",
   "execution_count": 847,
   "metadata": {},
   "outputs": [],
   "source": [
    "def predict(model, x_train, x_test):   \n",
    "    pred_test = model.predict(x_test)\n",
    "    pred_train = model.predict(x_train)\n",
    "    \n",
    "    return pred_train, pred_test"
   ]
  },
  {
   "cell_type": "code",
   "execution_count": 848,
   "metadata": {},
   "outputs": [],
   "source": [
    "pred_train, pred_test = predict(IDEAL1, x_train, x_test)"
   ]
  },
  {
   "cell_type": "code",
   "execution_count": 849,
   "metadata": {},
   "outputs": [],
   "source": [
    "def variance_score(model, x_train, y_train, x_test, y_test):\n",
    "    r_train = model.score(x_train, y_train)\n",
    "    r_test = model.score(x_test, y_test)\n",
    "    \n",
    "    return r_train, r_test"
   ]
  },
  {
   "cell_type": "code",
   "execution_count": 850,
   "metadata": {},
   "outputs": [],
   "source": [
    "r_train, r_test = variance_score(IDEAL1, x_train, y_train, x_test, y_test)"
   ]
  },
  {
   "cell_type": "code",
   "execution_count": 851,
   "metadata": {},
   "outputs": [
    {
     "data": {
      "text/plain": [
       "0.15722073449963447"
      ]
     },
     "execution_count": 851,
     "metadata": {},
     "output_type": "execute_result"
    }
   ],
   "source": [
    "r_test"
   ]
  },
  {
   "cell_type": "code",
   "execution_count": 852,
   "metadata": {},
   "outputs": [],
   "source": [
    "def evaluate_regression(pred_train, pred_test, y_train, y_test):\n",
    "    r_train = r2_score(y_train, pred_train)\n",
    "    print('The training r-squared score is {}'.format(r_train))\n",
    "    r_test = r2_score(y_test, pred_test)\n",
    "    print('The testing r-squared score is {}'.format(r_test))\n",
    "    meanabserrors_train = np.mean(abs(pred_train - y_train))\n",
    "    print('The training mean absolute error is {}'.format(meanabserrors_train))\n",
    "    meanabserrors_test = np.mean(abs(pred_test - y_test))\n",
    "    print('The testing mean absolute error is {}'.format(meanabserrors_test))\n",
    "    rmse = math.sqrt(mean_squared_error(y_test, pred_test))\n",
    "    print('The root mean square error is {}'.format(rmse))\n",
    "    mse = mean_squared_error(y_test, pred_test)\n",
    "    print('The mean square error is {}'.format(mse))\n",
    "    errors = pred_test - y_test\n",
    "    meanerror = np.mean(errors)\n",
    "    print('The mean error is {}'.format(meanerror))\n",
    "    return errors"
   ]
  },
  {
   "cell_type": "code",
   "execution_count": 853,
   "metadata": {},
   "outputs": [
    {
     "name": "stdout",
     "output_type": "stream",
     "text": [
      "The training r-squared score is 0.7155182853231388\n",
      "The testing r-squared score is 0.15722073449963447\n",
      "The training mean absolute error is 0.012704600142771307\n",
      "The testing mean absolute error is 0.021294067025702728\n",
      "The root mean square error is 0.02904701506482965\n",
      "The mean square error is 0.0008437290841764408\n",
      "The mean error is 0.0003259851885358348\n"
     ]
    }
   ],
   "source": [
    "# EXAMPLE\n",
    "errors = evaluate_regression(pred_train, pred_test, y_train, y_test)"
   ]
  },
  {
   "cell_type": "code",
   "execution_count": 854,
   "metadata": {},
   "outputs": [],
   "source": [
    "def plot_predictions(y_test, pred, Title):\n",
    "    df_predictions = pd.DataFrame(y_test)\n",
    "    df_predictions['Pred'] = pred\n",
    "    X = df_predictions.iloc[:, 0].values.reshape(-1, 1)\n",
    "    Y = df_predictions.iloc[:, 1].values.reshape(-1, 1)\n",
    "    fig, ax = plt.subplots()\n",
    "    ax.scatter(X, Y, color='maroon')\n",
    "    line = mlines.Line2D([0, 1], [0, 1], color='orange')\n",
    "    transform = ax.transAxes\n",
    "    line.set_transform(transform)\n",
    "    ax.add_line(line)\n",
    "    ax.set_xlabel(ax.get_xlabel(), fontsize = 18)\n",
    "    ax.set_ylabel(ax.get_ylabel(), fontsize = 18)\n",
    "    ax.tick_params(axis='both', which='major', labelsize=15)\n",
    "    plt.grid(True)\n",
    "    plt.xlabel(\"Damage Index\")\n",
    "    plt.ylabel(\"Precited Damage Index\")\n",
    "    plt.xlim(0, 0.2)\n",
    "    plt.ylim(0, 0.2)\n",
    "    plt.title('Model Evaluation -' +  Title, fontsize = 20)\n",
    "#     plt.savefig('train_eval.png', dpi=600, bbox_inches = \"tight\")\n",
    "    plt.show()"
   ]
  },
  {
   "cell_type": "code",
   "execution_count": 855,
   "metadata": {},
   "outputs": [
    {
     "data": {
      "image/png": "[encoded data removed]",
      "text/plain": [
       "<matplotlib.figure.Figure at 0x10b2e6fd0>"
      ]
     },
     "metadata": {},
     "output_type": "display_data"
    }
   ],
   "source": [
    "# EXAMPLE\n",
    "Title = 'Test Set'\n",
    "plot_predictions(y_test, pred_test, Title)"
   ]
  },
  {
   "cell_type": "code",
   "execution_count": 856,
   "metadata": {},
   "outputs": [
    {
     "data": {
      "image/png": "[encoded data removed]",
      "text/plain": [
       "<matplotlib.figure.Figure at 0x10b2e60b8>"
      ]
     },
     "metadata": {},
     "output_type": "display_data"
    }
   ],
   "source": [
    "Title = 'Train Set'\n",
    "plot_predictions(y_train, pred_train, Title)"
   ]
  },
  {
   "cell_type": "code",
   "execution_count": 868,
   "metadata": {},
   "outputs": [
    {
     "ename": "NameError",
     "evalue": "name 'plot_partial_dependence' is not defined",
     "output_type": "error",
     "traceback": [
      "\u001b[0;31m--------------------------------------------------------------------------\u001b[0m",
      "\u001b[0;31mNameError\u001b[0m                                Traceback (most recent call last)",
      "\u001b[0;32m<ipython-input-868-9c58f602c720>\u001b[0m in \u001b[0;36m<module>\u001b[0;34m()\u001b[0m\n\u001b[0;32m----> 1\u001b[0;31m \u001b[0mfig\u001b[0m\u001b[0;34m,\u001b[0m \u001b[0maxs\u001b[0m \u001b[0;34m=\u001b[0m \u001b[0mplot_partial_dependence\u001b[0m\u001b[0;34m(\u001b[0m\u001b[0mIDEAL1\u001b[0m\u001b[0;34m,\u001b[0m \u001b[0mx_train\u001b[0m\u001b[0;34m,\u001b[0m \u001b[0;34m[\u001b[0m\u001b[0;36m0\u001b[0m\u001b[0;34m,\u001b[0m \u001b[0;34m(\u001b[0m\u001b[0;36m0\u001b[0m\u001b[0;34m,\u001b[0m \u001b[0;36m1\u001b[0m\u001b[0;34m)\u001b[0m\u001b[0;34m]\u001b[0m\u001b[0;34m)\u001b[0m\u001b[0;34m\u001b[0m\u001b[0m\n\u001b[0m",
      "\u001b[0;31mNameError\u001b[0m: name 'plot_partial_dependence' is not defined"
     ]
    }
   ],
   "source": [
    "fig, axs = plot_partial_dependence(IDEAL1, x_train, [0, (0, 1)]) "
   ]
  },
  {
   "cell_type": "code",
   "execution_count": null,
   "metadata": {},
   "outputs": [],
   "source": []
  },
  {
   "cell_type": "code",
   "execution_count": null,
   "metadata": {},
   "outputs": [],
   "source": []
  },
  {
   "cell_type": "code",
   "execution_count": null,
   "metadata": {},
   "outputs": [],
   "source": []
  },
  {
   "cell_type": "code",
   "execution_count": 480,
   "metadata": {},
   "outputs": [],
   "source": [
    "def calc_gini_importances(x_train, model):\n",
    "    importances = model.feature_importances_\n",
    "    importances_df = pd.DataFrame(importances, x_train.columns,\n",
    "                                  columns=['Importance']).sort_values('Importance',\n",
    "                                  ascending=False)\n",
    "    importances_df.reset_index(inplace=True)\n",
    "    importances_df.rename(columns={'index':'Feature'}, inplace=True)\n",
    "    return importances_df\n"
   ]
  },
  {
   "cell_type": "code",
   "execution_count": 481,
   "metadata": {},
   "outputs": [],
   "source": [
    "# indicate if reg_model or class_model\n",
    "# EXAMPLE\n",
    "df_gini_importances = calc_gini_importances(x_train, gbrt)"
   ]
  },
  {
   "cell_type": "code",
   "execution_count": 482,
   "metadata": {},
   "outputs": [],
   "source": [
    "def gini_importance_plot(df_gini_importances):\n",
    "    df_gini_importances.sort_values('Importance', ascending=False).plot.bar('Feature',\n",
    "                                                                            'Importance', \n",
    "                                                                            color='maroon', \n",
    "                                                                            legend = False)\n",
    "    plt.title(\"Feature Importances\", fontsize = 25)\n",
    "    plt.ylabel('Importance', fontsize = 16)\n",
    "    plt.xlabel('')\n",
    "    plt.xticks(fontsize = 16, rotation = 45, ha='right')\n",
    "    plt.yticks(fontsize = 14)\n",
    "#     plt.savefig('giniimportance.png', dpi=600, bbox_inches = \"tight\")\n",
    "    \n"
   ]
  },
  {
   "cell_type": "code",
   "execution_count": 483,
   "metadata": {},
   "outputs": [
    {
     "data": {
      "image/png": "[encoded data removed]",
      "text/plain": [
       "<matplotlib.figure.Figure at 0x10bf8ca20>"
      ]
     },
     "metadata": {},
     "output_type": "display_data"
    }
   ],
   "source": [
    "# EXAMPLE\n",
    "gini_importance_plot(df_gini_importances)"
   ]
  },
  {
   "cell_type": "code",
   "execution_count": 484,
   "metadata": {},
   "outputs": [],
   "source": [
    "def calc_permutation_importance(criterion, model, df_x, y):\n",
    "    features = df_x.columns.values\n",
    "    X = df_x.as_matrix()\n",
    "    Y = y.as_matrix()\n",
    "    scores = defaultdict(list)\n",
    "    rf = model\n",
    "    for train_idx, test_idx in ShuffleSplit(len(X), 100, .3, random_state=42): #number of splits, absolute number of test samples, proportion of data in train split\n",
    "        X_train, X_test = X[train_idx], X[test_idx] #Random permutation cross-validator, Yields indices to split data into training and test sets.\n",
    "        Y_train, Y_test = Y[train_idx], Y[test_idx]\n",
    "        r = rf.fit(X_train, Y_train)\n",
    "        acc = criterion(Y_test, rf.predict(X_test))\n",
    "        for i in range(X.shape[1]): #The shape attribute for numpy arrays returns the dimensions of the array. If Y has n rows and m columns, then Y.shape is (n,m). So Y.shape[0] is n.\n",
    "            X_t = X_test.copy()\n",
    "            np.random.seed(42)\n",
    "            np.random.shuffle(X_t[:, i]) #rearranging randomly\n",
    "            shuff_acc = criterion(Y_test, rf.predict(X_t)) \n",
    "            scores[features[i]].append((acc-shuff_acc)/acc) #change in importance, actual - shuffled/actual, this is percent error        \n",
    "    mda_features = [f for f in scores.keys()]\n",
    "    mda_importance = [(np.mean(score)) for score in scores.values()] #average over all the shuffled permutations\n",
    "    mda_indices = np.argsort(mda_importance)\n",
    "    return mda_features, mda_importance, mda_indices"
   ]
  },
  {
   "cell_type": "code",
   "execution_count": 485,
   "metadata": {},
   "outputs": [
    {
     "name": "stderr",
     "output_type": "stream",
     "text": [
      "/usr/local/lib/python3.6/site-packages/ipykernel_launcher.py:3: FutureWarning: Method .as_matrix will be removed in a future version. Use .values instead.\n",
      "  This is separate from the ipykernel package so we can avoid doing imports until\n",
      "/usr/local/lib/python3.6/site-packages/ipykernel_launcher.py:4: FutureWarning: Method .as_matrix will be removed in a future version. Use .values instead.\n",
      "  after removing the cwd from sys.path.\n"
     ]
    }
   ],
   "source": [
    "#EXAMPLE\n",
    "#criterion can be r2_score or mean_squared_error\n",
    "#should be MSE i think\n",
    "\n",
    "criterion = mean_squared_error\n",
    "mda_features, mda_importance, mda_indices = calc_permutation_importance(criterion, gbrt, df_x, y)"
   ]
  },
  {
   "cell_type": "code",
   "execution_count": 486,
   "metadata": {},
   "outputs": [],
   "source": [
    "def permutation_importance_plot(mda_features, mda_importance):\n",
    "    df_perm_FI = pd.DataFrame({'Feature':mda_features, 'Importance':[abs(number) for number in mda_importance]})\n",
    "    df_perm_FI.sort_values('Importance', ascending=False).plot.bar('Feature',\n",
    "                                                                   'Importance', \n",
    "                                                                    color='maroon', \n",
    "                                                                    legend = False)\n",
    "    plt.title(\"Feature Importances\", fontsize = 30)\n",
    "    plt.ylabel('Importance')\n",
    "    plt.xlabel('')\n",
    "    plt.xticks(fontsize = 12, rotation = 45, ha='right')\n",
    "    plt.savefig('permutimportance.png', dpi=600, bbox_inches = \"tight\")"
   ]
  },
  {
   "cell_type": "code",
   "execution_count": 487,
   "metadata": {},
   "outputs": [
    {
     "data": {
      "image/png": "[encoded data removed]",
      "text/plain": [
       "<matplotlib.figure.Figure at 0x10bed9b38>"
      ]
     },
     "metadata": {},
     "output_type": "display_data"
    }
   ],
   "source": [
    "# EXAMPLE\n",
    "permutation_importance_plot(mda_features, mda_importance)"
   ]
  },
  {
   "cell_type": "code",
   "execution_count": null,
   "metadata": {},
   "outputs": [],
   "source": []
  }
 ],
 "metadata": {
  "kernelspec": {
   "display_name": "Python 3",
   "language": "python",
   "name": "python3"
  },
  "language_info": {
   "codemirror_mode": {
    "name": "ipython",
    "version": 3
   },
   "file_extension": ".py",
   "mimetype": "text/x-python",
   "name": "python",
   "nbconvert_exporter": "python",
   "pygments_lexer": "ipython3",
   "version": "3.6.5"
  }
 },
 "nbformat": 4,
 "nbformat_minor": 4
}
