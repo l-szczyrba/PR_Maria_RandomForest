{
 "cells": [
  {
   "cell_type": "code",
   "execution_count": 35,
   "metadata": {},
   "outputs": [],
   "source": [
    "import pandas as pd"
   ]
  },
  {
   "cell_type": "markdown",
   "metadata": {},
   "source": [
    "# Import Features Dataframe (df_features)"
   ]
  },
  {
   "cell_type": "code",
   "execution_count": 36,
   "metadata": {},
   "outputs": [],
   "source": [
    "data = pd.read_excel(\"/Users/lszczyrba/Documents/Research/Projects/PR_Housing/Data/AllFeatures20191021.xlsx\")\n",
    "df_features = pd.DataFrame(data)\n",
    "df_features = df_features.set_index(['FIPS'])"
   ]
  },
  {
   "cell_type": "markdown",
   "metadata": {},
   "source": [
    "# Import Target Data Frames "
   ]
  },
  {
   "cell_type": "markdown",
   "metadata": {},
   "source": [
    "df_origs = Original targets, index with destroyed weighted 2x and straight ratio of affected and destroyed\n",
    "\n",
    "df_No0 = Straight ratio with dropped 0 values\n",
    "\n",
    "df_NoO = Straight ratio with dropped outliers\n",
    "\n",
    "df_No0_NoO = Ratio with bboth 0 values and outliers dropped\n",
    "\n",
    "df_cat = Categorical values, one with 3 (0:low, 1:medium, 2:high) and one with 4 (0:low, 1:medium-low, 2:medium-high, 3:high)"
   ]
  },
  {
   "cell_type": "code",
   "execution_count": 37,
   "metadata": {},
   "outputs": [],
   "source": [
    "origs = pd.read_excel(\"/Users/lszczyrba/Documents/Research/Projects/PR_Housing/Data/origs.xlsx\")\n",
    "df_origs = pd.DataFrame(origs)\n",
    "df_origs = df_origs.set_index(['FIPS'])\n",
    "\n",
    "No0 = pd.read_excel(\"/Users/lszczyrba/Documents/Research/Projects/PR_Housing/Data/No0.xlsx\")\n",
    "df_No0 = pd.DataFrame(No0)\n",
    "df_No0 = df_No0.set_index(['FIPS'])\n",
    "\n",
    "NoO = pd.read_excel(\"/Users/lszczyrba/Documents/Research/Projects/PR_Housing/Data/NoO.xlsx\")\n",
    "df_NoO = pd.DataFrame(NoO)\n",
    "df_NoO = df_NoO.set_index(['FIPS'])\n",
    "\n",
    "No0_NoO = pd.read_excel(\"/Users/lszczyrba/Documents/Research/Projects/PR_Housing/Data/No0_NoO.xlsx\")\n",
    "df_No0_NoO = pd.DataFrame(No0_NoO)\n",
    "df_No0_NoO = df_No0_NoO.set_index(['FIPS'])\n",
    "\n",
    "cat = pd.read_excel(\"/Users/lszczyrba/Documents/Research/Projects/PR_Housing/Data/cat.xlsx\")\n",
    "df_cat = pd.DataFrame(cat)\n",
    "df_cat = df_cat.set_index(['FIPS'])\n"
   ]
  },
  {
   "cell_type": "code",
   "execution_count": 38,
   "metadata": {},
   "outputs": [],
   "source": [
    "damage = pd.read_excel(r'/Users/lszczyrba/Documents/Research/Projects/PR_Housing/Data/PYTHON/DamageData.xlsx')\n",
    "df_damage = pd.DataFrame(damage)\n",
    "df_damage = df_damage.set_index(['FIPS'])"
   ]
  },
  {
   "cell_type": "code",
   "execution_count": 39,
   "metadata": {},
   "outputs": [],
   "source": [
    "df_damage['R_DES'] = df_damage.Sum_DES / df_damage.Count_\n",
    "df_damage['R_AFF'] = df_damage.Sum_AFF / df_damage.Count_"
   ]
  },
  {
   "cell_type": "code",
   "execution_count": 40,
   "metadata": {},
   "outputs": [],
   "source": [
    "master_df = df_features.merge(df_origs, right_index=True, left_index=True, how='left') \\\n",
    ".merge(df_No0, right_index = True, left_index=True, how='left') \\\n",
    ".merge(df_NoO, right_index = True, left_index=True, how='left') \\\n",
    ".merge(df_No0_NoO, right_index=True, left_index=True, how='left') \\\n",
    ".merge(df_cat, right_index=True, left_index=True, how='left') \\\n",
    ".merge(df_damage, right_index=True, left_index=True, how='left')"
   ]
  },
  {
   "cell_type": "code",
   "execution_count": 43,
   "metadata": {},
   "outputs": [],
   "source": [
    "master_df\n",
    "\n",
    "master_df.drop(['Count__x', 'Sum_NA', 'Sum_AFF', 'Sum_DES'], axis = 1, inplace=True)"
   ]
  },
  {
   "cell_type": "code",
   "execution_count": 44,
   "metadata": {},
   "outputs": [
    {
     "data": {
      "text/plain": [
       "Index(['Prop_SFHA_', 'Prop_DG_Ar', 'Ave_LS_cod', 'DG_MaxDe_1', 'HurTrack_D',\n",
       "       'PeakGust_1', 'MaxSusta_1', 'StrVI', 'SeVI', 'Str+SeVI', 'SoVI',\n",
       "       'DG_mean_m', 'O_Ind', 'R_Ind', 'R_I_No0', 'R_I_NoO', 'R_I_No0_NoO',\n",
       "       'cat_3q', 'cat_4q', 'Count__y', 'R_DES', 'R_AFF'],\n",
       "      dtype='object')"
      ]
     },
     "execution_count": 44,
     "metadata": {},
     "output_type": "execute_result"
    }
   ],
   "source": [
    "master_df.columns"
   ]
  },
  {
   "cell_type": "code",
   "execution_count": 45,
   "metadata": {},
   "outputs": [],
   "source": [
    "#master_df.to_excel(\"/Users/lszczyrba/Documents/Research/Projects/PR_Housing/Data/master_df_20191030.xlsx\")"
   ]
  },
  {
   "cell_type": "code",
   "execution_count": null,
   "metadata": {},
   "outputs": [],
   "source": []
  }
 ],
 "metadata": {
  "kernelspec": {
   "display_name": "Python 3",
   "language": "python",
   "name": "python3"
  },
  "language_info": {
   "codemirror_mode": {
    "name": "ipython",
    "version": 3
   },
   "file_extension": ".py",
   "mimetype": "text/x-python",
   "name": "python",
   "nbconvert_exporter": "python",
   "pygments_lexer": "ipython3",
   "version": "3.6.5"
  }
 },
 "nbformat": 4,
 "nbformat_minor": 4
}
