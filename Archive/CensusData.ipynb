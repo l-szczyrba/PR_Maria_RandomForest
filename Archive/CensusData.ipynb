{
 "cells": [
  {
   "cell_type": "code",
   "execution_count": 2,
   "metadata": {},
   "outputs": [],
   "source": [
    "import pandas as pd\n",
    "import numpy as np\n",
    "import sklearn as sk\n",
    "\n",
    "import matplotlib.pyplot as plt\n",
    "from matplotlib import colors as mcolors\n",
    "import seaborn as sns"
   ]
  },
  {
   "cell_type": "code",
   "execution_count": 5,
   "metadata": {},
   "outputs": [],
   "source": [
    "DP02 = pd.read_csv('/Users/lszczyrba/Documents/Research/Projects/PR_Housing/Data/2017_ACS/ACS_17_5YR_DP02PR_with_ann.csv', \n",
    "                   encoding = \"ISO-8859-1\")\n",
    "DP03 = pd.read_csv('/Users/lszczyrba/Documents/Research/Projects/PR_Housing/Data/2017_ACS/ACS_17_5YR_DP03_with_ann.csv', \n",
    "                   encoding = \"ISO-8859-1\")\n",
    "DP04 = pd.read_csv('/Users/lszczyrba/Documents/Research/Projects/PR_Housing/Data/2017_ACS/ACS_17_5YR_DP04_with_ann.csv', \n",
    "                   encoding = \"ISO-8859-1\")\n",
    "DP05 = pd.read_csv('/Users/lszczyrba/Documents/Research/Projects/PR_Housing/Data/2017_ACS/ACS_17_5YR_DP05_with_ann.csv', \n",
    "                   encoding = \"ISO-8859-1\")\n",
    "\n",
    "\n",
    "\n",
    "\n",
    "\n",
    "\n",
    "\n",
    "\n",
    "\n",
    "\n"
   ]
  },
  {
   "cell_type": "code",
   "execution_count": null,
   "metadata": {},
   "outputs": [],
   "source": []
  },
  {
   "cell_type": "code",
   "execution_count": null,
   "metadata": {},
   "outputs": [],
   "source": [
    "\n"
   ]
  },
  {
   "cell_type": "code",
   "execution_count": null,
   "metadata": {},
   "outputs": [],
   "source": []
  }
 ],
 "metadata": {
  "kernelspec": {
   "display_name": "Python 3",
   "language": "python",
   "name": "python3"
  },
  "language_info": {
   "codemirror_mode": {
    "name": "ipython",
    "version": 3
   },
   "file_extension": ".py",
   "mimetype": "text/x-python",
   "name": "python",
   "nbconvert_exporter": "python",
   "pygments_lexer": "ipython3",
   "version": "3.6.5"
  }
 },
 "nbformat": 4,
 "nbformat_minor": 2
}
