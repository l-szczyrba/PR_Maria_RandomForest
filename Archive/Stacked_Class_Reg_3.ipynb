{
 "cells": [
  {
   "cell_type": "code",
   "execution_count": 182,
   "metadata": {},
   "outputs": [],
   "source": [
    "import sklearn\n",
    "import pandas as pd\n",
    "from pandas.plotting import scatter_matrix\n",
    "\n",
    "import numpy as np\n",
    "import seaborn as sns\n",
    "\n",
    "import matplotlib.pyplot as plt\n",
    "import matplotlib.lines as mlines\n",
    "import matplotlib.transforms as mtransforms\n",
    "\n",
    "from sklearn.model_selection import train_test_split, ShuffleSplit, cross_validate, GridSearchCV, RandomizedSearchCV\n",
    "from sklearn.ensemble import RandomForestClassifier, RandomForestRegressor\n",
    "#from sklearn.cross_validation import ShuffleSplit\n",
    "from sklearn.metrics import mean_squared_error, mean_absolute_error, confusion_matrix, r2_score, classification_report\n",
    "from sklearn.inspection import partial_dependence, plot_partial_dependence\n",
    "\n",
    "import math\n",
    "\n",
    "from collections import defaultdict\n",
    "\n",
    "from rfpimp import *\n",
    "from rfpimp import plot_corr_heatmap"
   ]
  },
  {
   "cell_type": "code",
   "execution_count": 183,
   "metadata": {},
   "outputs": [],
   "source": [
    "file = \"/Users/lszczyrba/Documents/Research/Projects/PR_Housing/Data/master_df_20191203.xlsx\"\n",
    "data = pd.read_excel(file)\n",
    "df_master = pd.DataFrame(data).set_index('FIPS')"
   ]
  },
  {
   "cell_type": "code",
   "execution_count": 184,
   "metadata": {},
   "outputs": [
    {
     "data": {
      "text/plain": [
       "Index(['PropSFHA', 'AveDepth', 'PropDG', 'MaxDepth', 'AveLS', 'HurTrack',\n",
       "       'PeakGust', 'MaxSusta', 'SpecCom', 'STRVI_1', 'SEVI_1', 'STR_SEVI_1',\n",
       "       'SOVI_1', 'STRVI_2', 'SEVI_2', 'SOVI_2', 'CDC_T1', 'CDC_T2', 'CDC_T3',\n",
       "       'CDC_T4', 'CDC_Tot', 'O_IND', 'R_IND', 'R_I_NO0', 'R_I_NOO',\n",
       "       'R_I_NO0_NO', 'CAT_3Q', 'CAT_4Q', 'Ex_Q4_c', 'COUNT__Y', 'R_DES',\n",
       "       'R_AFF', 'log_R_IND', 'log_R_I_NO0'],\n",
       "      dtype='object')"
      ]
     },
     "execution_count": 184,
     "metadata": {},
     "output_type": "execute_result"
    }
   ],
   "source": [
    "df_master.columns"
   ]
  },
  {
   "cell_type": "code",
   "execution_count": 185,
   "metadata": {},
   "outputs": [
    {
     "data": {
      "text/plain": [
       "CAT_4Q\n",
       "0    217\n",
       "1    225\n",
       "2    223\n",
       "3    217\n",
       "dtype: int64"
      ]
     },
     "execution_count": 185,
     "metadata": {},
     "output_type": "execute_result"
    }
   ],
   "source": [
    "df_master.groupby('CAT_4Q').size()"
   ]
  },
  {
   "cell_type": "code",
   "execution_count": 186,
   "metadata": {},
   "outputs": [],
   "source": [
    "def choose_data(df_master, feature_list, target_list):\n",
    "    choices = feature_list + target_list\n",
    "    df = df_master[choices].copy()\n",
    "    df.dropna(inplace = True)\n",
    "    return df"
   ]
  },
  {
   "cell_type": "code",
   "execution_count": 187,
   "metadata": {},
   "outputs": [],
   "source": [
    "# EXAMPLE:\n",
    "feature_list = ['PropSFHA', 'AveDepth', 'PropDG', 'MaxDepth', 'AveLS', 'HurTrack',\n",
    "                'PeakGust', 'MaxSusta', 'SpecCom', 'STRVI_1', 'SEVI_1', 'CDC_Tot']\n",
    "target_list = ['CAT_4Q']\n",
    "\n",
    "df = choose_data(df_master, feature_list, target_list)"
   ]
  },
  {
   "cell_type": "code",
   "execution_count": 188,
   "metadata": {},
   "outputs": [],
   "source": [
    "def partition_data(df, target_str):\n",
    "    y = df[target_str]\n",
    "    df_x = df.drop(target_str, axis = 1)\n",
    "    return y, df_x"
   ]
  },
  {
   "cell_type": "code",
   "execution_count": 189,
   "metadata": {},
   "outputs": [],
   "source": [
    "# EXAMPLE:\n",
    "target_str = 'CAT_4Q'\n",
    "y, df_x = partition_data(df, target_str)"
   ]
  },
  {
   "cell_type": "code",
   "execution_count": 190,
   "metadata": {},
   "outputs": [],
   "source": [
    "def split_the_data_stratify(df_x, y):\n",
    "    x_train, x_test, y_train, y_test = train_test_split(df_x, y, \n",
    "                                                        test_size=0.3, \n",
    "                                                        random_state=42,\n",
    "                                                        stratify = df_master['CAT_4Q'])\n",
    "    return x_train, x_test, y_train, y_test\n"
   ]
  },
  {
   "cell_type": "code",
   "execution_count": 191,
   "metadata": {},
   "outputs": [],
   "source": [
    "# def split_the_data(df_x, y):\n",
    "#     x_train, x_test, y_train, y_test = train_test_split(df_x, y, \n",
    "#                                                         test_size=0.2, \n",
    "#                                                         random_state=42)\n",
    "                                                        \n",
    "#     return x_train, x_test, y_train, y_test"
   ]
  },
  {
   "cell_type": "code",
   "execution_count": 192,
   "metadata": {},
   "outputs": [],
   "source": [
    "# Careful of Random State\n",
    "# Change y_binned to y if categorical\n",
    "# EXAMPLE:\n",
    "x_train, x_test, y_train, y_test = split_the_data_stratify(df_x, y)"
   ]
  },
  {
   "cell_type": "code",
   "execution_count": 193,
   "metadata": {},
   "outputs": [
    {
     "data": {
      "text/plain": [
       "<matplotlib.axes._subplots.AxesSubplot at 0x118af9e48>"
      ]
     },
     "execution_count": 193,
     "metadata": {},
     "output_type": "execute_result"
    },
    {
     "data": {
      "image/png": "[encoded data removed]",
      "text/plain": [
       "<matplotlib.figure.Figure at 0x1196e8b00>"
      ]
     },
     "metadata": {},
     "output_type": "display_data"
    }
   ],
   "source": [
    "y_train.hist()"
   ]
  },
  {
   "cell_type": "markdown",
   "metadata": {},
   "source": [
    "# Start with RF Classifier then syphon into multiple regressions"
   ]
  },
  {
   "cell_type": "code",
   "execution_count": 20,
   "metadata": {},
   "outputs": [],
   "source": [
    "def randomized_cv(x_train, y_train, model):\n",
    "    # Number of trees in random forest\n",
    "    n_estimators = [int(x) for x in np.linspace(start = 100, stop = 2000, num = 10)]\n",
    "    # Number of features to consider at every split\n",
    "    max_features = ['auto', 'sqrt']\n",
    "    # Maximum number of levels in tree\n",
    "    max_depth = [int(x) for x in np.linspace(10, 110, num = 11)]\n",
    "    max_depth.append(None)\n",
    "    # Minimum number of samples required to split a node\n",
    "    min_samples_split = [2, 5, 10]\n",
    "    # Minimum number of samples required at each leaf node\n",
    "    min_samples_leaf = [1, 2, 4]\n",
    "\n",
    "    # Create the random grid\n",
    "    random_grid = {'n_estimators': n_estimators,\n",
    "                   'max_features': max_features,\n",
    "                   'max_depth': max_depth,\n",
    "                   'min_samples_split': min_samples_split,\n",
    "                   'min_samples_leaf': min_samples_leaf}\n",
    "    \n",
    "    # Use the random grid to search for best hyperparameters\n",
    "    # First create the base model to tune\n",
    "    rf = model\n",
    "    # Random search of parameters, using cv = cross validation, \n",
    "    # search across 100 different combinations, and use all available cores\n",
    "    rf_randomized_cv = RandomizedSearchCV(estimator = rf, \n",
    "                                          param_distributions = random_grid, \n",
    "                                          n_iter = 100, \n",
    "                                          cv = 5, \n",
    "                                          verbose=2, \n",
    "                                          random_state=42, \n",
    "                                          n_jobs = -1)\n",
    "    \n",
    "    # Fit the random search model\n",
    "    rf_randomized_cv.fit(x_train, y_train)\n",
    "    \n",
    "    print(rf_randomized_cv.best_params_)\n",
    "    return rf_randomized_cv.best_estimator_\n",
    "    "
   ]
  },
  {
   "cell_type": "code",
   "execution_count": 21,
   "metadata": {},
   "outputs": [
    {
     "name": "stdout",
     "output_type": "stream",
     "text": [
      "Fitting 5 folds for each of 100 candidates, totalling 500 fits\n"
     ]
    },
    {
     "name": "stderr",
     "output_type": "stream",
     "text": [
      "[Parallel(n_jobs=-1)]: Using backend LokyBackend with 8 concurrent workers.\n",
      "[Parallel(n_jobs=-1)]: Done  25 tasks      | elapsed:   10.0s\n",
      "[Parallel(n_jobs=-1)]: Done 146 tasks      | elapsed:   38.9s\n",
      "[Parallel(n_jobs=-1)]: Done 349 tasks      | elapsed:  1.6min\n",
      "[Parallel(n_jobs=-1)]: Done 500 out of 500 | elapsed:  2.2min finished\n",
      "/Users/lszczyrba/Library/Python/3.6/lib/python/site-packages/sklearn/model_selection/_search.py:814: DeprecationWarning: The default of the `iid` parameter will change from True to False in version 0.22 and will be removed in 0.24. This will change numeric results when test-set sizes are unequal.\n",
      "  DeprecationWarning)\n"
     ]
    },
    {
     "name": "stdout",
     "output_type": "stream",
     "text": [
      "{'n_estimators': 1155, 'min_samples_split': 2, 'min_samples_leaf': 1, 'max_features': 'sqrt', 'max_depth': 20}\n"
     ]
    }
   ],
   "source": [
    "#EXAMPLE\n",
    "#Random state\n",
    "#CHOOSE IF REGRESSOR OR CLASSIFICATION\n",
    "random_tuned_model_class = randomized_cv(x_train, y_train, RandomForestClassifier())"
   ]
  },
  {
   "cell_type": "code",
   "execution_count": 22,
   "metadata": {},
   "outputs": [
    {
     "data": {
      "text/plain": [
       "<bound method BaseEstimator.get_params of RandomForestClassifier(bootstrap=True, class_weight=None, criterion='gini',\n",
       "                       max_depth=20, max_features='sqrt', max_leaf_nodes=None,\n",
       "                       min_impurity_decrease=0.0, min_impurity_split=None,\n",
       "                       min_samples_leaf=1, min_samples_split=2,\n",
       "                       min_weight_fraction_leaf=0.0, n_estimators=1155,\n",
       "                       n_jobs=None, oob_score=False, random_state=None,\n",
       "                       verbose=0, warm_start=False)>"
      ]
     },
     "execution_count": 22,
     "metadata": {},
     "output_type": "execute_result"
    }
   ],
   "source": [
    "random_tuned_model_class.get_params"
   ]
  },
  {
   "cell_type": "code",
   "execution_count": 23,
   "metadata": {},
   "outputs": [],
   "source": [
    "def grid_cv(x_train, y_train, model):\n",
    "    param_grid = {\n",
    "        'max_depth': [15, 20, 30, 50],\n",
    "        'max_features': [2, 3, 4],\n",
    "        'min_samples_leaf': [1, 2, 3],\n",
    "        'min_samples_split': [2, 3, 4],\n",
    "        'n_estimators': [1000, 1500]\n",
    "    }\n",
    "    # Create a based model\n",
    "    rf = model\n",
    "    # Instantiate the grid search model\n",
    "    grid_search = GridSearchCV(estimator = rf, \n",
    "                               param_grid = param_grid, \n",
    "                               cv = 5, n_jobs = -1, \n",
    "                               verbose = 2)\n",
    "    grid_search.fit(x_train, y_train)\n",
    "    \n",
    "    print(grid_search.best_params_)\n",
    "    return grid_search.best_estimator_"
   ]
  },
  {
   "cell_type": "code",
   "execution_count": 24,
   "metadata": {},
   "outputs": [
    {
     "name": "stdout",
     "output_type": "stream",
     "text": [
      "Fitting 5 folds for each of 216 candidates, totalling 1080 fits\n"
     ]
    },
    {
     "name": "stderr",
     "output_type": "stream",
     "text": [
      "[Parallel(n_jobs=-1)]: Using backend LokyBackend with 8 concurrent workers.\n",
      "[Parallel(n_jobs=-1)]: Done  25 tasks      | elapsed:   11.2s\n",
      "[Parallel(n_jobs=-1)]: Done 146 tasks      | elapsed:   48.3s\n",
      "[Parallel(n_jobs=-1)]: Done 349 tasks      | elapsed:  1.9min\n",
      "[Parallel(n_jobs=-1)]: Done 632 tasks      | elapsed:  3.5min\n",
      "[Parallel(n_jobs=-1)]: Done 997 tasks      | elapsed:  5.6min\n",
      "[Parallel(n_jobs=-1)]: Done 1080 out of 1080 | elapsed:  6.1min finished\n",
      "/Users/lszczyrba/Library/Python/3.6/lib/python/site-packages/sklearn/model_selection/_search.py:814: DeprecationWarning: The default of the `iid` parameter will change from True to False in version 0.22 and will be removed in 0.24. This will change numeric results when test-set sizes are unequal.\n",
      "  DeprecationWarning)\n"
     ]
    },
    {
     "name": "stdout",
     "output_type": "stream",
     "text": [
      "{'max_depth': 30, 'max_features': 2, 'min_samples_leaf': 1, 'min_samples_split': 2, 'n_estimators': 1000}\n"
     ]
    }
   ],
   "source": [
    "#Example\n",
    "#CHOOSE IF REGRESSOR OR CLASSIFICATION\n",
    "tuned_model_class = grid_cv(x_train, y_train, RandomForestClassifier())"
   ]
  },
  {
   "cell_type": "code",
   "execution_count": 25,
   "metadata": {},
   "outputs": [
    {
     "data": {
      "text/plain": [
       "<bound method BaseEstimator.get_params of RandomForestClassifier(bootstrap=True, class_weight=None, criterion='gini',\n",
       "                       max_depth=30, max_features=2, max_leaf_nodes=None,\n",
       "                       min_impurity_decrease=0.0, min_impurity_split=None,\n",
       "                       min_samples_leaf=1, min_samples_split=2,\n",
       "                       min_weight_fraction_leaf=0.0, n_estimators=1000,\n",
       "                       n_jobs=None, oob_score=False, random_state=None,\n",
       "                       verbose=0, warm_start=False)>"
      ]
     },
     "execution_count": 25,
     "metadata": {},
     "output_type": "execute_result"
    }
   ],
   "source": [
    "tuned_model_class.get_params"
   ]
  },
  {
   "cell_type": "code",
   "execution_count": 194,
   "metadata": {},
   "outputs": [],
   "source": [
    "model_save1 = RandomForestClassifier(bootstrap=True, class_weight=None, criterion='gini',\n",
    "                       max_depth=30, max_features=2, max_leaf_nodes=None,\n",
    "                       min_impurity_decrease=0.0, min_impurity_split=None,\n",
    "                       min_samples_leaf=1, min_samples_split=2,\n",
    "                       min_weight_fraction_leaf=0.0, n_estimators=1000,\n",
    "                       n_jobs=None, oob_score=False, random_state=None,\n",
    "                       verbose=0, warm_start=False)"
   ]
  },
  {
   "cell_type": "code",
   "execution_count": 195,
   "metadata": {},
   "outputs": [],
   "source": [
    "hypertune_model_class = model_save1.fit(x_train, y_train)"
   ]
  },
  {
   "cell_type": "code",
   "execution_count": 196,
   "metadata": {},
   "outputs": [],
   "source": [
    "def prediction(model, x_train, x_test):\n",
    "    pred_train = model.predict(x_train)\n",
    "    pred_test = model.predict(x_test)   \n",
    "    return pred_train, pred_test"
   ]
  },
  {
   "cell_type": "code",
   "execution_count": 197,
   "metadata": {},
   "outputs": [],
   "source": [
    "# EXAMPLE\n",
    "#CHOOSE MODEL\n",
    "pred_train, pred_test = prediction(hypertune_model_class, x_train, x_test)"
   ]
  },
  {
   "cell_type": "code",
   "execution_count": 198,
   "metadata": {},
   "outputs": [],
   "source": [
    "def evaluate_classification(model, x_train, x_test, y_train, y_test):\n",
    "    pred = model.predict(x_test)\n",
    "    accuracy_train = model.score(x_train, y_train)\n",
    "    print('The mean training accuracy is {}'.format(accuracy_train))\n",
    "    accuracy_test = model.score(x_test, y_test)\n",
    "    print('The mean test accuracy is {}'.format(accuracy_test))\n",
    "    df_confusion = pd.DataFrame(confusion_matrix(y_test, pred))\n",
    "    print(df_confusion)\n",
    "    print(classification_report(y_test, pred))\n",
    "    return df_confusion"
   ]
  },
  {
   "cell_type": "code",
   "execution_count": 199,
   "metadata": {},
   "outputs": [
    {
     "name": "stdout",
     "output_type": "stream",
     "text": [
      "The mean training accuracy is 1.0\n",
      "The mean test accuracy is 0.42641509433962266\n",
      "    0   1   2   3\n",
      "0  34  12   7  12\n",
      "1  18  24  15  11\n",
      "2  18  19  13  17\n",
      "3   4   5  14  42\n",
      "              precision    recall  f1-score   support\n",
      "\n",
      "           0       0.46      0.52      0.49        65\n",
      "           1       0.40      0.35      0.38        68\n",
      "           2       0.27      0.19      0.22        67\n",
      "           3       0.51      0.65      0.57        65\n",
      "\n",
      "    accuracy                           0.43       265\n",
      "   macro avg       0.41      0.43      0.41       265\n",
      "weighted avg       0.41      0.43      0.41       265\n",
      "\n"
     ]
    }
   ],
   "source": [
    "# EXAMPLE\n",
    "# CHOOSE MODEL IF WANT TUNED OR JUST CLASSIFICATION WITH DEFAULT\n",
    "df_confusion = evaluate_classification(hypertune_model_class, x_train, x_test, y_train, y_test)"
   ]
  },
  {
   "cell_type": "code",
   "execution_count": 200,
   "metadata": {},
   "outputs": [],
   "source": [
    "def plot_confusion(df_confusion):\n",
    "    sns.set(font_scale=1.4)#for label size\n",
    "    sns.heatmap(df_confusion, cmap='PuBu', annot=True, annot_kws={\"size\": 16})# font size\n",
    "    plt.ylabel('Predicted')\n",
    "    plt.xlabel('True Value')\n",
    "    plt.show()"
   ]
  },
  {
   "cell_type": "code",
   "execution_count": 201,
   "metadata": {},
   "outputs": [
    {
     "data": {
      "image/png": "[encoded data removed]",
      "text/plain": [
       "<matplotlib.figure.Figure at 0x119591860>"
      ]
     },
     "metadata": {},
     "output_type": "display_data"
    }
   ],
   "source": [
    "# EXAMPLE\n",
    "plot_confusion(df_confusion)"
   ]
  },
  {
   "cell_type": "code",
   "execution_count": 202,
   "metadata": {},
   "outputs": [],
   "source": [
    "def frames_for_regression(y_train, y_test, target):\n",
    "    df_y_test_pred = pd.DataFrame(y_test)\n",
    "    df_y_test_pred['cat_4q_pred'] = pred_test\n",
    "    df_y_train = pd.DataFrame(y_train)\n",
    "\n",
    "    Target = pd.DataFrame(target)\n",
    "\n",
    "    Test_reg = x_test.merge(df_y_test_pred, right_index=True, left_index=True, how='left').merge(Target, right_index=True, left_index=True, how='left')\n",
    "\n",
    "    Train_reg = x_train.merge(df_y_train, right_index=True, left_index=True, how='left').merge(Target, right_index=True, left_index=True, how='left')\n",
    "    \n",
    "    return Test_reg, Train_reg"
   ]
  },
  {
   "cell_type": "code",
   "execution_count": 203,
   "metadata": {},
   "outputs": [],
   "source": [
    "target = df_master['R_IND']\n",
    "Test_reg, Train_reg = frames_for_regression(y_train, y_test, target)"
   ]
  },
  {
   "cell_type": "code",
   "execution_count": 204,
   "metadata": {},
   "outputs": [
    {
     "data": {
      "text/plain": [
       "Index(['PropSFHA', 'AveDepth', 'PropDG', 'MaxDepth', 'AveLS', 'HurTrack',\n",
       "       'PeakGust', 'MaxSusta', 'SpecCom', 'STRVI_1', 'SEVI_1', 'STR_SEVI_1',\n",
       "       'SOVI_1', 'STRVI_2', 'SEVI_2', 'SOVI_2', 'CDC_T1', 'CDC_T2', 'CDC_T3',\n",
       "       'CDC_T4', 'CDC_Tot', 'O_IND', 'R_IND', 'R_I_NO0', 'R_I_NOO',\n",
       "       'R_I_NO0_NO', 'CAT_3Q', 'CAT_4Q', 'Ex_Q4_c', 'COUNT__Y', 'R_DES',\n",
       "       'R_AFF', 'log_R_IND', 'log_R_I_NO0'],\n",
       "      dtype='object')"
      ]
     },
     "execution_count": 204,
     "metadata": {},
     "output_type": "execute_result"
    }
   ],
   "source": [
    "df_master.columns"
   ]
  },
  {
   "cell_type": "code",
   "execution_count": 205,
   "metadata": {},
   "outputs": [],
   "source": [
    "def merge_class_results(x_train,x_test,y_train,y_test):\n",
    "    df_y_test_pred = pd.DataFrame(y_test)\n",
    "    df_y_test_pred['cat_4q_pred'] = pred_test\n",
    "\n",
    "    df_y_train_pred = pd.DataFrame(y_train)\n",
    "    df_y_train_pred['cat_4q_pred'] = pred_train\n",
    "    \n",
    "    df_class_results = df_y_train_pred.append(df_y_test_pred)\n",
    "    df_class_results.drop(['CAT_4Q'], axis=1, inplace=True)\n",
    "    \n",
    "    df_master_results = df_master.merge(df_class_results, right_index=True, left_index=True, how='left')\n",
    "    df_master_results.drop(['CAT_4Q', 'STR_SEVI_1',\n",
    "       'SOVI_1', 'STRVI_2', 'SEVI_2', 'SOVI_2', 'CDC_T1', 'CDC_T2', 'CDC_T3','COUNT__Y',\n",
    "       'CDC_T4', 'O_IND', 'R_I_NO0', 'R_I_NOO', 'R_I_NO0_NO', 'CAT_3Q','R_DES', 'R_AFF', 'Ex_Q4_c', 'log_R_IND', 'log_R_I_NO0'], axis=1, inplace=True)\n",
    "    \n",
    "    return df_master_results"
   ]
  },
  {
   "cell_type": "code",
   "execution_count": 206,
   "metadata": {},
   "outputs": [],
   "source": [
    "#EXAMPLE\n",
    "df_master_results = merge_class_results(x_train,x_test,y_train,y_test)"
   ]
  },
  {
   "cell_type": "code",
   "execution_count": 207,
   "metadata": {},
   "outputs": [
    {
     "data": {
      "text/html": [
       "<div>\n",
       "<style scoped>\n",
       "    .dataframe tbody tr th:only-of-type {\n",
       "        vertical-align: middle;\n",
       "    }\n",
       "\n",
       "    .dataframe tbody tr th {\n",
       "        vertical-align: top;\n",
       "    }\n",
       "\n",
       "    .dataframe thead th {\n",
       "        text-align: right;\n",
       "    }\n",
       "</style>\n",
       "<table border=\"1\" class=\"dataframe\">\n",
       "  <thead>\n",
       "    <tr style=\"text-align: right;\">\n",
       "      <th></th>\n",
       "      <th>PropSFHA</th>\n",
       "      <th>AveDepth</th>\n",
       "      <th>PropDG</th>\n",
       "      <th>MaxDepth</th>\n",
       "      <th>AveLS</th>\n",
       "      <th>HurTrack</th>\n",
       "      <th>PeakGust</th>\n",
       "      <th>MaxSusta</th>\n",
       "      <th>SpecCom</th>\n",
       "      <th>STRVI_1</th>\n",
       "      <th>SEVI_1</th>\n",
       "      <th>CDC_Tot</th>\n",
       "      <th>R_IND</th>\n",
       "      <th>cat_4q_pred</th>\n",
       "    </tr>\n",
       "    <tr>\n",
       "      <th>FIPS</th>\n",
       "      <th></th>\n",
       "      <th></th>\n",
       "      <th></th>\n",
       "      <th></th>\n",
       "      <th></th>\n",
       "      <th></th>\n",
       "      <th></th>\n",
       "      <th></th>\n",
       "      <th></th>\n",
       "      <th></th>\n",
       "      <th></th>\n",
       "      <th></th>\n",
       "      <th></th>\n",
       "      <th></th>\n",
       "    </tr>\n",
       "  </thead>\n",
       "  <tbody>\n",
       "    <tr>\n",
       "      <th>72001956300</th>\n",
       "      <td>0.02</td>\n",
       "      <td>0.00</td>\n",
       "      <td>0.00</td>\n",
       "      <td>0.00</td>\n",
       "      <td>2.00</td>\n",
       "      <td>0.24</td>\n",
       "      <td>44.26</td>\n",
       "      <td>34.87</td>\n",
       "      <td>0.092383</td>\n",
       "      <td>3.07</td>\n",
       "      <td>-8.41</td>\n",
       "      <td>0.9604</td>\n",
       "      <td>0.000000</td>\n",
       "      <td>0</td>\n",
       "    </tr>\n",
       "    <tr>\n",
       "      <th>72001956400</th>\n",
       "      <td>0.03</td>\n",
       "      <td>2.57</td>\n",
       "      <td>0.02</td>\n",
       "      <td>2.72</td>\n",
       "      <td>2.00</td>\n",
       "      <td>0.27</td>\n",
       "      <td>43.81</td>\n",
       "      <td>33.98</td>\n",
       "      <td>0.422310</td>\n",
       "      <td>7.84</td>\n",
       "      <td>-7.49</td>\n",
       "      <td>0.7542</td>\n",
       "      <td>0.017260</td>\n",
       "      <td>1</td>\n",
       "    </tr>\n",
       "    <tr>\n",
       "      <th>72001956500</th>\n",
       "      <td>0.01</td>\n",
       "      <td>0.00</td>\n",
       "      <td>0.00</td>\n",
       "      <td>0.00</td>\n",
       "      <td>1.88</td>\n",
       "      <td>0.29</td>\n",
       "      <td>43.36</td>\n",
       "      <td>33.98</td>\n",
       "      <td>0.332732</td>\n",
       "      <td>5.42</td>\n",
       "      <td>-13.13</td>\n",
       "      <td>0.8256</td>\n",
       "      <td>0.007092</td>\n",
       "      <td>3</td>\n",
       "    </tr>\n",
       "    <tr>\n",
       "      <th>72001956600</th>\n",
       "      <td>0.05</td>\n",
       "      <td>0.00</td>\n",
       "      <td>0.00</td>\n",
       "      <td>0.00</td>\n",
       "      <td>1.80</td>\n",
       "      <td>0.26</td>\n",
       "      <td>43.81</td>\n",
       "      <td>34.42</td>\n",
       "      <td>0.016615</td>\n",
       "      <td>1.21</td>\n",
       "      <td>-7.72</td>\n",
       "      <td>0.8992</td>\n",
       "      <td>0.000000</td>\n",
       "      <td>0</td>\n",
       "    </tr>\n",
       "    <tr>\n",
       "      <th>72001956700</th>\n",
       "      <td>0.10</td>\n",
       "      <td>0.00</td>\n",
       "      <td>0.00</td>\n",
       "      <td>0.00</td>\n",
       "      <td>2.00</td>\n",
       "      <td>0.26</td>\n",
       "      <td>43.81</td>\n",
       "      <td>34.42</td>\n",
       "      <td>0.088123</td>\n",
       "      <td>1.30</td>\n",
       "      <td>-6.66</td>\n",
       "      <td>0.9287</td>\n",
       "      <td>0.000000</td>\n",
       "      <td>0</td>\n",
       "    </tr>\n",
       "    <tr>\n",
       "      <th>72001956800</th>\n",
       "      <td>0.01</td>\n",
       "      <td>0.00</td>\n",
       "      <td>0.00</td>\n",
       "      <td>0.00</td>\n",
       "      <td>1.96</td>\n",
       "      <td>0.26</td>\n",
       "      <td>43.81</td>\n",
       "      <td>33.98</td>\n",
       "      <td>0.023798</td>\n",
       "      <td>5.90</td>\n",
       "      <td>-5.07</td>\n",
       "      <td>0.5459</td>\n",
       "      <td>0.028481</td>\n",
       "      <td>3</td>\n",
       "    </tr>\n",
       "    <tr>\n",
       "      <th>72003430100</th>\n",
       "      <td>0.56</td>\n",
       "      <td>2.26</td>\n",
       "      <td>0.52</td>\n",
       "      <td>6.64</td>\n",
       "      <td>1.17</td>\n",
       "      <td>0.27</td>\n",
       "      <td>38.00</td>\n",
       "      <td>30.40</td>\n",
       "      <td>0.000000</td>\n",
       "      <td>4.36</td>\n",
       "      <td>4.08</td>\n",
       "      <td>0.3341</td>\n",
       "      <td>0.036724</td>\n",
       "      <td>0</td>\n",
       "    </tr>\n",
       "    <tr>\n",
       "      <th>72003430200</th>\n",
       "      <td>0.38</td>\n",
       "      <td>3.00</td>\n",
       "      <td>0.43</td>\n",
       "      <td>4.51</td>\n",
       "      <td>1.00</td>\n",
       "      <td>0.27</td>\n",
       "      <td>38.00</td>\n",
       "      <td>30.40</td>\n",
       "      <td>0.116653</td>\n",
       "      <td>6.97</td>\n",
       "      <td>11.14</td>\n",
       "      <td>0.8165</td>\n",
       "      <td>0.017749</td>\n",
       "      <td>0</td>\n",
       "    </tr>\n",
       "    <tr>\n",
       "      <th>72003430300</th>\n",
       "      <td>0.20</td>\n",
       "      <td>0.00</td>\n",
       "      <td>0.00</td>\n",
       "      <td>0.00</td>\n",
       "      <td>1.00</td>\n",
       "      <td>0.29</td>\n",
       "      <td>37.55</td>\n",
       "      <td>30.40</td>\n",
       "      <td>0.139039</td>\n",
       "      <td>4.92</td>\n",
       "      <td>8.36</td>\n",
       "      <td>0.5527</td>\n",
       "      <td>0.020444</td>\n",
       "      <td>1</td>\n",
       "    </tr>\n",
       "    <tr>\n",
       "      <th>72003430401</th>\n",
       "      <td>0.01</td>\n",
       "      <td>0.00</td>\n",
       "      <td>0.00</td>\n",
       "      <td>0.00</td>\n",
       "      <td>1.50</td>\n",
       "      <td>0.29</td>\n",
       "      <td>37.55</td>\n",
       "      <td>29.50</td>\n",
       "      <td>0.014212</td>\n",
       "      <td>6.88</td>\n",
       "      <td>4.59</td>\n",
       "      <td>0.4677</td>\n",
       "      <td>0.037580</td>\n",
       "      <td>2</td>\n",
       "    </tr>\n",
       "    <tr>\n",
       "      <th>72003430402</th>\n",
       "      <td>0.01</td>\n",
       "      <td>0.00</td>\n",
       "      <td>0.00</td>\n",
       "      <td>0.00</td>\n",
       "      <td>2.00</td>\n",
       "      <td>0.29</td>\n",
       "      <td>37.55</td>\n",
       "      <td>29.50</td>\n",
       "      <td>0.026158</td>\n",
       "      <td>7.59</td>\n",
       "      <td>1.17</td>\n",
       "      <td>0.6772</td>\n",
       "      <td>0.056522</td>\n",
       "      <td>3</td>\n",
       "    </tr>\n",
       "    <tr>\n",
       "      <th>72003430501</th>\n",
       "      <td>0.06</td>\n",
       "      <td>0.00</td>\n",
       "      <td>0.00</td>\n",
       "      <td>0.00</td>\n",
       "      <td>1.20</td>\n",
       "      <td>0.30</td>\n",
       "      <td>37.10</td>\n",
       "      <td>29.50</td>\n",
       "      <td>0.000000</td>\n",
       "      <td>7.31</td>\n",
       "      <td>8.45</td>\n",
       "      <td>0.2163</td>\n",
       "      <td>0.022069</td>\n",
       "      <td>0</td>\n",
       "    </tr>\n",
       "    <tr>\n",
       "      <th>72003430502</th>\n",
       "      <td>0.00</td>\n",
       "      <td>0.00</td>\n",
       "      <td>0.00</td>\n",
       "      <td>0.00</td>\n",
       "      <td>1.70</td>\n",
       "      <td>0.32</td>\n",
       "      <td>37.10</td>\n",
       "      <td>29.06</td>\n",
       "      <td>0.000000</td>\n",
       "      <td>8.48</td>\n",
       "      <td>0.22</td>\n",
       "      <td>0.7067</td>\n",
       "      <td>0.011145</td>\n",
       "      <td>1</td>\n",
       "    </tr>\n",
       "    <tr>\n",
       "      <th>72003430601</th>\n",
       "      <td>0.01</td>\n",
       "      <td>0.00</td>\n",
       "      <td>0.00</td>\n",
       "      <td>0.00</td>\n",
       "      <td>1.22</td>\n",
       "      <td>0.32</td>\n",
       "      <td>36.66</td>\n",
       "      <td>29.06</td>\n",
       "      <td>0.000000</td>\n",
       "      <td>8.50</td>\n",
       "      <td>1.61</td>\n",
       "      <td>0.4247</td>\n",
       "      <td>0.015252</td>\n",
       "      <td>1</td>\n",
       "    </tr>\n",
       "    <tr>\n",
       "      <th>72003430602</th>\n",
       "      <td>0.49</td>\n",
       "      <td>0.00</td>\n",
       "      <td>0.00</td>\n",
       "      <td>0.00</td>\n",
       "      <td>0.88</td>\n",
       "      <td>0.31</td>\n",
       "      <td>37.10</td>\n",
       "      <td>29.95</td>\n",
       "      <td>0.027825</td>\n",
       "      <td>6.27</td>\n",
       "      <td>4.53</td>\n",
       "      <td>0.2967</td>\n",
       "      <td>0.029898</td>\n",
       "      <td>2</td>\n",
       "    </tr>\n",
       "    <tr>\n",
       "      <th>72005400100</th>\n",
       "      <td>0.02</td>\n",
       "      <td>0.00</td>\n",
       "      <td>0.00</td>\n",
       "      <td>0.00</td>\n",
       "      <td>0.71</td>\n",
       "      <td>0.14</td>\n",
       "      <td>39.79</td>\n",
       "      <td>32.19</td>\n",
       "      <td>0.049974</td>\n",
       "      <td>1.11</td>\n",
       "      <td>1.52</td>\n",
       "      <td>0.5028</td>\n",
       "      <td>0.030675</td>\n",
       "      <td>2</td>\n",
       "    </tr>\n",
       "    <tr>\n",
       "      <th>72005400300</th>\n",
       "      <td>0.05</td>\n",
       "      <td>0.00</td>\n",
       "      <td>0.00</td>\n",
       "      <td>0.00</td>\n",
       "      <td>0.62</td>\n",
       "      <td>0.16</td>\n",
       "      <td>39.34</td>\n",
       "      <td>31.74</td>\n",
       "      <td>0.000000</td>\n",
       "      <td>-2.19</td>\n",
       "      <td>0.44</td>\n",
       "      <td>0.1031</td>\n",
       "      <td>0.012697</td>\n",
       "      <td>2</td>\n",
       "    </tr>\n",
       "    <tr>\n",
       "      <th>72005400400</th>\n",
       "      <td>0.01</td>\n",
       "      <td>0.00</td>\n",
       "      <td>0.00</td>\n",
       "      <td>0.00</td>\n",
       "      <td>1.00</td>\n",
       "      <td>0.19</td>\n",
       "      <td>38.45</td>\n",
       "      <td>30.85</td>\n",
       "      <td>0.000000</td>\n",
       "      <td>3.65</td>\n",
       "      <td>-2.11</td>\n",
       "      <td>0.7214</td>\n",
       "      <td>0.034965</td>\n",
       "      <td>2</td>\n",
       "    </tr>\n",
       "    <tr>\n",
       "      <th>72005400501</th>\n",
       "      <td>0.00</td>\n",
       "      <td>0.00</td>\n",
       "      <td>0.00</td>\n",
       "      <td>0.00</td>\n",
       "      <td>1.00</td>\n",
       "      <td>0.18</td>\n",
       "      <td>38.89</td>\n",
       "      <td>30.85</td>\n",
       "      <td>0.000000</td>\n",
       "      <td>0.86</td>\n",
       "      <td>0.59</td>\n",
       "      <td>0.3114</td>\n",
       "      <td>0.004543</td>\n",
       "      <td>0</td>\n",
       "    </tr>\n",
       "    <tr>\n",
       "      <th>72005400502</th>\n",
       "      <td>0.00</td>\n",
       "      <td>0.00</td>\n",
       "      <td>0.00</td>\n",
       "      <td>0.00</td>\n",
       "      <td>1.00</td>\n",
       "      <td>0.19</td>\n",
       "      <td>38.45</td>\n",
       "      <td>30.85</td>\n",
       "      <td>0.000000</td>\n",
       "      <td>2.67</td>\n",
       "      <td>0.93</td>\n",
       "      <td>0.4564</td>\n",
       "      <td>0.016291</td>\n",
       "      <td>1</td>\n",
       "    </tr>\n",
       "    <tr>\n",
       "      <th>72005400600</th>\n",
       "      <td>0.00</td>\n",
       "      <td>0.00</td>\n",
       "      <td>0.00</td>\n",
       "      <td>0.00</td>\n",
       "      <td>1.00</td>\n",
       "      <td>0.21</td>\n",
       "      <td>38.45</td>\n",
       "      <td>30.40</td>\n",
       "      <td>0.072259</td>\n",
       "      <td>3.44</td>\n",
       "      <td>0.07</td>\n",
       "      <td>0.9830</td>\n",
       "      <td>0.028836</td>\n",
       "      <td>2</td>\n",
       "    </tr>\n",
       "    <tr>\n",
       "      <th>72005400700</th>\n",
       "      <td>0.01</td>\n",
       "      <td>3.30</td>\n",
       "      <td>0.00</td>\n",
       "      <td>5.59</td>\n",
       "      <td>1.00</td>\n",
       "      <td>0.21</td>\n",
       "      <td>38.45</td>\n",
       "      <td>30.40</td>\n",
       "      <td>0.038671</td>\n",
       "      <td>-1.51</td>\n",
       "      <td>3.57</td>\n",
       "      <td>0.1823</td>\n",
       "      <td>0.027712</td>\n",
       "      <td>2</td>\n",
       "    </tr>\n",
       "    <tr>\n",
       "      <th>72005400800</th>\n",
       "      <td>0.12</td>\n",
       "      <td>3.27</td>\n",
       "      <td>0.36</td>\n",
       "      <td>7.44</td>\n",
       "      <td>1.00</td>\n",
       "      <td>0.22</td>\n",
       "      <td>38.00</td>\n",
       "      <td>29.95</td>\n",
       "      <td>0.659350</td>\n",
       "      <td>-0.41</td>\n",
       "      <td>-6.99</td>\n",
       "      <td>0.9219</td>\n",
       "      <td>0.037588</td>\n",
       "      <td>2</td>\n",
       "    </tr>\n",
       "    <tr>\n",
       "      <th>72005400900</th>\n",
       "      <td>0.00</td>\n",
       "      <td>0.00</td>\n",
       "      <td>0.00</td>\n",
       "      <td>0.00</td>\n",
       "      <td>1.00</td>\n",
       "      <td>0.22</td>\n",
       "      <td>38.00</td>\n",
       "      <td>29.95</td>\n",
       "      <td>0.233691</td>\n",
       "      <td>3.51</td>\n",
       "      <td>-4.24</td>\n",
       "      <td>0.9207</td>\n",
       "      <td>0.041221</td>\n",
       "      <td>2</td>\n",
       "    </tr>\n",
       "    <tr>\n",
       "      <th>72005401000</th>\n",
       "      <td>0.57</td>\n",
       "      <td>4.01</td>\n",
       "      <td>0.73</td>\n",
       "      <td>7.37</td>\n",
       "      <td>1.00</td>\n",
       "      <td>0.23</td>\n",
       "      <td>38.00</td>\n",
       "      <td>30.40</td>\n",
       "      <td>0.410664</td>\n",
       "      <td>-0.08</td>\n",
       "      <td>-4.80</td>\n",
       "      <td>0.7701</td>\n",
       "      <td>0.032511</td>\n",
       "      <td>2</td>\n",
       "    </tr>\n",
       "    <tr>\n",
       "      <th>72005401100</th>\n",
       "      <td>0.94</td>\n",
       "      <td>4.06</td>\n",
       "      <td>0.95</td>\n",
       "      <td>6.75</td>\n",
       "      <td>1.00</td>\n",
       "      <td>0.24</td>\n",
       "      <td>38.45</td>\n",
       "      <td>30.85</td>\n",
       "      <td>0.000000</td>\n",
       "      <td>-0.36</td>\n",
       "      <td>-4.27</td>\n",
       "      <td>0.8969</td>\n",
       "      <td>0.019824</td>\n",
       "      <td>0</td>\n",
       "    </tr>\n",
       "    <tr>\n",
       "      <th>72005401200</th>\n",
       "      <td>0.16</td>\n",
       "      <td>1.84</td>\n",
       "      <td>0.16</td>\n",
       "      <td>6.57</td>\n",
       "      <td>1.09</td>\n",
       "      <td>0.23</td>\n",
       "      <td>38.00</td>\n",
       "      <td>29.95</td>\n",
       "      <td>0.025096</td>\n",
       "      <td>3.16</td>\n",
       "      <td>-0.36</td>\n",
       "      <td>0.2333</td>\n",
       "      <td>0.031589</td>\n",
       "      <td>2</td>\n",
       "    </tr>\n",
       "    <tr>\n",
       "      <th>72005401301</th>\n",
       "      <td>0.00</td>\n",
       "      <td>0.00</td>\n",
       "      <td>0.00</td>\n",
       "      <td>0.00</td>\n",
       "      <td>1.00</td>\n",
       "      <td>0.20</td>\n",
       "      <td>38.45</td>\n",
       "      <td>30.40</td>\n",
       "      <td>0.000000</td>\n",
       "      <td>2.25</td>\n",
       "      <td>1.63</td>\n",
       "      <td>0.8652</td>\n",
       "      <td>0.007850</td>\n",
       "      <td>1</td>\n",
       "    </tr>\n",
       "    <tr>\n",
       "      <th>72005401302</th>\n",
       "      <td>0.00</td>\n",
       "      <td>0.00</td>\n",
       "      <td>0.00</td>\n",
       "      <td>0.00</td>\n",
       "      <td>1.00</td>\n",
       "      <td>0.16</td>\n",
       "      <td>39.34</td>\n",
       "      <td>31.29</td>\n",
       "      <td>0.021494</td>\n",
       "      <td>5.85</td>\n",
       "      <td>2.34</td>\n",
       "      <td>0.2797</td>\n",
       "      <td>0.020727</td>\n",
       "      <td>2</td>\n",
       "    </tr>\n",
       "    <tr>\n",
       "      <th>72005401401</th>\n",
       "      <td>0.00</td>\n",
       "      <td>0.00</td>\n",
       "      <td>0.00</td>\n",
       "      <td>0.00</td>\n",
       "      <td>1.00</td>\n",
       "      <td>0.16</td>\n",
       "      <td>39.79</td>\n",
       "      <td>31.29</td>\n",
       "      <td>0.029972</td>\n",
       "      <td>1.98</td>\n",
       "      <td>-2.23</td>\n",
       "      <td>0.4689</td>\n",
       "      <td>0.022441</td>\n",
       "      <td>2</td>\n",
       "    </tr>\n",
       "    <tr>\n",
       "      <th>...</th>\n",
       "      <td>...</td>\n",
       "      <td>...</td>\n",
       "      <td>...</td>\n",
       "      <td>...</td>\n",
       "      <td>...</td>\n",
       "      <td>...</td>\n",
       "      <td>...</td>\n",
       "      <td>...</td>\n",
       "      <td>...</td>\n",
       "      <td>...</td>\n",
       "      <td>...</td>\n",
       "      <td>...</td>\n",
       "      <td>...</td>\n",
       "      <td>...</td>\n",
       "    </tr>\n",
       "    <tr>\n",
       "      <th>72145560801</th>\n",
       "      <td>0.00</td>\n",
       "      <td>0.00</td>\n",
       "      <td>0.00</td>\n",
       "      <td>0.00</td>\n",
       "      <td>1.00</td>\n",
       "      <td>0.11</td>\n",
       "      <td>54.09</td>\n",
       "      <td>42.92</td>\n",
       "      <td>0.025817</td>\n",
       "      <td>0.91</td>\n",
       "      <td>-2.51</td>\n",
       "      <td>0.5413</td>\n",
       "      <td>0.079201</td>\n",
       "      <td>3</td>\n",
       "    </tr>\n",
       "    <tr>\n",
       "      <th>72145560802</th>\n",
       "      <td>0.00</td>\n",
       "      <td>0.00</td>\n",
       "      <td>0.00</td>\n",
       "      <td>0.00</td>\n",
       "      <td>0.78</td>\n",
       "      <td>0.09</td>\n",
       "      <td>54.09</td>\n",
       "      <td>42.47</td>\n",
       "      <td>0.000000</td>\n",
       "      <td>0.85</td>\n",
       "      <td>-3.03</td>\n",
       "      <td>0.8267</td>\n",
       "      <td>0.038937</td>\n",
       "      <td>3</td>\n",
       "    </tr>\n",
       "    <tr>\n",
       "      <th>72145560900</th>\n",
       "      <td>0.00</td>\n",
       "      <td>0.00</td>\n",
       "      <td>0.00</td>\n",
       "      <td>0.00</td>\n",
       "      <td>1.12</td>\n",
       "      <td>0.07</td>\n",
       "      <td>54.54</td>\n",
       "      <td>42.92</td>\n",
       "      <td>0.000000</td>\n",
       "      <td>2.42</td>\n",
       "      <td>-1.25</td>\n",
       "      <td>0.9694</td>\n",
       "      <td>0.129916</td>\n",
       "      <td>3</td>\n",
       "    </tr>\n",
       "    <tr>\n",
       "      <th>72147950500</th>\n",
       "      <td>0.10</td>\n",
       "      <td>0.00</td>\n",
       "      <td>0.00</td>\n",
       "      <td>0.00</td>\n",
       "      <td>0.00</td>\n",
       "      <td>0.28</td>\n",
       "      <td>59.90</td>\n",
       "      <td>47.39</td>\n",
       "      <td>0.086992</td>\n",
       "      <td>-2.65</td>\n",
       "      <td>0.79</td>\n",
       "      <td>0.2593</td>\n",
       "      <td>0.083734</td>\n",
       "      <td>3</td>\n",
       "    </tr>\n",
       "    <tr>\n",
       "      <th>72147950600</th>\n",
       "      <td>0.09</td>\n",
       "      <td>0.00</td>\n",
       "      <td>0.00</td>\n",
       "      <td>0.00</td>\n",
       "      <td>0.00</td>\n",
       "      <td>0.35</td>\n",
       "      <td>54.99</td>\n",
       "      <td>43.81</td>\n",
       "      <td>0.084072</td>\n",
       "      <td>-2.51</td>\n",
       "      <td>-5.50</td>\n",
       "      <td>0.2208</td>\n",
       "      <td>0.119388</td>\n",
       "      <td>3</td>\n",
       "    </tr>\n",
       "    <tr>\n",
       "      <th>72149720100</th>\n",
       "      <td>0.07</td>\n",
       "      <td>7.09</td>\n",
       "      <td>0.05</td>\n",
       "      <td>13.36</td>\n",
       "      <td>1.22</td>\n",
       "      <td>0.17</td>\n",
       "      <td>49.62</td>\n",
       "      <td>38.89</td>\n",
       "      <td>0.056286</td>\n",
       "      <td>0.60</td>\n",
       "      <td>1.01</td>\n",
       "      <td>0.9320</td>\n",
       "      <td>0.009886</td>\n",
       "      <td>0</td>\n",
       "    </tr>\n",
       "    <tr>\n",
       "      <th>72149720300</th>\n",
       "      <td>0.05</td>\n",
       "      <td>3.56</td>\n",
       "      <td>0.05</td>\n",
       "      <td>9.47</td>\n",
       "      <td>1.00</td>\n",
       "      <td>0.20</td>\n",
       "      <td>48.28</td>\n",
       "      <td>38.00</td>\n",
       "      <td>0.013158</td>\n",
       "      <td>0.96</td>\n",
       "      <td>2.46</td>\n",
       "      <td>0.8426</td>\n",
       "      <td>0.000000</td>\n",
       "      <td>0</td>\n",
       "    </tr>\n",
       "    <tr>\n",
       "      <th>72149720400</th>\n",
       "      <td>0.14</td>\n",
       "      <td>0.00</td>\n",
       "      <td>0.00</td>\n",
       "      <td>0.00</td>\n",
       "      <td>1.00</td>\n",
       "      <td>0.19</td>\n",
       "      <td>48.28</td>\n",
       "      <td>38.00</td>\n",
       "      <td>1.478291</td>\n",
       "      <td>-0.63</td>\n",
       "      <td>-1.33</td>\n",
       "      <td>0.6240</td>\n",
       "      <td>0.000000</td>\n",
       "      <td>0</td>\n",
       "    </tr>\n",
       "    <tr>\n",
       "      <th>72149720502</th>\n",
       "      <td>0.08</td>\n",
       "      <td>3.52</td>\n",
       "      <td>0.09</td>\n",
       "      <td>34.11</td>\n",
       "      <td>1.00</td>\n",
       "      <td>0.23</td>\n",
       "      <td>46.94</td>\n",
       "      <td>36.66</td>\n",
       "      <td>0.037387</td>\n",
       "      <td>1.69</td>\n",
       "      <td>-3.64</td>\n",
       "      <td>0.7463</td>\n",
       "      <td>0.000000</td>\n",
       "      <td>0</td>\n",
       "    </tr>\n",
       "    <tr>\n",
       "      <th>72149720503</th>\n",
       "      <td>0.01</td>\n",
       "      <td>0.00</td>\n",
       "      <td>0.00</td>\n",
       "      <td>0.00</td>\n",
       "      <td>1.56</td>\n",
       "      <td>0.17</td>\n",
       "      <td>49.17</td>\n",
       "      <td>38.45</td>\n",
       "      <td>0.121311</td>\n",
       "      <td>0.02</td>\n",
       "      <td>-0.65</td>\n",
       "      <td>0.5040</td>\n",
       "      <td>0.000000</td>\n",
       "      <td>3</td>\n",
       "    </tr>\n",
       "    <tr>\n",
       "      <th>72149720504</th>\n",
       "      <td>0.00</td>\n",
       "      <td>2.91</td>\n",
       "      <td>0.00</td>\n",
       "      <td>6.51</td>\n",
       "      <td>1.56</td>\n",
       "      <td>0.19</td>\n",
       "      <td>48.28</td>\n",
       "      <td>37.55</td>\n",
       "      <td>0.134984</td>\n",
       "      <td>2.97</td>\n",
       "      <td>4.28</td>\n",
       "      <td>0.6557</td>\n",
       "      <td>0.000718</td>\n",
       "      <td>0</td>\n",
       "    </tr>\n",
       "    <tr>\n",
       "      <th>72151950600</th>\n",
       "      <td>0.18</td>\n",
       "      <td>1.61</td>\n",
       "      <td>0.19</td>\n",
       "      <td>4.84</td>\n",
       "      <td>1.00</td>\n",
       "      <td>0.10</td>\n",
       "      <td>58.12</td>\n",
       "      <td>46.49</td>\n",
       "      <td>0.038098</td>\n",
       "      <td>4.10</td>\n",
       "      <td>-2.77</td>\n",
       "      <td>0.4723</td>\n",
       "      <td>0.027540</td>\n",
       "      <td>2</td>\n",
       "    </tr>\n",
       "    <tr>\n",
       "      <th>72151950700</th>\n",
       "      <td>0.02</td>\n",
       "      <td>0.87</td>\n",
       "      <td>0.00</td>\n",
       "      <td>2.41</td>\n",
       "      <td>1.61</td>\n",
       "      <td>0.03</td>\n",
       "      <td>55.43</td>\n",
       "      <td>43.36</td>\n",
       "      <td>0.000000</td>\n",
       "      <td>7.89</td>\n",
       "      <td>-7.01</td>\n",
       "      <td>0.4304</td>\n",
       "      <td>0.048967</td>\n",
       "      <td>3</td>\n",
       "    </tr>\n",
       "    <tr>\n",
       "      <th>72151950800</th>\n",
       "      <td>0.39</td>\n",
       "      <td>1.86</td>\n",
       "      <td>0.31</td>\n",
       "      <td>6.32</td>\n",
       "      <td>1.14</td>\n",
       "      <td>0.05</td>\n",
       "      <td>54.09</td>\n",
       "      <td>42.47</td>\n",
       "      <td>0.000000</td>\n",
       "      <td>1.69</td>\n",
       "      <td>-6.38</td>\n",
       "      <td>0.8245</td>\n",
       "      <td>0.065147</td>\n",
       "      <td>3</td>\n",
       "    </tr>\n",
       "    <tr>\n",
       "      <th>72151950900</th>\n",
       "      <td>0.06</td>\n",
       "      <td>1.27</td>\n",
       "      <td>0.04</td>\n",
       "      <td>3.96</td>\n",
       "      <td>1.13</td>\n",
       "      <td>0.09</td>\n",
       "      <td>55.43</td>\n",
       "      <td>43.36</td>\n",
       "      <td>0.006932</td>\n",
       "      <td>2.05</td>\n",
       "      <td>-0.71</td>\n",
       "      <td>0.6829</td>\n",
       "      <td>0.027967</td>\n",
       "      <td>2</td>\n",
       "    </tr>\n",
       "    <tr>\n",
       "      <th>72151951000</th>\n",
       "      <td>0.41</td>\n",
       "      <td>1.82</td>\n",
       "      <td>0.47</td>\n",
       "      <td>5.45</td>\n",
       "      <td>1.00</td>\n",
       "      <td>0.06</td>\n",
       "      <td>54.54</td>\n",
       "      <td>43.36</td>\n",
       "      <td>0.000000</td>\n",
       "      <td>2.13</td>\n",
       "      <td>-3.24</td>\n",
       "      <td>0.4643</td>\n",
       "      <td>0.003946</td>\n",
       "      <td>0</td>\n",
       "    </tr>\n",
       "    <tr>\n",
       "      <th>72151951100</th>\n",
       "      <td>0.00</td>\n",
       "      <td>0.79</td>\n",
       "      <td>0.09</td>\n",
       "      <td>3.72</td>\n",
       "      <td>1.00</td>\n",
       "      <td>0.05</td>\n",
       "      <td>54.54</td>\n",
       "      <td>43.36</td>\n",
       "      <td>0.000000</td>\n",
       "      <td>-0.78</td>\n",
       "      <td>-2.65</td>\n",
       "      <td>0.6217</td>\n",
       "      <td>0.009000</td>\n",
       "      <td>1</td>\n",
       "    </tr>\n",
       "    <tr>\n",
       "      <th>72151951200</th>\n",
       "      <td>0.22</td>\n",
       "      <td>1.83</td>\n",
       "      <td>0.17</td>\n",
       "      <td>6.25</td>\n",
       "      <td>1.22</td>\n",
       "      <td>0.03</td>\n",
       "      <td>53.20</td>\n",
       "      <td>42.02</td>\n",
       "      <td>0.019601</td>\n",
       "      <td>4.02</td>\n",
       "      <td>-7.49</td>\n",
       "      <td>0.6263</td>\n",
       "      <td>0.034262</td>\n",
       "      <td>2</td>\n",
       "    </tr>\n",
       "    <tr>\n",
       "      <th>72151951300</th>\n",
       "      <td>0.46</td>\n",
       "      <td>2.31</td>\n",
       "      <td>0.45</td>\n",
       "      <td>5.17</td>\n",
       "      <td>0.94</td>\n",
       "      <td>0.06</td>\n",
       "      <td>56.77</td>\n",
       "      <td>45.15</td>\n",
       "      <td>0.000000</td>\n",
       "      <td>3.43</td>\n",
       "      <td>-5.47</td>\n",
       "      <td>0.3918</td>\n",
       "      <td>0.042422</td>\n",
       "      <td>3</td>\n",
       "    </tr>\n",
       "    <tr>\n",
       "      <th>72153750101</th>\n",
       "      <td>0.00</td>\n",
       "      <td>4.58</td>\n",
       "      <td>0.00</td>\n",
       "      <td>7.06</td>\n",
       "      <td>1.83</td>\n",
       "      <td>0.35</td>\n",
       "      <td>42.02</td>\n",
       "      <td>32.63</td>\n",
       "      <td>0.274213</td>\n",
       "      <td>1.08</td>\n",
       "      <td>-2.76</td>\n",
       "      <td>0.8641</td>\n",
       "      <td>0.069706</td>\n",
       "      <td>3</td>\n",
       "    </tr>\n",
       "    <tr>\n",
       "      <th>72153750102</th>\n",
       "      <td>0.02</td>\n",
       "      <td>2.39</td>\n",
       "      <td>0.01</td>\n",
       "      <td>7.06</td>\n",
       "      <td>1.36</td>\n",
       "      <td>0.41</td>\n",
       "      <td>40.23</td>\n",
       "      <td>31.29</td>\n",
       "      <td>0.040370</td>\n",
       "      <td>2.13</td>\n",
       "      <td>-3.55</td>\n",
       "      <td>0.8528</td>\n",
       "      <td>0.012806</td>\n",
       "      <td>2</td>\n",
       "    </tr>\n",
       "    <tr>\n",
       "      <th>72153750201</th>\n",
       "      <td>0.03</td>\n",
       "      <td>5.60</td>\n",
       "      <td>0.03</td>\n",
       "      <td>7.13</td>\n",
       "      <td>1.67</td>\n",
       "      <td>0.40</td>\n",
       "      <td>39.79</td>\n",
       "      <td>31.29</td>\n",
       "      <td>0.286385</td>\n",
       "      <td>-0.15</td>\n",
       "      <td>-2.13</td>\n",
       "      <td>0.6467</td>\n",
       "      <td>0.038120</td>\n",
       "      <td>2</td>\n",
       "    </tr>\n",
       "    <tr>\n",
       "      <th>72153750202</th>\n",
       "      <td>0.01</td>\n",
       "      <td>0.57</td>\n",
       "      <td>0.00</td>\n",
       "      <td>1.97</td>\n",
       "      <td>1.20</td>\n",
       "      <td>0.42</td>\n",
       "      <td>39.79</td>\n",
       "      <td>31.29</td>\n",
       "      <td>0.000000</td>\n",
       "      <td>-0.30</td>\n",
       "      <td>4.45</td>\n",
       "      <td>0.9898</td>\n",
       "      <td>0.006351</td>\n",
       "      <td>0</td>\n",
       "    </tr>\n",
       "    <tr>\n",
       "      <th>72153750300</th>\n",
       "      <td>0.07</td>\n",
       "      <td>0.00</td>\n",
       "      <td>0.00</td>\n",
       "      <td>0.00</td>\n",
       "      <td>1.00</td>\n",
       "      <td>0.44</td>\n",
       "      <td>39.34</td>\n",
       "      <td>30.85</td>\n",
       "      <td>0.000000</td>\n",
       "      <td>-2.48</td>\n",
       "      <td>4.18</td>\n",
       "      <td>0.1914</td>\n",
       "      <td>0.000000</td>\n",
       "      <td>0</td>\n",
       "    </tr>\n",
       "    <tr>\n",
       "      <th>72153750400</th>\n",
       "      <td>0.33</td>\n",
       "      <td>1.48</td>\n",
       "      <td>0.15</td>\n",
       "      <td>6.45</td>\n",
       "      <td>1.00</td>\n",
       "      <td>0.44</td>\n",
       "      <td>39.34</td>\n",
       "      <td>30.85</td>\n",
       "      <td>0.078730</td>\n",
       "      <td>-3.68</td>\n",
       "      <td>2.95</td>\n",
       "      <td>0.7916</td>\n",
       "      <td>0.000000</td>\n",
       "      <td>0</td>\n",
       "    </tr>\n",
       "    <tr>\n",
       "      <th>72153750501</th>\n",
       "      <td>0.00</td>\n",
       "      <td>0.00</td>\n",
       "      <td>0.00</td>\n",
       "      <td>0.00</td>\n",
       "      <td>1.00</td>\n",
       "      <td>0.45</td>\n",
       "      <td>39.34</td>\n",
       "      <td>30.85</td>\n",
       "      <td>0.000000</td>\n",
       "      <td>0.73</td>\n",
       "      <td>6.66</td>\n",
       "      <td>0.4202</td>\n",
       "      <td>0.000000</td>\n",
       "      <td>0</td>\n",
       "    </tr>\n",
       "    <tr>\n",
       "      <th>72153750502</th>\n",
       "      <td>0.00</td>\n",
       "      <td>0.00</td>\n",
       "      <td>0.00</td>\n",
       "      <td>0.00</td>\n",
       "      <td>1.00</td>\n",
       "      <td>0.45</td>\n",
       "      <td>39.34</td>\n",
       "      <td>30.85</td>\n",
       "      <td>0.000000</td>\n",
       "      <td>-5.21</td>\n",
       "      <td>8.98</td>\n",
       "      <td>0.3228</td>\n",
       "      <td>0.000000</td>\n",
       "      <td>0</td>\n",
       "    </tr>\n",
       "    <tr>\n",
       "      <th>72153750503</th>\n",
       "      <td>0.10</td>\n",
       "      <td>0.56</td>\n",
       "      <td>0.00</td>\n",
       "      <td>1.52</td>\n",
       "      <td>1.00</td>\n",
       "      <td>0.46</td>\n",
       "      <td>38.89</td>\n",
       "      <td>30.40</td>\n",
       "      <td>0.000000</td>\n",
       "      <td>-1.34</td>\n",
       "      <td>1.06</td>\n",
       "      <td>0.3952</td>\n",
       "      <td>0.000000</td>\n",
       "      <td>0</td>\n",
       "    </tr>\n",
       "    <tr>\n",
       "      <th>72153750601</th>\n",
       "      <td>0.23</td>\n",
       "      <td>2.76</td>\n",
       "      <td>0.24</td>\n",
       "      <td>7.65</td>\n",
       "      <td>1.00</td>\n",
       "      <td>0.45</td>\n",
       "      <td>39.34</td>\n",
       "      <td>30.85</td>\n",
       "      <td>0.000000</td>\n",
       "      <td>-0.60</td>\n",
       "      <td>2.30</td>\n",
       "      <td>0.1461</td>\n",
       "      <td>0.000000</td>\n",
       "      <td>0</td>\n",
       "    </tr>\n",
       "    <tr>\n",
       "      <th>72153750602</th>\n",
       "      <td>0.10</td>\n",
       "      <td>2.55</td>\n",
       "      <td>0.10</td>\n",
       "      <td>5.62</td>\n",
       "      <td>1.00</td>\n",
       "      <td>0.48</td>\n",
       "      <td>38.45</td>\n",
       "      <td>30.40</td>\n",
       "      <td>0.000000</td>\n",
       "      <td>-0.38</td>\n",
       "      <td>3.70</td>\n",
       "      <td>0.6988</td>\n",
       "      <td>0.000000</td>\n",
       "      <td>0</td>\n",
       "    </tr>\n",
       "  </tbody>\n",
       "</table>\n",
       "<p>882 rows × 14 columns</p>\n",
       "</div>"
      ],
      "text/plain": [
       "             PropSFHA  AveDepth  PropDG  MaxDepth  AveLS  HurTrack  PeakGust  \\\n",
       "FIPS                                                                           \n",
       "72001956300      0.02      0.00    0.00      0.00   2.00      0.24     44.26   \n",
       "72001956400      0.03      2.57    0.02      2.72   2.00      0.27     43.81   \n",
       "72001956500      0.01      0.00    0.00      0.00   1.88      0.29     43.36   \n",
       "72001956600      0.05      0.00    0.00      0.00   1.80      0.26     43.81   \n",
       "72001956700      0.10      0.00    0.00      0.00   2.00      0.26     43.81   \n",
       "72001956800      0.01      0.00    0.00      0.00   1.96      0.26     43.81   \n",
       "72003430100      0.56      2.26    0.52      6.64   1.17      0.27     38.00   \n",
       "72003430200      0.38      3.00    0.43      4.51   1.00      0.27     38.00   \n",
       "72003430300      0.20      0.00    0.00      0.00   1.00      0.29     37.55   \n",
       "72003430401      0.01      0.00    0.00      0.00   1.50      0.29     37.55   \n",
       "72003430402      0.01      0.00    0.00      0.00   2.00      0.29     37.55   \n",
       "72003430501      0.06      0.00    0.00      0.00   1.20      0.30     37.10   \n",
       "72003430502      0.00      0.00    0.00      0.00   1.70      0.32     37.10   \n",
       "72003430601      0.01      0.00    0.00      0.00   1.22      0.32     36.66   \n",
       "72003430602      0.49      0.00    0.00      0.00   0.88      0.31     37.10   \n",
       "72005400100      0.02      0.00    0.00      0.00   0.71      0.14     39.79   \n",
       "72005400300      0.05      0.00    0.00      0.00   0.62      0.16     39.34   \n",
       "72005400400      0.01      0.00    0.00      0.00   1.00      0.19     38.45   \n",
       "72005400501      0.00      0.00    0.00      0.00   1.00      0.18     38.89   \n",
       "72005400502      0.00      0.00    0.00      0.00   1.00      0.19     38.45   \n",
       "72005400600      0.00      0.00    0.00      0.00   1.00      0.21     38.45   \n",
       "72005400700      0.01      3.30    0.00      5.59   1.00      0.21     38.45   \n",
       "72005400800      0.12      3.27    0.36      7.44   1.00      0.22     38.00   \n",
       "72005400900      0.00      0.00    0.00      0.00   1.00      0.22     38.00   \n",
       "72005401000      0.57      4.01    0.73      7.37   1.00      0.23     38.00   \n",
       "72005401100      0.94      4.06    0.95      6.75   1.00      0.24     38.45   \n",
       "72005401200      0.16      1.84    0.16      6.57   1.09      0.23     38.00   \n",
       "72005401301      0.00      0.00    0.00      0.00   1.00      0.20     38.45   \n",
       "72005401302      0.00      0.00    0.00      0.00   1.00      0.16     39.34   \n",
       "72005401401      0.00      0.00    0.00      0.00   1.00      0.16     39.79   \n",
       "...               ...       ...     ...       ...    ...       ...       ...   \n",
       "72145560801      0.00      0.00    0.00      0.00   1.00      0.11     54.09   \n",
       "72145560802      0.00      0.00    0.00      0.00   0.78      0.09     54.09   \n",
       "72145560900      0.00      0.00    0.00      0.00   1.12      0.07     54.54   \n",
       "72147950500      0.10      0.00    0.00      0.00   0.00      0.28     59.90   \n",
       "72147950600      0.09      0.00    0.00      0.00   0.00      0.35     54.99   \n",
       "72149720100      0.07      7.09    0.05     13.36   1.22      0.17     49.62   \n",
       "72149720300      0.05      3.56    0.05      9.47   1.00      0.20     48.28   \n",
       "72149720400      0.14      0.00    0.00      0.00   1.00      0.19     48.28   \n",
       "72149720502      0.08      3.52    0.09     34.11   1.00      0.23     46.94   \n",
       "72149720503      0.01      0.00    0.00      0.00   1.56      0.17     49.17   \n",
       "72149720504      0.00      2.91    0.00      6.51   1.56      0.19     48.28   \n",
       "72151950600      0.18      1.61    0.19      4.84   1.00      0.10     58.12   \n",
       "72151950700      0.02      0.87    0.00      2.41   1.61      0.03     55.43   \n",
       "72151950800      0.39      1.86    0.31      6.32   1.14      0.05     54.09   \n",
       "72151950900      0.06      1.27    0.04      3.96   1.13      0.09     55.43   \n",
       "72151951000      0.41      1.82    0.47      5.45   1.00      0.06     54.54   \n",
       "72151951100      0.00      0.79    0.09      3.72   1.00      0.05     54.54   \n",
       "72151951200      0.22      1.83    0.17      6.25   1.22      0.03     53.20   \n",
       "72151951300      0.46      2.31    0.45      5.17   0.94      0.06     56.77   \n",
       "72153750101      0.00      4.58    0.00      7.06   1.83      0.35     42.02   \n",
       "72153750102      0.02      2.39    0.01      7.06   1.36      0.41     40.23   \n",
       "72153750201      0.03      5.60    0.03      7.13   1.67      0.40     39.79   \n",
       "72153750202      0.01      0.57    0.00      1.97   1.20      0.42     39.79   \n",
       "72153750300      0.07      0.00    0.00      0.00   1.00      0.44     39.34   \n",
       "72153750400      0.33      1.48    0.15      6.45   1.00      0.44     39.34   \n",
       "72153750501      0.00      0.00    0.00      0.00   1.00      0.45     39.34   \n",
       "72153750502      0.00      0.00    0.00      0.00   1.00      0.45     39.34   \n",
       "72153750503      0.10      0.56    0.00      1.52   1.00      0.46     38.89   \n",
       "72153750601      0.23      2.76    0.24      7.65   1.00      0.45     39.34   \n",
       "72153750602      0.10      2.55    0.10      5.62   1.00      0.48     38.45   \n",
       "\n",
       "             MaxSusta   SpecCom  STRVI_1  SEVI_1  CDC_Tot     R_IND  \\\n",
       "FIPS                                                                  \n",
       "72001956300     34.87  0.092383     3.07   -8.41   0.9604  0.000000   \n",
       "72001956400     33.98  0.422310     7.84   -7.49   0.7542  0.017260   \n",
       "72001956500     33.98  0.332732     5.42  -13.13   0.8256  0.007092   \n",
       "72001956600     34.42  0.016615     1.21   -7.72   0.8992  0.000000   \n",
       "72001956700     34.42  0.088123     1.30   -6.66   0.9287  0.000000   \n",
       "72001956800     33.98  0.023798     5.90   -5.07   0.5459  0.028481   \n",
       "72003430100     30.40  0.000000     4.36    4.08   0.3341  0.036724   \n",
       "72003430200     30.40  0.116653     6.97   11.14   0.8165  0.017749   \n",
       "72003430300     30.40  0.139039     4.92    8.36   0.5527  0.020444   \n",
       "72003430401     29.50  0.014212     6.88    4.59   0.4677  0.037580   \n",
       "72003430402     29.50  0.026158     7.59    1.17   0.6772  0.056522   \n",
       "72003430501     29.50  0.000000     7.31    8.45   0.2163  0.022069   \n",
       "72003430502     29.06  0.000000     8.48    0.22   0.7067  0.011145   \n",
       "72003430601     29.06  0.000000     8.50    1.61   0.4247  0.015252   \n",
       "72003430602     29.95  0.027825     6.27    4.53   0.2967  0.029898   \n",
       "72005400100     32.19  0.049974     1.11    1.52   0.5028  0.030675   \n",
       "72005400300     31.74  0.000000    -2.19    0.44   0.1031  0.012697   \n",
       "72005400400     30.85  0.000000     3.65   -2.11   0.7214  0.034965   \n",
       "72005400501     30.85  0.000000     0.86    0.59   0.3114  0.004543   \n",
       "72005400502     30.85  0.000000     2.67    0.93   0.4564  0.016291   \n",
       "72005400600     30.40  0.072259     3.44    0.07   0.9830  0.028836   \n",
       "72005400700     30.40  0.038671    -1.51    3.57   0.1823  0.027712   \n",
       "72005400800     29.95  0.659350    -0.41   -6.99   0.9219  0.037588   \n",
       "72005400900     29.95  0.233691     3.51   -4.24   0.9207  0.041221   \n",
       "72005401000     30.40  0.410664    -0.08   -4.80   0.7701  0.032511   \n",
       "72005401100     30.85  0.000000    -0.36   -4.27   0.8969  0.019824   \n",
       "72005401200     29.95  0.025096     3.16   -0.36   0.2333  0.031589   \n",
       "72005401301     30.40  0.000000     2.25    1.63   0.8652  0.007850   \n",
       "72005401302     31.29  0.021494     5.85    2.34   0.2797  0.020727   \n",
       "72005401401     31.29  0.029972     1.98   -2.23   0.4689  0.022441   \n",
       "...               ...       ...      ...     ...      ...       ...   \n",
       "72145560801     42.92  0.025817     0.91   -2.51   0.5413  0.079201   \n",
       "72145560802     42.47  0.000000     0.85   -3.03   0.8267  0.038937   \n",
       "72145560900     42.92  0.000000     2.42   -1.25   0.9694  0.129916   \n",
       "72147950500     47.39  0.086992    -2.65    0.79   0.2593  0.083734   \n",
       "72147950600     43.81  0.084072    -2.51   -5.50   0.2208  0.119388   \n",
       "72149720100     38.89  0.056286     0.60    1.01   0.9320  0.009886   \n",
       "72149720300     38.00  0.013158     0.96    2.46   0.8426  0.000000   \n",
       "72149720400     38.00  1.478291    -0.63   -1.33   0.6240  0.000000   \n",
       "72149720502     36.66  0.037387     1.69   -3.64   0.7463  0.000000   \n",
       "72149720503     38.45  0.121311     0.02   -0.65   0.5040  0.000000   \n",
       "72149720504     37.55  0.134984     2.97    4.28   0.6557  0.000718   \n",
       "72151950600     46.49  0.038098     4.10   -2.77   0.4723  0.027540   \n",
       "72151950700     43.36  0.000000     7.89   -7.01   0.4304  0.048967   \n",
       "72151950800     42.47  0.000000     1.69   -6.38   0.8245  0.065147   \n",
       "72151950900     43.36  0.006932     2.05   -0.71   0.6829  0.027967   \n",
       "72151951000     43.36  0.000000     2.13   -3.24   0.4643  0.003946   \n",
       "72151951100     43.36  0.000000    -0.78   -2.65   0.6217  0.009000   \n",
       "72151951200     42.02  0.019601     4.02   -7.49   0.6263  0.034262   \n",
       "72151951300     45.15  0.000000     3.43   -5.47   0.3918  0.042422   \n",
       "72153750101     32.63  0.274213     1.08   -2.76   0.8641  0.069706   \n",
       "72153750102     31.29  0.040370     2.13   -3.55   0.8528  0.012806   \n",
       "72153750201     31.29  0.286385    -0.15   -2.13   0.6467  0.038120   \n",
       "72153750202     31.29  0.000000    -0.30    4.45   0.9898  0.006351   \n",
       "72153750300     30.85  0.000000    -2.48    4.18   0.1914  0.000000   \n",
       "72153750400     30.85  0.078730    -3.68    2.95   0.7916  0.000000   \n",
       "72153750501     30.85  0.000000     0.73    6.66   0.4202  0.000000   \n",
       "72153750502     30.85  0.000000    -5.21    8.98   0.3228  0.000000   \n",
       "72153750503     30.40  0.000000    -1.34    1.06   0.3952  0.000000   \n",
       "72153750601     30.85  0.000000    -0.60    2.30   0.1461  0.000000   \n",
       "72153750602     30.40  0.000000    -0.38    3.70   0.6988  0.000000   \n",
       "\n",
       "             cat_4q_pred  \n",
       "FIPS                      \n",
       "72001956300            0  \n",
       "72001956400            1  \n",
       "72001956500            3  \n",
       "72001956600            0  \n",
       "72001956700            0  \n",
       "72001956800            3  \n",
       "72003430100            0  \n",
       "72003430200            0  \n",
       "72003430300            1  \n",
       "72003430401            2  \n",
       "72003430402            3  \n",
       "72003430501            0  \n",
       "72003430502            1  \n",
       "72003430601            1  \n",
       "72003430602            2  \n",
       "72005400100            2  \n",
       "72005400300            2  \n",
       "72005400400            2  \n",
       "72005400501            0  \n",
       "72005400502            1  \n",
       "72005400600            2  \n",
       "72005400700            2  \n",
       "72005400800            2  \n",
       "72005400900            2  \n",
       "72005401000            2  \n",
       "72005401100            0  \n",
       "72005401200            2  \n",
       "72005401301            1  \n",
       "72005401302            2  \n",
       "72005401401            2  \n",
       "...                  ...  \n",
       "72145560801            3  \n",
       "72145560802            3  \n",
       "72145560900            3  \n",
       "72147950500            3  \n",
       "72147950600            3  \n",
       "72149720100            0  \n",
       "72149720300            0  \n",
       "72149720400            0  \n",
       "72149720502            0  \n",
       "72149720503            3  \n",
       "72149720504            0  \n",
       "72151950600            2  \n",
       "72151950700            3  \n",
       "72151950800            3  \n",
       "72151950900            2  \n",
       "72151951000            0  \n",
       "72151951100            1  \n",
       "72151951200            2  \n",
       "72151951300            3  \n",
       "72153750101            3  \n",
       "72153750102            2  \n",
       "72153750201            2  \n",
       "72153750202            0  \n",
       "72153750300            0  \n",
       "72153750400            0  \n",
       "72153750501            0  \n",
       "72153750502            0  \n",
       "72153750503            0  \n",
       "72153750601            0  \n",
       "72153750602            0  \n",
       "\n",
       "[882 rows x 14 columns]"
      ]
     },
     "execution_count": 207,
     "metadata": {},
     "output_type": "execute_result"
    }
   ],
   "source": [
    "df_master_results"
   ]
  },
  {
   "cell_type": "markdown",
   "metadata": {},
   "source": [
    "### Divide into 2 sets for 2 regressions: bottom 3 quartiles and top quartile"
   ]
  },
  {
   "cell_type": "code",
   "execution_count": 127,
   "metadata": {},
   "outputs": [],
   "source": [
    "# Train_reg.head()"
   ]
  },
  {
   "cell_type": "markdown",
   "metadata": {},
   "source": [
    "## Split Based on Prediction results for all data"
   ]
  },
  {
   "cell_type": "code",
   "execution_count": 128,
   "metadata": {},
   "outputs": [],
   "source": [
    "reg_l = df_master_results[df_master_results['cat_4q_pred'] < 3]\n",
    "reg_h = df_master_results[df_master_results['cat_4q_pred'] == 3]"
   ]
  },
  {
   "cell_type": "code",
   "execution_count": 129,
   "metadata": {},
   "outputs": [],
   "source": [
    "#Will have to drop na if want to use R_Ind_NO0\n",
    "\n",
    "target_str = 'R_IND'\n",
    "y_reg_l, df_x_reg_l = partition_data(reg_l, target_str)\n",
    "\n",
    "y_reg_h, df_x_reg_h = partition_data(reg_h, target_str)"
   ]
  },
  {
   "cell_type": "code",
   "execution_count": 144,
   "metadata": {},
   "outputs": [],
   "source": [
    "def split_the_data_stratify(df_x, y):\n",
    "    x_train, x_test, y_train, y_test = train_test_split(df_x, y, \n",
    "                                                        test_size=0.3, \n",
    "                                                        random_state=42)\n",
    "                                                        #stratify = df_master_results['cat_4q_pred'])\n",
    "    return x_train, x_test, y_train, y_test\n"
   ]
  },
  {
   "cell_type": "code",
   "execution_count": 145,
   "metadata": {},
   "outputs": [],
   "source": [
    "x_train_l, x_test_l, y_train_l, y_test_l = split_the_data_stratify(df_x_reg_l,y_reg_l)\n",
    "\n",
    "x_train_h, x_test_h, y_train_h, y_test_h =split_the_data_stratify(df_x_reg_h,y_reg_h) "
   ]
  },
  {
   "cell_type": "code",
   "execution_count": 146,
   "metadata": {},
   "outputs": [
    {
     "data": {
      "text/plain": [
       "<matplotlib.axes._subplots.AxesSubplot at 0x1191bb438>"
      ]
     },
     "execution_count": 146,
     "metadata": {},
     "output_type": "execute_result"
    },
    {
     "data": {
      "image/png": "[encoded data removed]",
      "text/plain": [
       "<matplotlib.figure.Figure at 0x119378978>"
      ]
     },
     "metadata": {},
     "output_type": "display_data"
    }
   ],
   "source": [
    "y_test_l.hist()"
   ]
  },
  {
   "cell_type": "code",
   "execution_count": 153,
   "metadata": {},
   "outputs": [
    {
     "name": "stderr",
     "output_type": "stream",
     "text": [
      "/usr/local/lib/python3.6/site-packages/pandas/core/frame.py:3697: SettingWithCopyWarning: \n",
      "A value is trying to be set on a copy of a slice from a DataFrame\n",
      "\n",
      "See the caveats in the documentation: http://pandas.pydata.org/pandas-docs/stable/indexing.html#indexing-view-versus-copy\n",
      "  errors=errors)\n"
     ]
    }
   ],
   "source": [
    "x_train_l.drop(['cat_4q_pred'], axis=1, inplace=True)\n",
    "x_test_l.drop(['cat_4q_pred'], axis=1, inplace=True)\n",
    "x_train_h.drop(['cat_4q_pred'], axis=1, inplace=True)\n",
    "x_test_h.drop(['cat_4q_pred'], axis=1, inplace=True)"
   ]
  },
  {
   "cell_type": "code",
   "execution_count": 208,
   "metadata": {},
   "outputs": [],
   "source": [
    "target_str='cat_4q_pred'\n",
    "y, df_x = partition_data(df_master_results, target_str)"
   ]
  },
  {
   "cell_type": "code",
   "execution_count": 58,
   "metadata": {},
   "outputs": [],
   "source": [
    "# x_train, x_test, y_train, y_test = split_the_data_stratify(df_x, y)"
   ]
  },
  {
   "cell_type": "markdown",
   "metadata": {},
   "source": [
    "## If use predictions for just test set"
   ]
  },
  {
   "cell_type": "code",
   "execution_count": 211,
   "metadata": {},
   "outputs": [],
   "source": [
    "def split_by_quartile(Train_reg, Test_reg):\n",
    "    Train_reg_l = Train_reg[Train_reg['CAT_4Q'] < 3]\n",
    "    Train_reg_h = Train_reg[Train_reg['CAT_4Q'] == 3]\n",
    "    \n",
    "    Test_reg_l = Test_reg[Test_reg['cat_4q_pred'] < 3]\n",
    "    Test_reg_h = Test_reg[Test_reg['cat_4q_pred'] == 3]\n",
    "    \n",
    "    return Train_reg_l,Train_reg_h,Test_reg_l,Test_reg_h"
   ]
  },
  {
   "cell_type": "code",
   "execution_count": 212,
   "metadata": {},
   "outputs": [],
   "source": [
    "Train_reg_l,Train_reg_h,Test_reg_l,Test_reg_h = split_by_quartile(Train_reg, Test_reg)"
   ]
  },
  {
   "cell_type": "code",
   "execution_count": 215,
   "metadata": {},
   "outputs": [
    {
     "data": {
      "text/plain": [
       "Index(['PropSFHA', 'AveDepth', 'PropDG', 'MaxDepth', 'AveLS', 'HurTrack',\n",
       "       'PeakGust', 'MaxSusta', 'SpecCom', 'STRVI_1', 'SEVI_1', 'CDC_Tot',\n",
       "       'CAT_4Q', 'R_IND'],\n",
       "      dtype='object')"
      ]
     },
     "execution_count": 215,
     "metadata": {},
     "output_type": "execute_result"
    }
   ],
   "source": [
    "Train_reg_l.columns"
   ]
  },
  {
   "cell_type": "code",
   "execution_count": 217,
   "metadata": {},
   "outputs": [],
   "source": [
    "def choose_data_high_low(Train_reg_l,Train_reg_h,Test_reg_l,Test_reg_h, feature_list, target_list):\n",
    "    #choices = feature_list + target_list\n",
    "    x_train_l = Train_reg_l[feature_list].copy()\n",
    "    x_test_l = Test_reg_l[feature_list].copy()\n",
    "    y_train_l = Train_reg_l[target_list].copy()\n",
    "    y_test_l = Test_reg_l[target_list].copy()\n",
    "    \n",
    "    x_train_h = Train_reg_h[feature_list].copy()\n",
    "    x_test_h = Test_reg_h[feature_list].copy()\n",
    "    y_train_h = Train_reg_h[target_list].copy()\n",
    "    y_test_h = Test_reg_h[target_list].copy()\n",
    "    \n",
    "    x_train_l.dropna(inplace=True)\n",
    "    x_test_l.dropna(inplace=True)\n",
    "    y_train_l.dropna(inplace=True)\n",
    "    y_test_l.dropna(inplace=True)\n",
    "    x_train_h.dropna(inplace=True)\n",
    "    x_test_h.dropna(inplace=True)\n",
    "    y_train_h.dropna(inplace=True)\n",
    "    y_test_h.dropna(inplace=True)\n",
    "    \n",
    "    y_train_l = y_train_l.values.ravel()\n",
    "    y_test_l = y_test_l.values.ravel()\n",
    "    y_train_h = y_train_h.values.ravel()\n",
    "    y_test_h = y_test_h.values.ravel()\n",
    "        \n",
    "    return x_train_l, x_test_l, y_train_l, y_test_l, x_train_h, x_test_h, y_train_h, y_test_h"
   ]
  },
  {
   "cell_type": "code",
   "execution_count": 219,
   "metadata": {},
   "outputs": [],
   "source": [
    "# EXAMPLE:\n",
    "#Consider keeping 'cat_4q' in low model for stratified sampling\n",
    "feature_list = ['PropSFHA', 'AveDepth', 'PropDG', 'MaxDepth', 'AveLS', 'HurTrack',\n",
    "               'PeakGust', 'MaxSusta', 'SpecCom', 'STRVI_1', 'SEVI_1', 'CDC_Tot']\n",
    "target_list = ['R_IND']\n",
    "\n",
    "x_train_l, x_test_l, y_train_l, y_test_l, x_train_h, x_test_h, y_train_h, y_test_h = choose_data_high_low(Train_reg_l,Train_reg_h,Test_reg_l,Test_reg_h, feature_list, target_list)"
   ]
  },
  {
   "cell_type": "code",
   "execution_count": 220,
   "metadata": {},
   "outputs": [
    {
     "name": "stdout",
     "output_type": "stream",
     "text": [
      "Fitting 5 folds for each of 100 candidates, totalling 500 fits\n"
     ]
    },
    {
     "name": "stderr",
     "output_type": "stream",
     "text": [
      "[Parallel(n_jobs=-1)]: Using backend LokyBackend with 8 concurrent workers.\n",
      "[Parallel(n_jobs=-1)]: Done  25 tasks      | elapsed:    9.0s\n",
      "[Parallel(n_jobs=-1)]: Done 146 tasks      | elapsed:   42.7s\n",
      "[Parallel(n_jobs=-1)]: Done 349 tasks      | elapsed:  1.8min\n",
      "[Parallel(n_jobs=-1)]: Done 500 out of 500 | elapsed:  2.6min finished\n"
     ]
    },
    {
     "name": "stdout",
     "output_type": "stream",
     "text": [
      "{'n_estimators': 733, 'min_samples_split': 2, 'min_samples_leaf': 1, 'max_features': 'sqrt', 'max_depth': None}\n"
     ]
    }
   ],
   "source": [
    "#EXAMPLE\n",
    "#Random state\n",
    "#CHOOSE IF REGRESSOR OR CLASSIFICATION\n",
    "random_tuned_model_l = randomized_cv(x_train_l, y_train_l, RandomForestRegressor())"
   ]
  },
  {
   "cell_type": "code",
   "execution_count": 221,
   "metadata": {},
   "outputs": [
    {
     "name": "stdout",
     "output_type": "stream",
     "text": [
      "Fitting 5 folds for each of 100 candidates, totalling 500 fits\n"
     ]
    },
    {
     "name": "stderr",
     "output_type": "stream",
     "text": [
      "[Parallel(n_jobs=-1)]: Using backend LokyBackend with 8 concurrent workers.\n",
      "[Parallel(n_jobs=-1)]: Done  25 tasks      | elapsed:    7.8s\n",
      "[Parallel(n_jobs=-1)]: Done 146 tasks      | elapsed:   32.1s\n",
      "[Parallel(n_jobs=-1)]: Done 349 tasks      | elapsed:  1.3min\n",
      "[Parallel(n_jobs=-1)]: Done 500 out of 500 | elapsed:  1.8min finished\n",
      "/Users/lszczyrba/Library/Python/3.6/lib/python/site-packages/sklearn/model_selection/_search.py:814: DeprecationWarning: The default of the `iid` parameter will change from True to False in version 0.22 and will be removed in 0.24. This will change numeric results when test-set sizes are unequal.\n",
      "  DeprecationWarning)\n"
     ]
    },
    {
     "name": "stdout",
     "output_type": "stream",
     "text": [
      "{'n_estimators': 733, 'min_samples_split': 5, 'min_samples_leaf': 2, 'max_features': 'sqrt', 'max_depth': 80}\n"
     ]
    }
   ],
   "source": [
    "#EXAMPLE\n",
    "#Random state\n",
    "#CHOOSE IF REGRESSOR OR CLASSIFICATION\n",
    "random_tuned_model_h = randomized_cv(x_train_h, y_train_h, RandomForestRegressor())"
   ]
  },
  {
   "cell_type": "code",
   "execution_count": 222,
   "metadata": {},
   "outputs": [
    {
     "data": {
      "text/plain": [
       "<bound method BaseEstimator.get_params of RandomForestRegressor(bootstrap=True, criterion='mse', max_depth=None,\n",
       "                      max_features='sqrt', max_leaf_nodes=None,\n",
       "                      min_impurity_decrease=0.0, min_impurity_split=None,\n",
       "                      min_samples_leaf=1, min_samples_split=2,\n",
       "                      min_weight_fraction_leaf=0.0, n_estimators=733,\n",
       "                      n_jobs=None, oob_score=False, random_state=None,\n",
       "                      verbose=0, warm_start=False)>"
      ]
     },
     "execution_count": 222,
     "metadata": {},
     "output_type": "execute_result"
    }
   ],
   "source": [
    "random_tuned_model_l.get_params"
   ]
  },
  {
   "cell_type": "code",
   "execution_count": 223,
   "metadata": {},
   "outputs": [
    {
     "data": {
      "text/plain": [
       "<bound method BaseEstimator.get_params of RandomForestRegressor(bootstrap=True, criterion='mse', max_depth=80,\n",
       "                      max_features='sqrt', max_leaf_nodes=None,\n",
       "                      min_impurity_decrease=0.0, min_impurity_split=None,\n",
       "                      min_samples_leaf=2, min_samples_split=5,\n",
       "                      min_weight_fraction_leaf=0.0, n_estimators=733,\n",
       "                      n_jobs=None, oob_score=False, random_state=None,\n",
       "                      verbose=0, warm_start=False)>"
      ]
     },
     "execution_count": 223,
     "metadata": {},
     "output_type": "execute_result"
    }
   ],
   "source": [
    "random_tuned_model_h.get_params"
   ]
  },
  {
   "cell_type": "code",
   "execution_count": 224,
   "metadata": {},
   "outputs": [],
   "source": [
    "def grid_cv(x_train, y_train, model):\n",
    "    param_grid = {\n",
    "        'max_depth': [40, 50, 75, 100],\n",
    "        'max_features': [2, 3, 4],\n",
    "        'min_samples_leaf': [1,2,3],\n",
    "        'min_samples_split': [2,3,4],\n",
    "        'n_estimators': [700, 800, 1000]\n",
    "    }\n",
    "    # Create a based model\n",
    "    rf = model\n",
    "    # Instantiate the grid search model\n",
    "    grid_search = GridSearchCV(estimator = rf, \n",
    "                               param_grid = param_grid, \n",
    "                               cv = 5, n_jobs = -1, \n",
    "                               verbose = 2)\n",
    "    grid_search.fit(x_train, y_train)\n",
    "    \n",
    "    print(grid_search.best_params_)\n",
    "    return grid_search.best_estimator_"
   ]
  },
  {
   "cell_type": "code",
   "execution_count": 225,
   "metadata": {},
   "outputs": [
    {
     "name": "stdout",
     "output_type": "stream",
     "text": [
      "Fitting 5 folds for each of 324 candidates, totalling 1620 fits\n"
     ]
    },
    {
     "name": "stderr",
     "output_type": "stream",
     "text": [
      "[Parallel(n_jobs=-1)]: Using backend LokyBackend with 8 concurrent workers.\n",
      "[Parallel(n_jobs=-1)]: Done  25 tasks      | elapsed:    7.0s\n",
      "[Parallel(n_jobs=-1)]: Done 146 tasks      | elapsed:   27.3s\n",
      "[Parallel(n_jobs=-1)]: Done 349 tasks      | elapsed:  1.1min\n",
      "[Parallel(n_jobs=-1)]: Done 632 tasks      | elapsed:  2.0min\n",
      "[Parallel(n_jobs=-1)]: Done 997 tasks      | elapsed:  3.2min\n",
      "[Parallel(n_jobs=-1)]: Done 1442 tasks      | elapsed:  4.8min\n",
      "[Parallel(n_jobs=-1)]: Done 1620 out of 1620 | elapsed:  5.5min finished\n"
     ]
    },
    {
     "name": "stdout",
     "output_type": "stream",
     "text": [
      "{'max_depth': 40, 'max_features': 2, 'min_samples_leaf': 1, 'min_samples_split': 2, 'n_estimators': 1000}\n"
     ]
    }
   ],
   "source": [
    "#Example\n",
    "#CHOOSE IF REGRESSOR OR CLASSIFICATION\n",
    "tuned_model_l = grid_cv(x_train_l, y_train_l, RandomForestRegressor())"
   ]
  },
  {
   "cell_type": "code",
   "execution_count": 165,
   "metadata": {},
   "outputs": [
    {
     "name": "stdout",
     "output_type": "stream",
     "text": [
      "Fitting 5 folds for each of 324 candidates, totalling 1620 fits\n"
     ]
    },
    {
     "name": "stderr",
     "output_type": "stream",
     "text": [
      "[Parallel(n_jobs=-1)]: Using backend LokyBackend with 8 concurrent workers.\n",
      "[Parallel(n_jobs=-1)]: Done  25 tasks      | elapsed:    3.2s\n",
      "[Parallel(n_jobs=-1)]: Done 146 tasks      | elapsed:    9.1s\n",
      "[Parallel(n_jobs=-1)]: Done 349 tasks      | elapsed:   20.0s\n",
      "[Parallel(n_jobs=-1)]: Done 632 tasks      | elapsed:   36.5s\n",
      "[Parallel(n_jobs=-1)]: Done 997 tasks      | elapsed:   58.9s\n",
      "[Parallel(n_jobs=-1)]: Done 1442 tasks      | elapsed:  1.5min\n"
     ]
    },
    {
     "name": "stdout",
     "output_type": "stream",
     "text": [
      "{'max_depth': 40, 'max_features': 2, 'min_samples_leaf': 5, 'min_samples_split': 6, 'n_estimators': 300}\n"
     ]
    },
    {
     "name": "stderr",
     "output_type": "stream",
     "text": [
      "[Parallel(n_jobs=-1)]: Done 1620 out of 1620 | elapsed:  1.6min finished\n",
      "/Users/lszczyrba/Library/Python/3.6/lib/python/site-packages/sklearn/model_selection/_search.py:814: DeprecationWarning: The default of the `iid` parameter will change from True to False in version 0.22 and will be removed in 0.24. This will change numeric results when test-set sizes are unequal.\n",
      "  DeprecationWarning)\n"
     ]
    }
   ],
   "source": [
    "#Example\n",
    "#CHOOSE IF REGRESSOR OR CLASSIFICATION\n",
    "tuned_model_h = grid_cv(x_train_h, y_train_h, RandomForestRegressor())"
   ]
  },
  {
   "cell_type": "code",
   "execution_count": 226,
   "metadata": {},
   "outputs": [
    {
     "data": {
      "text/plain": [
       "<bound method BaseEstimator.get_params of RandomForestRegressor(bootstrap=True, criterion='mse', max_depth=40,\n",
       "                      max_features=2, max_leaf_nodes=None,\n",
       "                      min_impurity_decrease=0.0, min_impurity_split=None,\n",
       "                      min_samples_leaf=1, min_samples_split=2,\n",
       "                      min_weight_fraction_leaf=0.0, n_estimators=1000,\n",
       "                      n_jobs=None, oob_score=False, random_state=None,\n",
       "                      verbose=0, warm_start=False)>"
      ]
     },
     "execution_count": 226,
     "metadata": {},
     "output_type": "execute_result"
    }
   ],
   "source": [
    "tuned_model_l.get_params"
   ]
  },
  {
   "cell_type": "code",
   "execution_count": 227,
   "metadata": {},
   "outputs": [],
   "source": [
    "save_tuned_model_l = RandomForestRegressor(bootstrap=True, criterion='mse', max_depth=60,\n",
    "                      max_features=4, max_leaf_nodes=None,\n",
    "                      min_impurity_decrease=0.0, min_impurity_split=None,\n",
    "                      min_samples_leaf=2, min_samples_split=4,\n",
    "                      min_weight_fraction_leaf=0.0, n_estimators=1500,\n",
    "                      n_jobs=None, oob_score=False, random_state=None,\n",
    "                      verbose=0, warm_start=False)"
   ]
  },
  {
   "cell_type": "code",
   "execution_count": 231,
   "metadata": {},
   "outputs": [],
   "source": [
    "save_tuned_model_l_2 = RandomForestRegressor(bootstrap=True, criterion='mse', max_depth=40,\n",
    "                      max_features=2, max_leaf_nodes=None,\n",
    "                      min_impurity_decrease=0.0, min_impurity_split=None,\n",
    "                      min_samples_leaf=1, min_samples_split=2,\n",
    "                      min_weight_fraction_leaf=0.0, n_estimators=1000,\n",
    "                      n_jobs=None, oob_score=False, random_state=None,\n",
    "                      verbose=0, warm_start=False)"
   ]
  },
  {
   "cell_type": "code",
   "execution_count": 228,
   "metadata": {},
   "outputs": [
    {
     "data": {
      "text/plain": [
       "<bound method BaseEstimator.get_params of RandomForestRegressor(bootstrap=True, criterion='mse', max_depth=40,\n",
       "                      max_features=2, max_leaf_nodes=None,\n",
       "                      min_impurity_decrease=0.0, min_impurity_split=None,\n",
       "                      min_samples_leaf=5, min_samples_split=6,\n",
       "                      min_weight_fraction_leaf=0.0, n_estimators=300,\n",
       "                      n_jobs=None, oob_score=False, random_state=None,\n",
       "                      verbose=0, warm_start=False)>"
      ]
     },
     "execution_count": 228,
     "metadata": {},
     "output_type": "execute_result"
    }
   ],
   "source": [
    "tuned_model_h.get_params"
   ]
  },
  {
   "cell_type": "code",
   "execution_count": 229,
   "metadata": {},
   "outputs": [],
   "source": [
    "save_tuned_model_h = RandomForestRegressor(bootstrap=True, criterion='mse', max_depth=40,\n",
    "                      max_features=2, max_leaf_nodes=None,\n",
    "                      min_impurity_decrease=0.0, min_impurity_split=None,\n",
    "                      min_samples_leaf=5, min_samples_split=6,\n",
    "                      min_weight_fraction_leaf=0.0, n_estimators=300,\n",
    "                      n_jobs=None, oob_score=False, random_state=None,\n",
    "                      verbose=0, warm_start=False)"
   ]
  },
  {
   "cell_type": "code",
   "execution_count": 230,
   "metadata": {},
   "outputs": [],
   "source": [
    "save_tuned_model_h_2 = RandomForestRegressor(bootstrap=True, criterion='mse', max_depth=40,\n",
    "                      max_features=2, max_leaf_nodes=None,\n",
    "                      min_impurity_decrease=0.0, min_impurity_split=None,\n",
    "                      min_samples_leaf=5, min_samples_split=6,\n",
    "                      min_weight_fraction_leaf=0.0, n_estimators=300,\n",
    "                      n_jobs=None, oob_score=False, random_state=None,\n",
    "                      verbose=0, warm_start=False)"
   ]
  },
  {
   "cell_type": "code",
   "execution_count": 232,
   "metadata": {},
   "outputs": [],
   "source": [
    "hypertune_model_h = tuned_model_h.fit(x_train_h, y_train_h)\n",
    "hypertune_model_l = tuned_model_l.fit(x_train_l, y_train_l)"
   ]
  },
  {
   "cell_type": "code",
   "execution_count": 233,
   "metadata": {},
   "outputs": [],
   "source": [
    "# EXAMPLE\n",
    "#CHOOSE MODEL\n",
    "pred_train_l, pred_test_l = prediction(hypertune_model_l, x_train_l, x_test_l)"
   ]
  },
  {
   "cell_type": "code",
   "execution_count": 234,
   "metadata": {},
   "outputs": [],
   "source": [
    "# EXAMPLE\n",
    "#CHOOSE MODEL\n",
    "pred_train_h, pred_test_h = prediction(hypertune_model_h, x_train_h, x_test_h)"
   ]
  },
  {
   "cell_type": "code",
   "execution_count": 235,
   "metadata": {},
   "outputs": [],
   "source": [
    "def evaluate_regression(pred_train, pred_test, y_train, y_test):\n",
    "    r_train = r2_score(y_train, pred_train)\n",
    "    print('The training r-squared score is {}'.format(r_train))\n",
    "    r_test = r2_score(y_test, pred_test)\n",
    "    print('The testing r-squared score is {}'.format(r_test))\n",
    "    meanabserrors_train = np.mean(abs(pred_train - y_train))\n",
    "    print('The training mean absolute error is {}'.format(meanabserrors_train))\n",
    "    meanabserrors_test = np.mean(abs(pred_test - y_test))\n",
    "    print('The testing mean absolute error is {}'.format(meanabserrors_test))\n",
    "    rmse = math.sqrt(mean_squared_error(y_test, pred_test))\n",
    "    print('The root mean square error is {}'.format(rmse))\n",
    "    mse = mean_squared_error(y_test, pred_test)\n",
    "    print('The mean square error is {}'.format(mse))\n",
    "    errors = pred_test - y_test\n",
    "    meanerror = np.mean(errors)\n",
    "    print('The mean error is {}'.format(meanerror))\n",
    "    return errors"
   ]
  },
  {
   "cell_type": "code",
   "execution_count": 236,
   "metadata": {},
   "outputs": [
    {
     "name": "stdout",
     "output_type": "stream",
     "text": [
      "The training r-squared score is 0.8950293314360924\n",
      "The testing r-squared score is 0.028554109108053338\n",
      "The training mean absolute error is 0.003586853111374396\n",
      "The testing mean absolute error is 0.01519408748555811\n",
      "The root mean square error is 0.024341412616181852\n",
      "The mean square error is 0.000592504368151217\n",
      "The mean error is -0.007394299303597718\n"
     ]
    }
   ],
   "source": [
    "# EXAMPLE\n",
    "errors_l = evaluate_regression(pred_train_l, pred_test_l, y_train_l, y_test_l)"
   ]
  },
  {
   "cell_type": "code",
   "execution_count": 237,
   "metadata": {},
   "outputs": [
    {
     "name": "stdout",
     "output_type": "stream",
     "text": [
      "The training r-squared score is 0.3894818305957217\n",
      "The testing r-squared score is -0.5459127733898037\n",
      "The training mean absolute error is 0.01970144836260385\n",
      "The testing mean absolute error is 0.04476651192885886\n",
      "The root mean square error is 0.05327234784026241\n",
      "The mean square error is 0.0028379430444139112\n",
      "The mean error is 0.028774450983513895\n"
     ]
    }
   ],
   "source": [
    "# EXAMPLE\n",
    "errors_h = evaluate_regression(pred_train_h, pred_test_h, y_train_h, y_test_h)"
   ]
  },
  {
   "cell_type": "code",
   "execution_count": 238,
   "metadata": {},
   "outputs": [],
   "source": [
    "def plot_predictions(y_test, pred, Title):\n",
    "    df_predictions = pd.DataFrame(y_test)\n",
    "    df_predictions['Pred'] = pred\n",
    "    X = df_predictions.iloc[:, 0].values.reshape(-1, 1)\n",
    "    Y = df_predictions.iloc[:, 1].values.reshape(-1, 1)\n",
    "    fig, ax = plt.subplots()\n",
    "    ax.scatter(X, Y, color='maroon')\n",
    "    line = mlines.Line2D([0, 1], [0, 1], color='orange')\n",
    "    transform = ax.transAxes\n",
    "    line.set_transform(transform)\n",
    "    ax.add_line(line)\n",
    "    ax.set_xlabel(ax.get_xlabel(), fontsize = 18)\n",
    "    ax.set_ylabel(ax.get_ylabel(), fontsize = 18)\n",
    "    ax.tick_params(axis='both', which='major', labelsize=15)\n",
    "    plt.grid(True)\n",
    "    plt.xlabel(\"Damage Index\")\n",
    "    plt.ylabel(\"Precited Damage Index\")\n",
    "    plt.xlim(0, 0.2)\n",
    "    plt.ylim(0, 0.2)\n",
    "    plt.title('Model Evaluation -' +  Title, fontsize = 20)\n",
    "    plt.show()"
   ]
  },
  {
   "cell_type": "markdown",
   "metadata": {},
   "source": [
    "### Why are there mixed values in the low and high sets?????? - Because it is going off of the predictions\n",
    "### Break into 4 maybe? or 3?"
   ]
  },
  {
   "cell_type": "code",
   "execution_count": 239,
   "metadata": {},
   "outputs": [
    {
     "data": {
      "image/png": "[encoded data removed]",
      "text/plain": [
       "<matplotlib.figure.Figure at 0x119988358>"
      ]
     },
     "metadata": {},
     "output_type": "display_data"
    }
   ],
   "source": [
    "# EXAMPLE\n",
    "Title = 'Test Set'\n",
    "plot_predictions(y_test_h, pred_test_h, Title)"
   ]
  },
  {
   "cell_type": "code",
   "execution_count": 240,
   "metadata": {},
   "outputs": [
    {
     "data": {
      "image/png": "[encoded data removed]",
      "text/plain": [
       "<matplotlib.figure.Figure at 0x119988e48>"
      ]
     },
     "metadata": {},
     "output_type": "display_data"
    }
   ],
   "source": [
    "# EXAMPLE\n",
    "Title = 'Train Set'\n",
    "plot_predictions(y_train_h, pred_train_h, Title)"
   ]
  },
  {
   "cell_type": "code",
   "execution_count": 241,
   "metadata": {},
   "outputs": [
    {
     "data": {
      "image/png": "[encoded data removed]",
      "text/plain": [
       "<matplotlib.figure.Figure at 0x118ec5ba8>"
      ]
     },
     "metadata": {},
     "output_type": "display_data"
    }
   ],
   "source": [
    "# EXAMPLE\n",
    "Title = 'Test Set'\n",
    "plot_predictions(y_test_l, pred_test_l, Title)"
   ]
  },
  {
   "cell_type": "code",
   "execution_count": 242,
   "metadata": {},
   "outputs": [
    {
     "data": {
      "image/png": "[encoded data removed]",
      "text/plain": [
       "<matplotlib.figure.Figure at 0x119a400b8>"
      ]
     },
     "metadata": {},
     "output_type": "display_data"
    }
   ],
   "source": [
    "# EXAMPLE\n",
    "Title = 'Train Set'\n",
    "plot_predictions(y_train_l, pred_train_l, Title)"
   ]
  },
  {
   "cell_type": "markdown",
   "metadata": {},
   "source": [
    "### Importances"
   ]
  },
  {
   "cell_type": "code",
   "execution_count": 164,
   "metadata": {},
   "outputs": [],
   "source": [
    "def calc_gini_importances(x_train, model):\n",
    "    importances = model.feature_importances_\n",
    "    importances_df = pd.DataFrame(importances, x_train.columns,\n",
    "                                  columns=['Importance']).sort_values('Importance',\n",
    "                                  ascending=False)\n",
    "    importances_df.reset_index(inplace=True)\n",
    "    importances_df.rename(columns={'index':'Feature'}, inplace=True)\n",
    "    return importances_df"
   ]
  },
  {
   "cell_type": "code",
   "execution_count": 165,
   "metadata": {},
   "outputs": [],
   "source": [
    "# indicate if reg_model or class_model\n",
    "# EXAMPLE\n",
    "df_gini_importances_l = calc_gini_importances(x_train_l, reg_model_l)"
   ]
  },
  {
   "cell_type": "code",
   "execution_count": 166,
   "metadata": {},
   "outputs": [],
   "source": [
    "# indicate if reg_model or class_model\n",
    "# EXAMPLE\n",
    "df_gini_importances_h = calc_gini_importances(x_train_h, reg_model_h)"
   ]
  },
  {
   "cell_type": "code",
   "execution_count": 167,
   "metadata": {},
   "outputs": [],
   "source": [
    "def gini_importance_plot(df_gini_importances):\n",
    "    df_gini_importances.sort_values('Importance', ascending=False).plot.bar('Feature',\n",
    "                                                                            'Importance', \n",
    "                                                                            color='maroon', \n",
    "                                                                            legend = False)\n",
    "    plt.title(\"Feature Importances\", fontsize = 25)\n",
    "    plt.ylabel('Importance', fontsize = 16)\n",
    "    plt.xlabel('')\n",
    "    plt.xticks(fontsize = 16, rotation = 45, ha='right')\n",
    "    plt.yticks(fontsize = 14)\n",
    "    "
   ]
  },
  {
   "cell_type": "code",
   "execution_count": 168,
   "metadata": {},
   "outputs": [
    {
     "data": {
      "image/png": "[encoded data removed]",
      "text/plain": [
       "<matplotlib.figure.Figure at 0x111ff6908>"
      ]
     },
     "metadata": {},
     "output_type": "display_data"
    }
   ],
   "source": [
    "# EXAMPLE\n",
    "gini_importance_plot(df_gini_importances_l)"
   ]
  },
  {
   "cell_type": "code",
   "execution_count": 169,
   "metadata": {},
   "outputs": [
    {
     "data": {
      "image/png": "[encoded data removed]",
      "text/plain": [
       "<matplotlib.figure.Figure at 0x112529978>"
      ]
     },
     "metadata": {},
     "output_type": "display_data"
    }
   ],
   "source": [
    "gini_importance_plot(df_gini_importances_h)"
   ]
  },
  {
   "cell_type": "code",
   "execution_count": null,
   "metadata": {},
   "outputs": [],
   "source": []
  },
  {
   "cell_type": "code",
   "execution_count": null,
   "metadata": {},
   "outputs": [],
   "source": []
  }
 ],
 "metadata": {
  "kernelspec": {
   "display_name": "Python 3",
   "language": "python",
   "name": "python3"
  },
  "language_info": {
   "codemirror_mode": {
    "name": "ipython",
    "version": 3
   },
   "file_extension": ".py",
   "mimetype": "text/x-python",
   "name": "python",
   "nbconvert_exporter": "python",
   "pygments_lexer": "ipython3",
   "version": "3.6.5"
  }
 },
 "nbformat": 4,
 "nbformat_minor": 4
}
