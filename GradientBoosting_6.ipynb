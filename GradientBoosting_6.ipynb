{
 "cells": [
  {
   "cell_type": "code",
   "execution_count": 1,
   "metadata": {},
   "outputs": [
    {
     "name": "stdout",
     "output_type": "stream",
     "text": [
      "The scikit-learn version is 0.21.3.\n"
     ]
    }
   ],
   "source": [
    "import sklearn\n",
    "print('The scikit-learn version is {}.'.format(sklearn.__version__))"
   ]
  },
  {
   "cell_type": "code",
   "execution_count": 2,
   "metadata": {},
   "outputs": [],
   "source": [
    "from sklearn.inspection import partial_dependence\n",
    "from sklearn.inspection import plot_partial_dependence\n"
   ]
  },
  {
   "cell_type": "code",
   "execution_count": 3,
   "metadata": {},
   "outputs": [],
   "source": [
    "import pandas as pd\n",
    "from pandas.plotting import scatter_matrix\n",
    "\n",
    "import numpy as np\n",
    "import seaborn as sns\n",
    "\n",
    "import matplotlib.pyplot as plt\n",
    "import matplotlib.lines as mlines\n",
    "import matplotlib.transforms as mtransforms\n",
    "\n",
    "from sklearn.model_selection import train_test_split\n",
    "from sklearn.ensemble import RandomForestClassifier, RandomForestRegressor, GradientBoostingRegressor\n",
    "from sklearn.model_selection import GridSearchCV, RandomizedSearchCV\n",
    "from sklearn.model_selection import ShuffleSplit\n",
    "from sklearn.model_selection import cross_validate\n",
    "from sklearn.metrics import mean_squared_error, mean_absolute_error, confusion_matrix, r2_score, classification_report\n",
    "\n",
    "import math\n",
    "\n",
    "from rfpimp import *\n",
    "\n",
    "from collections import defaultdict"
   ]
  },
  {
   "cell_type": "code",
   "execution_count": 4,
   "metadata": {},
   "outputs": [],
   "source": [
    "file = \"/Users/lszczyrba/Documents/Research/Projects/PR_Housing/Data/master_df_20200206.xlsx\"\n",
    "data = pd.read_excel(file)\n",
    "df_master = pd.DataFrame(data).set_index('FIPS')"
   ]
  },
  {
   "cell_type": "code",
   "execution_count": 5,
   "metadata": {},
   "outputs": [
    {
     "name": "stdout",
     "output_type": "stream",
     "text": [
      "Index(['PropSFHA', 'AveDepth', 'PropDG', 'MaxDepth', 'AveLS', 'HurTrack',\n",
      "       'PeakGust', 'MaxSusta', 'SpecCom', 'STRVI_1', 'SEVI_1', 'STR_SEVI_1',\n",
      "       'SOVI_1', 'STRVI_2', 'SEVI_2', 'SOVI_2', 'CDC_T1', 'CDC_T2', 'CDC_T3',\n",
      "       'CDC_T4', 'CDC_Tot', 'O_IND', 'R_IND', 'R_I_NO0', 'R_I_NOO',\n",
      "       'R_I_NO0_NO', 'CAT_3Q', 'CAT_4Q', 'Ex_Q4_c', 'COUNT__Y', 'R_DES',\n",
      "       'R_AFF', 'log_R_IND', 'log_R_I_NO0'],\n",
      "      dtype='object')\n"
     ]
    }
   ],
   "source": [
    "print(df_master.columns)"
   ]
  },
  {
   "cell_type": "code",
   "execution_count": 6,
   "metadata": {},
   "outputs": [
    {
     "data": {
      "text/html": [
       "<div>\n",
       "<style scoped>\n",
       "    .dataframe tbody tr th:only-of-type {\n",
       "        vertical-align: middle;\n",
       "    }\n",
       "\n",
       "    .dataframe tbody tr th {\n",
       "        vertical-align: top;\n",
       "    }\n",
       "\n",
       "    .dataframe thead th {\n",
       "        text-align: right;\n",
       "    }\n",
       "</style>\n",
       "<table border=\"1\" class=\"dataframe\">\n",
       "  <thead>\n",
       "    <tr style=\"text-align: right;\">\n",
       "      <th></th>\n",
       "      <th>PropSFHA</th>\n",
       "      <th>AveDepth</th>\n",
       "      <th>PropDG</th>\n",
       "      <th>MaxDepth</th>\n",
       "      <th>AveLS</th>\n",
       "      <th>HurTrack</th>\n",
       "      <th>PeakGust</th>\n",
       "      <th>MaxSusta</th>\n",
       "      <th>SpecCom</th>\n",
       "      <th>STRVI_1</th>\n",
       "      <th>...</th>\n",
       "      <th>R_I_NOO</th>\n",
       "      <th>R_I_NO0_NO</th>\n",
       "      <th>CAT_3Q</th>\n",
       "      <th>CAT_4Q</th>\n",
       "      <th>Ex_Q4_c</th>\n",
       "      <th>COUNT__Y</th>\n",
       "      <th>R_DES</th>\n",
       "      <th>R_AFF</th>\n",
       "      <th>log_R_IND</th>\n",
       "      <th>log_R_I_NO0</th>\n",
       "    </tr>\n",
       "  </thead>\n",
       "  <tbody>\n",
       "    <tr>\n",
       "      <th>count</th>\n",
       "      <td>882.000000</td>\n",
       "      <td>882.000000</td>\n",
       "      <td>882.000000</td>\n",
       "      <td>882.000000</td>\n",
       "      <td>882.000000</td>\n",
       "      <td>882.000000</td>\n",
       "      <td>882.000000</td>\n",
       "      <td>882.000000</td>\n",
       "      <td>882.000000</td>\n",
       "      <td>882.000000</td>\n",
       "      <td>...</td>\n",
       "      <td>882.000000</td>\n",
       "      <td>882.000000</td>\n",
       "      <td>882.000000</td>\n",
       "      <td>882.000000</td>\n",
       "      <td>882.000000</td>\n",
       "      <td>882.000000</td>\n",
       "      <td>882.000000</td>\n",
       "      <td>882.000000</td>\n",
       "      <td>882.000000</td>\n",
       "      <td>775.000000</td>\n",
       "    </tr>\n",
       "    <tr>\n",
       "      <th>mean</th>\n",
       "      <td>0.173662</td>\n",
       "      <td>0.982619</td>\n",
       "      <td>0.058447</td>\n",
       "      <td>2.634887</td>\n",
       "      <td>1.104161</td>\n",
       "      <td>0.223594</td>\n",
       "      <td>52.697914</td>\n",
       "      <td>41.591950</td>\n",
       "      <td>0.033937</td>\n",
       "      <td>0.000533</td>\n",
       "      <td>...</td>\n",
       "      <td>0.025018</td>\n",
       "      <td>0.025974</td>\n",
       "      <td>1.000000</td>\n",
       "      <td>1.498866</td>\n",
       "      <td>0.250567</td>\n",
       "      <td>1702.182540</td>\n",
       "      <td>0.002117</td>\n",
       "      <td>0.029921</td>\n",
       "      <td>-3.347153</td>\n",
       "      <td>-3.809275</td>\n",
       "    </tr>\n",
       "    <tr>\n",
       "      <th>std</th>\n",
       "      <td>0.260877</td>\n",
       "      <td>1.529905</td>\n",
       "      <td>0.159692</td>\n",
       "      <td>4.692369</td>\n",
       "      <td>0.412690</td>\n",
       "      <td>0.126709</td>\n",
       "      <td>8.664104</td>\n",
       "      <td>6.932878</td>\n",
       "      <td>0.090211</td>\n",
       "      <td>3.766862</td>\n",
       "      <td>...</td>\n",
       "      <td>0.024439</td>\n",
       "      <td>0.025482</td>\n",
       "      <td>0.814176</td>\n",
       "      <td>1.111542</td>\n",
       "      <td>0.433585</td>\n",
       "      <td>935.425845</td>\n",
       "      <td>0.006613</td>\n",
       "      <td>0.032875</td>\n",
       "      <td>1.637369</td>\n",
       "      <td>1.135331</td>\n",
       "    </tr>\n",
       "    <tr>\n",
       "      <th>min</th>\n",
       "      <td>0.000000</td>\n",
       "      <td>0.000000</td>\n",
       "      <td>0.000000</td>\n",
       "      <td>0.000000</td>\n",
       "      <td>0.000000</td>\n",
       "      <td>0.000000</td>\n",
       "      <td>24.590000</td>\n",
       "      <td>19.220000</td>\n",
       "      <td>0.000000</td>\n",
       "      <td>-13.150000</td>\n",
       "      <td>...</td>\n",
       "      <td>0.000000</td>\n",
       "      <td>0.000000</td>\n",
       "      <td>0.000000</td>\n",
       "      <td>0.000000</td>\n",
       "      <td>0.000000</td>\n",
       "      <td>7.000000</td>\n",
       "      <td>0.000000</td>\n",
       "      <td>0.000000</td>\n",
       "      <td>-8.359135</td>\n",
       "      <td>-8.359135</td>\n",
       "    </tr>\n",
       "    <tr>\n",
       "      <th>25%</th>\n",
       "      <td>0.000000</td>\n",
       "      <td>0.000000</td>\n",
       "      <td>0.000000</td>\n",
       "      <td>0.000000</td>\n",
       "      <td>1.000000</td>\n",
       "      <td>0.130000</td>\n",
       "      <td>45.150000</td>\n",
       "      <td>35.320000</td>\n",
       "      <td>0.000000</td>\n",
       "      <td>-2.635000</td>\n",
       "      <td>...</td>\n",
       "      <td>0.003780</td>\n",
       "      <td>0.004243</td>\n",
       "      <td>0.000000</td>\n",
       "      <td>1.000000</td>\n",
       "      <td>0.000000</td>\n",
       "      <td>995.250000</td>\n",
       "      <td>0.000000</td>\n",
       "      <td>0.006323</td>\n",
       "      <td>-4.308255</td>\n",
       "      <td>-4.424949</td>\n",
       "    </tr>\n",
       "    <tr>\n",
       "      <th>50%</th>\n",
       "      <td>0.040000</td>\n",
       "      <td>0.000000</td>\n",
       "      <td>0.000000</td>\n",
       "      <td>0.000000</td>\n",
       "      <td>1.000000</td>\n",
       "      <td>0.220000</td>\n",
       "      <td>55.880000</td>\n",
       "      <td>44.260000</td>\n",
       "      <td>0.003223</td>\n",
       "      <td>-0.190000</td>\n",
       "      <td>...</td>\n",
       "      <td>0.018710</td>\n",
       "      <td>0.019184</td>\n",
       "      <td>1.000000</td>\n",
       "      <td>1.000000</td>\n",
       "      <td>0.000000</td>\n",
       "      <td>1530.500000</td>\n",
       "      <td>0.000308</td>\n",
       "      <td>0.021126</td>\n",
       "      <td>-3.475630</td>\n",
       "      <td>-3.623924</td>\n",
       "    </tr>\n",
       "    <tr>\n",
       "      <th>75%</th>\n",
       "      <td>0.220000</td>\n",
       "      <td>1.760000</td>\n",
       "      <td>0.020000</td>\n",
       "      <td>4.502500</td>\n",
       "      <td>1.290000</td>\n",
       "      <td>0.290000</td>\n",
       "      <td>59.900000</td>\n",
       "      <td>47.390000</td>\n",
       "      <td>0.023284</td>\n",
       "      <td>2.417500</td>\n",
       "      <td>...</td>\n",
       "      <td>0.037674</td>\n",
       "      <td>0.038911</td>\n",
       "      <td>2.000000</td>\n",
       "      <td>2.000000</td>\n",
       "      <td>0.750000</td>\n",
       "      <td>2293.000000</td>\n",
       "      <td>0.001963</td>\n",
       "      <td>0.041932</td>\n",
       "      <td>-2.687743</td>\n",
       "      <td>-3.021554</td>\n",
       "    </tr>\n",
       "    <tr>\n",
       "      <th>max</th>\n",
       "      <td>1.000000</td>\n",
       "      <td>9.730000</td>\n",
       "      <td>1.000000</td>\n",
       "      <td>61.940000</td>\n",
       "      <td>3.000000</td>\n",
       "      <td>0.920000</td>\n",
       "      <td>65.710000</td>\n",
       "      <td>54.540000</td>\n",
       "      <td>0.977416</td>\n",
       "      <td>16.520000</td>\n",
       "      <td>...</td>\n",
       "      <td>0.102301</td>\n",
       "      <td>0.106887</td>\n",
       "      <td>2.000000</td>\n",
       "      <td>3.000000</td>\n",
       "      <td>1.000000</td>\n",
       "      <td>7069.000000</td>\n",
       "      <td>0.142857</td>\n",
       "      <td>0.360825</td>\n",
       "      <td>0.000000</td>\n",
       "      <td>-1.019363</td>\n",
       "    </tr>\n",
       "  </tbody>\n",
       "</table>\n",
       "<p>8 rows × 34 columns</p>\n",
       "</div>"
      ],
      "text/plain": [
       "         PropSFHA    AveDepth      PropDG    MaxDepth       AveLS    HurTrack  \\\n",
       "count  882.000000  882.000000  882.000000  882.000000  882.000000  882.000000   \n",
       "mean     0.173662    0.982619    0.058447    2.634887    1.104161    0.223594   \n",
       "std      0.260877    1.529905    0.159692    4.692369    0.412690    0.126709   \n",
       "min      0.000000    0.000000    0.000000    0.000000    0.000000    0.000000   \n",
       "25%      0.000000    0.000000    0.000000    0.000000    1.000000    0.130000   \n",
       "50%      0.040000    0.000000    0.000000    0.000000    1.000000    0.220000   \n",
       "75%      0.220000    1.760000    0.020000    4.502500    1.290000    0.290000   \n",
       "max      1.000000    9.730000    1.000000   61.940000    3.000000    0.920000   \n",
       "\n",
       "         PeakGust    MaxSusta     SpecCom     STRVI_1     ...       \\\n",
       "count  882.000000  882.000000  882.000000  882.000000     ...        \n",
       "mean    52.697914   41.591950    0.033937    0.000533     ...        \n",
       "std      8.664104    6.932878    0.090211    3.766862     ...        \n",
       "min     24.590000   19.220000    0.000000  -13.150000     ...        \n",
       "25%     45.150000   35.320000    0.000000   -2.635000     ...        \n",
       "50%     55.880000   44.260000    0.003223   -0.190000     ...        \n",
       "75%     59.900000   47.390000    0.023284    2.417500     ...        \n",
       "max     65.710000   54.540000    0.977416   16.520000     ...        \n",
       "\n",
       "          R_I_NOO  R_I_NO0_NO      CAT_3Q      CAT_4Q     Ex_Q4_c  \\\n",
       "count  882.000000  882.000000  882.000000  882.000000  882.000000   \n",
       "mean     0.025018    0.025974    1.000000    1.498866    0.250567   \n",
       "std      0.024439    0.025482    0.814176    1.111542    0.433585   \n",
       "min      0.000000    0.000000    0.000000    0.000000    0.000000   \n",
       "25%      0.003780    0.004243    0.000000    1.000000    0.000000   \n",
       "50%      0.018710    0.019184    1.000000    1.000000    0.000000   \n",
       "75%      0.037674    0.038911    2.000000    2.000000    0.750000   \n",
       "max      0.102301    0.106887    2.000000    3.000000    1.000000   \n",
       "\n",
       "          COUNT__Y       R_DES       R_AFF   log_R_IND  log_R_I_NO0  \n",
       "count   882.000000  882.000000  882.000000  882.000000   775.000000  \n",
       "mean   1702.182540    0.002117    0.029921   -3.347153    -3.809275  \n",
       "std     935.425845    0.006613    0.032875    1.637369     1.135331  \n",
       "min       7.000000    0.000000    0.000000   -8.359135    -8.359135  \n",
       "25%     995.250000    0.000000    0.006323   -4.308255    -4.424949  \n",
       "50%    1530.500000    0.000308    0.021126   -3.475630    -3.623924  \n",
       "75%    2293.000000    0.001963    0.041932   -2.687743    -3.021554  \n",
       "max    7069.000000    0.142857    0.360825    0.000000    -1.019363  \n",
       "\n",
       "[8 rows x 34 columns]"
      ]
     },
     "execution_count": 6,
     "metadata": {},
     "output_type": "execute_result"
    }
   ],
   "source": [
    "df_master.describe()"
   ]
  },
  {
   "cell_type": "code",
   "execution_count": 7,
   "metadata": {},
   "outputs": [],
   "source": [
    "# df_master"
   ]
  },
  {
   "cell_type": "code",
   "execution_count": 8,
   "metadata": {},
   "outputs": [],
   "source": [
    "def choose_data(df_master, feature_list, target_list):\n",
    "    choices = feature_list + target_list\n",
    "    df = df_master[choices].copy()\n",
    "    df.dropna(inplace = True)\n",
    "    return df"
   ]
  },
  {
   "cell_type": "code",
   "execution_count": 9,
   "metadata": {},
   "outputs": [],
   "source": [
    "# # EXAMPLE:\n",
    "# feature_list = ['PropSFHA', 'AveDepth', 'PropDG', 'MaxDepth', 'AveLS', 'HurTrack',\n",
    "#                'PeakGust', 'MaxSusta', 'SpecCom', 'STRVI_1', 'SEVI_1', 'STR_SEVI_1','SOVI_1', \n",
    "#                'CDC_Tot']\n",
    "# target_list = ['R_IND']\n",
    "\n",
    "# df = choose_data(df_master, feature_list, target_list)"
   ]
  },
  {
   "cell_type": "code",
   "execution_count": 10,
   "metadata": {},
   "outputs": [],
   "source": [
    "def partition_data(df, target_str):\n",
    "    y = df[target_str]\n",
    "    df_x = df.drop(target_str, axis = 1)\n",
    "    return y, df_x"
   ]
  },
  {
   "cell_type": "code",
   "execution_count": 11,
   "metadata": {},
   "outputs": [],
   "source": [
    "# # EXAMPLE:\n",
    "# target_str = 'R_IND'\n",
    "# y, df_x = partition_data(df, target_str)"
   ]
  },
  {
   "cell_type": "code",
   "execution_count": 12,
   "metadata": {},
   "outputs": [],
   "source": [
    "def bin_target(y, n_bins, label):\n",
    "    y_binned = pd.qcut(y, q=n_bins, labels = label)\n",
    "    return y_binned"
   ]
  },
  {
   "cell_type": "code",
   "execution_count": 13,
   "metadata": {},
   "outputs": [],
   "source": [
    "# # EXAMPLE:\n",
    "# y_binned = bin_target(y,4, [0,1,2,3])"
   ]
  },
  {
   "cell_type": "code",
   "execution_count": 14,
   "metadata": {},
   "outputs": [],
   "source": [
    "def split_the_data(df_x, y):\n",
    "    x_train, x_test, y_train, y_test = train_test_split(df_x, y, \n",
    "                                                        test_size=0.3, \n",
    "                                                        random_state=42,\n",
    "                                                        stratify = y_binned)\n",
    "    return x_train, x_test, y_train, y_test"
   ]
  },
  {
   "cell_type": "code",
   "execution_count": 15,
   "metadata": {},
   "outputs": [],
   "source": [
    "# # Careful of Random State\n",
    "# # Change y_binned to y if categorical\n",
    "# # EXAMPLE:\n",
    "# x_train, x_test, y_train, y_test = split_the_data(df_x, y)"
   ]
  },
  {
   "cell_type": "markdown",
   "metadata": {},
   "source": [
    "### Import the train/test data"
   ]
  },
  {
   "cell_type": "code",
   "execution_count": 16,
   "metadata": {},
   "outputs": [],
   "source": [
    "file = \"/Users/lszczyrba/Documents/Research/Projects/PR_Housing/Data/train_set_20200206.xlsx\"\n",
    "data = pd.read_excel(file)\n",
    "train_set = pd.DataFrame(data).set_index('FIPS')"
   ]
  },
  {
   "cell_type": "code",
   "execution_count": 17,
   "metadata": {},
   "outputs": [],
   "source": [
    "file = \"/Users/lszczyrba/Documents/Research/Projects/PR_Housing/Data/test_set_20200206.xlsx\"\n",
    "data = pd.read_excel(file)\n",
    "test_set = pd.DataFrame(data).set_index('FIPS')"
   ]
  },
  {
   "cell_type": "code",
   "execution_count": 18,
   "metadata": {},
   "outputs": [],
   "source": [
    "# train_set.drop(columns= ['STRVI_1', 'SEVI_1'], inplace=True)\n",
    "# test_set.drop(columns= ['STRVI_1', 'SEVI_1'], inplace=True)"
   ]
  },
  {
   "cell_type": "markdown",
   "metadata": {},
   "source": [
    "### If want to drop the extreme outlier"
   ]
  },
  {
   "cell_type": "code",
   "execution_count": 20,
   "metadata": {},
   "outputs": [
    {
     "data": {
      "text/html": [
       "<div>\n",
       "<style scoped>\n",
       "    .dataframe tbody tr th:only-of-type {\n",
       "        vertical-align: middle;\n",
       "    }\n",
       "\n",
       "    .dataframe tbody tr th {\n",
       "        vertical-align: top;\n",
       "    }\n",
       "\n",
       "    .dataframe thead th {\n",
       "        text-align: right;\n",
       "    }\n",
       "</style>\n",
       "<table border=\"1\" class=\"dataframe\">\n",
       "  <thead>\n",
       "    <tr style=\"text-align: right;\">\n",
       "      <th></th>\n",
       "      <th>PropSFHA</th>\n",
       "      <th>AveDepth</th>\n",
       "      <th>PropDG</th>\n",
       "      <th>AveLS</th>\n",
       "      <th>HurTrack</th>\n",
       "      <th>PeakGust</th>\n",
       "      <th>SpecCom</th>\n",
       "      <th>CDC_Tot</th>\n",
       "      <th>y_train</th>\n",
       "    </tr>\n",
       "  </thead>\n",
       "  <tbody>\n",
       "    <tr>\n",
       "      <th>count</th>\n",
       "      <td>704.000000</td>\n",
       "      <td>704.000000</td>\n",
       "      <td>704.000000</td>\n",
       "      <td>704.000000</td>\n",
       "      <td>704.000000</td>\n",
       "      <td>704.000000</td>\n",
       "      <td>704.000000</td>\n",
       "      <td>704.000000</td>\n",
       "      <td>704.000000</td>\n",
       "    </tr>\n",
       "    <tr>\n",
       "      <th>mean</th>\n",
       "      <td>0.181335</td>\n",
       "      <td>0.960526</td>\n",
       "      <td>0.054560</td>\n",
       "      <td>1.087344</td>\n",
       "      <td>0.220185</td>\n",
       "      <td>52.909418</td>\n",
       "      <td>0.036031</td>\n",
       "      <td>0.504580</td>\n",
       "      <td>0.031913</td>\n",
       "    </tr>\n",
       "    <tr>\n",
       "      <th>std</th>\n",
       "      <td>0.267295</td>\n",
       "      <td>1.542826</td>\n",
       "      <td>0.151175</td>\n",
       "      <td>0.405950</td>\n",
       "      <td>0.126972</td>\n",
       "      <td>8.650195</td>\n",
       "      <td>0.094485</td>\n",
       "      <td>0.288451</td>\n",
       "      <td>0.034157</td>\n",
       "    </tr>\n",
       "    <tr>\n",
       "      <th>min</th>\n",
       "      <td>0.000000</td>\n",
       "      <td>0.000000</td>\n",
       "      <td>0.000000</td>\n",
       "      <td>0.000000</td>\n",
       "      <td>0.000000</td>\n",
       "      <td>24.590000</td>\n",
       "      <td>0.000000</td>\n",
       "      <td>0.000000</td>\n",
       "      <td>0.000000</td>\n",
       "    </tr>\n",
       "    <tr>\n",
       "      <th>25%</th>\n",
       "      <td>0.000000</td>\n",
       "      <td>0.000000</td>\n",
       "      <td>0.000000</td>\n",
       "      <td>1.000000</td>\n",
       "      <td>0.130000</td>\n",
       "      <td>45.600000</td>\n",
       "      <td>0.000000</td>\n",
       "      <td>0.260200</td>\n",
       "      <td>0.006865</td>\n",
       "    </tr>\n",
       "    <tr>\n",
       "      <th>50%</th>\n",
       "      <td>0.045000</td>\n",
       "      <td>0.000000</td>\n",
       "      <td>0.000000</td>\n",
       "      <td>1.000000</td>\n",
       "      <td>0.220000</td>\n",
       "      <td>56.330000</td>\n",
       "      <td>0.003629</td>\n",
       "      <td>0.502250</td>\n",
       "      <td>0.021963</td>\n",
       "    </tr>\n",
       "    <tr>\n",
       "      <th>75%</th>\n",
       "      <td>0.242500</td>\n",
       "      <td>1.700000</td>\n",
       "      <td>0.020000</td>\n",
       "      <td>1.250000</td>\n",
       "      <td>0.290000</td>\n",
       "      <td>60.350000</td>\n",
       "      <td>0.024581</td>\n",
       "      <td>0.757075</td>\n",
       "      <td>0.044422</td>\n",
       "    </tr>\n",
       "    <tr>\n",
       "      <th>max</th>\n",
       "      <td>1.000000</td>\n",
       "      <td>9.730000</td>\n",
       "      <td>1.000000</td>\n",
       "      <td>3.000000</td>\n",
       "      <td>0.920000</td>\n",
       "      <td>65.710000</td>\n",
       "      <td>0.977416</td>\n",
       "      <td>1.000000</td>\n",
       "      <td>0.229145</td>\n",
       "    </tr>\n",
       "  </tbody>\n",
       "</table>\n",
       "</div>"
      ],
      "text/plain": [
       "         PropSFHA    AveDepth      PropDG       AveLS    HurTrack    PeakGust  \\\n",
       "count  704.000000  704.000000  704.000000  704.000000  704.000000  704.000000   \n",
       "mean     0.181335    0.960526    0.054560    1.087344    0.220185   52.909418   \n",
       "std      0.267295    1.542826    0.151175    0.405950    0.126972    8.650195   \n",
       "min      0.000000    0.000000    0.000000    0.000000    0.000000   24.590000   \n",
       "25%      0.000000    0.000000    0.000000    1.000000    0.130000   45.600000   \n",
       "50%      0.045000    0.000000    0.000000    1.000000    0.220000   56.330000   \n",
       "75%      0.242500    1.700000    0.020000    1.250000    0.290000   60.350000   \n",
       "max      1.000000    9.730000    1.000000    3.000000    0.920000   65.710000   \n",
       "\n",
       "          SpecCom     CDC_Tot     y_train  \n",
       "count  704.000000  704.000000  704.000000  \n",
       "mean     0.036031    0.504580    0.031913  \n",
       "std      0.094485    0.288451    0.034157  \n",
       "min      0.000000    0.000000    0.000000  \n",
       "25%      0.000000    0.260200    0.006865  \n",
       "50%      0.003629    0.502250    0.021963  \n",
       "75%      0.024581    0.757075    0.044422  \n",
       "max      0.977416    1.000000    0.229145  "
      ]
     },
     "execution_count": 20,
     "metadata": {},
     "output_type": "execute_result"
    }
   ],
   "source": [
    "# Get names of indexes for which column Age has value 30\n",
    "indexNames = train_set[train_set.y_train > 0.25].index\n",
    " \n",
    "# Delete these row indexes from dataFrame\n",
    "train_set.drop(indexNames , inplace=True)\n",
    "train_set.describe()"
   ]
  },
  {
   "cell_type": "markdown",
   "metadata": {},
   "source": [
    "### If want to join to grab another index"
   ]
  },
  {
   "cell_type": "code",
   "execution_count": 144,
   "metadata": {},
   "outputs": [],
   "source": [
    "# test_set = test_set.merge(df_master, right_index=True, left_index=True, how='left')\n",
    "# train_set=train_set.merge(df_master, right_index=True, left_index=True, how='left')"
   ]
  },
  {
   "cell_type": "code",
   "execution_count": 73,
   "metadata": {},
   "outputs": [
    {
     "data": {
      "text/plain": [
       "Index(['PropSFHA', 'AveDepth', 'PropDG', 'AveLS', 'HurTrack', 'PeakGust',\n",
       "       'SpecCom', 'STRVI_1', 'SEVI_1', 'CDC_Tot', 'y_train'],\n",
       "      dtype='object')"
      ]
     },
     "execution_count": 73,
     "metadata": {},
     "output_type": "execute_result"
    }
   ],
   "source": [
    "train_set.columns"
   ]
  },
  {
   "cell_type": "code",
   "execution_count": 74,
   "metadata": {},
   "outputs": [
    {
     "data": {
      "text/plain": [
       "Index(['PropSFHA', 'AveDepth', 'PropDG', 'MaxDepth', 'AveLS', 'HurTrack',\n",
       "       'PeakGust', 'MaxSusta', 'SpecCom', 'STRVI_1', 'SEVI_1', 'STR_SEVI_1',\n",
       "       'SOVI_1', 'STRVI_2', 'SEVI_2', 'SOVI_2', 'CDC_T1', 'CDC_T2', 'CDC_T3',\n",
       "       'CDC_T4', 'CDC_Tot', 'O_IND', 'R_IND', 'R_I_NO0', 'R_I_NOO',\n",
       "       'R_I_NO0_NO', 'CAT_3Q', 'CAT_4Q', 'Ex_Q4_c', 'COUNT__Y', 'R_DES',\n",
       "       'R_AFF', 'log_R_IND', 'log_R_I_NO0'],\n",
       "      dtype='object')"
      ]
     },
     "execution_count": 74,
     "metadata": {},
     "output_type": "execute_result"
    }
   ],
   "source": [
    "df_master.columns"
   ]
  },
  {
   "cell_type": "code",
   "execution_count": 75,
   "metadata": {},
   "outputs": [],
   "source": [
    "def new_index(df_master, train_set, test_set, Target, feature_list):\n",
    "    test_set = test_set.merge(df_master, right_index=True, left_index=True, how='left')\n",
    "    train_set=train_set.merge(df_master, right_index=True, left_index=True, how='left')\n",
    "    \n",
    "    target_list=[Target]\n",
    "    test_set = choose_data(test_set, feature_list, target_list)\n",
    "    train_set = choose_data(train_set, feature_list, target_list)\n",
    "    \n",
    "    train_set = train_set[train_set[Target] != 0]\n",
    "    test_set = test_set[test_set[Target] != 0]\n",
    "    \n",
    "    train_set = train_set.rename(columns={\"PropSFHA_y\": \"PropSFHA\", \"AveDepth_y\": \"AveDepth\", \"PropDG_y\":\"PropDG\",\n",
    "                        \"AveLS_y\": \"AveLS\", \"HurTrack_y\": \"HurTrack\", \"PeakGust_y\":\"PeakGust\",\n",
    "                        \"SpecCom_y\": \"SpecCom\", \"STRVI_1_y\": \"STRVI_1\", \"SEVI_1_y\":\"SEVI_1\",\n",
    "                        \"CDC_Tot_y\": \"CDC_Tot\", Target:Target})\n",
    "    test_set = test_set.rename(columns={\"PropSFHA_y\": \"PropSFHA\", \"AveDepth_y\": \"AveDepth\", \"PropDG_y\":\"PropDG\",\n",
    "                        \"AveLS_y\": \"AveLS\", \"HurTrack_y\": \"HurTrack\", \"PeakGust_y\":\"PeakGust\",\n",
    "                        \"SpecCom_y\": \"SpecCom\", \"STRVI_1_y\": \"STRVI_1\", \"SEVI_1_y\":\"SEVI_1\",\n",
    "                        \"CDC_Tot_y\": \"CDC_Tot\", Target:Target})\n",
    "    \n",
    "    return train_set, test_set\n"
   ]
  },
  {
   "cell_type": "code",
   "execution_count": 76,
   "metadata": {},
   "outputs": [],
   "source": [
    "Target = 'R_I_NO0'\n",
    "feature_list = ['PropSFHA_y', 'AveDepth_y', 'PropDG_y', 'AveLS_y', 'HurTrack_y',\n",
    "               'PeakGust_y', 'SpecCom_y', 'STRVI_1_y', 'SEVI_1_y','CDC_Tot_y']\n",
    "\n",
    "\n",
    "train_set, test_set = new_index(df_master, train_set, test_set, Target, feature_list)"
   ]
  },
  {
   "cell_type": "code",
   "execution_count": 553,
   "metadata": {},
   "outputs": [],
   "source": [
    "# # EXAMPLE:\n",
    "# feature_list = ['PropSFHA_y', 'AveDepth_y', 'PropDG_y', 'AveLS_y', 'HurTrack_y',\n",
    "#                'PeakGust_y', 'SpecCom_y', 'STRVI_1_y', 'SEVI_1_y','CDC_Tot_y']\n",
    "# target_list = ['R_I_NO0']\n",
    "\n",
    "# test_set = choose_data(test_set, feature_list, target_list)"
   ]
  },
  {
   "cell_type": "code",
   "execution_count": 554,
   "metadata": {},
   "outputs": [],
   "source": [
    "# # EXAMPLE:\n",
    "# feature_list = ['PropSFHA_y', 'AveDepth_y', 'PropDG_y', 'AveLS_y', 'HurTrack_y',\n",
    "#                'PeakGust_y', 'SpecCom_y', 'STRVI_1_y', 'SEVI_1_y','CDC_Tot_y']\n",
    "# target_list = ['R_I_NO0']\n",
    "\n",
    "# train_set = choose_data(train_set, feature_list, target_list)"
   ]
  },
  {
   "cell_type": "code",
   "execution_count": 555,
   "metadata": {},
   "outputs": [],
   "source": [
    "# train_set.columns"
   ]
  },
  {
   "cell_type": "code",
   "execution_count": 556,
   "metadata": {},
   "outputs": [],
   "source": [
    "# train_set = train_set[train_set['R_I_NO0'] != 0]\n",
    "# test_set = test_set[test_set['R_I_NO0'] != 0]"
   ]
  },
  {
   "cell_type": "code",
   "execution_count": 439,
   "metadata": {},
   "outputs": [],
   "source": [
    "# train_set = train_set.rename(columns={\"PropSFHA_y\": \"PropSFHA\", \"AveDepth_y\": \"AveDepth\", \"PropDG_y\":\"PropDG\",\n",
    "#                         \"AveLS_y\": \"AveLS\", \"HurTrack_y\": \"HurTrack\", \"PeakGust_y\":\"PeakGust\",\n",
    "#                         \"SpecCom_y\": \"SpecCom\", \"STRVI_1_y\": \"STRVI_1\", \"SEVI_1_y\":\"SEVI_1\",\n",
    "#                         \"CDC_Tot_y\": \"CDC_Tot\", \"R_I_NO0\":\"R_I_NO0\"})"
   ]
  },
  {
   "cell_type": "code",
   "execution_count": 440,
   "metadata": {},
   "outputs": [],
   "source": [
    "# test_set = test_set.rename(columns={\"PropSFHA_y\": \"PropSFHA\", \"AveDepth_y\": \"AveDepth\", \"PropDG_y\":\"PropDG\",\n",
    "#                         \"AveLS_y\": \"AveLS\", \"HurTrack_y\": \"HurTrack\", \"PeakGust_y\":\"PeakGust\",\n",
    "#                         \"SpecCom_y\": \"SpecCom\", \"STRVI_1_y\": \"STRVI_1\", \"SEVI_1_y\":\"SEVI_1\",\n",
    "#                         \"CDC_Tot_y\": \"CDC_Tot\", \"R_I_NO0\":\"R_I_NO0\"})"
   ]
  },
  {
   "cell_type": "code",
   "execution_count": null,
   "metadata": {},
   "outputs": [],
   "source": []
  },
  {
   "cell_type": "markdown",
   "metadata": {},
   "source": [
    "### Partition Data"
   ]
  },
  {
   "cell_type": "code",
   "execution_count": 19,
   "metadata": {},
   "outputs": [],
   "source": [
    "target_str = 'y_train'\n",
    "y_train, x_train = partition_data(train_set, target_str)\n",
    "\n",
    "target_str = 'y_test'\n",
    "y_test, x_test = partition_data(test_set, target_str)"
   ]
  },
  {
   "cell_type": "code",
   "execution_count": 20,
   "metadata": {},
   "outputs": [
    {
     "data": {
      "text/plain": [
       "count    705.000000\n",
       "mean       0.032379\n",
       "std        0.036311\n",
       "min        0.000000\n",
       "25%        0.006873\n",
       "50%        0.021994\n",
       "75%        0.044662\n",
       "max        0.360825\n",
       "Name: y_train, dtype: float64"
      ]
     },
     "execution_count": 20,
     "metadata": {},
     "output_type": "execute_result"
    }
   ],
   "source": [
    "y_train.describe()"
   ]
  },
  {
   "cell_type": "markdown",
   "metadata": {},
   "source": [
    "### Tune"
   ]
  },
  {
   "cell_type": "code",
   "execution_count": 24,
   "metadata": {},
   "outputs": [],
   "source": [
    "# #Choose all predictors except target & IDcols\n",
    "# # predictors = [x for x in x_train]\n",
    "# mega_param_test = {'n_estimators':range(100,600,50), 'max_depth':range(10,16,2), 'min_samples_split':range(10,20,2),\n",
    "#                   'min_samples_leaf':range(2,10,2), 'max_features':range(1,5,1), 'subsample':[0.75,0.8,0.85,0.9, 0.95]}\n",
    "# mega_gsearch = GridSearchCV(estimator = GradientBoostingRegressor(loss = 'lad',\n",
    "#                                                               random_state=42,\n",
    "#                                                               learning_rate=0.1), \n",
    "#                                                               param_grid = mega_param_test, n_jobs=4,iid=False,cv=3,verbose=2)\n",
    "\n",
    "# mega_gsearch.fit(x_train,y_train)\n",
    "\n",
    "# mega_gsearch.cv_results_, mega_gsearch.best_params_, mega_gsearch.best_score_"
   ]
  },
  {
   "cell_type": "code",
   "execution_count": 1,
   "metadata": {},
   "outputs": [
    {
     "ename": "NameError",
     "evalue": "name 'mega_gsearch' is not defined",
     "output_type": "error",
     "traceback": [
      "\u001b[0;31m-------------------------------------------------------------------------\u001b[0m",
      "\u001b[0;31mNameError\u001b[0m                               Traceback (most recent call last)",
      "\u001b[0;32m<ipython-input-1-a5d3bec9139b>\u001b[0m in \u001b[0;36m<module>\u001b[0;34m()\u001b[0m\n\u001b[0;32m----> 1\u001b[0;31m \u001b[0mmega_gsearch\u001b[0m\u001b[0;34m.\u001b[0m\u001b[0mbest_params_\u001b[0m\u001b[0;34m\u001b[0m\u001b[0m\n\u001b[0m",
      "\u001b[0;31mNameError\u001b[0m: name 'mega_gsearch' is not defined"
     ]
    }
   ],
   "source": [
    "mega_gsearch.best_params_"
   ]
  },
  {
   "cell_type": "code",
   "execution_count": 81,
   "metadata": {},
   "outputs": [
    {
     "data": {
      "text/plain": [
       "0.1930993661754771"
      ]
     },
     "execution_count": 81,
     "metadata": {},
     "output_type": "execute_result"
    }
   ],
   "source": [
    "mega_gsearch.best_score_"
   ]
  },
  {
   "cell_type": "code",
   "execution_count": 30,
   "metadata": {},
   "outputs": [
    {
     "data": {
      "text/plain": [
       "({'mean_fit_time': array([ 0.07661042,  0.08005004,  0.08405552,  0.09414177,  0.10935202,\n",
       "          0.1226634 ,  0.13840251,  0.1527792 ,  0.14954333,  0.16350999,\n",
       "          0.17623997,  0.19820371,  0.20482278,  0.21375194,  0.22238398,\n",
       "          0.25059505,  0.28244262,  0.27045941,  0.27894611,  0.27770486,\n",
       "          0.3301806 ,  0.33867598,  0.31117334,  0.34234724,  0.36601429,\n",
       "          0.39987974,  0.40157447,  0.3920074 ,  0.40586324,  0.43437018,\n",
       "          0.43567562,  0.46188374,  0.47280993,  0.47838502,  0.52012725,\n",
       "          0.52647171,  0.5057724 ]),\n",
       "  'std_fit_time': array([ 0.00435247,  0.0091755 ,  0.00307137,  0.0026611 ,  0.00343182,\n",
       "          0.00365673,  0.01256329,  0.00421307,  0.00440808,  0.00769877,\n",
       "          0.00722964,  0.0029615 ,  0.00652495,  0.00904085,  0.00986805,\n",
       "          0.00625077,  0.01330263,  0.01497414,  0.0113988 ,  0.01274015,\n",
       "          0.04282412,  0.05203657,  0.01330903,  0.0074339 ,  0.0151245 ,\n",
       "          0.02502903,  0.03769797,  0.00936193,  0.01678668,  0.01245867,\n",
       "          0.0179048 ,  0.01223308,  0.02162627,  0.02053085,  0.01606987,\n",
       "          0.01889529,  0.04675046]),\n",
       "  'mean_score_time': array([ 0.00206542,  0.00127478,  0.00120988,  0.00122056,  0.00145011,\n",
       "          0.00140166,  0.001331  ,  0.00133009,  0.001367  ,  0.00146461,\n",
       "          0.00128775,  0.0013104 ,  0.00158567,  0.00161252,  0.00148783,\n",
       "          0.00155673,  0.0018414 ,  0.00173783,  0.00161762,  0.00154033,\n",
       "          0.00151534,  0.00152063,  0.00152521,  0.00194559,  0.0019588 ,\n",
       "          0.00176187,  0.00182281,  0.00201616,  0.00179415,  0.00192266,\n",
       "          0.00199294,  0.00187082,  0.00187039,  0.00216169,  0.00207729,\n",
       "          0.0018404 ,  0.0019053 ]),\n",
       "  'std_score_time': array([  1.03980589e-03,   3.39566498e-04,   8.88316527e-05,\n",
       "           1.01948699e-04,   2.77781829e-04,   3.34980836e-04,\n",
       "           2.26282801e-04,   1.90477519e-04,   1.82028337e-04,\n",
       "           2.62025381e-04,   8.86853534e-05,   7.45050087e-05,\n",
       "           3.75389501e-04,   2.63429749e-04,   2.01264463e-04,\n",
       "           2.27468248e-04,   3.52549952e-04,   2.89898444e-04,\n",
       "           1.42994027e-04,   2.18577992e-04,   8.08289478e-05,\n",
       "           7.04542029e-05,   3.97770229e-05,   3.54154941e-04,\n",
       "           2.82082749e-04,   2.31318488e-04,   3.32831742e-04,\n",
       "           3.13897580e-04,   3.66029111e-04,   3.47417460e-04,\n",
       "           2.64458419e-04,   1.37994762e-04,   1.48139346e-04,\n",
       "           4.70426922e-04,   5.41761668e-04,   9.35293204e-05,\n",
       "           2.81124587e-04]),\n",
       "  'param_n_estimators': masked_array(data = [20 25 30 35 40 45 50 55 60 65 70 75 80 85 90 95 100 105 110 115 120 125\n",
       "   130 135 140 145 150 155 160 165 170 175 180 185 190 195 200],\n",
       "               mask = [False False False False False False False False False False False False\n",
       "   False False False False False False False False False False False False\n",
       "   False False False False False False False False False False False False\n",
       "   False],\n",
       "         fill_value = ?),\n",
       "  'params': [{'n_estimators': 20},\n",
       "   {'n_estimators': 25},\n",
       "   {'n_estimators': 30},\n",
       "   {'n_estimators': 35},\n",
       "   {'n_estimators': 40},\n",
       "   {'n_estimators': 45},\n",
       "   {'n_estimators': 50},\n",
       "   {'n_estimators': 55},\n",
       "   {'n_estimators': 60},\n",
       "   {'n_estimators': 65},\n",
       "   {'n_estimators': 70},\n",
       "   {'n_estimators': 75},\n",
       "   {'n_estimators': 80},\n",
       "   {'n_estimators': 85},\n",
       "   {'n_estimators': 90},\n",
       "   {'n_estimators': 95},\n",
       "   {'n_estimators': 100},\n",
       "   {'n_estimators': 105},\n",
       "   {'n_estimators': 110},\n",
       "   {'n_estimators': 115},\n",
       "   {'n_estimators': 120},\n",
       "   {'n_estimators': 125},\n",
       "   {'n_estimators': 130},\n",
       "   {'n_estimators': 135},\n",
       "   {'n_estimators': 140},\n",
       "   {'n_estimators': 145},\n",
       "   {'n_estimators': 150},\n",
       "   {'n_estimators': 155},\n",
       "   {'n_estimators': 160},\n",
       "   {'n_estimators': 165},\n",
       "   {'n_estimators': 170},\n",
       "   {'n_estimators': 175},\n",
       "   {'n_estimators': 180},\n",
       "   {'n_estimators': 185},\n",
       "   {'n_estimators': 190},\n",
       "   {'n_estimators': 195},\n",
       "   {'n_estimators': 200}],\n",
       "  'split0_test_score': array([ 0.10441906,  0.1177054 ,  0.11711242,  0.1267458 ,  0.13878738,\n",
       "          0.14242882,  0.14256989,  0.14332019,  0.14697109,  0.15263162,\n",
       "          0.15218075,  0.15219535,  0.14835435,  0.14900714,  0.15276809,\n",
       "          0.15269042,  0.15548396,  0.15412085,  0.15293973,  0.15489878,\n",
       "          0.15551719,  0.15568378,  0.15578067,  0.15493659,  0.1553398 ,\n",
       "          0.15505216,  0.15351434,  0.15846583,  0.153289  ,  0.15441472,\n",
       "          0.15361861,  0.15173645,  0.15019813,  0.15149142,  0.15390832,\n",
       "          0.15286679,  0.15407287]),\n",
       "  'split1_test_score': array([ 0.03520135,  0.03380563,  0.04249918,  0.04462853,  0.05407019,\n",
       "          0.05261574,  0.05619116,  0.06222674,  0.06163515,  0.06323168,\n",
       "          0.06475014,  0.06096097,  0.05861477,  0.06021677,  0.06015709,\n",
       "          0.05968235,  0.06091639,  0.06213912,  0.06379779,  0.06246528,\n",
       "          0.06263913,  0.06435008,  0.06644926,  0.06631933,  0.06573679,\n",
       "          0.06329386,  0.06587175,  0.06579895,  0.06332319,  0.06974307,\n",
       "          0.07144809,  0.07429867,  0.07282392,  0.07413977,  0.07480916,\n",
       "          0.07457163,  0.07392405]),\n",
       "  'split2_test_score': array([ 0.15439036,  0.10888316,  0.11781676,  0.11503114,  0.13047809,\n",
       "          0.12934241,  0.125966  ,  0.12096204,  0.1214416 ,  0.11810282,\n",
       "          0.12023426,  0.11115489,  0.11347307,  0.10219349,  0.09953149,\n",
       "          0.09065209,  0.09086344,  0.09385477,  0.10164828,  0.10583488,\n",
       "          0.10712639,  0.10623538,  0.10647185,  0.11261532,  0.11509387,\n",
       "          0.11447353,  0.1104007 ,  0.11354557,  0.1126628 ,  0.10823766,\n",
       "          0.10267339,  0.10421909,  0.10474341,  0.10587585,  0.08153175,\n",
       "          0.08375541,  0.08449229]),\n",
       "  'split3_test_score': array([ 0.047643  ,  0.05915733,  0.05799006,  0.06572595,  0.06492926,\n",
       "          0.07227299,  0.06296723,  0.0588888 ,  0.05766053,  0.0553004 ,\n",
       "          0.05497933,  0.0617616 ,  0.06311885,  0.06468455,  0.06118438,\n",
       "          0.06038373,  0.06180276,  0.06020549,  0.06588841,  0.06661674,\n",
       "          0.06884138,  0.067871  ,  0.07361966,  0.07285501,  0.07495018,\n",
       "          0.07586007,  0.07657707,  0.077755  ,  0.07972358,  0.07790936,\n",
       "          0.07713182,  0.08110859,  0.08277691,  0.07163752,  0.07228124,\n",
       "          0.08327888,  0.08356329]),\n",
       "  'split4_test_score': array([ 0.09171838,  0.09836395,  0.10050405,  0.10211031,  0.09993749,\n",
       "          0.10355317,  0.11736518,  0.11774973,  0.12198201,  0.12128714,\n",
       "          0.11624434,  0.12192452,  0.12895613,  0.12773723,  0.12553207,\n",
       "          0.12629302,  0.12571838,  0.12590099,  0.132545  ,  0.13008718,\n",
       "          0.12587324,  0.12611905,  0.1298695 ,  0.12996651,  0.13190807,\n",
       "          0.13072012,  0.13043171,  0.13137172,  0.13041734,  0.12975087,\n",
       "          0.12917701,  0.12915394,  0.1315255 ,  0.13222073,  0.13187006,\n",
       "          0.1315035 ,  0.13284266]),\n",
       "  'mean_test_score': array([ 0.08667443,  0.08358309,  0.08718449,  0.09084834,  0.09764048,\n",
       "          0.10004263,  0.10101189,  0.1006295 ,  0.10193807,  0.10211073,\n",
       "          0.10167776,  0.10159947,  0.10250343,  0.10076784,  0.09983462,\n",
       "          0.09794032,  0.09895698,  0.09924424,  0.10336384,  0.10398057,\n",
       "          0.10399947,  0.10405186,  0.10643819,  0.10733855,  0.10860574,\n",
       "          0.10787995,  0.10735911,  0.10938742,  0.10788318,  0.10801114,\n",
       "          0.10680979,  0.10810335,  0.10841357,  0.10707306,  0.10288011,\n",
       "          0.10519524,  0.10577903]),\n",
       "  'std_test_score': array([ 0.04265839,  0.03192902,  0.03117858,  0.03087936,  0.03389704,\n",
       "          0.03372789,  0.03485254,  0.03390005,  0.03576296,  0.03709078,\n",
       "          0.03647321,  0.03550465,  0.03577637,  0.03464911,  0.03614015,\n",
       "          0.03668443,  0.03689038,  0.03647434,  0.03544611,  0.03576935,\n",
       "          0.03489723,  0.03476455,  0.03364485,  0.03369609,  0.033881  ,\n",
       "          0.03406922,  0.03268221,  0.03408769,  0.03277462,  0.03161178,\n",
       "          0.03111173,  0.02909823,  0.02904287,  0.03145507,  0.03353898,\n",
       "          0.03112073,  0.03170533]),\n",
       "  'rank_test_score': array([36, 37, 35, 34, 33, 28, 25, 27, 22, 21, 23, 24, 20, 26, 29, 32, 31,\n",
       "         30, 18, 17, 16, 15, 12,  9,  2,  7,  8,  1,  6,  5, 11,  4,  3, 10,\n",
       "         19, 14, 13], dtype=int32)},\n",
       " {'n_estimators': 155},\n",
       " 0.10938741606424171)"
      ]
     },
     "execution_count": 30,
     "metadata": {},
     "output_type": "execute_result"
    }
   ],
   "source": [
    "#Choose all predictors except target & IDcols\n",
    "# predictors = [x for x in x_train]\n",
    "param_test1 = {'n_estimators':range(20,201,5)}\n",
    "gsearch1 = GridSearchCV(estimator = GradientBoostingRegressor(loss = 'lad',\n",
    "                                                             learning_rate=0.1, \n",
    "                                                              min_samples_split=2,\n",
    "                                                              min_samples_leaf=1,\n",
    "                                                              max_depth=5,\n",
    "                                                              max_features='auto',\n",
    "                                                              subsample=0.9,\n",
    "                                                              random_state=42), \n",
    "                                                              param_grid = param_test1, n_jobs=4,iid=False, cv=5)\n",
    "\n",
    "gsearch1.fit(x_train,y_train)\n",
    "\n",
    "gsearch1.cv_results_, gsearch1.best_params_, gsearch1.best_score_"
   ]
  },
  {
   "cell_type": "code",
   "execution_count": 234,
   "metadata": {},
   "outputs": [
    {
     "data": {
      "text/plain": [
       "({'max_depth': 12, 'min_samples_split': 4}, 0.22696022955944456)"
      ]
     },
     "execution_count": 234,
     "metadata": {},
     "output_type": "execute_result"
    }
   ],
   "source": [
    "param_test2 = {'max_depth':range(2,16,1), 'min_samples_split':range(2,20,1)}\n",
    "gsearch2 = GridSearchCV(estimator = GradientBoostingRegressor(loss = 'lad',\n",
    "                                                              learning_rate=0.1, \n",
    "                                                              n_estimators=75, \n",
    "                                                              max_features='sqrt', \n",
    "                                                              subsample=0.8, \n",
    "                                                              random_state=42), \n",
    "param_grid = param_test2,n_jobs=4,iid=False, cv=5)\n",
    "\n",
    "gsearch2.fit(x_train,y_train)\n",
    "\n",
    "gsearch2.cv_results_, \n",
    "gsearch2.best_params_, gsearch2.best_score_"
   ]
  },
  {
   "cell_type": "code",
   "execution_count": 235,
   "metadata": {},
   "outputs": [
    {
     "data": {
      "text/plain": [
       "({'min_samples_leaf': 2, 'min_samples_split': 19}, 0.22445573251038486)"
      ]
     },
     "execution_count": 235,
     "metadata": {},
     "output_type": "execute_result"
    }
   ],
   "source": [
    "param_test3 = {'min_samples_split':range(2,20,1), 'min_samples_leaf':range(2,20,1)}\n",
    "gsearch3 = GridSearchCV(estimator = GradientBoostingRegressor(loss = 'lad',\n",
    "                                                              learning_rate=0.1, \n",
    "                                                              n_estimators=75,\n",
    "                                                              max_depth=12,\n",
    "                                                              max_features='sqrt', \n",
    "                                                              subsample=0.8, \n",
    "                                                              random_state=42), \n",
    "param_grid = param_test3,n_jobs=4,iid=False, cv=5)\n",
    "gsearch3.fit(x_train, y_train)\n",
    "\n",
    "#gsearch3.cv_results_, \n",
    "gsearch3.best_params_, gsearch3.best_score_"
   ]
  },
  {
   "cell_type": "code",
   "execution_count": 236,
   "metadata": {},
   "outputs": [
    {
     "data": {
      "text/plain": [
       "({'max_features': 3}, 0.22445573251038486)"
      ]
     },
     "execution_count": 236,
     "metadata": {},
     "output_type": "execute_result"
    }
   ],
   "source": [
    "param_test4 = {'max_features':range(1,9,1)}\n",
    "gsearch4 = GridSearchCV(estimator = GradientBoostingRegressor(loss = 'lad',\n",
    "                                                              learning_rate=0.1, \n",
    "                                                               n_estimators=75,\n",
    "                                                               max_depth=12, \n",
    "                                                               min_samples_split=19, \n",
    "                                                               min_samples_leaf=2, \n",
    "                                                               subsample=0.8, \n",
    "                                                               random_state=42),\n",
    "param_grid = param_test4, n_jobs=4,iid=False, cv=5)\n",
    "gsearch4.fit(x_train, y_train)\n",
    "#gsearch4.cv_results_, \n",
    "gsearch4.best_params_, gsearch4.best_score_"
   ]
  },
  {
   "cell_type": "code",
   "execution_count": 237,
   "metadata": {},
   "outputs": [
    {
     "data": {
      "text/plain": [
       "({'subsample': 0.8}, 0.22445573251038486)"
      ]
     },
     "execution_count": 237,
     "metadata": {},
     "output_type": "execute_result"
    }
   ],
   "source": [
    "param_test5 = {'subsample':[0.6,0.7,0.75,0.8,0.85,0.9]}\n",
    "gsearch5 = GridSearchCV(estimator = GradientBoostingRegressor(loss = 'lad',\n",
    "                                                              learning_rate=0.1, \n",
    "                                                               n_estimators=75,\n",
    "                                                               max_depth=12, \n",
    "                                                               min_samples_split=19, \n",
    "                                                               min_samples_leaf=2, \n",
    "                                                               #subsample=0.8, \n",
    "                                                               random_state=42,\n",
    "                                                               max_features=3),\n",
    "param_grid = param_test5, n_jobs=4,iid=False, cv=5)\n",
    "tuned1 = gsearch5.fit(x_train, y_train)\n",
    "#gsearch5.cv_results_, \n",
    "gsearch5.best_params_, gsearch5.best_score_"
   ]
  },
  {
   "cell_type": "code",
   "execution_count": 238,
   "metadata": {},
   "outputs": [
    {
     "data": {
      "text/plain": [
       "0.26871455750387196"
      ]
     },
     "execution_count": 238,
     "metadata": {},
     "output_type": "execute_result"
    }
   ],
   "source": [
    "# predictors = [x for x in x_train]\n",
    "gbm_tuned_1 = GradientBoostingRegressor(loss = 'lad',\n",
    "                                        learning_rate=0.05, \n",
    "                                        n_estimators=75,\n",
    "                                        max_depth=12, \n",
    "                                        min_samples_split=19, \n",
    "                                        min_samples_leaf=2, \n",
    "                                        subsample=0.8, \n",
    "                                        random_state=42,\n",
    "                                        max_features=3)\n",
    "tuned2 = gbm_tuned_1.fit(x_train, y_train)\n",
    "tuned2.score(x_train, y_train)\n",
    "tuned2.score(x_test, y_test)"
   ]
  },
  {
   "cell_type": "code",
   "execution_count": 193,
   "metadata": {},
   "outputs": [
    {
     "data": {
      "text/plain": [
       "<bound method BaseEstimator.get_params of GradientBoostingRegressor(alpha=0.9, criterion='friedman_mse', init=None,\n",
       "                          learning_rate=0.05, loss='lad', max_depth=12,\n",
       "                          max_features=3, max_leaf_nodes=None,\n",
       "                          min_impurity_decrease=0.0, min_impurity_split=None,\n",
       "                          min_samples_leaf=6, min_samples_split=19,\n",
       "                          min_weight_fraction_leaf=0.0, n_estimators=70,\n",
       "                          n_iter_no_change=None, presort='auto',\n",
       "                          random_state=42, subsample=0.8, tol=0.0001,\n",
       "                          validation_fraction=0.1, verbose=0, warm_start=False)>"
      ]
     },
     "execution_count": 193,
     "metadata": {},
     "output_type": "execute_result"
    }
   ],
   "source": [
    "tuned2.get_params"
   ]
  },
  {
   "cell_type": "markdown",
   "metadata": {},
   "source": [
    "### Plot Optimization"
   ]
  },
  {
   "cell_type": "markdown",
   "metadata": {},
   "source": [
    "### Tree"
   ]
  },
  {
   "cell_type": "code",
   "execution_count": 147,
   "metadata": {},
   "outputs": [
    {
     "data": {
      "text/plain": [
       "({'mean_fit_time': array([ 0.02369499,  0.05101633,  0.08187346,  0.10121627,  0.12935996,\n",
       "          0.14931178,  0.23492579,  0.27865567,  0.23436689,  0.27995334,\n",
       "          0.3191401 ,  0.45553236,  0.37139101,  0.41690416,  0.42125001]),\n",
       "  'std_fit_time': array([ 0.00049394,  0.00197457,  0.00598083,  0.00403006,  0.00497967,\n",
       "          0.0079646 ,  0.01936861,  0.03126948,  0.00539532,  0.02237629,\n",
       "          0.03552229,  0.02467877,  0.0275129 ,  0.01908517,  0.02432636]),\n",
       "  'mean_score_time': array([ 0.00109406,  0.0012187 ,  0.00127654,  0.00132394,  0.00151234,\n",
       "          0.00143857,  0.00186396,  0.00175076,  0.00139723,  0.00204549,\n",
       "          0.00224876,  0.00178299,  0.00191355,  0.00206041,  0.00198922]),\n",
       "  'std_score_time': array([ 0.00023061,  0.00025545,  0.00019252,  0.00015374,  0.0002698 ,\n",
       "          0.00019475,  0.00019871,  0.00043647,  0.00023699,  0.00072349,\n",
       "          0.00016845,  0.0004517 ,  0.000411  ,  0.00037927,  0.00049898]),\n",
       "  'param_n_estimators': masked_array(data = [5 10 15 20 25 30 35 40 45 50 55 60 65 70 75],\n",
       "               mask = [False False False False False False False False False False False False\n",
       "   False False False],\n",
       "         fill_value = ?),\n",
       "  'params': [{'n_estimators': 5},\n",
       "   {'n_estimators': 10},\n",
       "   {'n_estimators': 15},\n",
       "   {'n_estimators': 20},\n",
       "   {'n_estimators': 25},\n",
       "   {'n_estimators': 30},\n",
       "   {'n_estimators': 35},\n",
       "   {'n_estimators': 40},\n",
       "   {'n_estimators': 45},\n",
       "   {'n_estimators': 50},\n",
       "   {'n_estimators': 55},\n",
       "   {'n_estimators': 60},\n",
       "   {'n_estimators': 65},\n",
       "   {'n_estimators': 70},\n",
       "   {'n_estimators': 75}],\n",
       "  'split0_test_score': array([-0.00104696,  0.05933617,  0.11194348,  0.1315526 ,  0.1637984 ,\n",
       "          0.18133229,  0.18190719,  0.19939094,  0.20176631,  0.21323626,\n",
       "          0.2156452 ,  0.2199755 ,  0.22771294,  0.22893516,  0.2318012 ]),\n",
       "  'split1_test_score': array([-0.0587248 , -0.01008399,  0.02367828,  0.0352017 ,  0.05904771,\n",
       "          0.07506105,  0.08717952,  0.08791581,  0.08370131,  0.08416003,\n",
       "          0.09215196,  0.09187377,  0.09191842,  0.09828082,  0.09840475]),\n",
       "  'split2_test_score': array([ 0.070979  ,  0.15435047,  0.22766966,  0.25950266,  0.27427784,\n",
       "          0.27030534,  0.25175562,  0.24908679,  0.24259737,  0.25125748,\n",
       "          0.2513799 ,  0.24468893,  0.24616899,  0.24767641,  0.24867525]),\n",
       "  'split3_test_score': array([-0.05215306,  0.04522841,  0.08315241,  0.11896476,  0.13046906,\n",
       "          0.14544641,  0.15686564,  0.15106763,  0.16549304,  0.15881016,\n",
       "          0.15395575,  0.16221193,  0.16150932,  0.15902191,  0.16058945]),\n",
       "  'split4_test_score': array([-0.02851273,  0.02759052,  0.03310994,  0.04516923,  0.05196968,\n",
       "          0.06353819,  0.07550391,  0.08707478,  0.0899076 ,  0.09849493,\n",
       "          0.10314195,  0.10490301,  0.10558102,  0.10617003,  0.10714698]),\n",
       "  'mean_test_score': array([-0.01389171,  0.05528432,  0.09591075,  0.11807819,  0.13591254,\n",
       "          0.14713666,  0.15064238,  0.15490719,  0.15669313,  0.16119177,\n",
       "          0.16325495,  0.16473063,  0.16657814,  0.16801687,  0.16932353]),\n",
       "  'std_test_score': array([ 0.04702284,  0.05472038,  0.07340532,  0.08045801,  0.0811256 ,\n",
       "          0.0755332 ,  0.06467369,  0.06317028,  0.06209135,  0.06432871,\n",
       "          0.06207484,  0.06056259,  0.06227774,  0.0613608 ,  0.06192227]),\n",
       "  'rank_test_score': array([15, 14, 13, 12, 11, 10,  9,  8,  7,  6,  5,  4,  3,  2,  1], dtype=int32)},\n",
       " {'n_estimators': 75},\n",
       " 0.16932352618767543)"
      ]
     },
     "execution_count": 147,
     "metadata": {},
     "output_type": "execute_result"
    }
   ],
   "source": [
    "#Choose all predictors except target & IDcols\n",
    "# predictors = [x for x in x_train]\n",
    "param_test1 = {'n_estimators':range(5,76,5)}\n",
    "treeplot = GridSearchCV(estimator = GradientBoostingRegressor(loss = 'lad',\n",
    "                                                             learning_rate=0.08, \n",
    "                                                              min_samples_split=16,\n",
    "                                                              min_samples_leaf=4,\n",
    "                                                              max_depth=12,\n",
    "                                                              max_features=5,\n",
    "                                                              subsample=0.8,\n",
    "                                                              random_state=42), \n",
    "param_grid = param_test1,scoring='r2', n_jobs=4,iid=False, cv=5)\n",
    "\n",
    "treeplot.fit(x_train,y_train)\n",
    "\n",
    "treeplot.cv_results_, treeplot.best_params_, treeplot.best_score_"
   ]
  },
  {
   "cell_type": "code",
   "execution_count": 148,
   "metadata": {},
   "outputs": [],
   "source": [
    "score = pd.DataFrame(treeplot.cv_results_)"
   ]
  },
  {
   "cell_type": "code",
   "execution_count": 149,
   "metadata": {},
   "outputs": [],
   "source": [
    "score['n_tree'] = range(5,76,5)"
   ]
  },
  {
   "cell_type": "code",
   "execution_count": 150,
   "metadata": {},
   "outputs": [
    {
     "data": {
      "text/plain": [
       "Index(['mean_fit_time', 'std_fit_time', 'mean_score_time', 'std_score_time',\n",
       "       'param_n_estimators', 'params', 'split0_test_score',\n",
       "       'split1_test_score', 'split2_test_score', 'split3_test_score',\n",
       "       'split4_test_score', 'mean_test_score', 'std_test_score',\n",
       "       'rank_test_score', 'n_tree'],\n",
       "      dtype='object')"
      ]
     },
     "execution_count": 150,
     "metadata": {},
     "output_type": "execute_result"
    }
   ],
   "source": [
    "score.columns"
   ]
  },
  {
   "cell_type": "code",
   "execution_count": 155,
   "metadata": {},
   "outputs": [
    {
     "data": {
      "image/png": "[encoded data removed]",
      "text/plain": [
       "<Figure size 504x288 with 1 Axes>"
      ]
     },
     "metadata": {},
     "output_type": "display_data"
    }
   ],
   "source": [
    "fig, ax = plt.subplots(1, 1, figsize=(7, 4))\n",
    "ax.plot(score['n_tree'], score['mean_test_score'], linewidth = 2, color='maroon')\n",
    "ax.set_title('', fontsize=20)\n",
    "#ax.grid(True)\n",
    "\n",
    "ax.set_xlabel('Number of Trees', fontsize=16)\n",
    "ax.set_ylabel(r'$R^2$' + ' Score', fontsize=16)\n",
    "plt.xticks(fontsize=14)\n",
    "plt.yticks(fontsize=14)\n",
    "\n",
    "#plt.savefig('Tree_optimization_r2_2.png', dpi=600, bbox_inches = \"tight\")"
   ]
  },
  {
   "cell_type": "code",
   "execution_count": 69,
   "metadata": {},
   "outputs": [
    {
     "data": {
      "text/plain": [
       "dict_keys(['explained_variance', 'r2', 'max_error', 'neg_median_absolute_error', 'neg_mean_absolute_error', 'neg_mean_squared_error', 'neg_mean_squared_log_error', 'accuracy', 'roc_auc', 'balanced_accuracy', 'average_precision', 'neg_log_loss', 'brier_score_loss', 'adjusted_rand_score', 'homogeneity_score', 'completeness_score', 'v_measure_score', 'mutual_info_score', 'adjusted_mutual_info_score', 'normalized_mutual_info_score', 'fowlkes_mallows_score', 'precision', 'precision_macro', 'precision_micro', 'precision_samples', 'precision_weighted', 'recall', 'recall_macro', 'recall_micro', 'recall_samples', 'recall_weighted', 'f1', 'f1_macro', 'f1_micro', 'f1_samples', 'f1_weighted', 'jaccard', 'jaccard_macro', 'jaccard_micro', 'jaccard_samples', 'jaccard_weighted'])"
      ]
     },
     "execution_count": 69,
     "metadata": {},
     "output_type": "execute_result"
    }
   ],
   "source": [
    "sklearn.metrics.SCORERS.keys()"
   ]
  },
  {
   "cell_type": "code",
   "execution_count": 31,
   "metadata": {
    "collapsed": true,
    "jupyter": {
     "outputs_hidden": true
    }
   },
   "outputs": [
    {
     "data": {
      "text/plain": [
       "[<matplotlib.lines.Line2D at 0x109d3bf60>]"
      ]
     },
     "execution_count": 31,
     "metadata": {},
     "output_type": "execute_result"
    },
    {
     "data": {
      "image/png": "[encoded data removed]",
      "text/plain": [
       "<matplotlib.figure.Figure at 0x10a101470>"
      ]
     },
     "metadata": {},
     "output_type": "display_data"
    }
   ],
   "source": [
    "score = pd.DataFrame(treeplot.cv_results_)\n",
    "score['n_tree'] = range(20,501,5)\n",
    "\n",
    "\n",
    "fig, ax = plt.subplots(1, 1, figsize=(11, 4))\n",
    "ax.plot(score['n_tree'], score['mean_test_score'], linewidth = 1)\n",
    "# ax.set_title('Non-Tidal Component by FFT - Chesapeake Bay Bridge Tunnel', fontsize=20)\n",
    "# #ax.set_xlabel('Date', fontsize=16)\n",
    "# ax.set_ylabel('Water Elevation (m)', fontsize=16)\n",
    "# plt.xticks(fontsize=14)\n",
    "# plt.yticks(fontsize=14)"
   ]
  },
  {
   "cell_type": "markdown",
   "metadata": {},
   "source": [
    "### Depth"
   ]
  },
  {
   "cell_type": "code",
   "execution_count": 33,
   "metadata": {},
   "outputs": [
    {
     "data": {
      "text/plain": [
       "({'max_depth': 14}, 0.23956849825819013)"
      ]
     },
     "execution_count": 33,
     "metadata": {},
     "output_type": "execute_result"
    }
   ],
   "source": [
    "param_test2 = {'max_depth':range(2,50,1)}\n",
    "gsearch2 = GridSearchCV(estimator = GradientBoostingRegressor(loss = 'lad',\n",
    "                                                              learning_rate=0.1, \n",
    "                                                              n_estimators=100, \n",
    "                                                              max_features='sqrt', \n",
    "                                                              subsample=0.8, \n",
    "                                                              random_state=42), \n",
    "param_grid = param_test2, n_jobs=4,iid=False, cv=5)\n",
    "\n",
    "gsearch2.fit(x_train,y_train)\n",
    "\n",
    "gsearch2.cv_results_, \n",
    "gsearch2.best_params_, gsearch2.best_score_"
   ]
  },
  {
   "cell_type": "code",
   "execution_count": 34,
   "metadata": {},
   "outputs": [
    {
     "data": {
      "text/plain": [
       "[<matplotlib.lines.Line2D at 0x109f49f98>]"
      ]
     },
     "execution_count": 34,
     "metadata": {},
     "output_type": "execute_result"
    },
    {
     "data": {
      "image/png": "[encoded data removed]",
      "text/plain": [
       "<matplotlib.figure.Figure at 0x10a101390>"
      ]
     },
     "metadata": {},
     "output_type": "display_data"
    }
   ],
   "source": [
    "score = pd.DataFrame(gsearch2.cv_results_)\n",
    "score['depth'] = range(2,50,1)\n",
    "\n",
    "\n",
    "fig, ax = plt.subplots(1, 1, figsize=(11, 4))\n",
    "ax.plot(score['depth'], score['mean_test_score'], linewidth = 1)\n",
    "# ax.set_title('Non-Tidal Component by FFT - Chesapeake Bay Bridge Tunnel', fontsize=20)\n",
    "# #ax.set_xlabel('Date', fontsize=16)\n",
    "# ax.set_ylabel('Water Elevation (m)', fontsize=16)\n",
    "# plt.xticks(fontsize=14)\n",
    "# plt.yticks(fontsize=14)"
   ]
  },
  {
   "cell_type": "markdown",
   "metadata": {},
   "source": [
    "# Optimization Results"
   ]
  },
  {
   "cell_type": "code",
   "execution_count": 24,
   "metadata": {},
   "outputs": [
    {
     "name": "stdout",
     "output_type": "stream",
     "text": [
      "0.205506532214\n",
      "0.690318192425\n"
     ]
    }
   ],
   "source": [
    "# IDEAL1 (SCORE 70%/15%)\n",
    "\n",
    "gbrt = GradientBoostingRegressor(loss = 'ls',\n",
    "                                #alpha = .4,\n",
    "                                learning_rate = 0.05,\n",
    "                                n_estimators=175,\n",
    "                                subsample = 0.78,\n",
    "                                criterion = \"friedman_mse\",\n",
    "                                min_samples_split = 2,\n",
    "                                min_samples_leaf = 11,\n",
    "                                random_state = 42,\n",
    "                                max_depth = 6,\n",
    "                                max_features = 1)\n",
    "IDEAL1 = gbrt.fit(x_train, y_train)\n",
    "\n",
    "print(IDEAL1.score(x_test, y_test))\n",
    "print(IDEAL1.score(x_train, y_train))"
   ]
  },
  {
   "cell_type": "code",
   "execution_count": 25,
   "metadata": {},
   "outputs": [
    {
     "name": "stdout",
     "output_type": "stream",
     "text": [
      "0.20571566064\n",
      "0.710807872646\n"
     ]
    }
   ],
   "source": [
    "#IDEAL2 (SCORE 80%/ 16%)\n",
    "\n",
    "gbrt = GradientBoostingRegressor(loss = 'lad',\n",
    "                                #alpha = .4,\n",
    "                                learning_rate = 0.1,\n",
    "                                n_estimators=500,\n",
    "                                subsample = 0.9,\n",
    "                                criterion = \"friedman_mse\",\n",
    "                                min_samples_split = 2,\n",
    "                                min_samples_leaf = 1,\n",
    "                                random_state = 42,\n",
    "                                max_depth = 5,\n",
    "                                max_features = 'auto')\n",
    "IDEAL2 = gbrt.fit(x_train, y_train)\n",
    "\n",
    "print(IDEAL2.score(x_test, y_test))\n",
    "print(IDEAL2.score(x_train, y_train))"
   ]
  },
  {
   "cell_type": "code",
   "execution_count": 26,
   "metadata": {},
   "outputs": [
    {
     "name": "stdout",
     "output_type": "stream",
     "text": [
      "0.280859352868\n",
      "0.552957660132\n"
     ]
    }
   ],
   "source": [
    "# IDEAL3A (SCORE 57%/13%)\n",
    "\n",
    "gbm_tuned_1 = GradientBoostingRegressor(loss = 'lad',\n",
    "                                        learning_rate=0.05, \n",
    "                                        n_estimators=140,\n",
    "                                        max_depth=12, \n",
    "                                        min_samples_split=19, \n",
    "                                        min_samples_leaf=9, \n",
    "                                        subsample=0.8, \n",
    "                                        random_state=42,\n",
    "                                        max_features=3)\n",
    "IDEAL3A = gbm_tuned_1.fit(x_train, y_train)\n",
    "\n",
    "print(IDEAL3A.score(x_test, y_test))\n",
    "print(IDEAL3A.score(x_train, y_train))"
   ]
  },
  {
   "cell_type": "code",
   "execution_count": 27,
   "metadata": {},
   "outputs": [
    {
     "name": "stdout",
     "output_type": "stream",
     "text": [
      "0.284867055799\n",
      "0.767113864861\n"
     ]
    }
   ],
   "source": [
    "# IDEAL 3 (SCORE 82%/35%) -- R_IND_NOOUTLIER\n",
    "\n",
    "gbm_tuned_1 = GradientBoostingRegressor(loss = 'lad',\n",
    "                                        learning_rate=0.05, \n",
    "                                        n_estimators=500,\n",
    "                                        max_depth=12, \n",
    "                                        min_samples_split=19,\n",
    "                                        min_samples_leaf=3, \n",
    "                                        subsample=0.9, \n",
    "                                        random_state=42,\n",
    "                                        max_features=3)\n",
    "IDEAL3 = gbm_tuned_1.fit(x_train, y_train)\n",
    "\n",
    "print(IDEAL3.score(x_test, y_test))\n",
    "print(IDEAL3.score(x_train, y_train))"
   ]
  },
  {
   "cell_type": "code",
   "execution_count": 28,
   "metadata": {},
   "outputs": [
    {
     "name": "stdout",
     "output_type": "stream",
     "text": [
      "0.25767062294\n",
      "0.780922537351\n"
     ]
    }
   ],
   "source": [
    "# IDEAL 3B (SCORE 82%/35%) -- R_IND_NOOUTLIER\n",
    "\n",
    "gbm_tuned_1 = GradientBoostingRegressor(loss = 'lad',\n",
    "                                        learning_rate=0.09, \n",
    "                                        n_estimators=500,\n",
    "                                        max_depth=11, \n",
    "                                        min_samples_split=15,\n",
    "                                        min_samples_leaf=3, \n",
    "                                        subsample=0.9, \n",
    "                                        random_state=42,\n",
    "                                        max_features=3)\n",
    "IDEAL3B = gbm_tuned_1.fit(x_train, y_train)\n",
    "\n",
    "print(IDEAL3B.score(x_test, y_test))\n",
    "print(IDEAL3B.score(x_train, y_train))"
   ]
  },
  {
   "cell_type": "markdown",
   "metadata": {},
   "source": [
    "### R_IND"
   ]
  },
  {
   "cell_type": "code",
   "execution_count": 29,
   "metadata": {},
   "outputs": [
    {
     "name": "stdout",
     "output_type": "stream",
     "text": [
      "0.279419454943\n",
      "0.629480728685\n"
     ]
    }
   ],
   "source": [
    "gbrt = GradientBoostingRegressor(loss = 'lad',\n",
    "                                learning_rate=0.08,\n",
    "                                max_depth = 12,\n",
    "                                max_features=5,\n",
    "                                min_samples_leaf= 4,\n",
    "                                min_samples_split=16,\n",
    "                                n_estimators=95,\n",
    "                                subsample = 0.8,\n",
    "                                random_state=42)\n",
    "\n",
    "IDEAL4 = gbrt.fit(x_train, y_train)\n",
    "\n",
    "print(IDEAL4.score(x_test, y_test))\n",
    "print(IDEAL4.score(x_train, y_train))\n"
   ]
  },
  {
   "cell_type": "code",
   "execution_count": 30,
   "metadata": {},
   "outputs": [
    {
     "name": "stdout",
     "output_type": "stream",
     "text": [
      "0.280076544236\n",
      "0.635996895866\n"
     ]
    }
   ],
   "source": [
    "gbrt = GradientBoostingRegressor(loss = 'lad',\n",
    "                                learning_rate=0.08,\n",
    "                                max_depth = 12,\n",
    "                                max_features=5,\n",
    "                                min_samples_leaf= 4,\n",
    "                                min_samples_split=16,\n",
    "                                n_estimators=102,\n",
    "                                subsample = 0.8,\n",
    "                                random_state=42)\n",
    "\n",
    "IDEAL4AA = gbrt.fit(x_train, y_train)\n",
    "\n",
    "print(IDEAL4AA.score(x_test, y_test))\n",
    "print(IDEAL4AA.score(x_train, y_train))"
   ]
  },
  {
   "cell_type": "code",
   "execution_count": 31,
   "metadata": {},
   "outputs": [
    {
     "name": "stdout",
     "output_type": "stream",
     "text": [
      "0.316314974418\n",
      "0.642573525815\n"
     ]
    }
   ],
   "source": [
    "# Results from optimization, switch up learning rate and see\n",
    "\n",
    "gbrt = GradientBoostingRegressor(loss = 'lad',\n",
    "                                learning_rate=0.08,\n",
    "                                max_depth = 12,\n",
    "                                max_features=4,\n",
    "                                min_samples_leaf= 4,\n",
    "                                min_samples_split=16,\n",
    "                                n_estimators=108,\n",
    "                                subsample = 0.74,\n",
    "                                random_state=42)\n",
    "                                         \n",
    "\n",
    "IDEAL4A = gbrt.fit(x_train, y_train)\n",
    "\n",
    "print(IDEAL4A.score(x_test, y_test))\n",
    "print(IDEAL4A.score(x_train, y_train))"
   ]
  },
  {
   "cell_type": "code",
   "execution_count": 32,
   "metadata": {},
   "outputs": [
    {
     "name": "stdout",
     "output_type": "stream",
     "text": [
      "0.305250737723\n",
      "0.80095233943\n"
     ]
    }
   ],
   "source": [
    "gbrt = GradientBoostingRegressor(loss = 'lad',\n",
    "                                learning_rate=0.08,\n",
    "                                max_depth = 12,\n",
    "                                max_features=4,\n",
    "                                min_samples_leaf= 2,\n",
    "                                min_samples_split=10,\n",
    "                                n_estimators=300,\n",
    "                                subsample = 0.9,\n",
    "                                random_state=42)\n",
    "                                         \n",
    "\n",
    "IDEAL5 = gbrt.fit(x_train, y_train)\n",
    "\n",
    "print(IDEAL5.score(x_test, y_test))\n",
    "print(IDEAL5.score(x_train, y_train))"
   ]
  },
  {
   "cell_type": "code",
   "execution_count": 33,
   "metadata": {},
   "outputs": [
    {
     "name": "stdout",
     "output_type": "stream",
     "text": [
      "0.241482459269\n",
      "0.622764988565\n"
     ]
    }
   ],
   "source": [
    "# Best for R_InD_No0\n",
    "\n",
    "gbrt = GradientBoostingRegressor(loss = 'lad',\n",
    "                                learning_rate=0.08,\n",
    "                                max_depth = 16,\n",
    "                                max_features=2,\n",
    "                                min_samples_leaf= 6,\n",
    "                                min_samples_split=15,\n",
    "                                n_estimators=103,\n",
    "                                subsample = 0.8,\n",
    "                                random_state=42)\n",
    "                                         \n",
    "\n",
    "IDEAL6 = gbrt.fit(x_train, y_train)\n",
    "\n",
    "print(IDEAL6.score(x_test, y_test))\n",
    "print(IDEAL6.score(x_train, y_train))"
   ]
  },
  {
   "cell_type": "code",
   "execution_count": 34,
   "metadata": {},
   "outputs": [
    {
     "name": "stdout",
     "output_type": "stream",
     "text": [
      "0.318960588328\n",
      "0.659189260873\n"
     ]
    }
   ],
   "source": [
    "# Best for log R_InD_No0\n",
    "\n",
    "gbrt = GradientBoostingRegressor(loss = 'lad',\n",
    "                                learning_rate=0.08,\n",
    "                                max_depth = 13,\n",
    "                                max_features=4,\n",
    "                                min_samples_leaf= 4,\n",
    "                                min_samples_split=16,\n",
    "                                n_estimators=110,\n",
    "                                subsample = 0.9,\n",
    "                                random_state=42)\n",
    "                                         \n",
    "\n",
    "IDEAL7 = gbrt.fit(x_train, y_train)\n",
    "\n",
    "print(IDEAL7.score(x_test, y_test))\n",
    "print(IDEAL7.score(x_train, y_train))"
   ]
  },
  {
   "cell_type": "code",
   "execution_count": 35,
   "metadata": {},
   "outputs": [
    {
     "name": "stdout",
     "output_type": "stream",
     "text": [
      "0.331215534084\n",
      "0.712316613124\n"
     ]
    }
   ],
   "source": [
    "gbrt = GradientBoostingRegressor(loss = 'lad',\n",
    "                                learning_rate=0.12,\n",
    "                                max_depth = 13,\n",
    "                                max_features=4,\n",
    "                                min_samples_leaf= 4,\n",
    "                                min_samples_split=16,\n",
    "                                n_estimators=100,\n",
    "                                subsample = 0.9,\n",
    "                                random_state=42)\n",
    "                                         \n",
    "\n",
    "IDEAL8 = gbrt.fit(x_train, y_train)\n",
    "\n",
    "print(IDEAL8.score(x_test, y_test))\n",
    "print(IDEAL8.score(x_train, y_train))"
   ]
  },
  {
   "cell_type": "code",
   "execution_count": 36,
   "metadata": {},
   "outputs": [
    {
     "name": "stdout",
     "output_type": "stream",
     "text": [
      "0.253973477144\n",
      "0.61743304871\n"
     ]
    }
   ],
   "source": [
    "gbrt = GradientBoostingRegressor(loss = 'lad',\n",
    "                                learning_rate=0.12,\n",
    "                                max_depth = 10,\n",
    "                                max_features=2,\n",
    "                                min_samples_leaf= 4,\n",
    "                                min_samples_split=16,\n",
    "                                n_estimators=100,\n",
    "                                subsample = 0.9,\n",
    "                                random_state=42)\n",
    "                                         \n",
    "\n",
    "IDEAL9 = gbrt.fit(x_train, y_train)\n",
    "\n",
    "print(IDEAL9.score(x_test, y_test))\n",
    "print(IDEAL9.score(x_train, y_train))"
   ]
  },
  {
   "cell_type": "code",
   "execution_count": 37,
   "metadata": {},
   "outputs": [],
   "source": [
    "# tuned_model.fit(x_train, y_train)"
   ]
  },
  {
   "cell_type": "code",
   "execution_count": 38,
   "metadata": {},
   "outputs": [
    {
     "name": "stdout",
     "output_type": "stream",
     "text": [
      "0.355275205517\n",
      "0.768359248082\n"
     ]
    }
   ],
   "source": [
    "# mdoel for no sovi strvi\n",
    "\n",
    "gbm_tuned_1 = GradientBoostingRegressor(loss = 'lad',\n",
    "                                        learning_rate=0.09, \n",
    "                                        n_estimators=200,\n",
    "                                        max_depth=15, \n",
    "                                        min_samples_split=15,\n",
    "                                        min_samples_leaf=3, \n",
    "                                        subsample=0.9, \n",
    "                                        random_state=42,\n",
    "                                        max_features=2)\n",
    "IDEAL10 = gbm_tuned_1.fit(x_train, y_train)\n",
    "\n",
    "print(IDEAL10.score(x_test, y_test))\n",
    "print(IDEAL10.score(x_train, y_train))"
   ]
  },
  {
   "cell_type": "code",
   "execution_count": null,
   "metadata": {},
   "outputs": [],
   "source": []
  },
  {
   "cell_type": "code",
   "execution_count": null,
   "metadata": {},
   "outputs": [],
   "source": []
  },
  {
   "cell_type": "markdown",
   "metadata": {},
   "source": [
    "### Evaluate"
   ]
  },
  {
   "cell_type": "code",
   "execution_count": 39,
   "metadata": {},
   "outputs": [],
   "source": [
    "def predict(model, x_train, x_test):   \n",
    "    pred_test = model.predict(x_test)\n",
    "    pred_train = model.predict(x_train)\n",
    "    \n",
    "    return pred_train, pred_test\n"
   ]
  },
  {
   "cell_type": "code",
   "execution_count": 40,
   "metadata": {},
   "outputs": [],
   "source": [
    "pred_train, pred_test = predict(IDEAL10, x_train, x_test)"
   ]
  },
  {
   "cell_type": "code",
   "execution_count": 45,
   "metadata": {},
   "outputs": [
    {
     "data": {
      "text/plain": [
       "FIPS\n",
       "72019952301    0.000000\n",
       "72099420301    0.020690\n",
       "72081957700    0.007663\n",
       "72081958100    0.000000\n",
       "72035260902    0.006862\n",
       "72127007600    0.031881\n",
       "72149720503    0.000000\n",
       "72037160300    0.056830\n",
       "72013300101    0.057918\n",
       "72127008001    0.024838\n",
       "72127010001    0.002395\n",
       "72021031800    0.066580\n",
       "72013302100    0.096695\n",
       "72113073003    0.047404\n",
       "72007230501    0.082424\n",
       "72113071602    0.104396\n",
       "72053150400    0.024378\n",
       "72117959500    0.023488\n",
       "72119130601    0.062418\n",
       "72017590200    0.036848\n",
       "72127005202    0.000000\n",
       "72055961100    0.007471\n",
       "72127005300    0.009980\n",
       "72045952100    0.043497\n",
       "72131958700    0.047797\n",
       "72091570100    0.057424\n",
       "72005401302    0.020727\n",
       "72013301000    0.037052\n",
       "72107954902    0.031792\n",
       "72061040900    0.077748\n",
       "                 ...   \n",
       "72005400800    0.037588\n",
       "72129220700    0.069611\n",
       "72075710102    0.006014\n",
       "72091570202    0.086129\n",
       "72113070900    0.065649\n",
       "72087110304    0.002751\n",
       "72031050700    0.035503\n",
       "72127003300    0.000000\n",
       "72075710200    0.000000\n",
       "72021031403    0.021134\n",
       "72137121900    0.031060\n",
       "72093960100    0.066159\n",
       "72127005500    0.033524\n",
       "72021032302    0.106034\n",
       "72113073006    0.068323\n",
       "72025200200    0.087417\n",
       "72035260500    0.000000\n",
       "72127005402    0.000000\n",
       "72097081100    0.019231\n",
       "72003430100    0.036724\n",
       "72057270400    0.088362\n",
       "72029100800    0.000000\n",
       "72113071300    0.000000\n",
       "72141957000    0.011573\n",
       "72005400300    0.012697\n",
       "72137120500    0.054670\n",
       "72119130102    0.016863\n",
       "72121960300    0.017946\n",
       "72137120700    0.055556\n",
       "72041240102    0.018557\n",
       "Name: y_test, Length: 177, dtype: float64"
      ]
     },
     "execution_count": 45,
     "metadata": {},
     "output_type": "execute_result"
    }
   ],
   "source": [
    "y_test"
   ]
  },
  {
   "cell_type": "code",
   "execution_count": 23,
   "metadata": {},
   "outputs": [],
   "source": [
    "def variance_score(model, x_train, y_train, x_test, y_test):\n",
    "    r_train = model.score(x_train, y_train)\n",
    "    r_test = model.score(x_test, y_test)\n",
    "    \n",
    "    return r_train, r_test"
   ]
  },
  {
   "cell_type": "code",
   "execution_count": 24,
   "metadata": {},
   "outputs": [],
   "source": [
    "r_train, r_test = variance_score(IDEAL8, x_train, y_train, x_test, y_test)"
   ]
  },
  {
   "cell_type": "code",
   "execution_count": 25,
   "metadata": {},
   "outputs": [
    {
     "data": {
      "text/plain": [
       "0.33121553408433624"
      ]
     },
     "execution_count": 25,
     "metadata": {},
     "output_type": "execute_result"
    }
   ],
   "source": [
    "r_test"
   ]
  },
  {
   "cell_type": "markdown",
   "metadata": {},
   "source": [
    "### If Log Target "
   ]
  },
  {
   "cell_type": "code",
   "execution_count": 360,
   "metadata": {},
   "outputs": [],
   "source": [
    "pred_train_inv_log = np.exp(pred_train)\n",
    "pred_test_inv_log = np.exp(pred_test)\n",
    "y_train_inv_log = np.exp(y_train)\n",
    "y_test_inv_log = np.exp(y_test)"
   ]
  },
  {
   "cell_type": "code",
   "execution_count": 48,
   "metadata": {},
   "outputs": [],
   "source": [
    "def evaluate_regression(pred_train, pred_test, y_train, y_test):\n",
    "    r_train = r2_score(y_train, pred_train)\n",
    "    print('The training r-squared score is {}'.format(r_train))\n",
    "    r_test = r2_score(y_test, pred_test)\n",
    "    print('The testing r-squared score is {}'.format(r_test))\n",
    "    meanabserrors_train = np.mean(abs(pred_train - y_train))\n",
    "    print('The training mean absolute error is {}'.format(meanabserrors_train))\n",
    "    meanabserrors_test = np.mean(abs(pred_test - y_test))\n",
    "    print('The testing mean absolute error is {}'.format(meanabserrors_test))\n",
    "    rmse = math.sqrt(mean_squared_error(y_test, pred_test))\n",
    "    print('The root mean square error is {}'.format(rmse))\n",
    "    mse = mean_squared_error(y_test, pred_test)\n",
    "    print('The mean square error is {}'.format(mse))\n",
    "    errors = y_test- pred_test\n",
    "    errors2 = y_train - pred_train\n",
    "#true - predicted\n",
    "    meanerror = np.mean(errors)\n",
    "    trainmeanerror = np.mean(errors2)\n",
    "    print('The testing mean error is {}'.format(meanerror))\n",
    "    print('The training mean error is {}'.format(trainmeanerror))\n",
    "    return errors"
   ]
  },
  {
   "cell_type": "code",
   "execution_count": 49,
   "metadata": {},
   "outputs": [
    {
     "name": "stdout",
     "output_type": "stream",
     "text": [
      "The training r-squared score is 0.8243933531892629\n",
      "The testing r-squared score is 0.3573126350354444\n",
      "The training mean absolute error is 0.004767293783926611\n",
      "The testing mean absolute error is 0.017076342017946517\n",
      "The root mean square error is 0.025576794447570113\n",
      "The mean square error is 0.0006541724142132534\n",
      "The testing mean error is 0.002233051028201968\n",
      "The training mean error is 0.0031793358634001293\n"
     ]
    }
   ],
   "source": [
    "# EXAMPLE\n",
    "errors = evaluate_regression(pred_train, pred_test, y_train, y_test)"
   ]
  },
  {
   "cell_type": "code",
   "execution_count": 99,
   "metadata": {},
   "outputs": [],
   "source": [
    "#errors"
   ]
  },
  {
   "cell_type": "code",
   "execution_count": 82,
   "metadata": {},
   "outputs": [],
   "source": [
    "def analyze_errors(errors):\n",
    "    error_range =  max(errors) - min(errors)\n",
    "    print('The error range is {}'.format(error_range))\n",
    "    error_max = max(errors)\n",
    "    print('The error max is {}'.format(error_max))\n",
    "    error_min = min(errors)\n",
    "    print('The error min is {}'.format(error_min))"
   ]
  },
  {
   "cell_type": "code",
   "execution_count": 83,
   "metadata": {},
   "outputs": [
    {
     "name": "stdout",
     "output_type": "stream",
     "text": [
      "The error range is 0.19728983998370608\n",
      "The error max is 0.05951987757366094\n",
      "The error min is -0.13776996241004513\n"
     ]
    }
   ],
   "source": [
    "# EXAMPLE\n",
    "analyze_errors(errors)"
   ]
  },
  {
   "cell_type": "code",
   "execution_count": 84,
   "metadata": {},
   "outputs": [],
   "source": [
    "def plot_errors(errors):\n",
    "    plt.hist(errors, 30, histtype='bar', ec='white', color='maroon')\n",
    "    plt.xlabel('Error')\n",
    "    plt.ylabel('Count')\n",
    "    plt.title('Histogram of Model Error')\n",
    "    plt.grid(True)\n",
    "    plt.show()"
   ]
  },
  {
   "cell_type": "code",
   "execution_count": 85,
   "metadata": {},
   "outputs": [
    {
     "data": {
      "image/png": "[encoded data removed]",
      "text/plain": [
       "<Figure size 432x288 with 1 Axes>"
      ]
     },
     "metadata": {},
     "output_type": "display_data"
    }
   ],
   "source": [
    "# EXAMPLE\n",
    "plot_errors(errors)"
   ]
  },
  {
   "cell_type": "code",
   "execution_count": 341,
   "metadata": {},
   "outputs": [],
   "source": [
    "def plot_predictions(y_test, pred, Title):\n",
    "    df_predictions = pd.DataFrame(y_test)\n",
    "    df_predictions['Pred'] = pred\n",
    "    X = df_predictions.iloc[:, 0].values.reshape(-1, 1)\n",
    "    Y = df_predictions.iloc[:, 1].values.reshape(-1, 1)\n",
    "    fig, ax = plt.subplots()\n",
    "    \n",
    "    ax.scatter(X, Y, color='maroon', label = Title)\n",
    "    plt.legend(fontsize=15)\n",
    "    \n",
    "    line = mlines.Line2D([0, 1], [0, 1], color='orange')\n",
    "    transform = ax.transAxes\n",
    "    line.set_transform(transform)\n",
    "    ax.add_line(line)\n",
    "    \n",
    "    ax.set_xlabel(ax.get_xlabel(), fontsize = 18)\n",
    "    ax.set_ylabel(ax.get_ylabel(), fontsize = 18)\n",
    "    ax.tick_params(axis='both', which='major', labelsize=15)\n",
    "    plt.grid(False)\n",
    "    plt.xlabel(\"True Damage Index\")\n",
    "    plt.ylabel(\"Predicted Damage Index\")\n",
    "    plt.xlim(0,0.4)\n",
    "    plt.ylim(0,0.4)\n",
    "    #plt.title('Model Evaluation -' +  Title, fontsize = 20)\n",
    "    plt.savefig('eval_SGBT_DI2.png', dpi=600, bbox_inches = \"tight\")\n",
    "    plt.show()"
   ]
  },
  {
   "cell_type": "code",
   "execution_count": 342,
   "metadata": {},
   "outputs": [
    {
     "data": {
      "image/png": "[encoded data removed]",
      "text/plain": [
       "<Figure size 432x288 with 1 Axes>"
      ]
     },
     "metadata": {},
     "output_type": "display_data"
    }
   ],
   "source": [
    "# EXAMPLE\n",
    "plt.rcParams[\"figure.figsize\"] = (6,4)\n",
    "Title = 'SGBT, DI2 - Evaluation Data'\n",
    "plot_predictions(y_test, pred_test, Title)"
   ]
  },
  {
   "cell_type": "code",
   "execution_count": 270,
   "metadata": {},
   "outputs": [
    {
     "data": {
      "image/png": "[encoded data removed]",
      "text/plain": [
       "<Figure size 432x288 with 1 Axes>"
      ]
     },
     "metadata": {},
     "output_type": "display_data"
    }
   ],
   "source": [
    "Title = 'SGBT, DI2 - Training Data'\n",
    "plot_predictions(y_train, pred_train, Title)"
   ]
  },
  {
   "cell_type": "code",
   "execution_count": 299,
   "metadata": {},
   "outputs": [
    {
     "name": "stdout",
     "output_type": "stream",
     "text": [
      "0.254066167063\n",
      "0.74013835145\n"
     ]
    }
   ],
   "source": [
    "tune_reg_3AA=RandomForestRegressor(bootstrap=True, criterion='mse', max_depth=13,\n",
    "           max_features=2, max_leaf_nodes=None, min_impurity_decrease=0.0,\n",
    "           min_impurity_split=None, min_samples_leaf=2,\n",
    "           min_samples_split=4, min_weight_fraction_leaf=0.0,\n",
    "           n_estimators=500, n_jobs=1, oob_score=False, random_state=42,\n",
    "           verbose=0, warm_start=False)\n",
    "OPT3AA=tune_reg_3AA.fit(x_train, y_train)\n",
    "print(OPT3AA.score(x_test, y_test))\n",
    "print(OPT3AA.score(x_train, y_train))\n"
   ]
  },
  {
   "cell_type": "code",
   "execution_count": 300,
   "metadata": {},
   "outputs": [],
   "source": [
    "def prediction(model, x_train, x_test):\n",
    "    pred_train = model.predict(x_train)\n",
    "    pred_test = model.predict(x_test)   \n",
    "    return pred_train, pred_test"
   ]
  },
  {
   "cell_type": "code",
   "execution_count": 301,
   "metadata": {},
   "outputs": [],
   "source": [
    "# EXAMPLE\n",
    "#CHOOSE MODEL\n",
    "pred_train2, pred_test2 = prediction(OPT3AA, x_train, x_test)"
   ]
  },
  {
   "cell_type": "code",
   "execution_count": 562,
   "metadata": {},
   "outputs": [],
   "source": [
    "# pred_train_inv_log = np.exp(pred_train2)\n",
    "# pred_test_inv_log = np.exp(pred_test2)\n",
    "# y_train_inv_log = np.exp(y_train)\n",
    "# y_test_inv_log = np.exp(y_test)"
   ]
  },
  {
   "cell_type": "code",
   "execution_count": 313,
   "metadata": {},
   "outputs": [],
   "source": [
    "def plot_predictions(y_test, pred, Title):\n",
    "    df_predictions = pd.DataFrame(y_test)\n",
    "    df_predictions['Pred'] = pred\n",
    "    X = df_predictions.iloc[:, 0].values.reshape(-1, 1)\n",
    "    Y = df_predictions.iloc[:, 1].values.reshape(-1, 1)\n",
    "    fig, ax = plt.subplots()\n",
    "    \n",
    "    ax.scatter(X, Y, color='maroon', label = Title)\n",
    "    plt.legend(fontsize=15)\n",
    "    \n",
    "    line = mlines.Line2D([0, 1], [0, 1], color='orange')\n",
    "    transform = ax.transAxes\n",
    "    line.set_transform(transform)\n",
    "    ax.add_line(line)\n",
    "    \n",
    "    ax.set_xlabel(ax.get_xlabel(), fontsize = 18)\n",
    "    ax.set_ylabel(ax.get_ylabel(), fontsize = 18)\n",
    "    ax.tick_params(axis='both', which='major', labelsize=15)\n",
    "    plt.grid(False)\n",
    "    plt.xlabel(\"True Damage Index\")\n",
    "    plt.ylabel(\"Predicted Damage Index\")\n",
    "    plt.xlim(0,0.4)\n",
    "    plt.ylim(0,0.4)\n",
    "    #plt.title('Model Evaluation -' +  Title, fontsize = 20)\n",
    "    plt.savefig('train_RF_DI3.png', dpi=600, bbox_inches = \"tight\")\n",
    "    plt.show()"
   ]
  },
  {
   "cell_type": "code",
   "execution_count": 312,
   "metadata": {},
   "outputs": [
    {
     "data": {
      "image/png": "[encoded data removed]",
      "text/plain": [
       "<Figure size 432x288 with 1 Axes>"
      ]
     },
     "metadata": {},
     "output_type": "display_data"
    }
   ],
   "source": [
    "# EXAMPLE\n",
    "plt.rcParams[\"figure.figsize\"] = (6,4)\n",
    "Title = 'RF, DI3 - Evaluation Data'\n",
    "plot_predictions(y_test, pred_test2, Title)"
   ]
  },
  {
   "cell_type": "code",
   "execution_count": 314,
   "metadata": {},
   "outputs": [
    {
     "data": {
      "image/png": "[encoded data removed]",
      "text/plain": [
       "<Figure size 432x288 with 1 Axes>"
      ]
     },
     "metadata": {},
     "output_type": "display_data"
    }
   ],
   "source": [
    "# EXAMPLE\n",
    "plt.rcParams[\"figure.figsize\"] = (6,4)\n",
    "Title = 'RF, DI3 - Training Data'\n",
    "plot_predictions(y_train, pred_train2, Title)"
   ]
  },
  {
   "cell_type": "code",
   "execution_count": 152,
   "metadata": {},
   "outputs": [],
   "source": [
    "def plot_joint_predictions(y_train, pred_train, y_test, pred_test, Title):\n",
    "    df_predictions_test = pd.DataFrame(y_test)\n",
    "    df_predictions_test['Pred'] = pred_test\n",
    "    df_predictions_train = pd.DataFrame(y_train)\n",
    "    df_predictions_train['Pred'] = pred_train   \n",
    "    X1 = df_predictions_test.iloc[:, 0].values.reshape(-1, 1)\n",
    "    Y1 = df_predictions_test.iloc[:, 1].values.reshape(-1, 1)\n",
    "    X2 = df_predictions_train.iloc[:, 0].values.reshape(-1, 1)\n",
    "    Y2 = df_predictions_train.iloc[:, 1].values.reshape(-1, 1)\n",
    "    \n",
    "    fig, ax = plt.subplots()\n",
    "    ax.scatter(X2, Y2, color='maroon', label='Training Predictions')\n",
    "    ax.scatter(X1, Y1, color='orange', label='Testing Predictions')\n",
    "    \n",
    "    line = mlines.Line2D([0, 1], [0, 1], color='grey')\n",
    "    transform = ax.transAxes\n",
    "    line.set_transform(transform)\n",
    "    ax.add_line(line)\n",
    "    ax.set_xlabel(ax.get_xlabel(), fontsize = 18)\n",
    "    ax.set_ylabel(ax.get_ylabel(), fontsize = 18)\n",
    "    ax.tick_params(axis='both', which='major', labelsize=15)\n",
    "    plt.grid(True)\n",
    "    plt.xlabel(\"Damage Index\")\n",
    "    plt.ylabel(\"Precited Damage Index\")\n",
    "    plt.xlim(0,0.25)\n",
    "    plt.ylim(0,0.25)\n",
    "    plt.title('Model Evaluation -' +  Title, fontsize = 20)\n",
    "    plt.legend(loc='upper left')\n",
    "    #plt.savefig('test_eval.png', dpi=600, bbox_inches = \"tight\")\n",
    "    plt.show()\n"
   ]
  },
  {
   "cell_type": "code",
   "execution_count": 153,
   "metadata": {},
   "outputs": [
    {
     "data": {
      "image/png": "[encoded data removed]",
      "text/plain": [
       "<Figure size 432x288 with 1 Axes>"
      ]
     },
     "metadata": {},
     "output_type": "display_data"
    }
   ],
   "source": [
    "Title = 'Model Results'\n",
    "plot_joint_predictions(y_train, pred_train, y_test, pred_test, Title)"
   ]
  },
  {
   "cell_type": "code",
   "execution_count": 154,
   "metadata": {},
   "outputs": [],
   "source": [
    "def join_predictions(y_train, pred_train, y_test, pred_test, Title):\n",
    "    df_predictions_test = pd.DataFrame(y_test)\n",
    "    df_predictions_test['Pred'] = pred_test\n",
    "    df_predictions_train = pd.DataFrame(y_train)\n",
    "    df_predictions_train['Pred'] = pred_train   \n",
    "\n",
    "    return df_predictions_test, df_predictions_train"
   ]
  },
  {
   "cell_type": "code",
   "execution_count": 156,
   "metadata": {},
   "outputs": [],
   "source": [
    "df_predictions_test, df_predictions_train = join_predictions(y_train, pred_train, y_test, pred_test, Title)"
   ]
  },
  {
   "cell_type": "code",
   "execution_count": 158,
   "metadata": {},
   "outputs": [],
   "source": [
    "df_predictions_test.to_excel(\"SGBBT_DI2_Eval.xlsx\")  \n",
    "df_predictions_train.to_excel(\"SGBBT_DI2_Train.xlsx\")  "
   ]
  },
  {
   "cell_type": "code",
   "execution_count": 157,
   "metadata": {},
   "outputs": [
    {
     "data": {
      "text/html": [
       "<div>\n",
       "<style scoped>\n",
       "    .dataframe tbody tr th:only-of-type {\n",
       "        vertical-align: middle;\n",
       "    }\n",
       "\n",
       "    .dataframe tbody tr th {\n",
       "        vertical-align: top;\n",
       "    }\n",
       "\n",
       "    .dataframe thead th {\n",
       "        text-align: right;\n",
       "    }\n",
       "</style>\n",
       "<table border=\"1\" class=\"dataframe\">\n",
       "  <thead>\n",
       "    <tr style=\"text-align: right;\">\n",
       "      <th></th>\n",
       "      <th>y_test</th>\n",
       "      <th>Pred</th>\n",
       "    </tr>\n",
       "  </thead>\n",
       "  <tbody>\n",
       "    <tr>\n",
       "      <th>count</th>\n",
       "      <td>177.000000</td>\n",
       "      <td>177.000000</td>\n",
       "    </tr>\n",
       "    <tr>\n",
       "      <th>mean</th>\n",
       "      <td>0.030675</td>\n",
       "      <td>0.028833</td>\n",
       "    </tr>\n",
       "    <tr>\n",
       "      <th>std</th>\n",
       "      <td>0.031995</td>\n",
       "      <td>0.016802</td>\n",
       "    </tr>\n",
       "    <tr>\n",
       "      <th>min</th>\n",
       "      <td>0.000000</td>\n",
       "      <td>0.001089</td>\n",
       "    </tr>\n",
       "    <tr>\n",
       "      <th>25%</th>\n",
       "      <td>0.006971</td>\n",
       "      <td>0.015484</td>\n",
       "    </tr>\n",
       "    <tr>\n",
       "      <th>50%</th>\n",
       "      <td>0.022069</td>\n",
       "      <td>0.026826</td>\n",
       "    </tr>\n",
       "    <tr>\n",
       "      <th>75%</th>\n",
       "      <td>0.044746</td>\n",
       "      <td>0.039909</td>\n",
       "    </tr>\n",
       "    <tr>\n",
       "      <th>max</th>\n",
       "      <td>0.197384</td>\n",
       "      <td>0.097150</td>\n",
       "    </tr>\n",
       "  </tbody>\n",
       "</table>\n",
       "</div>"
      ],
      "text/plain": [
       "           y_test        Pred\n",
       "count  177.000000  177.000000\n",
       "mean     0.030675    0.028833\n",
       "std      0.031995    0.016802\n",
       "min      0.000000    0.001089\n",
       "25%      0.006971    0.015484\n",
       "50%      0.022069    0.026826\n",
       "75%      0.044746    0.039909\n",
       "max      0.197384    0.097150"
      ]
     },
     "execution_count": 157,
     "metadata": {},
     "output_type": "execute_result"
    }
   ],
   "source": [
    "df_predictions_test.describe()"
   ]
  },
  {
   "cell_type": "code",
   "execution_count": 104,
   "metadata": {},
   "outputs": [],
   "source": [
    "# df_predictions_test.to_excel(\"/Users/lszczyrba/Documents/Research/Projects/PR_Housing/Data/sgb_no0_testpred.xlsx\")\n",
    "# df_predictions_train.to_excel(\"/Users/lszczyrba/Documents/Research/Projects/PR_Housing/Data/sgb_no0_trainpred.xlsx\")"
   ]
  },
  {
   "cell_type": "markdown",
   "metadata": {},
   "source": [
    "# Impurity importance"
   ]
  },
  {
   "cell_type": "code",
   "execution_count": 50,
   "metadata": {},
   "outputs": [],
   "source": [
    "def calc_gini_importances(x_train, model):\n",
    "    importances = model.feature_importances_\n",
    "    importances_df = pd.DataFrame(importances, x_train.columns,\n",
    "                                  columns=['Importance'])\n",
    "    #.sort_values('Importance', ascending=False)\n",
    "    importances_df.reset_index(inplace=True)\n",
    "    importances_df.rename(columns={'index':'Feature'}, inplace=True)\n",
    "    return importances_df\n"
   ]
  },
  {
   "cell_type": "code",
   "execution_count": 51,
   "metadata": {},
   "outputs": [],
   "source": [
    "# indicate if reg_model or class_model\n",
    "# EXAMPLE\n",
    "df_gini_importances = calc_gini_importances(x_train, IDEAL10)"
   ]
  },
  {
   "cell_type": "code",
   "execution_count": 52,
   "metadata": {},
   "outputs": [
    {
     "data": {
      "text/html": [
       "<div>\n",
       "<style scoped>\n",
       "    .dataframe tbody tr th:only-of-type {\n",
       "        vertical-align: middle;\n",
       "    }\n",
       "\n",
       "    .dataframe tbody tr th {\n",
       "        vertical-align: top;\n",
       "    }\n",
       "\n",
       "    .dataframe thead th {\n",
       "        text-align: right;\n",
       "    }\n",
       "</style>\n",
       "<table border=\"1\" class=\"dataframe\">\n",
       "  <thead>\n",
       "    <tr style=\"text-align: right;\">\n",
       "      <th></th>\n",
       "      <th>Feature</th>\n",
       "      <th>Importance</th>\n",
       "    </tr>\n",
       "  </thead>\n",
       "  <tbody>\n",
       "    <tr>\n",
       "      <th>0</th>\n",
       "      <td>PropSFHA</td>\n",
       "      <td>0.118575</td>\n",
       "    </tr>\n",
       "    <tr>\n",
       "      <th>1</th>\n",
       "      <td>AveDepth</td>\n",
       "      <td>0.096961</td>\n",
       "    </tr>\n",
       "    <tr>\n",
       "      <th>2</th>\n",
       "      <td>PropDG</td>\n",
       "      <td>0.061893</td>\n",
       "    </tr>\n",
       "    <tr>\n",
       "      <th>3</th>\n",
       "      <td>AveLS</td>\n",
       "      <td>0.103846</td>\n",
       "    </tr>\n",
       "    <tr>\n",
       "      <th>4</th>\n",
       "      <td>HurTrack</td>\n",
       "      <td>0.133689</td>\n",
       "    </tr>\n",
       "    <tr>\n",
       "      <th>5</th>\n",
       "      <td>PeakGust</td>\n",
       "      <td>0.138047</td>\n",
       "    </tr>\n",
       "    <tr>\n",
       "      <th>6</th>\n",
       "      <td>SpecCom</td>\n",
       "      <td>0.143719</td>\n",
       "    </tr>\n",
       "    <tr>\n",
       "      <th>7</th>\n",
       "      <td>CDC_Tot</td>\n",
       "      <td>0.203269</td>\n",
       "    </tr>\n",
       "  </tbody>\n",
       "</table>\n",
       "</div>"
      ],
      "text/plain": [
       "    Feature  Importance\n",
       "0  PropSFHA    0.118575\n",
       "1  AveDepth    0.096961\n",
       "2    PropDG    0.061893\n",
       "3     AveLS    0.103846\n",
       "4  HurTrack    0.133689\n",
       "5  PeakGust    0.138047\n",
       "6   SpecCom    0.143719\n",
       "7   CDC_Tot    0.203269"
      ]
     },
     "execution_count": 52,
     "metadata": {},
     "output_type": "execute_result"
    }
   ],
   "source": [
    "df_gini_importances"
   ]
  },
  {
   "cell_type": "code",
   "execution_count": 53,
   "metadata": {},
   "outputs": [],
   "source": [
    "df_gini_importances['Labels'] = ['PropSFHA', 'AveDepth', 'PropFA', 'AveLS', 'HurTrack', 'PeakGust', 'PropSC', 'StrVI', 'SeVI', 'CDCVuln']\n",
    "#df_gini_importances['Labels'] = ['PropSFHA', 'AveDepth', 'PropFA', 'AveLS', 'HurTrack', 'PeakGust', 'PropSC','CDCVuln']"
   ]
  },
  {
   "cell_type": "code",
   "execution_count": 54,
   "metadata": {},
   "outputs": [
    {
     "data": {
      "text/html": [
       "<div>\n",
       "<style scoped>\n",
       "    .dataframe tbody tr th:only-of-type {\n",
       "        vertical-align: middle;\n",
       "    }\n",
       "\n",
       "    .dataframe tbody tr th {\n",
       "        vertical-align: top;\n",
       "    }\n",
       "\n",
       "    .dataframe thead th {\n",
       "        text-align: right;\n",
       "    }\n",
       "</style>\n",
       "<table border=\"1\" class=\"dataframe\">\n",
       "  <thead>\n",
       "    <tr style=\"text-align: right;\">\n",
       "      <th></th>\n",
       "      <th>Feature</th>\n",
       "      <th>Importance</th>\n",
       "      <th>Labels</th>\n",
       "    </tr>\n",
       "  </thead>\n",
       "  <tbody>\n",
       "    <tr>\n",
       "      <th>0</th>\n",
       "      <td>PropSFHA</td>\n",
       "      <td>0.118575</td>\n",
       "      <td>PropSFHA</td>\n",
       "    </tr>\n",
       "    <tr>\n",
       "      <th>1</th>\n",
       "      <td>AveDepth</td>\n",
       "      <td>0.096961</td>\n",
       "      <td>AveDepth</td>\n",
       "    </tr>\n",
       "    <tr>\n",
       "      <th>2</th>\n",
       "      <td>PropDG</td>\n",
       "      <td>0.061893</td>\n",
       "      <td>PropFA</td>\n",
       "    </tr>\n",
       "    <tr>\n",
       "      <th>3</th>\n",
       "      <td>AveLS</td>\n",
       "      <td>0.103846</td>\n",
       "      <td>AveLS</td>\n",
       "    </tr>\n",
       "    <tr>\n",
       "      <th>4</th>\n",
       "      <td>HurTrack</td>\n",
       "      <td>0.133689</td>\n",
       "      <td>HurTrack</td>\n",
       "    </tr>\n",
       "    <tr>\n",
       "      <th>5</th>\n",
       "      <td>PeakGust</td>\n",
       "      <td>0.138047</td>\n",
       "      <td>PeakGust</td>\n",
       "    </tr>\n",
       "    <tr>\n",
       "      <th>6</th>\n",
       "      <td>SpecCom</td>\n",
       "      <td>0.143719</td>\n",
       "      <td>PropSC</td>\n",
       "    </tr>\n",
       "    <tr>\n",
       "      <th>7</th>\n",
       "      <td>CDC_Tot</td>\n",
       "      <td>0.203269</td>\n",
       "      <td>CDCVuln</td>\n",
       "    </tr>\n",
       "  </tbody>\n",
       "</table>\n",
       "</div>"
      ],
      "text/plain": [
       "    Feature  Importance    Labels\n",
       "0  PropSFHA    0.118575  PropSFHA\n",
       "1  AveDepth    0.096961  AveDepth\n",
       "2    PropDG    0.061893    PropFA\n",
       "3     AveLS    0.103846     AveLS\n",
       "4  HurTrack    0.133689  HurTrack\n",
       "5  PeakGust    0.138047  PeakGust\n",
       "6   SpecCom    0.143719    PropSC\n",
       "7   CDC_Tot    0.203269   CDCVuln"
      ]
     },
     "execution_count": 54,
     "metadata": {},
     "output_type": "execute_result"
    }
   ],
   "source": [
    "df_gini_importances"
   ]
  },
  {
   "cell_type": "code",
   "execution_count": 57,
   "metadata": {},
   "outputs": [],
   "source": [
    "def plot_importance(df_gini_importances):\n",
    "    df_gini_importances.sort_values('Importance', ascending=False).plot.bar('Labels',\n",
    "                                                                            'Importance', \n",
    "                                                                            color='maroon', \n",
    "                                                                            legend = False, zorder=3)\n",
    "    plt.title(\"\", fontsize = 25)\n",
    "    plt.ylabel('Mean Decrease in MSE', fontsize = 18)\n",
    "    plt.xlabel('')\n",
    "    plt.xticks(fontsize = 18, rotation = 45, ha='right')\n",
    "    plt.yticks(fontsize = 18)\n",
    "    #plt.grid(True)\n",
    "    #plt.savefig('SGB_DI2_NoSoviStrvi_Dflt_FI.png', dpi=600, bbox_inches = \"tight\")\n",
    "    \n"
   ]
  },
  {
   "cell_type": "code",
   "execution_count": 58,
   "metadata": {},
   "outputs": [
    {
     "data": {
      "image/png": "[encoded data removed]",
      "text/plain": [
       "<Figure size 432x288 with 1 Axes>"
      ]
     },
     "metadata": {},
     "output_type": "display_data"
    }
   ],
   "source": [
    "# EXAMPLE\n",
    "# these values are Normalized Average Decrease In Total MSE\n",
    "plot_importance(df_gini_importances)"
   ]
  },
  {
   "cell_type": "markdown",
   "metadata": {},
   "source": [
    "# Permutation Importance"
   ]
  },
  {
   "cell_type": "code",
   "execution_count": 163,
   "metadata": {},
   "outputs": [
    {
     "data": {
      "text/plain": [
       "Index(['PropSFHA', 'AveDepth', 'PropDG', 'AveLS', 'HurTrack', 'PeakGust',\n",
       "       'SpecCom', 'STRVI_1', 'SEVI_1', 'CDC_Tot'],\n",
       "      dtype='object')"
      ]
     },
     "execution_count": 163,
     "metadata": {},
     "output_type": "execute_result"
    }
   ],
   "source": [
    "x_train.columns"
   ]
  },
  {
   "cell_type": "code",
   "execution_count": 164,
   "metadata": {},
   "outputs": [
    {
     "data": {
      "text/plain": [
       "0.69966010889034325"
      ]
     },
     "execution_count": 164,
     "metadata": {},
     "output_type": "execute_result"
    }
   ],
   "source": [
    "IDEAL4AA.score(x_train,y_train)"
   ]
  },
  {
   "cell_type": "code",
   "execution_count": 62,
   "metadata": {},
   "outputs": [],
   "source": [
    "def calc_permutation_imp(model,x,y, features):\n",
    "    baseline = model.score(x,y)\n",
    "    imp = []\n",
    "    for col in x.columns:\n",
    "        save = x[col].copy()\n",
    "        x[col]=np.random.permutation(x[col])\n",
    "        m = model.score(x,y)\n",
    "        x[col] = save\n",
    "        imp.append(((baseline - m)/baseline)*100)\n",
    "        \n",
    "    Results = np.array(imp)\n",
    "    Results = pd.DataFrame(Results)\n",
    "    Results['Feature'] = features\n",
    "    Results.rename(columns = {0:'Importance'}, inplace=True)\n",
    "    \n",
    "    return Results"
   ]
  },
  {
   "cell_type": "code",
   "execution_count": 63,
   "metadata": {},
   "outputs": [],
   "source": [
    "features = ['PropSFHA', 'AveDepth', 'PropDG', 'AveLS', 'HurTrack',\n",
    "       'PeakGust', 'SpecCom', 'STRVI_1', 'SEVI_1', 'CDC_Tot']\n",
    "# features = ['PropSFHA', 'AveDepth', 'PropDG', 'AveLS', 'HurTrack',\n",
    "#        'PeakGust', 'SpecCom',  'CDC_Tot']\n",
    "df_perm_imp = calc_permutation_imp(IDEAL10,x_train,y_train, features)"
   ]
  },
  {
   "cell_type": "code",
   "execution_count": 64,
   "metadata": {},
   "outputs": [],
   "source": [
    "#df_perm_imp.Importance.sum()"
   ]
  },
  {
   "cell_type": "code",
   "execution_count": 65,
   "metadata": {},
   "outputs": [
    {
     "data": {
      "text/html": [
       "<div>\n",
       "<style scoped>\n",
       "    .dataframe tbody tr th:only-of-type {\n",
       "        vertical-align: middle;\n",
       "    }\n",
       "\n",
       "    .dataframe tbody tr th {\n",
       "        vertical-align: top;\n",
       "    }\n",
       "\n",
       "    .dataframe thead th {\n",
       "        text-align: right;\n",
       "    }\n",
       "</style>\n",
       "<table border=\"1\" class=\"dataframe\">\n",
       "  <thead>\n",
       "    <tr style=\"text-align: right;\">\n",
       "      <th></th>\n",
       "      <th>Importance</th>\n",
       "      <th>Feature</th>\n",
       "    </tr>\n",
       "  </thead>\n",
       "  <tbody>\n",
       "    <tr>\n",
       "      <th>0</th>\n",
       "      <td>14.153451</td>\n",
       "      <td>PropSFHA</td>\n",
       "    </tr>\n",
       "    <tr>\n",
       "      <th>1</th>\n",
       "      <td>18.013881</td>\n",
       "      <td>AveDepth</td>\n",
       "    </tr>\n",
       "    <tr>\n",
       "      <th>2</th>\n",
       "      <td>8.199058</td>\n",
       "      <td>PropDG</td>\n",
       "    </tr>\n",
       "    <tr>\n",
       "      <th>3</th>\n",
       "      <td>15.872497</td>\n",
       "      <td>AveLS</td>\n",
       "    </tr>\n",
       "    <tr>\n",
       "      <th>4</th>\n",
       "      <td>29.743194</td>\n",
       "      <td>HurTrack</td>\n",
       "    </tr>\n",
       "    <tr>\n",
       "      <th>5</th>\n",
       "      <td>28.852643</td>\n",
       "      <td>PeakGust</td>\n",
       "    </tr>\n",
       "    <tr>\n",
       "      <th>6</th>\n",
       "      <td>35.669269</td>\n",
       "      <td>SpecCom</td>\n",
       "    </tr>\n",
       "    <tr>\n",
       "      <th>7</th>\n",
       "      <td>34.446087</td>\n",
       "      <td>CDC_Tot</td>\n",
       "    </tr>\n",
       "  </tbody>\n",
       "</table>\n",
       "</div>"
      ],
      "text/plain": [
       "   Importance   Feature\n",
       "0   14.153451  PropSFHA\n",
       "1   18.013881  AveDepth\n",
       "2    8.199058    PropDG\n",
       "3   15.872497     AveLS\n",
       "4   29.743194  HurTrack\n",
       "5   28.852643  PeakGust\n",
       "6   35.669269   SpecCom\n",
       "7   34.446087   CDC_Tot"
      ]
     },
     "execution_count": 65,
     "metadata": {},
     "output_type": "execute_result"
    }
   ],
   "source": [
    "df_perm_imp"
   ]
  },
  {
   "cell_type": "code",
   "execution_count": 66,
   "metadata": {},
   "outputs": [],
   "source": [
    "#df_perm_imp['Labels'] = ['PropSFHA', 'AveDepth', 'PropFA', 'AveLS', 'HurTrack', 'PeakGust', 'PropSC', 'StrVI', 'SeVI', 'CDCVuln']\n",
    "df_perm_imp['Labels'] = ['PropSFHA', 'AveDepth', 'PropFA', 'AveLS', 'HurTrack', 'PeakGust', 'PropSC','CDCVuln']\n"
   ]
  },
  {
   "cell_type": "code",
   "execution_count": 67,
   "metadata": {},
   "outputs": [
    {
     "data": {
      "text/html": [
       "<div>\n",
       "<style scoped>\n",
       "    .dataframe tbody tr th:only-of-type {\n",
       "        vertical-align: middle;\n",
       "    }\n",
       "\n",
       "    .dataframe tbody tr th {\n",
       "        vertical-align: top;\n",
       "    }\n",
       "\n",
       "    .dataframe thead th {\n",
       "        text-align: right;\n",
       "    }\n",
       "</style>\n",
       "<table border=\"1\" class=\"dataframe\">\n",
       "  <thead>\n",
       "    <tr style=\"text-align: right;\">\n",
       "      <th></th>\n",
       "      <th>Importance</th>\n",
       "      <th>Feature</th>\n",
       "      <th>Labels</th>\n",
       "    </tr>\n",
       "  </thead>\n",
       "  <tbody>\n",
       "    <tr>\n",
       "      <th>0</th>\n",
       "      <td>14.153451</td>\n",
       "      <td>PropSFHA</td>\n",
       "      <td>PropSFHA</td>\n",
       "    </tr>\n",
       "    <tr>\n",
       "      <th>1</th>\n",
       "      <td>18.013881</td>\n",
       "      <td>AveDepth</td>\n",
       "      <td>AveDepth</td>\n",
       "    </tr>\n",
       "    <tr>\n",
       "      <th>2</th>\n",
       "      <td>8.199058</td>\n",
       "      <td>PropDG</td>\n",
       "      <td>PropFA</td>\n",
       "    </tr>\n",
       "    <tr>\n",
       "      <th>3</th>\n",
       "      <td>15.872497</td>\n",
       "      <td>AveLS</td>\n",
       "      <td>AveLS</td>\n",
       "    </tr>\n",
       "    <tr>\n",
       "      <th>4</th>\n",
       "      <td>29.743194</td>\n",
       "      <td>HurTrack</td>\n",
       "      <td>HurTrack</td>\n",
       "    </tr>\n",
       "    <tr>\n",
       "      <th>5</th>\n",
       "      <td>28.852643</td>\n",
       "      <td>PeakGust</td>\n",
       "      <td>PeakGust</td>\n",
       "    </tr>\n",
       "    <tr>\n",
       "      <th>6</th>\n",
       "      <td>35.669269</td>\n",
       "      <td>SpecCom</td>\n",
       "      <td>PropSC</td>\n",
       "    </tr>\n",
       "    <tr>\n",
       "      <th>7</th>\n",
       "      <td>34.446087</td>\n",
       "      <td>CDC_Tot</td>\n",
       "      <td>CDCVuln</td>\n",
       "    </tr>\n",
       "  </tbody>\n",
       "</table>\n",
       "</div>"
      ],
      "text/plain": [
       "   Importance   Feature    Labels\n",
       "0   14.153451  PropSFHA  PropSFHA\n",
       "1   18.013881  AveDepth  AveDepth\n",
       "2    8.199058    PropDG    PropFA\n",
       "3   15.872497     AveLS     AveLS\n",
       "4   29.743194  HurTrack  HurTrack\n",
       "5   28.852643  PeakGust  PeakGust\n",
       "6   35.669269   SpecCom    PropSC\n",
       "7   34.446087   CDC_Tot   CDCVuln"
      ]
     },
     "execution_count": 67,
     "metadata": {},
     "output_type": "execute_result"
    }
   ],
   "source": [
    "df_perm_imp"
   ]
  },
  {
   "cell_type": "code",
   "execution_count": 69,
   "metadata": {},
   "outputs": [
    {
     "data": {
      "image/png": "[encoded data removed]",
      "text/plain": [
       "<Figure size 432x288 with 1 Axes>"
      ]
     },
     "metadata": {},
     "output_type": "display_data"
    }
   ],
   "source": [
    "df_perm_imp.sort_values('Importance', ascending=False).plot.bar('Labels',\n",
    "                                                                            'Importance', \n",
    "                                                                            color='maroon', \n",
    "                                                                            legend = False, zorder=3)\n",
    "plt.title(\"\", fontsize = 25)\n",
    "plt.ylabel('% Decrease in ' + r'$R^2$', fontsize = 18)\n",
    "plt.xlabel('')\n",
    "plt.xticks(fontsize = 18, rotation = 45, ha='right')\n",
    "plt.yticks(fontsize = 18)\n",
    "#plt.grid(True)\n",
    "#plt.savefig('SGB_DI2_NoSoviStrvi_Perm_FI.png', dpi=600, bbox_inches = \"tight\")"
   ]
  },
  {
   "cell_type": "code",
   "execution_count": 234,
   "metadata": {},
   "outputs": [],
   "source": [
    "# ## Y LABLEL SHOULD BE Percent DECREASE IN R^2\n",
    "# plot_importance(df_perm_imp)"
   ]
  },
  {
   "cell_type": "code",
   "execution_count": 125,
   "metadata": {},
   "outputs": [],
   "source": [
    "# def calc_permutation_imp(model,x,y,features):\n",
    "#     baseline = model.score(x,y)\n",
    "#     imp = []\n",
    "#     features = features\n",
    "#     for col in features:\n",
    "#         save = x.copy()\n",
    "#         x[col]=np.random.permutation(x[col])\n",
    "#         m = model.score(x,y)\n",
    "#         x[col] = save\n",
    "#         imp.append(baseline - m)\n",
    "#     Results = np.array(imp)\n",
    "#     Results = pd.DataFrame(Results)\n",
    "#     Results['Feature'] = features\n",
    "#     Results.rename(columns = {0:'Importance'}, inplace=True)\n",
    "#     return Results"
   ]
  },
  {
   "cell_type": "code",
   "execution_count": 126,
   "metadata": {},
   "outputs": [],
   "source": [
    "# features = ['PropSFHA', 'AveDepth', 'PropDG', 'AveLS', 'HurTrack', 'PeakGust',\n",
    "#        'SpecCom', 'STRVI_1', 'SEVI_1', 'CDC_Tot'] \n",
    "# df_perm_imp = calc_permutation_imp(IDEAL4,x_train,y_train,features)"
   ]
  },
  {
   "cell_type": "code",
   "execution_count": 127,
   "metadata": {},
   "outputs": [],
   "source": [
    "# plot_importance(df_perm_imp)"
   ]
  },
  {
   "cell_type": "markdown",
   "metadata": {},
   "source": [
    "### Group Permutation Importance"
   ]
  },
  {
   "cell_type": "code",
   "execution_count": 70,
   "metadata": {},
   "outputs": [
    {
     "data": {
      "text/plain": [
       "Index(['PropSFHA', 'AveDepth', 'PropDG', 'AveLS', 'HurTrack', 'PeakGust',\n",
       "       'SpecCom', 'CDC_Tot'],\n",
       "      dtype='object')"
      ]
     },
     "execution_count": 70,
     "metadata": {},
     "output_type": "execute_result"
    }
   ],
   "source": [
    "x_train.columns"
   ]
  },
  {
   "cell_type": "code",
   "execution_count": 71,
   "metadata": {},
   "outputs": [],
   "source": [
    "features = [['PeakGust', 'HurTrack'],\n",
    "           ['STRVI_1', 'SpecCom', 'SEVI_1', 'CDC_Tot'],\n",
    "           ['AveDepth', 'PropDG', 'PropSFHA'],\n",
    "           ['AveLS']]\n",
    "\n",
    "# features = [['PeakGust', 'HurTrack'],\n",
    "#            ['SpecCom','CDC_Tot'],\n",
    "#            ['AveDepth', 'PropDG', 'PropSFHA'],\n",
    "#            ['AveLS']]"
   ]
  },
  {
   "cell_type": "code",
   "execution_count": 73,
   "metadata": {},
   "outputs": [],
   "source": [
    "I = importances(IDEAL10, x_train,y_train, features=features)"
   ]
  },
  {
   "cell_type": "code",
   "execution_count": 74,
   "metadata": {},
   "outputs": [
    {
     "data": {
      "image/svg+xml": [
       "<?xml version=\"1.0\" encoding=\"utf-8\" standalone=\"no\"?>\n",
       "<!DOCTYPE svg PUBLIC \"-//W3C//DTD SVG 1.1//EN\"\n",
       "  \"http://www.w3.org/Graphics/SVG/1.1/DTD/svg11.dtd\">\n",
       "<!-- Created with matplotlib (https://matplotlib.org/) -->\n",
       "<svg height=\"100.478125pt\" version=\"1.1\" viewBox=\"0 0 266.521875 100.478125\" width=\"266.521875pt\" xmlns=\"http://www.w3.org/2000/svg\" xmlns:xlink=\"http://www.w3.org/1999/xlink\">\n",
       " <defs>\n",
       "  <style type=\"text/css\">\n",
       "*{stroke-linecap:butt;stroke-linejoin:round;}\n",
       "  </style>\n",
       " </defs>\n",
       " <g id=\"figure_1\">\n",
       "  <g id=\"patch_1\">\n",
       "   <path d=\"M 0 100.478125 \n",
       "L 266.521875 100.478125 \n",
       "L 266.521875 0 \n",
       "L 0 0 \n",
       "z\n",
       "\" style=\"fill:#ffffff;\"/>\n",
       "  </g>\n",
       "  <g id=\"axes_1\">\n",
       "   <g id=\"patch_2\">\n",
       "    <path d=\"M 56.364063 83.8 \n",
       "L 255.389063 83.8 \n",
       "L 255.389063 0 \n",
       "L 56.364063 0 \n",
       "z\n",
       "\" style=\"fill:#ffffff;\"/>\n",
       "   </g>\n",
       "   <g id=\"patch_3\">\n",
       "    <path clip-path=\"url(#p2c66fe59ed)\" d=\"M 57.122987 0.985882 \n",
       "L 254.630138 0.985882 \n",
       "L 254.630138 20.703529 \n",
       "L 57.122987 20.703529 \n",
       "z\n",
       "\" style=\"fill:#d9e6f5;stroke:#444443;stroke-linejoin:miter;stroke-width:0.5;\"/>\n",
       "   </g>\n",
       "   <g id=\"patch_4\">\n",
       "    <path clip-path=\"url(#p2c66fe59ed)\" d=\"M 57.122987 21.689412 \n",
       "L 243.906877 21.689412 \n",
       "L 243.906877 41.407059 \n",
       "L 57.122987 41.407059 \n",
       "z\n",
       "\" style=\"fill:#d9e6f5;stroke:#444443;stroke-linejoin:miter;stroke-width:0.5;\"/>\n",
       "   </g>\n",
       "   <g id=\"patch_5\">\n",
       "    <path clip-path=\"url(#p2c66fe59ed)\" d=\"M 57.122987 42.392941 \n",
       "L 184.458331 42.392941 \n",
       "L 184.458331 71.969412 \n",
       "L 57.122987 71.969412 \n",
       "z\n",
       "\" style=\"fill:#d9e6f5;stroke:#444443;stroke-linejoin:miter;stroke-width:0.5;\"/>\n",
       "   </g>\n",
       "   <g id=\"patch_6\">\n",
       "    <path clip-path=\"url(#p2c66fe59ed)\" d=\"M 57.122987 72.955294 \n",
       "L 111.170507 72.955294 \n",
       "L 111.170507 82.814118 \n",
       "L 57.122987 82.814118 \n",
       "z\n",
       "\" style=\"fill:#d9e6f5;stroke:#444443;stroke-linejoin:miter;stroke-width:0.5;\"/>\n",
       "   </g>\n",
       "   <g id=\"matplotlib.axis_1\">\n",
       "    <g id=\"xtick_1\">\n",
       "     <g id=\"line2d_1\">\n",
       "      <defs>\n",
       "       <path d=\"M 0 0 \n",
       "L 0 3.5 \n",
       "\" id=\"m639e5480d1\" style=\"stroke:#000000;stroke-width:0.8;\"/>\n",
       "      </defs>\n",
       "      <g>\n",
       "       <use style=\"stroke:#000000;stroke-width:0.8;\" x=\"57.122987\" xlink:href=\"#m639e5480d1\" y=\"83.8\"/>\n",
       "      </g>\n",
       "     </g>\n",
       "     <g id=\"text_1\">\n",
       "      <!-- 0.00 -->\n",
       "      <defs>\n",
       "       <path d=\"M 31.78125 66.40625 \n",
       "Q 24.171875 66.40625 20.328125 58.90625 \n",
       "Q 16.5 51.421875 16.5 36.375 \n",
       "Q 16.5 21.390625 20.328125 13.890625 \n",
       "Q 24.171875 6.390625 31.78125 6.390625 \n",
       "Q 39.453125 6.390625 43.28125 13.890625 \n",
       "Q 47.125 21.390625 47.125 36.375 \n",
       "Q 47.125 51.421875 43.28125 58.90625 \n",
       "Q 39.453125 66.40625 31.78125 66.40625 \n",
       "z\n",
       "M 31.78125 74.21875 \n",
       "Q 44.046875 74.21875 50.515625 64.515625 \n",
       "Q 56.984375 54.828125 56.984375 36.375 \n",
       "Q 56.984375 17.96875 50.515625 8.265625 \n",
       "Q 44.046875 -1.421875 31.78125 -1.421875 \n",
       "Q 19.53125 -1.421875 13.0625 8.265625 \n",
       "Q 6.59375 17.96875 6.59375 36.375 \n",
       "Q 6.59375 54.828125 13.0625 64.515625 \n",
       "Q 19.53125 74.21875 31.78125 74.21875 \n",
       "z\n",
       "\" id=\"DejaVuSans-48\"/>\n",
       "       <path d=\"M 10.6875 12.40625 \n",
       "L 21 12.40625 \n",
       "L 21 0 \n",
       "L 10.6875 0 \n",
       "z\n",
       "\" id=\"DejaVuSans-46\"/>\n",
       "      </defs>\n",
       "      <g style=\"fill:#444443;\" transform=\"translate(45.990174 98.398437)scale(0.1 -0.1)\">\n",
       "       <use xlink:href=\"#DejaVuSans-48\"/>\n",
       "       <use x=\"63.623047\" xlink:href=\"#DejaVuSans-46\"/>\n",
       "       <use x=\"95.410156\" xlink:href=\"#DejaVuSans-48\"/>\n",
       "       <use x=\"159.033203\" xlink:href=\"#DejaVuSans-48\"/>\n",
       "      </g>\n",
       "     </g>\n",
       "    </g>\n",
       "    <g id=\"xtick_2\">\n",
       "     <g id=\"line2d_2\">\n",
       "      <g>\n",
       "       <use style=\"stroke:#000000;stroke-width:0.8;\" x=\"255.389063\" xlink:href=\"#m639e5480d1\" y=\"83.8\"/>\n",
       "      </g>\n",
       "     </g>\n",
       "     <g id=\"text_2\">\n",
       "      <!-- 0.52 -->\n",
       "      <defs>\n",
       "       <path d=\"M 10.796875 72.90625 \n",
       "L 49.515625 72.90625 \n",
       "L 49.515625 64.59375 \n",
       "L 19.828125 64.59375 \n",
       "L 19.828125 46.734375 \n",
       "Q 21.96875 47.46875 24.109375 47.828125 \n",
       "Q 26.265625 48.1875 28.421875 48.1875 \n",
       "Q 40.625 48.1875 47.75 41.5 \n",
       "Q 54.890625 34.8125 54.890625 23.390625 \n",
       "Q 54.890625 11.625 47.5625 5.09375 \n",
       "Q 40.234375 -1.421875 26.90625 -1.421875 \n",
       "Q 22.3125 -1.421875 17.546875 -0.640625 \n",
       "Q 12.796875 0.140625 7.71875 1.703125 \n",
       "L 7.71875 11.625 \n",
       "Q 12.109375 9.234375 16.796875 8.0625 \n",
       "Q 21.484375 6.890625 26.703125 6.890625 \n",
       "Q 35.15625 6.890625 40.078125 11.328125 \n",
       "Q 45.015625 15.765625 45.015625 23.390625 \n",
       "Q 45.015625 31 40.078125 35.4375 \n",
       "Q 35.15625 39.890625 26.703125 39.890625 \n",
       "Q 22.75 39.890625 18.8125 39.015625 \n",
       "Q 14.890625 38.140625 10.796875 36.28125 \n",
       "z\n",
       "\" id=\"DejaVuSans-53\"/>\n",
       "       <path d=\"M 19.1875 8.296875 \n",
       "L 53.609375 8.296875 \n",
       "L 53.609375 0 \n",
       "L 7.328125 0 \n",
       "L 7.328125 8.296875 \n",
       "Q 12.9375 14.109375 22.625 23.890625 \n",
       "Q 32.328125 33.6875 34.8125 36.53125 \n",
       "Q 39.546875 41.84375 41.421875 45.53125 \n",
       "Q 43.3125 49.21875 43.3125 52.78125 \n",
       "Q 43.3125 58.59375 39.234375 62.25 \n",
       "Q 35.15625 65.921875 28.609375 65.921875 \n",
       "Q 23.96875 65.921875 18.8125 64.3125 \n",
       "Q 13.671875 62.703125 7.8125 59.421875 \n",
       "L 7.8125 69.390625 \n",
       "Q 13.765625 71.78125 18.9375 73 \n",
       "Q 24.125 74.21875 28.421875 74.21875 \n",
       "Q 39.75 74.21875 46.484375 68.546875 \n",
       "Q 53.21875 62.890625 53.21875 53.421875 \n",
       "Q 53.21875 48.921875 51.53125 44.890625 \n",
       "Q 49.859375 40.875 45.40625 35.40625 \n",
       "Q 44.1875 33.984375 37.640625 27.21875 \n",
       "Q 31.109375 20.453125 19.1875 8.296875 \n",
       "z\n",
       "\" id=\"DejaVuSans-50\"/>\n",
       "      </defs>\n",
       "      <g style=\"fill:#444443;\" transform=\"translate(244.25625 98.398437)scale(0.1 -0.1)\">\n",
       "       <use xlink:href=\"#DejaVuSans-48\"/>\n",
       "       <use x=\"63.623047\" xlink:href=\"#DejaVuSans-46\"/>\n",
       "       <use x=\"95.410156\" xlink:href=\"#DejaVuSans-53\"/>\n",
       "       <use x=\"159.033203\" xlink:href=\"#DejaVuSans-50\"/>\n",
       "      </g>\n",
       "     </g>\n",
       "    </g>\n",
       "   </g>\n",
       "   <g id=\"matplotlib.axis_2\">\n",
       "    <g id=\"ytick_1\">\n",
       "     <g id=\"line2d_3\">\n",
       "      <defs>\n",
       "       <path d=\"M 0 0 \n",
       "L -3.5 0 \n",
       "\" id=\"m48f64eeb2b\" style=\"stroke:#000000;stroke-width:0.8;\"/>\n",
       "      </defs>\n",
       "      <g>\n",
       "       <use style=\"stroke:#000000;stroke-width:0.8;\" x=\"56.364063\" xlink:href=\"#m48f64eeb2b\" y=\"10.844706\"/>\n",
       "      </g>\n",
       "     </g>\n",
       "     <g id=\"text_3\">\n",
       "      <!-- SpecCom -->\n",
       "      <defs>\n",
       "       <path d=\"M 53.515625 70.515625 \n",
       "L 53.515625 60.890625 \n",
       "Q 47.90625 63.578125 42.921875 64.890625 \n",
       "Q 37.9375 66.21875 33.296875 66.21875 \n",
       "Q 25.25 66.21875 20.875 63.09375 \n",
       "Q 16.5 59.96875 16.5 54.203125 \n",
       "Q 16.5 49.359375 19.40625 46.890625 \n",
       "Q 22.3125 44.4375 30.421875 42.921875 \n",
       "L 36.375 41.703125 \n",
       "Q 47.40625 39.59375 52.65625 34.296875 \n",
       "Q 57.90625 29 57.90625 20.125 \n",
       "Q 57.90625 9.515625 50.796875 4.046875 \n",
       "Q 43.703125 -1.421875 29.984375 -1.421875 \n",
       "Q 24.8125 -1.421875 18.96875 -0.25 \n",
       "Q 13.140625 0.921875 6.890625 3.21875 \n",
       "L 6.890625 13.375 \n",
       "Q 12.890625 10.015625 18.65625 8.296875 \n",
       "Q 24.421875 6.59375 29.984375 6.59375 \n",
       "Q 38.421875 6.59375 43.015625 9.90625 \n",
       "Q 47.609375 13.234375 47.609375 19.390625 \n",
       "Q 47.609375 24.75 44.3125 27.78125 \n",
       "Q 41.015625 30.8125 33.5 32.328125 \n",
       "L 27.484375 33.5 \n",
       "Q 16.453125 35.6875 11.515625 40.375 \n",
       "Q 6.59375 45.0625 6.59375 53.421875 \n",
       "Q 6.59375 63.09375 13.40625 68.65625 \n",
       "Q 20.21875 74.21875 32.171875 74.21875 \n",
       "Q 37.3125 74.21875 42.625 73.28125 \n",
       "Q 47.953125 72.359375 53.515625 70.515625 \n",
       "z\n",
       "\" id=\"DejaVuSans-83\"/>\n",
       "       <path d=\"M 18.109375 8.203125 \n",
       "L 18.109375 -20.796875 \n",
       "L 9.078125 -20.796875 \n",
       "L 9.078125 54.6875 \n",
       "L 18.109375 54.6875 \n",
       "L 18.109375 46.390625 \n",
       "Q 20.953125 51.265625 25.265625 53.625 \n",
       "Q 29.59375 56 35.59375 56 \n",
       "Q 45.5625 56 51.78125 48.09375 \n",
       "Q 58.015625 40.1875 58.015625 27.296875 \n",
       "Q 58.015625 14.40625 51.78125 6.484375 \n",
       "Q 45.5625 -1.421875 35.59375 -1.421875 \n",
       "Q 29.59375 -1.421875 25.265625 0.953125 \n",
       "Q 20.953125 3.328125 18.109375 8.203125 \n",
       "z\n",
       "M 48.6875 27.296875 \n",
       "Q 48.6875 37.203125 44.609375 42.84375 \n",
       "Q 40.53125 48.484375 33.40625 48.484375 \n",
       "Q 26.265625 48.484375 22.1875 42.84375 \n",
       "Q 18.109375 37.203125 18.109375 27.296875 \n",
       "Q 18.109375 17.390625 22.1875 11.75 \n",
       "Q 26.265625 6.109375 33.40625 6.109375 \n",
       "Q 40.53125 6.109375 44.609375 11.75 \n",
       "Q 48.6875 17.390625 48.6875 27.296875 \n",
       "z\n",
       "\" id=\"DejaVuSans-112\"/>\n",
       "       <path d=\"M 56.203125 29.59375 \n",
       "L 56.203125 25.203125 \n",
       "L 14.890625 25.203125 \n",
       "Q 15.484375 15.921875 20.484375 11.0625 \n",
       "Q 25.484375 6.203125 34.421875 6.203125 \n",
       "Q 39.59375 6.203125 44.453125 7.46875 \n",
       "Q 49.3125 8.734375 54.109375 11.28125 \n",
       "L 54.109375 2.78125 \n",
       "Q 49.265625 0.734375 44.1875 -0.34375 \n",
       "Q 39.109375 -1.421875 33.890625 -1.421875 \n",
       "Q 20.796875 -1.421875 13.15625 6.1875 \n",
       "Q 5.515625 13.8125 5.515625 26.8125 \n",
       "Q 5.515625 40.234375 12.765625 48.109375 \n",
       "Q 20.015625 56 32.328125 56 \n",
       "Q 43.359375 56 49.78125 48.890625 \n",
       "Q 56.203125 41.796875 56.203125 29.59375 \n",
       "z\n",
       "M 47.21875 32.234375 \n",
       "Q 47.125 39.59375 43.09375 43.984375 \n",
       "Q 39.0625 48.390625 32.421875 48.390625 \n",
       "Q 24.90625 48.390625 20.390625 44.140625 \n",
       "Q 15.875 39.890625 15.1875 32.171875 \n",
       "z\n",
       "\" id=\"DejaVuSans-101\"/>\n",
       "       <path d=\"M 48.78125 52.59375 \n",
       "L 48.78125 44.1875 \n",
       "Q 44.96875 46.296875 41.140625 47.34375 \n",
       "Q 37.3125 48.390625 33.40625 48.390625 \n",
       "Q 24.65625 48.390625 19.8125 42.84375 \n",
       "Q 14.984375 37.3125 14.984375 27.296875 \n",
       "Q 14.984375 17.28125 19.8125 11.734375 \n",
       "Q 24.65625 6.203125 33.40625 6.203125 \n",
       "Q 37.3125 6.203125 41.140625 7.25 \n",
       "Q 44.96875 8.296875 48.78125 10.40625 \n",
       "L 48.78125 2.09375 \n",
       "Q 45.015625 0.34375 40.984375 -0.53125 \n",
       "Q 36.96875 -1.421875 32.421875 -1.421875 \n",
       "Q 20.0625 -1.421875 12.78125 6.34375 \n",
       "Q 5.515625 14.109375 5.515625 27.296875 \n",
       "Q 5.515625 40.671875 12.859375 48.328125 \n",
       "Q 20.21875 56 33.015625 56 \n",
       "Q 37.15625 56 41.109375 55.140625 \n",
       "Q 45.0625 54.296875 48.78125 52.59375 \n",
       "z\n",
       "\" id=\"DejaVuSans-99\"/>\n",
       "       <path d=\"M 64.40625 67.28125 \n",
       "L 64.40625 56.890625 \n",
       "Q 59.421875 61.53125 53.78125 63.8125 \n",
       "Q 48.140625 66.109375 41.796875 66.109375 \n",
       "Q 29.296875 66.109375 22.65625 58.46875 \n",
       "Q 16.015625 50.828125 16.015625 36.375 \n",
       "Q 16.015625 21.96875 22.65625 14.328125 \n",
       "Q 29.296875 6.6875 41.796875 6.6875 \n",
       "Q 48.140625 6.6875 53.78125 8.984375 \n",
       "Q 59.421875 11.28125 64.40625 15.921875 \n",
       "L 64.40625 5.609375 \n",
       "Q 59.234375 2.09375 53.4375 0.328125 \n",
       "Q 47.65625 -1.421875 41.21875 -1.421875 \n",
       "Q 24.65625 -1.421875 15.125 8.703125 \n",
       "Q 5.609375 18.84375 5.609375 36.375 \n",
       "Q 5.609375 53.953125 15.125 64.078125 \n",
       "Q 24.65625 74.21875 41.21875 74.21875 \n",
       "Q 47.75 74.21875 53.53125 72.484375 \n",
       "Q 59.328125 70.75 64.40625 67.28125 \n",
       "z\n",
       "\" id=\"DejaVuSans-67\"/>\n",
       "       <path d=\"M 30.609375 48.390625 \n",
       "Q 23.390625 48.390625 19.1875 42.75 \n",
       "Q 14.984375 37.109375 14.984375 27.296875 \n",
       "Q 14.984375 17.484375 19.15625 11.84375 \n",
       "Q 23.34375 6.203125 30.609375 6.203125 \n",
       "Q 37.796875 6.203125 41.984375 11.859375 \n",
       "Q 46.1875 17.53125 46.1875 27.296875 \n",
       "Q 46.1875 37.015625 41.984375 42.703125 \n",
       "Q 37.796875 48.390625 30.609375 48.390625 \n",
       "z\n",
       "M 30.609375 56 \n",
       "Q 42.328125 56 49.015625 48.375 \n",
       "Q 55.71875 40.765625 55.71875 27.296875 \n",
       "Q 55.71875 13.875 49.015625 6.21875 \n",
       "Q 42.328125 -1.421875 30.609375 -1.421875 \n",
       "Q 18.84375 -1.421875 12.171875 6.21875 \n",
       "Q 5.515625 13.875 5.515625 27.296875 \n",
       "Q 5.515625 40.765625 12.171875 48.375 \n",
       "Q 18.84375 56 30.609375 56 \n",
       "z\n",
       "\" id=\"DejaVuSans-111\"/>\n",
       "       <path d=\"M 52 44.1875 \n",
       "Q 55.375 50.25 60.0625 53.125 \n",
       "Q 64.75 56 71.09375 56 \n",
       "Q 79.640625 56 84.28125 50.015625 \n",
       "Q 88.921875 44.046875 88.921875 33.015625 \n",
       "L 88.921875 0 \n",
       "L 79.890625 0 \n",
       "L 79.890625 32.71875 \n",
       "Q 79.890625 40.578125 77.09375 44.375 \n",
       "Q 74.3125 48.1875 68.609375 48.1875 \n",
       "Q 61.625 48.1875 57.5625 43.546875 \n",
       "Q 53.515625 38.921875 53.515625 30.90625 \n",
       "L 53.515625 0 \n",
       "L 44.484375 0 \n",
       "L 44.484375 32.71875 \n",
       "Q 44.484375 40.625 41.703125 44.40625 \n",
       "Q 38.921875 48.1875 33.109375 48.1875 \n",
       "Q 26.21875 48.1875 22.15625 43.53125 \n",
       "Q 18.109375 38.875 18.109375 30.90625 \n",
       "L 18.109375 0 \n",
       "L 9.078125 0 \n",
       "L 9.078125 54.6875 \n",
       "L 18.109375 54.6875 \n",
       "L 18.109375 46.1875 \n",
       "Q 21.1875 51.21875 25.484375 53.609375 \n",
       "Q 29.78125 56 35.6875 56 \n",
       "Q 41.65625 56 45.828125 52.96875 \n",
       "Q 50 49.953125 52 44.1875 \n",
       "z\n",
       "\" id=\"DejaVuSans-109\"/>\n",
       "      </defs>\n",
       "      <g style=\"fill:#444443;\" transform=\"translate(2.173437 9.893143)scale(0.1 -0.1)\">\n",
       "       <use xlink:href=\"#DejaVuSans-83\"/>\n",
       "       <use x=\"63.476562\" xlink:href=\"#DejaVuSans-112\"/>\n",
       "       <use x=\"126.953125\" xlink:href=\"#DejaVuSans-101\"/>\n",
       "       <use x=\"188.476562\" xlink:href=\"#DejaVuSans-99\"/>\n",
       "       <use x=\"243.457031\" xlink:href=\"#DejaVuSans-67\"/>\n",
       "       <use x=\"313.28125\" xlink:href=\"#DejaVuSans-111\"/>\n",
       "       <use x=\"374.462891\" xlink:href=\"#DejaVuSans-109\"/>\n",
       "      </g>\n",
       "      <!-- CDC_Tot -->\n",
       "      <defs>\n",
       "       <path d=\"M 19.671875 64.796875 \n",
       "L 19.671875 8.109375 \n",
       "L 31.59375 8.109375 \n",
       "Q 46.6875 8.109375 53.6875 14.9375 \n",
       "Q 60.6875 21.78125 60.6875 36.53125 \n",
       "Q 60.6875 51.171875 53.6875 57.984375 \n",
       "Q 46.6875 64.796875 31.59375 64.796875 \n",
       "z\n",
       "M 9.8125 72.90625 \n",
       "L 30.078125 72.90625 \n",
       "Q 51.265625 72.90625 61.171875 64.09375 \n",
       "Q 71.09375 55.28125 71.09375 36.53125 \n",
       "Q 71.09375 17.671875 61.125 8.828125 \n",
       "Q 51.171875 0 30.078125 0 \n",
       "L 9.8125 0 \n",
       "z\n",
       "\" id=\"DejaVuSans-68\"/>\n",
       "       <path d=\"M 50.984375 -16.609375 \n",
       "L 50.984375 -23.578125 \n",
       "L -0.984375 -23.578125 \n",
       "L -0.984375 -16.609375 \n",
       "z\n",
       "\" id=\"DejaVuSans-95\"/>\n",
       "       <path d=\"M -0.296875 72.90625 \n",
       "L 61.375 72.90625 \n",
       "L 61.375 64.59375 \n",
       "L 35.5 64.59375 \n",
       "L 35.5 0 \n",
       "L 25.59375 0 \n",
       "L 25.59375 64.59375 \n",
       "L -0.296875 64.59375 \n",
       "z\n",
       "\" id=\"DejaVuSans-84\"/>\n",
       "       <path d=\"M 18.3125 70.21875 \n",
       "L 18.3125 54.6875 \n",
       "L 36.8125 54.6875 \n",
       "L 36.8125 47.703125 \n",
       "L 18.3125 47.703125 \n",
       "L 18.3125 18.015625 \n",
       "Q 18.3125 11.328125 20.140625 9.421875 \n",
       "Q 21.96875 7.515625 27.59375 7.515625 \n",
       "L 36.8125 7.515625 \n",
       "L 36.8125 0 \n",
       "L 27.59375 0 \n",
       "Q 17.1875 0 13.234375 3.875 \n",
       "Q 9.28125 7.765625 9.28125 18.015625 \n",
       "L 9.28125 47.703125 \n",
       "L 2.6875 47.703125 \n",
       "L 2.6875 54.6875 \n",
       "L 9.28125 54.6875 \n",
       "L 9.28125 70.21875 \n",
       "z\n",
       "\" id=\"DejaVuSans-116\"/>\n",
       "      </defs>\n",
       "      <g style=\"fill:#444443;\" transform=\"translate(6.578125 21.090956)scale(0.1 -0.1)\">\n",
       "       <use xlink:href=\"#DejaVuSans-67\"/>\n",
       "       <use x=\"69.824219\" xlink:href=\"#DejaVuSans-68\"/>\n",
       "       <use x=\"146.826172\" xlink:href=\"#DejaVuSans-67\"/>\n",
       "       <use x=\"216.650391\" xlink:href=\"#DejaVuSans-95\"/>\n",
       "       <use x=\"266.650391\" xlink:href=\"#DejaVuSans-84\"/>\n",
       "       <use x=\"327.46875\" xlink:href=\"#DejaVuSans-111\"/>\n",
       "       <use x=\"388.650391\" xlink:href=\"#DejaVuSans-116\"/>\n",
       "      </g>\n",
       "     </g>\n",
       "    </g>\n",
       "    <g id=\"ytick_2\">\n",
       "     <g id=\"line2d_4\">\n",
       "      <g>\n",
       "       <use style=\"stroke:#000000;stroke-width:0.8;\" x=\"56.364063\" xlink:href=\"#m48f64eeb2b\" y=\"31.548235\"/>\n",
       "      </g>\n",
       "     </g>\n",
       "     <g id=\"text_4\">\n",
       "      <!-- PeakGust -->\n",
       "      <defs>\n",
       "       <path d=\"M 19.671875 64.796875 \n",
       "L 19.671875 37.40625 \n",
       "L 32.078125 37.40625 \n",
       "Q 38.96875 37.40625 42.71875 40.96875 \n",
       "Q 46.484375 44.53125 46.484375 51.125 \n",
       "Q 46.484375 57.671875 42.71875 61.234375 \n",
       "Q 38.96875 64.796875 32.078125 64.796875 \n",
       "z\n",
       "M 9.8125 72.90625 \n",
       "L 32.078125 72.90625 \n",
       "Q 44.34375 72.90625 50.609375 67.359375 \n",
       "Q 56.890625 61.8125 56.890625 51.125 \n",
       "Q 56.890625 40.328125 50.609375 34.8125 \n",
       "Q 44.34375 29.296875 32.078125 29.296875 \n",
       "L 19.671875 29.296875 \n",
       "L 19.671875 0 \n",
       "L 9.8125 0 \n",
       "z\n",
       "\" id=\"DejaVuSans-80\"/>\n",
       "       <path d=\"M 34.28125 27.484375 \n",
       "Q 23.390625 27.484375 19.1875 25 \n",
       "Q 14.984375 22.515625 14.984375 16.5 \n",
       "Q 14.984375 11.71875 18.140625 8.90625 \n",
       "Q 21.296875 6.109375 26.703125 6.109375 \n",
       "Q 34.1875 6.109375 38.703125 11.40625 \n",
       "Q 43.21875 16.703125 43.21875 25.484375 \n",
       "L 43.21875 27.484375 \n",
       "z\n",
       "M 52.203125 31.203125 \n",
       "L 52.203125 0 \n",
       "L 43.21875 0 \n",
       "L 43.21875 8.296875 \n",
       "Q 40.140625 3.328125 35.546875 0.953125 \n",
       "Q 30.953125 -1.421875 24.3125 -1.421875 \n",
       "Q 15.921875 -1.421875 10.953125 3.296875 \n",
       "Q 6 8.015625 6 15.921875 \n",
       "Q 6 25.140625 12.171875 29.828125 \n",
       "Q 18.359375 34.515625 30.609375 34.515625 \n",
       "L 43.21875 34.515625 \n",
       "L 43.21875 35.40625 \n",
       "Q 43.21875 41.609375 39.140625 45 \n",
       "Q 35.0625 48.390625 27.6875 48.390625 \n",
       "Q 23 48.390625 18.546875 47.265625 \n",
       "Q 14.109375 46.140625 10.015625 43.890625 \n",
       "L 10.015625 52.203125 \n",
       "Q 14.9375 54.109375 19.578125 55.046875 \n",
       "Q 24.21875 56 28.609375 56 \n",
       "Q 40.484375 56 46.34375 49.84375 \n",
       "Q 52.203125 43.703125 52.203125 31.203125 \n",
       "z\n",
       "\" id=\"DejaVuSans-97\"/>\n",
       "       <path d=\"M 9.078125 75.984375 \n",
       "L 18.109375 75.984375 \n",
       "L 18.109375 31.109375 \n",
       "L 44.921875 54.6875 \n",
       "L 56.390625 54.6875 \n",
       "L 27.390625 29.109375 \n",
       "L 57.625 0 \n",
       "L 45.90625 0 \n",
       "L 18.109375 26.703125 \n",
       "L 18.109375 0 \n",
       "L 9.078125 0 \n",
       "z\n",
       "\" id=\"DejaVuSans-107\"/>\n",
       "       <path d=\"M 59.515625 10.40625 \n",
       "L 59.515625 29.984375 \n",
       "L 43.40625 29.984375 \n",
       "L 43.40625 38.09375 \n",
       "L 69.28125 38.09375 \n",
       "L 69.28125 6.78125 \n",
       "Q 63.578125 2.734375 56.6875 0.65625 \n",
       "Q 49.8125 -1.421875 42 -1.421875 \n",
       "Q 24.90625 -1.421875 15.25 8.5625 \n",
       "Q 5.609375 18.5625 5.609375 36.375 \n",
       "Q 5.609375 54.25 15.25 64.234375 \n",
       "Q 24.90625 74.21875 42 74.21875 \n",
       "Q 49.125 74.21875 55.546875 72.453125 \n",
       "Q 61.96875 70.703125 67.390625 67.28125 \n",
       "L 67.390625 56.78125 \n",
       "Q 61.921875 61.421875 55.765625 63.765625 \n",
       "Q 49.609375 66.109375 42.828125 66.109375 \n",
       "Q 29.4375 66.109375 22.71875 58.640625 \n",
       "Q 16.015625 51.171875 16.015625 36.375 \n",
       "Q 16.015625 21.625 22.71875 14.15625 \n",
       "Q 29.4375 6.6875 42.828125 6.6875 \n",
       "Q 48.046875 6.6875 52.140625 7.59375 \n",
       "Q 56.25 8.5 59.515625 10.40625 \n",
       "z\n",
       "\" id=\"DejaVuSans-71\"/>\n",
       "       <path d=\"M 8.5 21.578125 \n",
       "L 8.5 54.6875 \n",
       "L 17.484375 54.6875 \n",
       "L 17.484375 21.921875 \n",
       "Q 17.484375 14.15625 20.5 10.265625 \n",
       "Q 23.53125 6.390625 29.59375 6.390625 \n",
       "Q 36.859375 6.390625 41.078125 11.03125 \n",
       "Q 45.3125 15.671875 45.3125 23.6875 \n",
       "L 45.3125 54.6875 \n",
       "L 54.296875 54.6875 \n",
       "L 54.296875 0 \n",
       "L 45.3125 0 \n",
       "L 45.3125 8.40625 \n",
       "Q 42.046875 3.421875 37.71875 1 \n",
       "Q 33.40625 -1.421875 27.6875 -1.421875 \n",
       "Q 18.265625 -1.421875 13.375 4.4375 \n",
       "Q 8.5 10.296875 8.5 21.578125 \n",
       "z\n",
       "M 31.109375 56 \n",
       "z\n",
       "\" id=\"DejaVuSans-117\"/>\n",
       "       <path d=\"M 44.28125 53.078125 \n",
       "L 44.28125 44.578125 \n",
       "Q 40.484375 46.53125 36.375 47.5 \n",
       "Q 32.28125 48.484375 27.875 48.484375 \n",
       "Q 21.1875 48.484375 17.84375 46.4375 \n",
       "Q 14.5 44.390625 14.5 40.28125 \n",
       "Q 14.5 37.15625 16.890625 35.375 \n",
       "Q 19.28125 33.59375 26.515625 31.984375 \n",
       "L 29.59375 31.296875 \n",
       "Q 39.15625 29.25 43.1875 25.515625 \n",
       "Q 47.21875 21.78125 47.21875 15.09375 \n",
       "Q 47.21875 7.46875 41.1875 3.015625 \n",
       "Q 35.15625 -1.421875 24.609375 -1.421875 \n",
       "Q 20.21875 -1.421875 15.453125 -0.5625 \n",
       "Q 10.6875 0.296875 5.421875 2 \n",
       "L 5.421875 11.28125 \n",
       "Q 10.40625 8.6875 15.234375 7.390625 \n",
       "Q 20.0625 6.109375 24.8125 6.109375 \n",
       "Q 31.15625 6.109375 34.5625 8.28125 \n",
       "Q 37.984375 10.453125 37.984375 14.40625 \n",
       "Q 37.984375 18.0625 35.515625 20.015625 \n",
       "Q 33.0625 21.96875 24.703125 23.78125 \n",
       "L 21.578125 24.515625 \n",
       "Q 13.234375 26.265625 9.515625 29.90625 \n",
       "Q 5.8125 33.546875 5.8125 39.890625 \n",
       "Q 5.8125 47.609375 11.28125 51.796875 \n",
       "Q 16.75 56 26.8125 56 \n",
       "Q 31.78125 56 36.171875 55.265625 \n",
       "Q 40.578125 54.546875 44.28125 53.078125 \n",
       "z\n",
       "\" id=\"DejaVuSans-115\"/>\n",
       "      </defs>\n",
       "      <g style=\"fill:#444443;\" transform=\"translate(2.051563 30.508392)scale(0.1 -0.1)\">\n",
       "       <use xlink:href=\"#DejaVuSans-80\"/>\n",
       "       <use x=\"60.255859\" xlink:href=\"#DejaVuSans-101\"/>\n",
       "       <use x=\"121.779297\" xlink:href=\"#DejaVuSans-97\"/>\n",
       "       <use x=\"183.058594\" xlink:href=\"#DejaVuSans-107\"/>\n",
       "       <use x=\"240.96875\" xlink:href=\"#DejaVuSans-71\"/>\n",
       "       <use x=\"318.458984\" xlink:href=\"#DejaVuSans-117\"/>\n",
       "       <use x=\"381.837891\" xlink:href=\"#DejaVuSans-115\"/>\n",
       "       <use x=\"433.9375\" xlink:href=\"#DejaVuSans-116\"/>\n",
       "      </g>\n",
       "      <!-- HurTrack -->\n",
       "      <defs>\n",
       "       <path d=\"M 9.8125 72.90625 \n",
       "L 19.671875 72.90625 \n",
       "L 19.671875 43.015625 \n",
       "L 55.515625 43.015625 \n",
       "L 55.515625 72.90625 \n",
       "L 65.375 72.90625 \n",
       "L 65.375 0 \n",
       "L 55.515625 0 \n",
       "L 55.515625 34.71875 \n",
       "L 19.671875 34.71875 \n",
       "L 19.671875 0 \n",
       "L 9.8125 0 \n",
       "z\n",
       "\" id=\"DejaVuSans-72\"/>\n",
       "       <path d=\"M 41.109375 46.296875 \n",
       "Q 39.59375 47.171875 37.8125 47.578125 \n",
       "Q 36.03125 48 33.890625 48 \n",
       "Q 26.265625 48 22.1875 43.046875 \n",
       "Q 18.109375 38.09375 18.109375 28.8125 \n",
       "L 18.109375 0 \n",
       "L 9.078125 0 \n",
       "L 9.078125 54.6875 \n",
       "L 18.109375 54.6875 \n",
       "L 18.109375 46.1875 \n",
       "Q 20.953125 51.171875 25.484375 53.578125 \n",
       "Q 30.03125 56 36.53125 56 \n",
       "Q 37.453125 56 38.578125 55.875 \n",
       "Q 39.703125 55.765625 41.0625 55.515625 \n",
       "z\n",
       "\" id=\"DejaVuSans-114\"/>\n",
       "      </defs>\n",
       "      <g style=\"fill:#444443;\" transform=\"translate(3.78125 41.706204)scale(0.1 -0.1)\">\n",
       "       <use xlink:href=\"#DejaVuSans-72\"/>\n",
       "       <use x=\"75.195312\" xlink:href=\"#DejaVuSans-117\"/>\n",
       "       <use x=\"138.574219\" xlink:href=\"#DejaVuSans-114\"/>\n",
       "       <use x=\"179.6875\" xlink:href=\"#DejaVuSans-84\"/>\n",
       "       <use x=\"240.552734\" xlink:href=\"#DejaVuSans-114\"/>\n",
       "       <use x=\"281.666016\" xlink:href=\"#DejaVuSans-97\"/>\n",
       "       <use x=\"342.945312\" xlink:href=\"#DejaVuSans-99\"/>\n",
       "       <use x=\"397.925781\" xlink:href=\"#DejaVuSans-107\"/>\n",
       "      </g>\n",
       "     </g>\n",
       "    </g>\n",
       "    <g id=\"ytick_3\">\n",
       "     <g id=\"line2d_5\">\n",
       "      <g>\n",
       "       <use style=\"stroke:#000000;stroke-width:0.8;\" x=\"56.364063\" xlink:href=\"#m48f64eeb2b\" y=\"57.181176\"/>\n",
       "      </g>\n",
       "     </g>\n",
       "     <g id=\"text_5\">\n",
       "      <!-- AveDepth -->\n",
       "      <defs>\n",
       "       <path d=\"M 34.1875 63.1875 \n",
       "L 20.796875 26.90625 \n",
       "L 47.609375 26.90625 \n",
       "z\n",
       "M 28.609375 72.90625 \n",
       "L 39.796875 72.90625 \n",
       "L 67.578125 0 \n",
       "L 57.328125 0 \n",
       "L 50.6875 18.703125 \n",
       "L 17.828125 18.703125 \n",
       "L 11.1875 0 \n",
       "L 0.78125 0 \n",
       "z\n",
       "\" id=\"DejaVuSans-65\"/>\n",
       "       <path d=\"M 2.984375 54.6875 \n",
       "L 12.5 54.6875 \n",
       "L 29.59375 8.796875 \n",
       "L 46.6875 54.6875 \n",
       "L 56.203125 54.6875 \n",
       "L 35.6875 0 \n",
       "L 23.484375 0 \n",
       "z\n",
       "\" id=\"DejaVuSans-118\"/>\n",
       "       <path d=\"M 54.890625 33.015625 \n",
       "L 54.890625 0 \n",
       "L 45.90625 0 \n",
       "L 45.90625 32.71875 \n",
       "Q 45.90625 40.484375 42.875 44.328125 \n",
       "Q 39.84375 48.1875 33.796875 48.1875 \n",
       "Q 26.515625 48.1875 22.3125 43.546875 \n",
       "Q 18.109375 38.921875 18.109375 30.90625 \n",
       "L 18.109375 0 \n",
       "L 9.078125 0 \n",
       "L 9.078125 75.984375 \n",
       "L 18.109375 75.984375 \n",
       "L 18.109375 46.1875 \n",
       "Q 21.34375 51.125 25.703125 53.5625 \n",
       "Q 30.078125 56 35.796875 56 \n",
       "Q 45.21875 56 50.046875 50.171875 \n",
       "Q 54.890625 44.34375 54.890625 33.015625 \n",
       "z\n",
       "\" id=\"DejaVuSans-104\"/>\n",
       "      </defs>\n",
       "      <g style=\"fill:#444443;\" transform=\"translate(0 50.542426)scale(0.1 -0.1)\">\n",
       "       <use xlink:href=\"#DejaVuSans-65\"/>\n",
       "       <use x=\"68.330078\" xlink:href=\"#DejaVuSans-118\"/>\n",
       "       <use x=\"127.509766\" xlink:href=\"#DejaVuSans-101\"/>\n",
       "       <use x=\"189.033203\" xlink:href=\"#DejaVuSans-68\"/>\n",
       "       <use x=\"266.035156\" xlink:href=\"#DejaVuSans-101\"/>\n",
       "       <use x=\"327.558594\" xlink:href=\"#DejaVuSans-112\"/>\n",
       "       <use x=\"391.035156\" xlink:href=\"#DejaVuSans-116\"/>\n",
       "       <use x=\"430.244141\" xlink:href=\"#DejaVuSans-104\"/>\n",
       "      </g>\n",
       "      <!-- PropDG -->\n",
       "      <g style=\"fill:#444443;\" transform=\"translate(11.3125 61.740239)scale(0.1 -0.1)\">\n",
       "       <use xlink:href=\"#DejaVuSans-80\"/>\n",
       "       <use x=\"60.287109\" xlink:href=\"#DejaVuSans-114\"/>\n",
       "       <use x=\"101.369141\" xlink:href=\"#DejaVuSans-111\"/>\n",
       "       <use x=\"162.550781\" xlink:href=\"#DejaVuSans-112\"/>\n",
       "       <use x=\"226.027344\" xlink:href=\"#DejaVuSans-68\"/>\n",
       "       <use x=\"303.029297\" xlink:href=\"#DejaVuSans-71\"/>\n",
       "      </g>\n",
       "      <!-- PropSFHA -->\n",
       "      <defs>\n",
       "       <path d=\"M 9.8125 72.90625 \n",
       "L 51.703125 72.90625 \n",
       "L 51.703125 64.59375 \n",
       "L 19.671875 64.59375 \n",
       "L 19.671875 43.109375 \n",
       "L 48.578125 43.109375 \n",
       "L 48.578125 34.8125 \n",
       "L 19.671875 34.8125 \n",
       "L 19.671875 0 \n",
       "L 9.8125 0 \n",
       "z\n",
       "\" id=\"DejaVuSans-70\"/>\n",
       "      </defs>\n",
       "      <g style=\"fill:#444443;\" transform=\"translate(0.3 72.938051)scale(0.1 -0.1)\">\n",
       "       <use xlink:href=\"#DejaVuSans-80\"/>\n",
       "       <use x=\"60.287109\" xlink:href=\"#DejaVuSans-114\"/>\n",
       "       <use x=\"101.369141\" xlink:href=\"#DejaVuSans-111\"/>\n",
       "       <use x=\"162.550781\" xlink:href=\"#DejaVuSans-112\"/>\n",
       "       <use x=\"226.027344\" xlink:href=\"#DejaVuSans-83\"/>\n",
       "       <use x=\"289.503906\" xlink:href=\"#DejaVuSans-70\"/>\n",
       "       <use x=\"347.023438\" xlink:href=\"#DejaVuSans-72\"/>\n",
       "       <use x=\"422.21875\" xlink:href=\"#DejaVuSans-65\"/>\n",
       "      </g>\n",
       "     </g>\n",
       "    </g>\n",
       "    <g id=\"ytick_4\">\n",
       "     <g id=\"line2d_6\">\n",
       "      <g>\n",
       "       <use style=\"stroke:#000000;stroke-width:0.8;\" x=\"56.364063\" xlink:href=\"#m48f64eeb2b\" y=\"77.884706\"/>\n",
       "      </g>\n",
       "     </g>\n",
       "     <g id=\"text_6\">\n",
       "      <!-- AveLS -->\n",
       "      <defs>\n",
       "       <path d=\"M 9.8125 72.90625 \n",
       "L 19.671875 72.90625 \n",
       "L 19.671875 8.296875 \n",
       "L 55.171875 8.296875 \n",
       "L 55.171875 0 \n",
       "L 9.8125 0 \n",
       "z\n",
       "\" id=\"DejaVuSans-76\"/>\n",
       "      </defs>\n",
       "      <g style=\"fill:#444443;\" transform=\"translate(18.539062 81.683925)scale(0.1 -0.1)\">\n",
       "       <use xlink:href=\"#DejaVuSans-65\"/>\n",
       "       <use x=\"68.330078\" xlink:href=\"#DejaVuSans-118\"/>\n",
       "       <use x=\"127.509766\" xlink:href=\"#DejaVuSans-101\"/>\n",
       "       <use x=\"189.033203\" xlink:href=\"#DejaVuSans-76\"/>\n",
       "       <use x=\"244.746094\" xlink:href=\"#DejaVuSans-83\"/>\n",
       "      </g>\n",
       "     </g>\n",
       "    </g>\n",
       "   </g>\n",
       "   <g id=\"patch_7\">\n",
       "    <path d=\"M 56.364063 83.8 \n",
       "L 56.364063 0 \n",
       "\" style=\"fill:none;stroke:#000000;stroke-linecap:square;stroke-linejoin:miter;stroke-width:0.3;\"/>\n",
       "   </g>\n",
       "   <g id=\"patch_8\">\n",
       "    <path d=\"M 255.389063 83.8 \n",
       "L 255.389063 0 \n",
       "\" style=\"fill:none;stroke:#000000;stroke-linecap:square;stroke-linejoin:miter;stroke-width:0.3;\"/>\n",
       "   </g>\n",
       "   <g id=\"patch_9\">\n",
       "    <path d=\"M 56.364063 83.8 \n",
       "L 255.389063 83.8 \n",
       "\" style=\"fill:none;stroke:#000000;stroke-linecap:square;stroke-linejoin:miter;stroke-width:0.3;\"/>\n",
       "   </g>\n",
       "   <g id=\"patch_10\">\n",
       "    <path d=\"M 56.364063 0 \n",
       "L 255.389063 0 \n",
       "\" style=\"fill:none;stroke:#000000;stroke-linecap:square;stroke-linejoin:miter;stroke-width:0.3;\"/>\n",
       "   </g>\n",
       "  </g>\n",
       " </g>\n",
       " <defs>\n",
       "  <clipPath id=\"p2c66fe59ed\">\n",
       "   <rect height=\"83.8\" width=\"199.025\" x=\"56.364063\" y=\"0\"/>\n",
       "  </clipPath>\n",
       " </defs>\n",
       "</svg>\n"
      ],
      "text/plain": [
       "<rfpimp.PimpViz at 0x113b01048>"
      ]
     },
     "execution_count": 74,
     "metadata": {},
     "output_type": "execute_result"
    }
   ],
   "source": [
    "plot_importances(I)"
   ]
  },
  {
   "cell_type": "code",
   "execution_count": 75,
   "metadata": {},
   "outputs": [],
   "source": [
    "I.reset_index(inplace=True)\n",
    "I.drop(['Feature'], axis=1)\n",
    "I['Feature'] = ['Vulnerability', 'Wind', 'Flood', 'Landslide']"
   ]
  },
  {
   "cell_type": "code",
   "execution_count": 76,
   "metadata": {},
   "outputs": [
    {
     "data": {
      "text/html": [
       "<div>\n",
       "<style scoped>\n",
       "    .dataframe tbody tr th:only-of-type {\n",
       "        vertical-align: middle;\n",
       "    }\n",
       "\n",
       "    .dataframe tbody tr th {\n",
       "        vertical-align: top;\n",
       "    }\n",
       "\n",
       "    .dataframe thead th {\n",
       "        text-align: right;\n",
       "    }\n",
       "</style>\n",
       "<table border=\"1\" class=\"dataframe\">\n",
       "  <thead>\n",
       "    <tr style=\"text-align: right;\">\n",
       "      <th></th>\n",
       "      <th>Feature</th>\n",
       "      <th>Importance</th>\n",
       "    </tr>\n",
       "  </thead>\n",
       "  <tbody>\n",
       "    <tr>\n",
       "      <th>0</th>\n",
       "      <td>Vulnerability</td>\n",
       "      <td>0.520492</td>\n",
       "    </tr>\n",
       "    <tr>\n",
       "      <th>1</th>\n",
       "      <td>Wind</td>\n",
       "      <td>0.492233</td>\n",
       "    </tr>\n",
       "    <tr>\n",
       "      <th>2</th>\n",
       "      <td>Flood</td>\n",
       "      <td>0.335568</td>\n",
       "    </tr>\n",
       "    <tr>\n",
       "      <th>3</th>\n",
       "      <td>Landslide</td>\n",
       "      <td>0.142432</td>\n",
       "    </tr>\n",
       "  </tbody>\n",
       "</table>\n",
       "</div>"
      ],
      "text/plain": [
       "         Feature  Importance\n",
       "0  Vulnerability    0.520492\n",
       "1           Wind    0.492233\n",
       "2          Flood    0.335568\n",
       "3      Landslide    0.142432"
      ]
     },
     "execution_count": 76,
     "metadata": {},
     "output_type": "execute_result"
    }
   ],
   "source": [
    "I"
   ]
  },
  {
   "cell_type": "code",
   "execution_count": 77,
   "metadata": {},
   "outputs": [],
   "source": [
    "base_score = IDEAL10.score(x_train, y_train)"
   ]
  },
  {
   "cell_type": "code",
   "execution_count": 78,
   "metadata": {},
   "outputs": [],
   "source": [
    "I['basescore'] = base_score"
   ]
  },
  {
   "cell_type": "code",
   "execution_count": 79,
   "metadata": {},
   "outputs": [
    {
     "data": {
      "text/html": [
       "<div>\n",
       "<style scoped>\n",
       "    .dataframe tbody tr th:only-of-type {\n",
       "        vertical-align: middle;\n",
       "    }\n",
       "\n",
       "    .dataframe tbody tr th {\n",
       "        vertical-align: top;\n",
       "    }\n",
       "\n",
       "    .dataframe thead th {\n",
       "        text-align: right;\n",
       "    }\n",
       "</style>\n",
       "<table border=\"1\" class=\"dataframe\">\n",
       "  <thead>\n",
       "    <tr style=\"text-align: right;\">\n",
       "      <th></th>\n",
       "      <th>Feature</th>\n",
       "      <th>Importance</th>\n",
       "      <th>basescore</th>\n",
       "    </tr>\n",
       "  </thead>\n",
       "  <tbody>\n",
       "    <tr>\n",
       "      <th>0</th>\n",
       "      <td>Vulnerability</td>\n",
       "      <td>0.520492</td>\n",
       "      <td>0.824393</td>\n",
       "    </tr>\n",
       "    <tr>\n",
       "      <th>1</th>\n",
       "      <td>Wind</td>\n",
       "      <td>0.492233</td>\n",
       "      <td>0.824393</td>\n",
       "    </tr>\n",
       "    <tr>\n",
       "      <th>2</th>\n",
       "      <td>Flood</td>\n",
       "      <td>0.335568</td>\n",
       "      <td>0.824393</td>\n",
       "    </tr>\n",
       "    <tr>\n",
       "      <th>3</th>\n",
       "      <td>Landslide</td>\n",
       "      <td>0.142432</td>\n",
       "      <td>0.824393</td>\n",
       "    </tr>\n",
       "  </tbody>\n",
       "</table>\n",
       "</div>"
      ],
      "text/plain": [
       "         Feature  Importance  basescore\n",
       "0  Vulnerability    0.520492   0.824393\n",
       "1           Wind    0.492233   0.824393\n",
       "2          Flood    0.335568   0.824393\n",
       "3      Landslide    0.142432   0.824393"
      ]
     },
     "execution_count": 79,
     "metadata": {},
     "output_type": "execute_result"
    }
   ],
   "source": [
    "I"
   ]
  },
  {
   "cell_type": "code",
   "execution_count": 80,
   "metadata": {},
   "outputs": [],
   "source": [
    "I['Perc_Dec'] = ((I['Importance']) / I['basescore']) * 100"
   ]
  },
  {
   "cell_type": "code",
   "execution_count": 81,
   "metadata": {},
   "outputs": [
    {
     "data": {
      "text/html": [
       "<div>\n",
       "<style scoped>\n",
       "    .dataframe tbody tr th:only-of-type {\n",
       "        vertical-align: middle;\n",
       "    }\n",
       "\n",
       "    .dataframe tbody tr th {\n",
       "        vertical-align: top;\n",
       "    }\n",
       "\n",
       "    .dataframe thead th {\n",
       "        text-align: right;\n",
       "    }\n",
       "</style>\n",
       "<table border=\"1\" class=\"dataframe\">\n",
       "  <thead>\n",
       "    <tr style=\"text-align: right;\">\n",
       "      <th></th>\n",
       "      <th>Feature</th>\n",
       "      <th>Importance</th>\n",
       "      <th>basescore</th>\n",
       "      <th>Perc_Dec</th>\n",
       "    </tr>\n",
       "  </thead>\n",
       "  <tbody>\n",
       "    <tr>\n",
       "      <th>0</th>\n",
       "      <td>Vulnerability</td>\n",
       "      <td>0.520492</td>\n",
       "      <td>0.824393</td>\n",
       "      <td>63.136398</td>\n",
       "    </tr>\n",
       "    <tr>\n",
       "      <th>1</th>\n",
       "      <td>Wind</td>\n",
       "      <td>0.492233</td>\n",
       "      <td>0.824393</td>\n",
       "      <td>59.708532</td>\n",
       "    </tr>\n",
       "    <tr>\n",
       "      <th>2</th>\n",
       "      <td>Flood</td>\n",
       "      <td>0.335568</td>\n",
       "      <td>0.824393</td>\n",
       "      <td>40.704830</td>\n",
       "    </tr>\n",
       "    <tr>\n",
       "      <th>3</th>\n",
       "      <td>Landslide</td>\n",
       "      <td>0.142432</td>\n",
       "      <td>0.824393</td>\n",
       "      <td>17.277176</td>\n",
       "    </tr>\n",
       "  </tbody>\n",
       "</table>\n",
       "</div>"
      ],
      "text/plain": [
       "         Feature  Importance  basescore   Perc_Dec\n",
       "0  Vulnerability    0.520492   0.824393  63.136398\n",
       "1           Wind    0.492233   0.824393  59.708532\n",
       "2          Flood    0.335568   0.824393  40.704830\n",
       "3      Landslide    0.142432   0.824393  17.277176"
      ]
     },
     "execution_count": 81,
     "metadata": {},
     "output_type": "execute_result"
    }
   ],
   "source": [
    "I"
   ]
  },
  {
   "cell_type": "code",
   "execution_count": 82,
   "metadata": {},
   "outputs": [],
   "source": [
    "#I.Importance.sum()"
   ]
  },
  {
   "cell_type": "code",
   "execution_count": 83,
   "metadata": {},
   "outputs": [
    {
     "data": {
      "image/png": "[encoded data removed]",
      "text/plain": [
       "<Figure size 432x288 with 1 Axes>"
      ]
     },
     "metadata": {},
     "output_type": "display_data"
    }
   ],
   "source": [
    "I.sort_values('Perc_Dec', ascending=False).plot.bar('Feature',\n",
    "                                                                            'Perc_Dec', \n",
    "                                                                            color='maroon', \n",
    "                                                                            legend = False, zorder=3)\n",
    "plt.title(\"\", fontsize = 25)\n",
    "plt.ylabel('% Decrease in ' + r'$R^2$', fontsize = 18)\n",
    "plt.xlabel('')\n",
    "plt.xticks(fontsize = 18, rotation = 45, ha='right')\n",
    "#plt.xticks(np.arange(min(0), max(100), 20))\n",
    "plt.yticks(fontsize = 18)\n",
    "#plt.grid(True)\n",
    "#plt.savefig('SGB_DI2NoSTRVISEVI_GroupPerm_FI.png', dpi=600, bbox_inches = \"tight\")"
   ]
  },
  {
   "cell_type": "code",
   "execution_count": 68,
   "metadata": {},
   "outputs": [],
   "source": [
    "#plot_importance(I)"
   ]
  },
  {
   "cell_type": "code",
   "execution_count": null,
   "metadata": {},
   "outputs": [],
   "source": []
  },
  {
   "cell_type": "code",
   "execution_count": null,
   "metadata": {},
   "outputs": [],
   "source": []
  },
  {
   "cell_type": "markdown",
   "metadata": {},
   "source": [
    "# Partial Dependence"
   ]
  },
  {
   "cell_type": "code",
   "execution_count": 24,
   "metadata": {},
   "outputs": [
    {
     "data": {
      "text/plain": [
       "Index(['PropSFHA', 'AveDepth', 'PropDG', 'AveLS', 'HurTrack', 'PeakGust',\n",
       "       'SpecCom', 'STRVI_1', 'SEVI_1', 'CDC_Tot'],\n",
       "      dtype='object')"
      ]
     },
     "execution_count": 24,
     "metadata": {},
     "output_type": "execute_result"
    }
   ],
   "source": [
    "x_train.columns"
   ]
  },
  {
   "cell_type": "code",
   "execution_count": 25,
   "metadata": {},
   "outputs": [],
   "source": [
    "#df_perm_imp['Labels'] = ['PropSFHA', 'AveDepth', 'PropFA', 'AveLS', 'HurTrack', 'PeakGust', 'PropSC', 'StrVI', 'SeVI', 'CDCVuln']"
   ]
  },
  {
   "cell_type": "code",
   "execution_count": 26,
   "metadata": {},
   "outputs": [],
   "source": [
    "plt.rcParams.update({'font.size': 12})"
   ]
  },
  {
   "cell_type": "code",
   "execution_count": 27,
   "metadata": {},
   "outputs": [],
   "source": [
    "def plot_part_depend(model, x_train, feature_list, feature_names):\n",
    "    with plt.rc_context({'legend.fontsize': 'large',\n",
    "              'figure.figsize': (20, 20),\n",
    "             'axes.labelsize': 'large',\n",
    "             'axes.titlesize':'large',\n",
    "             'xtick.labelsize':'large',\n",
    "             'ytick.labelsize':'large'}):\n",
    "        #plt.subplots(nrows=3,ncols=3, sharey=True)\n",
    "        plot_partial_dependence(model, \n",
    "                                x_train, \n",
    "                                feature_list, \n",
    "                                feature_names = feature_names, \n",
    "                                grid_resolution=10, \n",
    "                                n_cols=4,\n",
    "                                method='brute', line_kw={\"c\": \"maroon\"}\n",
    "                               ) \n",
    "        fig = plt.gcf()\n",
    "        #fig.suptitle('test title', fontsize=20, y = .75)\n",
    "        fig.subplots_adjust(hspace=0.3)\n",
    "        #ax.set_ylabel('common ylabel')\n",
    "        #fig.axes.get_yaxis().set_visible(False)\n",
    "        #fig.subplots_adjust(sharey='row')\n",
    "        #fig.text(0.04, 0.5, 'common Y', va='center', rotation='vertical')\n",
    "        plt.savefig('SGBT_DI2_PDP.png', dpi=400, bbox_inches = \"tight\")\n"
   ]
  },
  {
   "cell_type": "code",
   "execution_count": 28,
   "metadata": {},
   "outputs": [
    {
     "data": {
      "image/png": "[encoded data removed]",
      "text/plain": [
       "<Figure size 1440x1440 with 10 Axes>"
      ]
     },
     "metadata": {},
     "output_type": "display_data"
    }
   ],
   "source": [
    "#EXAMPLE\n",
    "feature_list=[0,1,2,3,4,5,6,7,8,9]\n",
    "feature_names=['PropSFHA', 'AveDepth', 'PropFA', 'AveLS', 'HurTrack', 'PeakGust', 'PropSC', 'StrVI', 'SeVI', 'CDCVuln']\n",
    "plot_part_depend(IDEAL3B, x_train, feature_list, feature_names)"
   ]
  },
  {
   "cell_type": "code",
   "execution_count": null,
   "metadata": {},
   "outputs": [],
   "source": []
  },
  {
   "cell_type": "code",
   "execution_count": null,
   "metadata": {},
   "outputs": [],
   "source": []
  },
  {
   "cell_type": "code",
   "execution_count": null,
   "metadata": {},
   "outputs": [],
   "source": []
  },
  {
   "cell_type": "code",
   "execution_count": null,
   "metadata": {},
   "outputs": [],
   "source": []
  },
  {
   "cell_type": "code",
   "execution_count": null,
   "metadata": {},
   "outputs": [],
   "source": []
  },
  {
   "cell_type": "code",
   "execution_count": null,
   "metadata": {},
   "outputs": [],
   "source": []
  },
  {
   "cell_type": "code",
   "execution_count": null,
   "metadata": {},
   "outputs": [],
   "source": []
  },
  {
   "cell_type": "code",
   "execution_count": 73,
   "metadata": {},
   "outputs": [],
   "source": [
    "# plt.rcParams[\"figure.figsize\"] = (10,10)\n",
    "# params = {'legend.fontsize': 'x-large',\n",
    "#           'figure.figsize': (10, 10),\n",
    "#          'axes.labelsize': 'x-large',\n",
    "#          'axes.titlesize':'x-large',\n",
    "#          'xtick.labelsize':'large',\n",
    "#          'ytick.labelsize':'large'}\n",
    "# plt.rcParams.update(params)\n",
    "\n",
    "\n",
    "# #plt.subplots(nrows=3,ncols=3, sharey=True)\n",
    "# fig = plot_partial_dependence(IDEAL1, \n",
    "#                         x_train, \n",
    "#                         [0,1,2,3,4,5,6,7,8,9,10,11,12,13], \n",
    "#                         feature_names =['PropSFHA', 'AveDepth', 'PropDG', 'MaxDepth', 'AveLS', 'HurTrack',\n",
    "#                            'PeakGust', 'MaxSusta', 'SpecCom', 'STRVI_1', 'SEVI_1', 'STR_SEVI_1',\n",
    "#                            'SOVI_1', 'CDC_Tot'], \n",
    "#                         grid_resolution=10, \n",
    "#                         #n_cols=2\n",
    "#                        ) \n",
    "\n",
    "# plt.tight_layout(h_pad=3,w_pad=1)\n",
    "\n",
    "# plt.savefig('partialdependence.png', dpi=400, bbox_inches = \"tight\")\n",
    "\n"
   ]
  },
  {
   "cell_type": "code",
   "execution_count": 90,
   "metadata": {},
   "outputs": [
    {
     "data": {
      "image/png": "[encoded data removed]",
      "text/plain": [
       "<matplotlib.figure.Figure at 0x10e9d6080>"
      ]
     },
     "metadata": {},
     "output_type": "display_data"
    }
   ],
   "source": [
    "fig = plot_partial_dependence(IDEAL2, x_train, [(5,6)]) "
   ]
  },
  {
   "cell_type": "code",
   "execution_count": 29,
   "metadata": {},
   "outputs": [],
   "source": [
    "from pycebox.ice import ice, ice_plot"
   ]
  },
  {
   "cell_type": "code",
   "execution_count": 31,
   "metadata": {},
   "outputs": [],
   "source": [
    "forty_ice_df = ice(data=x_train, column='HurTrack', \n",
    "                   predict=IDEAL2.predict)"
   ]
  },
  {
   "cell_type": "code",
   "execution_count": 33,
   "metadata": {},
   "outputs": [],
   "source": [
    "cmap2 = plt.get_cmap('OrRd')"
   ]
  },
  {
   "cell_type": "code",
   "execution_count": 44,
   "metadata": {},
   "outputs": [],
   "source": [
    "wt_vals = forty_ice_df.columns.get_level_values('PeakGust').values\n",
    "sm = plt.cm.ScalarMappable(cmap=cmap2, \n",
    "                           norm=plt.Normalize(vmin=wt_vals.min(), \n",
    "                                              vmax=wt_vals.max()))\n",
    "sm._A = []"
   ]
  },
  {
   "cell_type": "code",
   "execution_count": 47,
   "metadata": {},
   "outputs": [
    {
     "data": {
      "image/png": "[encoded data removed]",
      "text/plain": [
       "<matplotlib.figure.Figure at 0x10db780b8>"
      ]
     },
     "metadata": {},
     "output_type": "display_data"
    }
   ],
   "source": [
    "ice_plot(forty_ice_df, linewidth=.5, color_by='PeakGust', cmap=cmap2, plot_pdp=True, \n",
    "         pdp_kwargs={'c': 'k', 'linewidth': 5})\n",
    "plt.colorbar(sm, label='PeakGust')\n",
    "plt.ylabel('Pred. AV %ile')\n",
    "plt.xlabel('HurTrack');"
   ]
  },
  {
   "cell_type": "code",
   "execution_count": 153,
   "metadata": {},
   "outputs": [],
   "source": [
    "def calc_permutation_importance(criterion, model, df_x, y):\n",
    "    features = df_x.columns.values\n",
    "    X = df_x.as_matrix()\n",
    "    Y = y.as_matrix()\n",
    "    scores = defaultdict(list)\n",
    "    rf = model\n",
    "    for train_idx, test_idx in ShuffleSplit(len(X), 100, .3, random_state=42): #number of splits, absolute number of test samples, proportion of data in train split\n",
    "        X_train, X_test = X[train_idx], X[test_idx] #Random permutation cross-validator, Yields indices to split data into training and test sets.\n",
    "        Y_train, Y_test = Y[train_idx], Y[test_idx]\n",
    "        r = rf.fit(X_train, Y_train)\n",
    "        acc = criterion(Y_test, rf.predict(X_test))\n",
    "        for i in range(X.shape[1]): #The shape attribute for numpy arrays returns the dimensions of the array. If Y has n rows and m columns, then Y.shape is (n,m). So Y.shape[0] is n.\n",
    "            X_t = X_test.copy()\n",
    "            np.random.seed(42)\n",
    "            np.random.shuffle(X_t[:, i]) #rearranging randomly\n",
    "            shuff_acc = criterion(Y_test, rf.predict(X_t)) \n",
    "            scores[features[i]].append((acc-shuff_acc)/acc) #change in importance, actual - shuffled/actual, this is percent error        \n",
    "    mda_features = [f for f in scores.keys()]\n",
    "    mda_importance = [(np.mean(score)) for score in scores.values()] #average over all the shuffled permutations\n",
    "    mda_indices = np.argsort(mda_importance)\n",
    "    return mda_features, mda_importance, mda_indices"
   ]
  },
  {
   "cell_type": "code",
   "execution_count": 154,
   "metadata": {},
   "outputs": [
    {
     "name": "stderr",
     "output_type": "stream",
     "text": [
      "/usr/local/lib/python3.6/site-packages/ipykernel_launcher.py:3: FutureWarning: Method .as_matrix will be removed in a future version. Use .values instead.\n",
      "  This is separate from the ipykernel package so we can avoid doing imports until\n",
      "/usr/local/lib/python3.6/site-packages/ipykernel_launcher.py:4: FutureWarning: Method .as_matrix will be removed in a future version. Use .values instead.\n",
      "  after removing the cwd from sys.path.\n"
     ]
    },
    {
     "ename": "TypeError",
     "evalue": "'ShuffleSplit' object is not iterable",
     "output_type": "error",
     "traceback": [
      "\u001b[0;31m---------------------------------------------------------------------------\u001b[0m",
      "\u001b[0;31mTypeError\u001b[0m                                 Traceback (most recent call last)",
      "\u001b[0;32m<ipython-input-154-65e70324e852>\u001b[0m in \u001b[0;36m<module>\u001b[0;34m()\u001b[0m\n\u001b[1;32m      4\u001b[0m \u001b[0;34m\u001b[0m\u001b[0m\n\u001b[1;32m      5\u001b[0m \u001b[0mcriterion\u001b[0m \u001b[0;34m=\u001b[0m \u001b[0mr2_score\u001b[0m\u001b[0;34m\u001b[0m\u001b[0m\n\u001b[0;32m----> 6\u001b[0;31m \u001b[0mmda_features\u001b[0m\u001b[0;34m,\u001b[0m \u001b[0mmda_importance\u001b[0m\u001b[0;34m,\u001b[0m \u001b[0mmda_indices\u001b[0m \u001b[0;34m=\u001b[0m \u001b[0mcalc_permutation_importance\u001b[0m\u001b[0;34m(\u001b[0m\u001b[0mcriterion\u001b[0m\u001b[0;34m,\u001b[0m \u001b[0mIDEAL4\u001b[0m\u001b[0;34m,\u001b[0m \u001b[0mx_train\u001b[0m\u001b[0;34m,\u001b[0m \u001b[0my_train\u001b[0m\u001b[0;34m)\u001b[0m\u001b[0;34m\u001b[0m\u001b[0m\n\u001b[0m",
      "\u001b[0;32m<ipython-input-153-38d7ad05ddbd>\u001b[0m in \u001b[0;36mcalc_permutation_importance\u001b[0;34m(criterion, model, df_x, y)\u001b[0m\n\u001b[1;32m      5\u001b[0m     \u001b[0mscores\u001b[0m \u001b[0;34m=\u001b[0m \u001b[0mdefaultdict\u001b[0m\u001b[0;34m(\u001b[0m\u001b[0mlist\u001b[0m\u001b[0;34m)\u001b[0m\u001b[0;34m\u001b[0m\u001b[0m\n\u001b[1;32m      6\u001b[0m     \u001b[0mrf\u001b[0m \u001b[0;34m=\u001b[0m \u001b[0mmodel\u001b[0m\u001b[0;34m\u001b[0m\u001b[0m\n\u001b[0;32m----> 7\u001b[0;31m     \u001b[0;32mfor\u001b[0m \u001b[0mtrain_idx\u001b[0m\u001b[0;34m,\u001b[0m \u001b[0mtest_idx\u001b[0m \u001b[0;32min\u001b[0m \u001b[0mShuffleSplit\u001b[0m\u001b[0;34m(\u001b[0m\u001b[0mlen\u001b[0m\u001b[0;34m(\u001b[0m\u001b[0mX\u001b[0m\u001b[0;34m)\u001b[0m\u001b[0;34m,\u001b[0m \u001b[0;36m100\u001b[0m\u001b[0;34m,\u001b[0m \u001b[0;36m.3\u001b[0m\u001b[0;34m,\u001b[0m \u001b[0mrandom_state\u001b[0m\u001b[0;34m=\u001b[0m\u001b[0;36m42\u001b[0m\u001b[0;34m)\u001b[0m\u001b[0;34m:\u001b[0m \u001b[0;31m#number of splits, absolute number of test samples, proportion of data in train split\u001b[0m\u001b[0;34m\u001b[0m\u001b[0m\n\u001b[0m\u001b[1;32m      8\u001b[0m         \u001b[0mX_train\u001b[0m\u001b[0;34m,\u001b[0m \u001b[0mX_test\u001b[0m \u001b[0;34m=\u001b[0m \u001b[0mX\u001b[0m\u001b[0;34m[\u001b[0m\u001b[0mtrain_idx\u001b[0m\u001b[0;34m]\u001b[0m\u001b[0;34m,\u001b[0m \u001b[0mX\u001b[0m\u001b[0;34m[\u001b[0m\u001b[0mtest_idx\u001b[0m\u001b[0;34m]\u001b[0m \u001b[0;31m#Random permutation cross-validator, Yields indices to split data into training and test sets.\u001b[0m\u001b[0;34m\u001b[0m\u001b[0m\n\u001b[1;32m      9\u001b[0m         \u001b[0mY_train\u001b[0m\u001b[0;34m,\u001b[0m \u001b[0mY_test\u001b[0m \u001b[0;34m=\u001b[0m \u001b[0mY\u001b[0m\u001b[0;34m[\u001b[0m\u001b[0mtrain_idx\u001b[0m\u001b[0;34m]\u001b[0m\u001b[0;34m,\u001b[0m \u001b[0mY\u001b[0m\u001b[0;34m[\u001b[0m\u001b[0mtest_idx\u001b[0m\u001b[0;34m]\u001b[0m\u001b[0;34m\u001b[0m\u001b[0m\n",
      "\u001b[0;31mTypeError\u001b[0m: 'ShuffleSplit' object is not iterable"
     ]
    }
   ],
   "source": [
    "#EXAMPLE\n",
    "#criterion can be r2_score or mean_squared_error\n",
    "#should be MSE i think\n",
    "\n",
    "criterion = r2_score\n",
    "mda_features, mda_importance, mda_indices = calc_permutation_importance(criterion, IDEAL4, x_train, y_train)"
   ]
  },
  {
   "cell_type": "code",
   "execution_count": 104,
   "metadata": {},
   "outputs": [],
   "source": [
    "# def permutation_importance_plot(mda_features, mda_importance):\n",
    "#     df_perm_FI = pd.DataFrame({'Feature':mda_features, 'Importance':[abs(number) for number in mda_importance]})\n",
    "#     df_perm_FI.sort_values('Importance', ascending=False).plot.bar('Feature',\n",
    "#                                                                    'Importance', \n",
    "#                                                                     color='maroon', \n",
    "#                                                                     legend = False)\n",
    "#     plt.title(\"Feature Importances\", fontsize = 30)\n",
    "#     plt.ylabel('Importance')\n",
    "#     plt.xlabel('')\n",
    "#     plt.xticks(fontsize = 12, rotation = 45, ha='right')\n",
    "#     plt.savefig('permutimportance.png', dpi=600, bbox_inches = \"tight\")"
   ]
  },
  {
   "cell_type": "code",
   "execution_count": 105,
   "metadata": {},
   "outputs": [],
   "source": [
    "# # EXAMPLE\n",
    "# permutation_importance_plot(mda_features, mda_importance)"
   ]
  },
  {
   "cell_type": "code",
   "execution_count": 146,
   "metadata": {},
   "outputs": [],
   "source": [
    "def permutation_importances(rf, X_train, y_train, metric):\n",
    "    baseline = metric(rf, X_train, y_train)\n",
    "    imp = []\n",
    "    for col in X_train.columns:\n",
    "        save = X_train[col].copy()\n",
    "        X_train[col] = np.random.permutation(X_train[col])\n",
    "        m = metric(rf, X_train, y_train)\n",
    "        X_train[col] = save\n",
    "        imp.append(baseline - m)\n",
    "    return np.array(imp)"
   ]
  },
  {
   "cell_type": "code",
   "execution_count": null,
   "metadata": {},
   "outputs": [],
   "source": []
  },
  {
   "cell_type": "code",
   "execution_count": 143,
   "metadata": {},
   "outputs": [],
   "source": [
    "hi = GradientBoostingRegressor(loss = 'lad',\n",
    "                                learning_rate=0.08,\n",
    "                                max_depth = 12,\n",
    "                                max_features=5,\n",
    "                                min_samples_leaf= 4,\n",
    "                                min_samples_split=16,\n",
    "                                n_estimators=95,\n",
    "                                subsample = 0.8)"
   ]
  },
  {
   "cell_type": "code",
   "execution_count": null,
   "metadata": {},
   "outputs": [],
   "source": []
  },
  {
   "cell_type": "code",
   "execution_count": 144,
   "metadata": {},
   "outputs": [],
   "source": [
    "OPT4 = hi.fit(x_train, y_train)"
   ]
  },
  {
   "cell_type": "code",
   "execution_count": 145,
   "metadata": {},
   "outputs": [
    {
     "ename": "AttributeError",
     "evalue": "'numpy.ndarray' object has no attribute 'random_state'",
     "output_type": "error",
     "traceback": [
      "\u001b[0;31m---------------------------------------------------------------------------\u001b[0m",
      "\u001b[0;31mAttributeError\u001b[0m                            Traceback (most recent call last)",
      "\u001b[0;32m<ipython-input-145-ea89ad5c8ef4>\u001b[0m in \u001b[0;36m<module>\u001b[0;34m()\u001b[0m\n\u001b[0;32m----> 1\u001b[0;31m \u001b[0mimp\u001b[0m \u001b[0;34m=\u001b[0m \u001b[0mpermutation_importances\u001b[0m\u001b[0;34m(\u001b[0m\u001b[0mOPT4\u001b[0m\u001b[0;34m,\u001b[0m \u001b[0mx_train\u001b[0m\u001b[0;34m,\u001b[0m \u001b[0my_train\u001b[0m\u001b[0;34m,\u001b[0m \u001b[0moob_regression_r2_score\u001b[0m\u001b[0;34m)\u001b[0m\u001b[0;34m\u001b[0m\u001b[0m\n\u001b[0m",
      "\u001b[0;32m/usr/local/lib/python3.6/site-packages/rfpimp.py\u001b[0m in \u001b[0;36mpermutation_importances\u001b[0;34m(rf, X_train, y_train, metric, n_samples)\u001b[0m\n\u001b[1;32m    282\u001b[0m \u001b[0;34m\u001b[0m\u001b[0m\n\u001b[1;32m    283\u001b[0m \u001b[0;32mdef\u001b[0m \u001b[0mpermutation_importances\u001b[0m\u001b[0;34m(\u001b[0m\u001b[0mrf\u001b[0m\u001b[0;34m,\u001b[0m \u001b[0mX_train\u001b[0m\u001b[0;34m,\u001b[0m \u001b[0my_train\u001b[0m\u001b[0;34m,\u001b[0m \u001b[0mmetric\u001b[0m\u001b[0;34m,\u001b[0m \u001b[0mn_samples\u001b[0m\u001b[0;34m=\u001b[0m\u001b[0;36m5000\u001b[0m\u001b[0;34m)\u001b[0m\u001b[0;34m:\u001b[0m\u001b[0;34m\u001b[0m\u001b[0m\n\u001b[0;32m--> 284\u001b[0;31m     \u001b[0mimp\u001b[0m \u001b[0;34m=\u001b[0m \u001b[0mpermutation_importances_raw\u001b[0m\u001b[0;34m(\u001b[0m\u001b[0mrf\u001b[0m\u001b[0;34m,\u001b[0m \u001b[0mX_train\u001b[0m\u001b[0;34m,\u001b[0m \u001b[0my_train\u001b[0m\u001b[0;34m,\u001b[0m \u001b[0mmetric\u001b[0m\u001b[0;34m,\u001b[0m \u001b[0mn_samples\u001b[0m\u001b[0;34m)\u001b[0m\u001b[0;34m\u001b[0m\u001b[0m\n\u001b[0m\u001b[1;32m    285\u001b[0m     \u001b[0mI\u001b[0m \u001b[0;34m=\u001b[0m \u001b[0mpd\u001b[0m\u001b[0;34m.\u001b[0m\u001b[0mDataFrame\u001b[0m\u001b[0;34m(\u001b[0m\u001b[0mdata\u001b[0m\u001b[0;34m=\u001b[0m\u001b[0;34m{\u001b[0m\u001b[0;34m'Feature'\u001b[0m\u001b[0;34m:\u001b[0m\u001b[0mX_train\u001b[0m\u001b[0;34m.\u001b[0m\u001b[0mcolumns\u001b[0m\u001b[0;34m,\u001b[0m \u001b[0;34m'Importance'\u001b[0m\u001b[0;34m:\u001b[0m\u001b[0mimp\u001b[0m\u001b[0;34m}\u001b[0m\u001b[0;34m)\u001b[0m\u001b[0;34m\u001b[0m\u001b[0m\n\u001b[1;32m    286\u001b[0m     \u001b[0mI\u001b[0m \u001b[0;34m=\u001b[0m \u001b[0mI\u001b[0m\u001b[0;34m.\u001b[0m\u001b[0mset_index\u001b[0m\u001b[0;34m(\u001b[0m\u001b[0;34m'Feature'\u001b[0m\u001b[0;34m)\u001b[0m\u001b[0;34m\u001b[0m\u001b[0m\n",
      "\u001b[0;32m/usr/local/lib/python3.6/site-packages/rfpimp.py\u001b[0m in \u001b[0;36mpermutation_importances_raw\u001b[0;34m(rf, X_train, y_train, metric, n_samples)\u001b[0m\n\u001b[1;32m    398\u001b[0m         \u001b[0mrf\u001b[0m\u001b[0;34m.\u001b[0m\u001b[0mfit\u001b[0m\u001b[0;34m(\u001b[0m\u001b[0mX_sample\u001b[0m\u001b[0;34m,\u001b[0m \u001b[0my_sample\u001b[0m\u001b[0;34m)\u001b[0m\u001b[0;34m\u001b[0m\u001b[0m\n\u001b[1;32m    399\u001b[0m \u001b[0;34m\u001b[0m\u001b[0m\n\u001b[0;32m--> 400\u001b[0;31m     \u001b[0mbaseline\u001b[0m \u001b[0;34m=\u001b[0m \u001b[0mmetric\u001b[0m\u001b[0;34m(\u001b[0m\u001b[0mrf\u001b[0m\u001b[0;34m,\u001b[0m \u001b[0mX_sample\u001b[0m\u001b[0;34m,\u001b[0m \u001b[0my_sample\u001b[0m\u001b[0;34m)\u001b[0m\u001b[0;34m\u001b[0m\u001b[0m\n\u001b[0m\u001b[1;32m    401\u001b[0m     \u001b[0mX_train\u001b[0m \u001b[0;34m=\u001b[0m \u001b[0mX_sample\u001b[0m\u001b[0;34m.\u001b[0m\u001b[0mcopy\u001b[0m\u001b[0;34m(\u001b[0m\u001b[0mdeep\u001b[0m\u001b[0;34m=\u001b[0m\u001b[0;32mFalse\u001b[0m\u001b[0;34m)\u001b[0m \u001b[0;31m# shallow copy\u001b[0m\u001b[0;34m\u001b[0m\u001b[0m\n\u001b[1;32m    402\u001b[0m     \u001b[0my_train\u001b[0m \u001b[0;34m=\u001b[0m \u001b[0my_sample\u001b[0m\u001b[0;34m\u001b[0m\u001b[0m\n",
      "\u001b[0;32m/usr/local/lib/python3.6/site-packages/rfpimp.py\u001b[0m in \u001b[0;36moob_regression_r2_score\u001b[0;34m(rf, X_train, y_train)\u001b[0m\n\u001b[1;32m    453\u001b[0m     \u001b[0mn_predictions\u001b[0m \u001b[0;34m=\u001b[0m \u001b[0mnp\u001b[0m\u001b[0;34m.\u001b[0m\u001b[0mzeros\u001b[0m\u001b[0;34m(\u001b[0m\u001b[0mn_samples\u001b[0m\u001b[0;34m)\u001b[0m\u001b[0;34m\u001b[0m\u001b[0m\n\u001b[1;32m    454\u001b[0m     \u001b[0;32mfor\u001b[0m \u001b[0mtree\u001b[0m \u001b[0;32min\u001b[0m \u001b[0mrf\u001b[0m\u001b[0;34m.\u001b[0m\u001b[0mestimators_\u001b[0m\u001b[0;34m:\u001b[0m\u001b[0;34m\u001b[0m\u001b[0m\n\u001b[0;32m--> 455\u001b[0;31m         \u001b[0munsampled_indices\u001b[0m \u001b[0;34m=\u001b[0m \u001b[0m_generate_unsampled_indices\u001b[0m\u001b[0;34m(\u001b[0m\u001b[0mtree\u001b[0m\u001b[0;34m.\u001b[0m\u001b[0mrandom_state\u001b[0m\u001b[0;34m,\u001b[0m \u001b[0mn_samples\u001b[0m\u001b[0;34m)\u001b[0m\u001b[0;34m\u001b[0m\u001b[0m\n\u001b[0m\u001b[1;32m    456\u001b[0m         \u001b[0mtree_preds\u001b[0m \u001b[0;34m=\u001b[0m \u001b[0mtree\u001b[0m\u001b[0;34m.\u001b[0m\u001b[0mpredict\u001b[0m\u001b[0;34m(\u001b[0m\u001b[0mX\u001b[0m\u001b[0;34m[\u001b[0m\u001b[0munsampled_indices\u001b[0m\u001b[0;34m,\u001b[0m \u001b[0;34m:\u001b[0m\u001b[0;34m]\u001b[0m\u001b[0;34m)\u001b[0m\u001b[0;34m\u001b[0m\u001b[0m\n\u001b[1;32m    457\u001b[0m         \u001b[0mpredictions\u001b[0m\u001b[0;34m[\u001b[0m\u001b[0munsampled_indices\u001b[0m\u001b[0;34m]\u001b[0m \u001b[0;34m+=\u001b[0m \u001b[0mtree_preds\u001b[0m\u001b[0;34m\u001b[0m\u001b[0m\n",
      "\u001b[0;31mAttributeError\u001b[0m: 'numpy.ndarray' object has no attribute 'random_state'"
     ]
    }
   ],
   "source": [
    "imp = permutation_importances(OPT4, x_train, y_train, oob_regression_r2_score)\n"
   ]
  },
  {
   "cell_type": "code",
   "execution_count": null,
   "metadata": {},
   "outputs": [],
   "source": [
    "impcopy = imp.copy()"
   ]
  },
  {
   "cell_type": "code",
   "execution_count": 87,
   "metadata": {},
   "outputs": [
    {
     "ename": "AttributeError",
     "evalue": "'numpy.ndarray' object has no attribute 'random_state'",
     "output_type": "error",
     "traceback": [
      "\u001b[0;31m---------------------------------------------------------------------------\u001b[0m",
      "\u001b[0;31mAttributeError\u001b[0m                            Traceback (most recent call last)",
      "\u001b[0;32m<ipython-input-87-741d909b0d14>\u001b[0m in \u001b[0;36m<module>\u001b[0;34m()\u001b[0m\n\u001b[0;32m----> 1\u001b[0;31m \u001b[0mimp\u001b[0m \u001b[0;34m=\u001b[0m \u001b[0mpermutation_importances\u001b[0m\u001b[0;34m(\u001b[0m\u001b[0mIDEAL4\u001b[0m\u001b[0;34m,\u001b[0m \u001b[0mx_train\u001b[0m\u001b[0;34m,\u001b[0m \u001b[0my_train\u001b[0m\u001b[0;34m,\u001b[0m \u001b[0moob_regression_r2_score\u001b[0m\u001b[0;34m)\u001b[0m\u001b[0;34m\u001b[0m\u001b[0m\n\u001b[0m\u001b[1;32m      2\u001b[0m \u001b[0mimpcopy\u001b[0m \u001b[0;34m=\u001b[0m \u001b[0mimp\u001b[0m\u001b[0;34m.\u001b[0m\u001b[0mcopy\u001b[0m\u001b[0;34m(\u001b[0m\u001b[0;34m)\u001b[0m\u001b[0;34m\u001b[0m\u001b[0m\n\u001b[1;32m      3\u001b[0m \u001b[0;34m\u001b[0m\u001b[0m\n\u001b[1;32m      4\u001b[0m \u001b[0;32mdef\u001b[0m \u001b[0mperm_imp_plot\u001b[0m\u001b[0;34m(\u001b[0m\u001b[0mimportances\u001b[0m\u001b[0;34m)\u001b[0m\u001b[0;34m:\u001b[0m\u001b[0;34m\u001b[0m\u001b[0m\n\u001b[1;32m      5\u001b[0m     \u001b[0mimportances\u001b[0m\u001b[0;34m.\u001b[0m\u001b[0mreset_index\u001b[0m\u001b[0;34m(\u001b[0m\u001b[0minplace\u001b[0m\u001b[0;34m=\u001b[0m\u001b[0;32mTrue\u001b[0m\u001b[0;34m)\u001b[0m\u001b[0;34m\u001b[0m\u001b[0m\n",
      "\u001b[0;32m/usr/local/lib/python3.6/site-packages/rfpimp.py\u001b[0m in \u001b[0;36mpermutation_importances\u001b[0;34m(rf, X_train, y_train, metric, n_samples)\u001b[0m\n\u001b[1;32m    282\u001b[0m \u001b[0;34m\u001b[0m\u001b[0m\n\u001b[1;32m    283\u001b[0m \u001b[0;32mdef\u001b[0m \u001b[0mpermutation_importances\u001b[0m\u001b[0;34m(\u001b[0m\u001b[0mrf\u001b[0m\u001b[0;34m,\u001b[0m \u001b[0mX_train\u001b[0m\u001b[0;34m,\u001b[0m \u001b[0my_train\u001b[0m\u001b[0;34m,\u001b[0m \u001b[0mmetric\u001b[0m\u001b[0;34m,\u001b[0m \u001b[0mn_samples\u001b[0m\u001b[0;34m=\u001b[0m\u001b[0;36m5000\u001b[0m\u001b[0;34m)\u001b[0m\u001b[0;34m:\u001b[0m\u001b[0;34m\u001b[0m\u001b[0m\n\u001b[0;32m--> 284\u001b[0;31m     \u001b[0mimp\u001b[0m \u001b[0;34m=\u001b[0m \u001b[0mpermutation_importances_raw\u001b[0m\u001b[0;34m(\u001b[0m\u001b[0mrf\u001b[0m\u001b[0;34m,\u001b[0m \u001b[0mX_train\u001b[0m\u001b[0;34m,\u001b[0m \u001b[0my_train\u001b[0m\u001b[0;34m,\u001b[0m \u001b[0mmetric\u001b[0m\u001b[0;34m,\u001b[0m \u001b[0mn_samples\u001b[0m\u001b[0;34m)\u001b[0m\u001b[0;34m\u001b[0m\u001b[0m\n\u001b[0m\u001b[1;32m    285\u001b[0m     \u001b[0mI\u001b[0m \u001b[0;34m=\u001b[0m \u001b[0mpd\u001b[0m\u001b[0;34m.\u001b[0m\u001b[0mDataFrame\u001b[0m\u001b[0;34m(\u001b[0m\u001b[0mdata\u001b[0m\u001b[0;34m=\u001b[0m\u001b[0;34m{\u001b[0m\u001b[0;34m'Feature'\u001b[0m\u001b[0;34m:\u001b[0m\u001b[0mX_train\u001b[0m\u001b[0;34m.\u001b[0m\u001b[0mcolumns\u001b[0m\u001b[0;34m,\u001b[0m \u001b[0;34m'Importance'\u001b[0m\u001b[0;34m:\u001b[0m\u001b[0mimp\u001b[0m\u001b[0;34m}\u001b[0m\u001b[0;34m)\u001b[0m\u001b[0;34m\u001b[0m\u001b[0m\n\u001b[1;32m    286\u001b[0m     \u001b[0mI\u001b[0m \u001b[0;34m=\u001b[0m \u001b[0mI\u001b[0m\u001b[0;34m.\u001b[0m\u001b[0mset_index\u001b[0m\u001b[0;34m(\u001b[0m\u001b[0;34m'Feature'\u001b[0m\u001b[0;34m)\u001b[0m\u001b[0;34m\u001b[0m\u001b[0m\n",
      "\u001b[0;32m/usr/local/lib/python3.6/site-packages/rfpimp.py\u001b[0m in \u001b[0;36mpermutation_importances_raw\u001b[0;34m(rf, X_train, y_train, metric, n_samples)\u001b[0m\n\u001b[1;32m    398\u001b[0m         \u001b[0mrf\u001b[0m\u001b[0;34m.\u001b[0m\u001b[0mfit\u001b[0m\u001b[0;34m(\u001b[0m\u001b[0mX_sample\u001b[0m\u001b[0;34m,\u001b[0m \u001b[0my_sample\u001b[0m\u001b[0;34m)\u001b[0m\u001b[0;34m\u001b[0m\u001b[0m\n\u001b[1;32m    399\u001b[0m \u001b[0;34m\u001b[0m\u001b[0m\n\u001b[0;32m--> 400\u001b[0;31m     \u001b[0mbaseline\u001b[0m \u001b[0;34m=\u001b[0m \u001b[0mmetric\u001b[0m\u001b[0;34m(\u001b[0m\u001b[0mrf\u001b[0m\u001b[0;34m,\u001b[0m \u001b[0mX_sample\u001b[0m\u001b[0;34m,\u001b[0m \u001b[0my_sample\u001b[0m\u001b[0;34m)\u001b[0m\u001b[0;34m\u001b[0m\u001b[0m\n\u001b[0m\u001b[1;32m    401\u001b[0m     \u001b[0mX_train\u001b[0m \u001b[0;34m=\u001b[0m \u001b[0mX_sample\u001b[0m\u001b[0;34m.\u001b[0m\u001b[0mcopy\u001b[0m\u001b[0;34m(\u001b[0m\u001b[0mdeep\u001b[0m\u001b[0;34m=\u001b[0m\u001b[0;32mFalse\u001b[0m\u001b[0;34m)\u001b[0m \u001b[0;31m# shallow copy\u001b[0m\u001b[0;34m\u001b[0m\u001b[0m\n\u001b[1;32m    402\u001b[0m     \u001b[0my_train\u001b[0m \u001b[0;34m=\u001b[0m \u001b[0my_sample\u001b[0m\u001b[0;34m\u001b[0m\u001b[0m\n",
      "\u001b[0;32m/usr/local/lib/python3.6/site-packages/rfpimp.py\u001b[0m in \u001b[0;36moob_regression_r2_score\u001b[0;34m(rf, X_train, y_train)\u001b[0m\n\u001b[1;32m    453\u001b[0m     \u001b[0mn_predictions\u001b[0m \u001b[0;34m=\u001b[0m \u001b[0mnp\u001b[0m\u001b[0;34m.\u001b[0m\u001b[0mzeros\u001b[0m\u001b[0;34m(\u001b[0m\u001b[0mn_samples\u001b[0m\u001b[0;34m)\u001b[0m\u001b[0;34m\u001b[0m\u001b[0m\n\u001b[1;32m    454\u001b[0m     \u001b[0;32mfor\u001b[0m \u001b[0mtree\u001b[0m \u001b[0;32min\u001b[0m \u001b[0mrf\u001b[0m\u001b[0;34m.\u001b[0m\u001b[0mestimators_\u001b[0m\u001b[0;34m:\u001b[0m\u001b[0;34m\u001b[0m\u001b[0m\n\u001b[0;32m--> 455\u001b[0;31m         \u001b[0munsampled_indices\u001b[0m \u001b[0;34m=\u001b[0m \u001b[0m_generate_unsampled_indices\u001b[0m\u001b[0;34m(\u001b[0m\u001b[0mtree\u001b[0m\u001b[0;34m.\u001b[0m\u001b[0mrandom_state\u001b[0m\u001b[0;34m,\u001b[0m \u001b[0mn_samples\u001b[0m\u001b[0;34m)\u001b[0m\u001b[0;34m\u001b[0m\u001b[0m\n\u001b[0m\u001b[1;32m    456\u001b[0m         \u001b[0mtree_preds\u001b[0m \u001b[0;34m=\u001b[0m \u001b[0mtree\u001b[0m\u001b[0;34m.\u001b[0m\u001b[0mpredict\u001b[0m\u001b[0;34m(\u001b[0m\u001b[0mX\u001b[0m\u001b[0;34m[\u001b[0m\u001b[0munsampled_indices\u001b[0m\u001b[0;34m,\u001b[0m \u001b[0;34m:\u001b[0m\u001b[0;34m]\u001b[0m\u001b[0;34m)\u001b[0m\u001b[0;34m\u001b[0m\u001b[0m\n\u001b[1;32m    457\u001b[0m         \u001b[0mpredictions\u001b[0m\u001b[0;34m[\u001b[0m\u001b[0munsampled_indices\u001b[0m\u001b[0;34m]\u001b[0m \u001b[0;34m+=\u001b[0m \u001b[0mtree_preds\u001b[0m\u001b[0;34m\u001b[0m\u001b[0m\n",
      "\u001b[0;31mAttributeError\u001b[0m: 'numpy.ndarray' object has no attribute 'random_state'"
     ]
    }
   ],
   "source": [
    "def perm_imp_plot(importances):\n",
    "    importances.reset_index(inplace=True)\n",
    "    importances.sort_values('Importance', ascending=False).plot.bar('Feature',\n",
    "                                                                            'Importance', \n",
    "                                                                            color='maroon', \n",
    "                                                                            legend = False)\n",
    "    plt.title(\"Feature Importances\", fontsize = 25)\n",
    "    plt.ylabel('Importance', fontsize = 16)\n",
    "    plt.xlabel('')\n",
    "    plt.xticks(fontsize = 16, rotation = 45, ha='right')\n",
    "    plt.yticks(fontsize = 14)\n",
    "#     plt.savefig('giniimportance.png', dpi=600, bbox_inches = \"tight\")"
   ]
  },
  {
   "cell_type": "code",
   "execution_count": null,
   "metadata": {},
   "outputs": [],
   "source": [
    "perm_imp_plot(imp)"
   ]
  }
 ],
 "metadata": {
  "kernelspec": {
   "display_name": "Python 3",
   "language": "python",
   "name": "python3"
  },
  "language_info": {
   "codemirror_mode": {
    "name": "ipython",
    "version": 3
   },
   "file_extension": ".py",
   "mimetype": "text/x-python",
   "name": "python",
   "nbconvert_exporter": "python",
   "pygments_lexer": "ipython3",
   "version": "3.6.5"
  }
 },
 "nbformat": 4,
 "nbformat_minor": 4
}
